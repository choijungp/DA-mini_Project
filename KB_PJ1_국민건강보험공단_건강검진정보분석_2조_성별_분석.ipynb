{
 "cells": [
  {
   "cell_type": "markdown",
   "metadata": {
    "id": "gjr42eVdQOql"
   },
   "source": [
    "# 국민건강보험공단_건강검진정보_2021_12 분석\n",
    "건강검진 결과지 제대로 읽는 법\n",
    "\n",
    "\n",
    "https://health.chosun.com/site/data/html_dir/2016/11/30/2016113001291.html"
   ]
  },
  {
   "cell_type": "code",
   "execution_count": 1,
   "metadata": {
    "id": "0iAeZkFtWxzH"
   },
   "outputs": [],
   "source": [
    "url1=\"https://raw.githubusercontent.com/KimYounghwan/bigdata/master/%EA%B5%AD%EB%AF%BC%EA%B1%B4%EA%B0%95%EB%B3%B4%ED%97%98%EA%B3%B5%EB%8B%A8_%EA%B1%B4%EA%B0%95%EA%B2%80%EC%A7%84%EC%A0%95%EB%B3%B4_20211229_1.CSV\"\n",
    "url2=\"https://raw.githubusercontent.com/KimYounghwan/bigdata/master/%EA%B5%AD%EB%AF%BC%EA%B1%B4%EA%B0%95%EB%B3%B4%ED%97%98%EA%B3%B5%EB%8B%A8_%EA%B1%B4%EA%B0%95%EA%B2%80%EC%A7%84%EC%A0%95%EB%B3%B4_20211229_2.CSV\"\n",
    "url3=\"https://raw.githubusercontent.com/KimYounghwan/bigdata/master/%EA%B5%AD%EB%AF%BC%EA%B1%B4%EA%B0%95%EB%B3%B4%ED%97%98%EA%B3%B5%EB%8B%A8_%EA%B1%B4%EA%B0%95%EA%B2%80%EC%A7%84%EC%A0%95%EB%B3%B4_20211229_3.CSV\"\n",
    "url4=\"https://raw.githubusercontent.com/KimYounghwan/bigdata/master/%EA%B5%AD%EB%AF%BC%EA%B1%B4%EA%B0%95%EB%B3%B4%ED%97%98%EA%B3%B5%EB%8B%A8_%EA%B1%B4%EA%B0%95%EA%B2%80%EC%A7%84%EC%A0%95%EB%B3%B4_20211229_4.CSV\""
   ]
  },
  {
   "cell_type": "code",
   "execution_count": 2,
   "metadata": {
    "id": "8MWkVQG7Wx1x"
   },
   "outputs": [],
   "source": [
    "import pandas as pd\n",
    "\n",
    "검진정보1=pd.read_csv(url1)\n",
    "검진정보2=pd.read_csv(url2)\n",
    "검진정보3=pd.read_csv(url3)\n",
    "검진정보4=pd.read_csv(url4)"
   ]
  },
  {
   "cell_type": "code",
   "execution_count": 3,
   "metadata": {},
   "outputs": [
    {
     "data": {
      "text/html": [
       "<div>\n",
       "<style scoped>\n",
       "    .dataframe tbody tr th:only-of-type {\n",
       "        vertical-align: middle;\n",
       "    }\n",
       "\n",
       "    .dataframe tbody tr th {\n",
       "        vertical-align: top;\n",
       "    }\n",
       "\n",
       "    .dataframe thead th {\n",
       "        text-align: right;\n",
       "    }\n",
       "</style>\n",
       "<table border=\"1\" class=\"dataframe\">\n",
       "  <thead>\n",
       "    <tr style=\"text-align: right;\">\n",
       "      <th></th>\n",
       "      <th>기준년도</th>\n",
       "      <th>가입자 일련번호</th>\n",
       "      <th>시도코드</th>\n",
       "      <th>성별코드</th>\n",
       "      <th>연령대 코드(5세단위)</th>\n",
       "      <th>신장(5Cm단위)</th>\n",
       "      <th>체중(5Kg 단위)</th>\n",
       "      <th>허리둘레</th>\n",
       "      <th>시력(좌)</th>\n",
       "      <th>시력(우)</th>\n",
       "      <th>...</th>\n",
       "      <th>혈청크레아티닌</th>\n",
       "      <th>(혈청지오티)AST</th>\n",
       "      <th>(혈청지오티)ALT</th>\n",
       "      <th>감마 지티피</th>\n",
       "      <th>흡연상태</th>\n",
       "      <th>음주여부</th>\n",
       "      <th>구강검진 수검여부</th>\n",
       "      <th>치아우식증유무</th>\n",
       "      <th>치석</th>\n",
       "      <th>데이터 공개일자</th>\n",
       "    </tr>\n",
       "  </thead>\n",
       "  <tbody>\n",
       "    <tr>\n",
       "      <th>0</th>\n",
       "      <td>2020</td>\n",
       "      <td>1</td>\n",
       "      <td>36</td>\n",
       "      <td>1</td>\n",
       "      <td>9</td>\n",
       "      <td>165</td>\n",
       "      <td>60</td>\n",
       "      <td>72.1</td>\n",
       "      <td>1.2</td>\n",
       "      <td>1.5</td>\n",
       "      <td>...</td>\n",
       "      <td>1.1</td>\n",
       "      <td>21.0</td>\n",
       "      <td>27.0</td>\n",
       "      <td>21.0</td>\n",
       "      <td>1.0</td>\n",
       "      <td>0.0</td>\n",
       "      <td>0</td>\n",
       "      <td>NaN</td>\n",
       "      <td>NaN</td>\n",
       "      <td>2021-12-29</td>\n",
       "    </tr>\n",
       "    <tr>\n",
       "      <th>1</th>\n",
       "      <td>2020</td>\n",
       "      <td>2</td>\n",
       "      <td>27</td>\n",
       "      <td>2</td>\n",
       "      <td>13</td>\n",
       "      <td>150</td>\n",
       "      <td>65</td>\n",
       "      <td>81.0</td>\n",
       "      <td>0.8</td>\n",
       "      <td>0.8</td>\n",
       "      <td>...</td>\n",
       "      <td>0.5</td>\n",
       "      <td>18.0</td>\n",
       "      <td>15.0</td>\n",
       "      <td>15.0</td>\n",
       "      <td>1.0</td>\n",
       "      <td>0.0</td>\n",
       "      <td>0</td>\n",
       "      <td>NaN</td>\n",
       "      <td>NaN</td>\n",
       "      <td>2021-12-29</td>\n",
       "    </tr>\n",
       "    <tr>\n",
       "      <th>2</th>\n",
       "      <td>2020</td>\n",
       "      <td>3</td>\n",
       "      <td>11</td>\n",
       "      <td>2</td>\n",
       "      <td>12</td>\n",
       "      <td>155</td>\n",
       "      <td>55</td>\n",
       "      <td>70.0</td>\n",
       "      <td>0.6</td>\n",
       "      <td>0.7</td>\n",
       "      <td>...</td>\n",
       "      <td>0.7</td>\n",
       "      <td>27.0</td>\n",
       "      <td>25.0</td>\n",
       "      <td>7.0</td>\n",
       "      <td>1.0</td>\n",
       "      <td>0.0</td>\n",
       "      <td>0</td>\n",
       "      <td>NaN</td>\n",
       "      <td>NaN</td>\n",
       "      <td>2021-12-29</td>\n",
       "    </tr>\n",
       "    <tr>\n",
       "      <th>3</th>\n",
       "      <td>2020</td>\n",
       "      <td>4</td>\n",
       "      <td>31</td>\n",
       "      <td>1</td>\n",
       "      <td>13</td>\n",
       "      <td>160</td>\n",
       "      <td>70</td>\n",
       "      <td>90.8</td>\n",
       "      <td>1.0</td>\n",
       "      <td>1.0</td>\n",
       "      <td>...</td>\n",
       "      <td>1.2</td>\n",
       "      <td>65.0</td>\n",
       "      <td>97.0</td>\n",
       "      <td>72.0</td>\n",
       "      <td>1.0</td>\n",
       "      <td>0.0</td>\n",
       "      <td>1</td>\n",
       "      <td>0.0</td>\n",
       "      <td>0.0</td>\n",
       "      <td>2021-12-29</td>\n",
       "    </tr>\n",
       "    <tr>\n",
       "      <th>4</th>\n",
       "      <td>2020</td>\n",
       "      <td>5</td>\n",
       "      <td>41</td>\n",
       "      <td>2</td>\n",
       "      <td>12</td>\n",
       "      <td>155</td>\n",
       "      <td>50</td>\n",
       "      <td>75.2</td>\n",
       "      <td>1.5</td>\n",
       "      <td>1.2</td>\n",
       "      <td>...</td>\n",
       "      <td>0.7</td>\n",
       "      <td>18.0</td>\n",
       "      <td>17.0</td>\n",
       "      <td>14.0</td>\n",
       "      <td>1.0</td>\n",
       "      <td>0.0</td>\n",
       "      <td>0</td>\n",
       "      <td>NaN</td>\n",
       "      <td>NaN</td>\n",
       "      <td>2021-12-29</td>\n",
       "    </tr>\n",
       "    <tr>\n",
       "      <th>...</th>\n",
       "      <td>...</td>\n",
       "      <td>...</td>\n",
       "      <td>...</td>\n",
       "      <td>...</td>\n",
       "      <td>...</td>\n",
       "      <td>...</td>\n",
       "      <td>...</td>\n",
       "      <td>...</td>\n",
       "      <td>...</td>\n",
       "      <td>...</td>\n",
       "      <td>...</td>\n",
       "      <td>...</td>\n",
       "      <td>...</td>\n",
       "      <td>...</td>\n",
       "      <td>...</td>\n",
       "      <td>...</td>\n",
       "      <td>...</td>\n",
       "      <td>...</td>\n",
       "      <td>...</td>\n",
       "      <td>...</td>\n",
       "      <td>...</td>\n",
       "    </tr>\n",
       "    <tr>\n",
       "      <th>249995</th>\n",
       "      <td>2020</td>\n",
       "      <td>999996</td>\n",
       "      <td>41</td>\n",
       "      <td>2</td>\n",
       "      <td>13</td>\n",
       "      <td>145</td>\n",
       "      <td>55</td>\n",
       "      <td>81.0</td>\n",
       "      <td>0.9</td>\n",
       "      <td>1.0</td>\n",
       "      <td>...</td>\n",
       "      <td>0.6</td>\n",
       "      <td>21.0</td>\n",
       "      <td>25.0</td>\n",
       "      <td>18.0</td>\n",
       "      <td>1.0</td>\n",
       "      <td>0.0</td>\n",
       "      <td>0</td>\n",
       "      <td>NaN</td>\n",
       "      <td>NaN</td>\n",
       "      <td>2021-12-29</td>\n",
       "    </tr>\n",
       "    <tr>\n",
       "      <th>249996</th>\n",
       "      <td>2020</td>\n",
       "      <td>999997</td>\n",
       "      <td>26</td>\n",
       "      <td>2</td>\n",
       "      <td>12</td>\n",
       "      <td>160</td>\n",
       "      <td>55</td>\n",
       "      <td>76.5</td>\n",
       "      <td>1.5</td>\n",
       "      <td>1.5</td>\n",
       "      <td>...</td>\n",
       "      <td>0.8</td>\n",
       "      <td>21.0</td>\n",
       "      <td>14.0</td>\n",
       "      <td>19.0</td>\n",
       "      <td>1.0</td>\n",
       "      <td>1.0</td>\n",
       "      <td>0</td>\n",
       "      <td>NaN</td>\n",
       "      <td>NaN</td>\n",
       "      <td>2021-12-29</td>\n",
       "    </tr>\n",
       "    <tr>\n",
       "      <th>249997</th>\n",
       "      <td>2020</td>\n",
       "      <td>999998</td>\n",
       "      <td>48</td>\n",
       "      <td>1</td>\n",
       "      <td>9</td>\n",
       "      <td>175</td>\n",
       "      <td>70</td>\n",
       "      <td>85.0</td>\n",
       "      <td>1.2</td>\n",
       "      <td>1.2</td>\n",
       "      <td>...</td>\n",
       "      <td>0.9</td>\n",
       "      <td>26.0</td>\n",
       "      <td>20.0</td>\n",
       "      <td>17.0</td>\n",
       "      <td>1.0</td>\n",
       "      <td>1.0</td>\n",
       "      <td>0</td>\n",
       "      <td>NaN</td>\n",
       "      <td>NaN</td>\n",
       "      <td>2021-12-29</td>\n",
       "    </tr>\n",
       "    <tr>\n",
       "      <th>249998</th>\n",
       "      <td>2020</td>\n",
       "      <td>999999</td>\n",
       "      <td>48</td>\n",
       "      <td>2</td>\n",
       "      <td>9</td>\n",
       "      <td>160</td>\n",
       "      <td>70</td>\n",
       "      <td>91.0</td>\n",
       "      <td>0.6</td>\n",
       "      <td>0.5</td>\n",
       "      <td>...</td>\n",
       "      <td>1.0</td>\n",
       "      <td>25.0</td>\n",
       "      <td>29.0</td>\n",
       "      <td>13.0</td>\n",
       "      <td>1.0</td>\n",
       "      <td>0.0</td>\n",
       "      <td>0</td>\n",
       "      <td>NaN</td>\n",
       "      <td>NaN</td>\n",
       "      <td>2021-12-29</td>\n",
       "    </tr>\n",
       "    <tr>\n",
       "      <th>249999</th>\n",
       "      <td>2020</td>\n",
       "      <td>1000000</td>\n",
       "      <td>28</td>\n",
       "      <td>1</td>\n",
       "      <td>11</td>\n",
       "      <td>160</td>\n",
       "      <td>55</td>\n",
       "      <td>76.1</td>\n",
       "      <td>2.0</td>\n",
       "      <td>2.0</td>\n",
       "      <td>...</td>\n",
       "      <td>0.9</td>\n",
       "      <td>17.0</td>\n",
       "      <td>13.0</td>\n",
       "      <td>24.0</td>\n",
       "      <td>2.0</td>\n",
       "      <td>0.0</td>\n",
       "      <td>0</td>\n",
       "      <td>NaN</td>\n",
       "      <td>NaN</td>\n",
       "      <td>2021-12-29</td>\n",
       "    </tr>\n",
       "  </tbody>\n",
       "</table>\n",
       "<p>1000000 rows × 31 columns</p>\n",
       "</div>"
      ],
      "text/plain": [
       "        기준년도  가입자 일련번호  시도코드  성별코드  연령대 코드(5세단위)  신장(5Cm단위)  체중(5Kg 단위)  허리둘레  \\\n",
       "0       2020         1    36     1             9        165          60  72.1   \n",
       "1       2020         2    27     2            13        150          65  81.0   \n",
       "2       2020         3    11     2            12        155          55  70.0   \n",
       "3       2020         4    31     1            13        160          70  90.8   \n",
       "4       2020         5    41     2            12        155          50  75.2   \n",
       "...      ...       ...   ...   ...           ...        ...         ...   ...   \n",
       "249995  2020    999996    41     2            13        145          55  81.0   \n",
       "249996  2020    999997    26     2            12        160          55  76.5   \n",
       "249997  2020    999998    48     1             9        175          70  85.0   \n",
       "249998  2020    999999    48     2             9        160          70  91.0   \n",
       "249999  2020   1000000    28     1            11        160          55  76.1   \n",
       "\n",
       "        시력(좌)  시력(우)  ...  혈청크레아티닌  (혈청지오티)AST  (혈청지오티)ALT  감마 지티피  흡연상태  \\\n",
       "0         1.2    1.5  ...      1.1        21.0        27.0    21.0   1.0   \n",
       "1         0.8    0.8  ...      0.5        18.0        15.0    15.0   1.0   \n",
       "2         0.6    0.7  ...      0.7        27.0        25.0     7.0   1.0   \n",
       "3         1.0    1.0  ...      1.2        65.0        97.0    72.0   1.0   \n",
       "4         1.5    1.2  ...      0.7        18.0        17.0    14.0   1.0   \n",
       "...       ...    ...  ...      ...         ...         ...     ...   ...   \n",
       "249995    0.9    1.0  ...      0.6        21.0        25.0    18.0   1.0   \n",
       "249996    1.5    1.5  ...      0.8        21.0        14.0    19.0   1.0   \n",
       "249997    1.2    1.2  ...      0.9        26.0        20.0    17.0   1.0   \n",
       "249998    0.6    0.5  ...      1.0        25.0        29.0    13.0   1.0   \n",
       "249999    2.0    2.0  ...      0.9        17.0        13.0    24.0   2.0   \n",
       "\n",
       "        음주여부  구강검진 수검여부  치아우식증유무   치석    데이터 공개일자  \n",
       "0        0.0          0      NaN  NaN  2021-12-29  \n",
       "1        0.0          0      NaN  NaN  2021-12-29  \n",
       "2        0.0          0      NaN  NaN  2021-12-29  \n",
       "3        0.0          1      0.0  0.0  2021-12-29  \n",
       "4        0.0          0      NaN  NaN  2021-12-29  \n",
       "...      ...        ...      ...  ...         ...  \n",
       "249995   0.0          0      NaN  NaN  2021-12-29  \n",
       "249996   1.0          0      NaN  NaN  2021-12-29  \n",
       "249997   1.0          0      NaN  NaN  2021-12-29  \n",
       "249998   0.0          0      NaN  NaN  2021-12-29  \n",
       "249999   0.0          0      NaN  NaN  2021-12-29  \n",
       "\n",
       "[1000000 rows x 31 columns]"
      ]
     },
     "execution_count": 3,
     "metadata": {},
     "output_type": "execute_result"
    }
   ],
   "source": [
    "검진정보 = 검진정보1.append(검진정보2).append(검진정보3).append(검진정보4)\n",
    "검진정보"
   ]
  },
  {
   "cell_type": "code",
   "execution_count": 4,
   "metadata": {
    "id": "onFzwCc5Wx7W"
   },
   "outputs": [
    {
     "data": {
      "text/plain": [
       "Index(['기준년도', '가입자 일련번호', '시도코드', '성별코드', '연령대 코드(5세단위)', '신장(5Cm단위)',\n",
       "       '체중(5Kg 단위)', '허리둘레', '시력(좌)', '시력(우)', '청력(좌)', '청력(우)', '수축기 혈압',\n",
       "       '이완기 혈압', '식전혈당(공복혈당)', '총 콜레스테롤', '트리글리세라이드', 'HDL 콜레스테롤', 'LDL 콜레스테롤',\n",
       "       '혈색소', '요단백', '혈청크레아티닌', '(혈청지오티)AST', '(혈청지오티)ALT', '감마 지티피', '흡연상태',\n",
       "       '음주여부', '구강검진 수검여부', '치아우식증유무', '치석', '데이터 공개일자'],\n",
       "      dtype='object')"
      ]
     },
     "execution_count": 4,
     "metadata": {},
     "output_type": "execute_result"
    }
   ],
   "source": [
    "검진정보.columns"
   ]
  },
  {
   "cell_type": "markdown",
   "metadata": {},
   "source": [
    "#### 데이터 복사 및 전처리 작업"
   ]
  },
  {
   "cell_type": "code",
   "execution_count": 5,
   "metadata": {},
   "outputs": [],
   "source": [
    "df = 검진정보.copy()"
   ]
  },
  {
   "cell_type": "code",
   "execution_count": 6,
   "metadata": {
    "id": "L0uYejtmWx9v"
   },
   "outputs": [
    {
     "data": {
      "text/plain": [
       "기준년도                 0\n",
       "가입자 일련번호             0\n",
       "시도코드                 0\n",
       "성별코드                 0\n",
       "연령대 코드(5세단위)         0\n",
       "신장(5Cm단위)            0\n",
       "체중(5Kg 단위)           0\n",
       "허리둘레               108\n",
       "시력(좌)              257\n",
       "시력(우)              252\n",
       "청력(좌)              222\n",
       "청력(우)              230\n",
       "수축기 혈압            7532\n",
       "이완기 혈압            7534\n",
       "식전혈당(공복혈당)        7602\n",
       "총 콜레스테롤         597694\n",
       "트리글리세라이드        597678\n",
       "HDL 콜레스테롤       597685\n",
       "LDL 콜레스테롤       605529\n",
       "혈색소               7611\n",
       "요단백              12141\n",
       "혈청크레아티닌           7602\n",
       "(혈청지오티)AST        7601\n",
       "(혈청지오티)ALT        7602\n",
       "감마 지티피            7603\n",
       "흡연상태               343\n",
       "음주여부               196\n",
       "구강검진 수검여부            0\n",
       "치아우식증유무         668617\n",
       "치석              668618\n",
       "데이터 공개일자             0\n",
       "dtype: int64"
      ]
     },
     "execution_count": 6,
     "metadata": {},
     "output_type": "execute_result"
    }
   ],
   "source": [
    "# 결측값 확인\n",
    "df.isnull().sum()"
   ]
  },
  {
   "cell_type": "code",
   "execution_count": 7,
   "metadata": {
    "id": "VLJ8n6jEWyAC"
   },
   "outputs": [
    {
     "data": {
      "text/html": [
       "<div>\n",
       "<style scoped>\n",
       "    .dataframe tbody tr th:only-of-type {\n",
       "        vertical-align: middle;\n",
       "    }\n",
       "\n",
       "    .dataframe tbody tr th {\n",
       "        vertical-align: top;\n",
       "    }\n",
       "\n",
       "    .dataframe thead th {\n",
       "        text-align: right;\n",
       "    }\n",
       "</style>\n",
       "<table border=\"1\" class=\"dataframe\">\n",
       "  <thead>\n",
       "    <tr style=\"text-align: right;\">\n",
       "      <th></th>\n",
       "      <th>기준년도</th>\n",
       "      <th>가입자 일련번호</th>\n",
       "      <th>시도코드</th>\n",
       "      <th>성별코드</th>\n",
       "      <th>연령대 코드(5세단위)</th>\n",
       "      <th>신장(5Cm단위)</th>\n",
       "      <th>체중(5Kg 단위)</th>\n",
       "      <th>허리둘레</th>\n",
       "      <th>시력(좌)</th>\n",
       "      <th>시력(우)</th>\n",
       "      <th>...</th>\n",
       "      <th>(혈청지오티)AST</th>\n",
       "      <th>(혈청지오티)ALT</th>\n",
       "      <th>감마 지티피</th>\n",
       "      <th>흡연상태</th>\n",
       "      <th>음주여부</th>\n",
       "      <th>구강검진 수검여부</th>\n",
       "      <th>치아우식증유무</th>\n",
       "      <th>치석</th>\n",
       "      <th>데이터 공개일자</th>\n",
       "      <th>시도명</th>\n",
       "    </tr>\n",
       "  </thead>\n",
       "  <tbody>\n",
       "    <tr>\n",
       "      <th>0</th>\n",
       "      <td>2020</td>\n",
       "      <td>1</td>\n",
       "      <td>36</td>\n",
       "      <td>1</td>\n",
       "      <td>9</td>\n",
       "      <td>165</td>\n",
       "      <td>60</td>\n",
       "      <td>72.1</td>\n",
       "      <td>1.2</td>\n",
       "      <td>1.5</td>\n",
       "      <td>...</td>\n",
       "      <td>21.0</td>\n",
       "      <td>27.0</td>\n",
       "      <td>21.0</td>\n",
       "      <td>1.0</td>\n",
       "      <td>0.0</td>\n",
       "      <td>0</td>\n",
       "      <td>NaN</td>\n",
       "      <td>NaN</td>\n",
       "      <td>2021-12-29</td>\n",
       "      <td>세종</td>\n",
       "    </tr>\n",
       "    <tr>\n",
       "      <th>1</th>\n",
       "      <td>2020</td>\n",
       "      <td>2</td>\n",
       "      <td>27</td>\n",
       "      <td>2</td>\n",
       "      <td>13</td>\n",
       "      <td>150</td>\n",
       "      <td>65</td>\n",
       "      <td>81.0</td>\n",
       "      <td>0.8</td>\n",
       "      <td>0.8</td>\n",
       "      <td>...</td>\n",
       "      <td>18.0</td>\n",
       "      <td>15.0</td>\n",
       "      <td>15.0</td>\n",
       "      <td>1.0</td>\n",
       "      <td>0.0</td>\n",
       "      <td>0</td>\n",
       "      <td>NaN</td>\n",
       "      <td>NaN</td>\n",
       "      <td>2021-12-29</td>\n",
       "      <td>대구</td>\n",
       "    </tr>\n",
       "    <tr>\n",
       "      <th>2</th>\n",
       "      <td>2020</td>\n",
       "      <td>3</td>\n",
       "      <td>11</td>\n",
       "      <td>2</td>\n",
       "      <td>12</td>\n",
       "      <td>155</td>\n",
       "      <td>55</td>\n",
       "      <td>70.0</td>\n",
       "      <td>0.6</td>\n",
       "      <td>0.7</td>\n",
       "      <td>...</td>\n",
       "      <td>27.0</td>\n",
       "      <td>25.0</td>\n",
       "      <td>7.0</td>\n",
       "      <td>1.0</td>\n",
       "      <td>0.0</td>\n",
       "      <td>0</td>\n",
       "      <td>NaN</td>\n",
       "      <td>NaN</td>\n",
       "      <td>2021-12-29</td>\n",
       "      <td>서울</td>\n",
       "    </tr>\n",
       "    <tr>\n",
       "      <th>3</th>\n",
       "      <td>2020</td>\n",
       "      <td>4</td>\n",
       "      <td>31</td>\n",
       "      <td>1</td>\n",
       "      <td>13</td>\n",
       "      <td>160</td>\n",
       "      <td>70</td>\n",
       "      <td>90.8</td>\n",
       "      <td>1.0</td>\n",
       "      <td>1.0</td>\n",
       "      <td>...</td>\n",
       "      <td>65.0</td>\n",
       "      <td>97.0</td>\n",
       "      <td>72.0</td>\n",
       "      <td>1.0</td>\n",
       "      <td>0.0</td>\n",
       "      <td>1</td>\n",
       "      <td>0.0</td>\n",
       "      <td>0.0</td>\n",
       "      <td>2021-12-29</td>\n",
       "      <td>울산</td>\n",
       "    </tr>\n",
       "    <tr>\n",
       "      <th>4</th>\n",
       "      <td>2020</td>\n",
       "      <td>5</td>\n",
       "      <td>41</td>\n",
       "      <td>2</td>\n",
       "      <td>12</td>\n",
       "      <td>155</td>\n",
       "      <td>50</td>\n",
       "      <td>75.2</td>\n",
       "      <td>1.5</td>\n",
       "      <td>1.2</td>\n",
       "      <td>...</td>\n",
       "      <td>18.0</td>\n",
       "      <td>17.0</td>\n",
       "      <td>14.0</td>\n",
       "      <td>1.0</td>\n",
       "      <td>0.0</td>\n",
       "      <td>0</td>\n",
       "      <td>NaN</td>\n",
       "      <td>NaN</td>\n",
       "      <td>2021-12-29</td>\n",
       "      <td>경기</td>\n",
       "    </tr>\n",
       "  </tbody>\n",
       "</table>\n",
       "<p>5 rows × 32 columns</p>\n",
       "</div>"
      ],
      "text/plain": [
       "   기준년도  가입자 일련번호  시도코드  성별코드  연령대 코드(5세단위)  신장(5Cm단위)  체중(5Kg 단위)  허리둘레  \\\n",
       "0  2020         1    36     1             9        165          60  72.1   \n",
       "1  2020         2    27     2            13        150          65  81.0   \n",
       "2  2020         3    11     2            12        155          55  70.0   \n",
       "3  2020         4    31     1            13        160          70  90.8   \n",
       "4  2020         5    41     2            12        155          50  75.2   \n",
       "\n",
       "   시력(좌)  시력(우)  ...  (혈청지오티)AST  (혈청지오티)ALT  감마 지티피  흡연상태  음주여부  구강검진 수검여부  \\\n",
       "0    1.2    1.5  ...        21.0        27.0    21.0   1.0   0.0          0   \n",
       "1    0.8    0.8  ...        18.0        15.0    15.0   1.0   0.0          0   \n",
       "2    0.6    0.7  ...        27.0        25.0     7.0   1.0   0.0          0   \n",
       "3    1.0    1.0  ...        65.0        97.0    72.0   1.0   0.0          1   \n",
       "4    1.5    1.2  ...        18.0        17.0    14.0   1.0   0.0          0   \n",
       "\n",
       "   치아우식증유무   치석    데이터 공개일자  시도명  \n",
       "0      NaN  NaN  2021-12-29   세종  \n",
       "1      NaN  NaN  2021-12-29   대구  \n",
       "2      NaN  NaN  2021-12-29   서울  \n",
       "3      0.0  0.0  2021-12-29   울산  \n",
       "4      NaN  NaN  2021-12-29   경기  \n",
       "\n",
       "[5 rows x 32 columns]"
      ]
     },
     "execution_count": 7,
     "metadata": {},
     "output_type": "execute_result"
    }
   ],
   "source": [
    "#시도코드 -> 시도명 컬럼으로 생성\n",
    "\n",
    "def sido(x):\n",
    "    if x == 11:\n",
    "        return '서울'\n",
    "    elif x==26:\n",
    "        return '부산'\n",
    "    elif x==27:\n",
    "        return '대구'\n",
    "    elif x==28:\n",
    "        return '인천'\n",
    "    elif x==29:\n",
    "        return '광주'\n",
    "    elif x==30:\n",
    "        return '대전'\n",
    "    elif x==31:\n",
    "        return '울산'\n",
    "    elif x==36:\n",
    "        return '세종'\n",
    "    elif x==41:\n",
    "        return '경기'\n",
    "    elif x==42:\n",
    "        return '강원'\n",
    "    elif x==43:\n",
    "        return '충북'\n",
    "    elif x==44:\n",
    "        return '충남'\n",
    "    elif x==45:\n",
    "        return '전북'\n",
    "    elif x==46:\n",
    "        return '전남'\n",
    "    elif x==47:\n",
    "        return '경북'\n",
    "    elif x==48:\n",
    "        return '경남'\n",
    "    elif x==49:\n",
    "        return '제주'\n",
    "    \n",
    "df['시도명'] = df['시도코드'].apply(sido)\n",
    "df.shape\n",
    "\n",
    "df.head()"
   ]
  },
  {
   "cell_type": "code",
   "execution_count": 192,
   "metadata": {},
   "outputs": [
    {
     "data": {
      "text/plain": [
       "치석           668618\n",
       "치아우식증유무      668617\n",
       "흡연상태            343\n",
       "구강검진 수검여부         0\n",
       "dtype: int64"
      ]
     },
     "execution_count": 192,
     "metadata": {},
     "output_type": "execute_result"
    }
   ],
   "source": [
    "#흡연 여부에 따른 치아 상태 분석을 위한 smoke 데이터프레임 생성\n",
    "dff = 검진정보.copy()\n",
    "smoke = dff[['치석', '치아우식증유무', '흡연상태', '구강검진 수검여부']]\n",
    "smoke.isnull().sum()"
   ]
  },
  {
   "cell_type": "code",
   "execution_count": 195,
   "metadata": {},
   "outputs": [
    {
     "data": {
      "text/plain": [
       "(1000000, 4)"
      ]
     },
     "execution_count": 195,
     "metadata": {},
     "output_type": "execute_result"
    }
   ],
   "source": [
    "smoke.shape"
   ]
  },
  {
   "cell_type": "code",
   "execution_count": 194,
   "metadata": {},
   "outputs": [
    {
     "data": {
      "text/plain": [
       "(331293, 4)"
      ]
     },
     "execution_count": 194,
     "metadata": {},
     "output_type": "execute_result"
    }
   ],
   "source": [
    "smoke1 = smoke.dropna()\n",
    "smoke1.isnull().sum()\n",
    "smoke1.shape"
   ]
  },
  {
   "cell_type": "code",
   "execution_count": 9,
   "metadata": {},
   "outputs": [],
   "source": [
    "#질병 관련 데이터 분석을 위한 df 데이터프레임 생성\n",
    "\n",
    "df = df.drop(['시도코드', '기준년도','가입자 일련번호',\"시력(좌)\",\"시력(우)\",\"청력(좌)\",\"청력(우)\",'총 콜레스테롤','트리글리세라이드','데이터 공개일자', '치아우식증유무', '치석', 'HDL 콜레스테롤', 'LDL 콜레스테롤'],axis=1)"
   ]
  },
  {
   "cell_type": "code",
   "execution_count": 10,
   "metadata": {},
   "outputs": [
    {
     "data": {
      "text/html": [
       "<div>\n",
       "<style scoped>\n",
       "    .dataframe tbody tr th:only-of-type {\n",
       "        vertical-align: middle;\n",
       "    }\n",
       "\n",
       "    .dataframe tbody tr th {\n",
       "        vertical-align: top;\n",
       "    }\n",
       "\n",
       "    .dataframe thead th {\n",
       "        text-align: right;\n",
       "    }\n",
       "</style>\n",
       "<table border=\"1\" class=\"dataframe\">\n",
       "  <thead>\n",
       "    <tr style=\"text-align: right;\">\n",
       "      <th></th>\n",
       "      <th>치석</th>\n",
       "      <th>치아우식증유무</th>\n",
       "      <th>흡연상태</th>\n",
       "      <th>구강검진 수검여부</th>\n",
       "    </tr>\n",
       "  </thead>\n",
       "  <tbody>\n",
       "    <tr>\n",
       "      <th>3</th>\n",
       "      <td>0.0</td>\n",
       "      <td>0.0</td>\n",
       "      <td>1.0</td>\n",
       "      <td>1</td>\n",
       "    </tr>\n",
       "    <tr>\n",
       "      <th>6</th>\n",
       "      <td>1.0</td>\n",
       "      <td>0.0</td>\n",
       "      <td>3.0</td>\n",
       "      <td>1</td>\n",
       "    </tr>\n",
       "    <tr>\n",
       "      <th>7</th>\n",
       "      <td>2.0</td>\n",
       "      <td>0.0</td>\n",
       "      <td>3.0</td>\n",
       "      <td>1</td>\n",
       "    </tr>\n",
       "    <tr>\n",
       "      <th>12</th>\n",
       "      <td>0.0</td>\n",
       "      <td>0.0</td>\n",
       "      <td>3.0</td>\n",
       "      <td>1</td>\n",
       "    </tr>\n",
       "    <tr>\n",
       "      <th>16</th>\n",
       "      <td>1.0</td>\n",
       "      <td>0.0</td>\n",
       "      <td>1.0</td>\n",
       "      <td>1</td>\n",
       "    </tr>\n",
       "    <tr>\n",
       "      <th>...</th>\n",
       "      <td>...</td>\n",
       "      <td>...</td>\n",
       "      <td>...</td>\n",
       "      <td>...</td>\n",
       "    </tr>\n",
       "    <tr>\n",
       "      <th>249981</th>\n",
       "      <td>2.0</td>\n",
       "      <td>1.0</td>\n",
       "      <td>2.0</td>\n",
       "      <td>1</td>\n",
       "    </tr>\n",
       "    <tr>\n",
       "      <th>249982</th>\n",
       "      <td>1.0</td>\n",
       "      <td>1.0</td>\n",
       "      <td>1.0</td>\n",
       "      <td>1</td>\n",
       "    </tr>\n",
       "    <tr>\n",
       "      <th>249988</th>\n",
       "      <td>1.0</td>\n",
       "      <td>0.0</td>\n",
       "      <td>2.0</td>\n",
       "      <td>1</td>\n",
       "    </tr>\n",
       "    <tr>\n",
       "      <th>249990</th>\n",
       "      <td>1.0</td>\n",
       "      <td>0.0</td>\n",
       "      <td>1.0</td>\n",
       "      <td>1</td>\n",
       "    </tr>\n",
       "    <tr>\n",
       "      <th>249993</th>\n",
       "      <td>1.0</td>\n",
       "      <td>0.0</td>\n",
       "      <td>2.0</td>\n",
       "      <td>1</td>\n",
       "    </tr>\n",
       "  </tbody>\n",
       "</table>\n",
       "<p>331293 rows × 4 columns</p>\n",
       "</div>"
      ],
      "text/plain": [
       "         치석  치아우식증유무  흡연상태  구강검진 수검여부\n",
       "3       0.0      0.0   1.0          1\n",
       "6       1.0      0.0   3.0          1\n",
       "7       2.0      0.0   3.0          1\n",
       "12      0.0      0.0   3.0          1\n",
       "16      1.0      0.0   1.0          1\n",
       "...     ...      ...   ...        ...\n",
       "249981  2.0      1.0   2.0          1\n",
       "249982  1.0      1.0   1.0          1\n",
       "249988  1.0      0.0   2.0          1\n",
       "249990  1.0      0.0   1.0          1\n",
       "249993  1.0      0.0   2.0          1\n",
       "\n",
       "[331293 rows x 4 columns]"
      ]
     },
     "execution_count": 10,
     "metadata": {},
     "output_type": "execute_result"
    }
   ],
   "source": [
    "#smoke 데이터프레임 결측치 제거\n",
    "\n",
    "smoke = smoke.dropna()\n",
    "smoke"
   ]
  },
  {
   "cell_type": "code",
   "execution_count": 11,
   "metadata": {},
   "outputs": [
    {
     "data": {
      "text/plain": [
       "치석           float64\n",
       "치아우식증유무      float64\n",
       "흡연상태         float64\n",
       "구강검진 수검여부      int64\n",
       "dtype: object"
      ]
     },
     "execution_count": 11,
     "metadata": {},
     "output_type": "execute_result"
    }
   ],
   "source": [
    "smoke.dtypes"
   ]
  },
  {
   "cell_type": "code",
   "execution_count": 12,
   "metadata": {},
   "outputs": [
    {
     "data": {
      "text/plain": [
       "치석           int32\n",
       "치아우식증유무      int32\n",
       "흡연상태         int32\n",
       "구강검진 수검여부    int32\n",
       "dtype: object"
      ]
     },
     "execution_count": 12,
     "metadata": {},
     "output_type": "execute_result"
    }
   ],
   "source": [
    "smoke = smoke.astype('int')\n",
    "smoke.dtypes"
   ]
  },
  {
   "cell_type": "code",
   "execution_count": 13,
   "metadata": {},
   "outputs": [
    {
     "data": {
      "text/plain": [
       "치석           0\n",
       "치아우식증유무      0\n",
       "흡연상태         0\n",
       "구강검진 수검여부    0\n",
       "dtype: int64"
      ]
     },
     "execution_count": 13,
     "metadata": {},
     "output_type": "execute_result"
    }
   ],
   "source": [
    "smoke.isnull().sum()"
   ]
  },
  {
   "cell_type": "code",
   "execution_count": 14,
   "metadata": {},
   "outputs": [
    {
     "data": {
      "text/html": [
       "<div>\n",
       "<style scoped>\n",
       "    .dataframe tbody tr th:only-of-type {\n",
       "        vertical-align: middle;\n",
       "    }\n",
       "\n",
       "    .dataframe tbody tr th {\n",
       "        vertical-align: top;\n",
       "    }\n",
       "\n",
       "    .dataframe thead th {\n",
       "        text-align: right;\n",
       "    }\n",
       "</style>\n",
       "<table border=\"1\" class=\"dataframe\">\n",
       "  <thead>\n",
       "    <tr style=\"text-align: right;\">\n",
       "      <th></th>\n",
       "      <th>성별코드</th>\n",
       "      <th>연령대 코드(5세단위)</th>\n",
       "      <th>신장(5Cm단위)</th>\n",
       "      <th>체중(5Kg 단위)</th>\n",
       "      <th>허리둘레</th>\n",
       "      <th>수축기 혈압</th>\n",
       "      <th>이완기 혈압</th>\n",
       "      <th>식전혈당(공복혈당)</th>\n",
       "      <th>혈색소</th>\n",
       "      <th>요단백</th>\n",
       "      <th>혈청크레아티닌</th>\n",
       "      <th>(혈청지오티)AST</th>\n",
       "      <th>(혈청지오티)ALT</th>\n",
       "      <th>감마 지티피</th>\n",
       "      <th>흡연상태</th>\n",
       "      <th>음주여부</th>\n",
       "      <th>구강검진 수검여부</th>\n",
       "      <th>시도명</th>\n",
       "    </tr>\n",
       "  </thead>\n",
       "  <tbody>\n",
       "    <tr>\n",
       "      <th>0</th>\n",
       "      <td>1</td>\n",
       "      <td>9</td>\n",
       "      <td>165</td>\n",
       "      <td>60</td>\n",
       "      <td>72.1</td>\n",
       "      <td>127.0</td>\n",
       "      <td>79.0</td>\n",
       "      <td>90.0</td>\n",
       "      <td>15.0</td>\n",
       "      <td>1.0</td>\n",
       "      <td>1.1</td>\n",
       "      <td>21.0</td>\n",
       "      <td>27.0</td>\n",
       "      <td>21.0</td>\n",
       "      <td>1.0</td>\n",
       "      <td>0.0</td>\n",
       "      <td>0</td>\n",
       "      <td>세종</td>\n",
       "    </tr>\n",
       "    <tr>\n",
       "      <th>1</th>\n",
       "      <td>2</td>\n",
       "      <td>13</td>\n",
       "      <td>150</td>\n",
       "      <td>65</td>\n",
       "      <td>81.0</td>\n",
       "      <td>110.0</td>\n",
       "      <td>73.0</td>\n",
       "      <td>87.0</td>\n",
       "      <td>12.7</td>\n",
       "      <td>1.0</td>\n",
       "      <td>0.5</td>\n",
       "      <td>18.0</td>\n",
       "      <td>15.0</td>\n",
       "      <td>15.0</td>\n",
       "      <td>1.0</td>\n",
       "      <td>0.0</td>\n",
       "      <td>0</td>\n",
       "      <td>대구</td>\n",
       "    </tr>\n",
       "    <tr>\n",
       "      <th>2</th>\n",
       "      <td>2</td>\n",
       "      <td>12</td>\n",
       "      <td>155</td>\n",
       "      <td>55</td>\n",
       "      <td>70.0</td>\n",
       "      <td>123.0</td>\n",
       "      <td>80.0</td>\n",
       "      <td>102.0</td>\n",
       "      <td>12.8</td>\n",
       "      <td>1.0</td>\n",
       "      <td>0.7</td>\n",
       "      <td>27.0</td>\n",
       "      <td>25.0</td>\n",
       "      <td>7.0</td>\n",
       "      <td>1.0</td>\n",
       "      <td>0.0</td>\n",
       "      <td>0</td>\n",
       "      <td>서울</td>\n",
       "    </tr>\n",
       "    <tr>\n",
       "      <th>3</th>\n",
       "      <td>1</td>\n",
       "      <td>13</td>\n",
       "      <td>160</td>\n",
       "      <td>70</td>\n",
       "      <td>90.8</td>\n",
       "      <td>134.0</td>\n",
       "      <td>84.0</td>\n",
       "      <td>146.0</td>\n",
       "      <td>16.4</td>\n",
       "      <td>1.0</td>\n",
       "      <td>1.2</td>\n",
       "      <td>65.0</td>\n",
       "      <td>97.0</td>\n",
       "      <td>72.0</td>\n",
       "      <td>1.0</td>\n",
       "      <td>0.0</td>\n",
       "      <td>1</td>\n",
       "      <td>울산</td>\n",
       "    </tr>\n",
       "    <tr>\n",
       "      <th>4</th>\n",
       "      <td>2</td>\n",
       "      <td>12</td>\n",
       "      <td>155</td>\n",
       "      <td>50</td>\n",
       "      <td>75.2</td>\n",
       "      <td>144.0</td>\n",
       "      <td>89.0</td>\n",
       "      <td>110.0</td>\n",
       "      <td>12.4</td>\n",
       "      <td>1.0</td>\n",
       "      <td>0.7</td>\n",
       "      <td>18.0</td>\n",
       "      <td>17.0</td>\n",
       "      <td>14.0</td>\n",
       "      <td>1.0</td>\n",
       "      <td>0.0</td>\n",
       "      <td>0</td>\n",
       "      <td>경기</td>\n",
       "    </tr>\n",
       "    <tr>\n",
       "      <th>...</th>\n",
       "      <td>...</td>\n",
       "      <td>...</td>\n",
       "      <td>...</td>\n",
       "      <td>...</td>\n",
       "      <td>...</td>\n",
       "      <td>...</td>\n",
       "      <td>...</td>\n",
       "      <td>...</td>\n",
       "      <td>...</td>\n",
       "      <td>...</td>\n",
       "      <td>...</td>\n",
       "      <td>...</td>\n",
       "      <td>...</td>\n",
       "      <td>...</td>\n",
       "      <td>...</td>\n",
       "      <td>...</td>\n",
       "      <td>...</td>\n",
       "      <td>...</td>\n",
       "    </tr>\n",
       "    <tr>\n",
       "      <th>249995</th>\n",
       "      <td>2</td>\n",
       "      <td>13</td>\n",
       "      <td>145</td>\n",
       "      <td>55</td>\n",
       "      <td>81.0</td>\n",
       "      <td>132.0</td>\n",
       "      <td>78.0</td>\n",
       "      <td>124.0</td>\n",
       "      <td>13.6</td>\n",
       "      <td>1.0</td>\n",
       "      <td>0.6</td>\n",
       "      <td>21.0</td>\n",
       "      <td>25.0</td>\n",
       "      <td>18.0</td>\n",
       "      <td>1.0</td>\n",
       "      <td>0.0</td>\n",
       "      <td>0</td>\n",
       "      <td>경기</td>\n",
       "    </tr>\n",
       "    <tr>\n",
       "      <th>249996</th>\n",
       "      <td>2</td>\n",
       "      <td>12</td>\n",
       "      <td>160</td>\n",
       "      <td>55</td>\n",
       "      <td>76.5</td>\n",
       "      <td>100.0</td>\n",
       "      <td>64.0</td>\n",
       "      <td>98.0</td>\n",
       "      <td>14.0</td>\n",
       "      <td>1.0</td>\n",
       "      <td>0.8</td>\n",
       "      <td>21.0</td>\n",
       "      <td>14.0</td>\n",
       "      <td>19.0</td>\n",
       "      <td>1.0</td>\n",
       "      <td>1.0</td>\n",
       "      <td>0</td>\n",
       "      <td>부산</td>\n",
       "    </tr>\n",
       "    <tr>\n",
       "      <th>249997</th>\n",
       "      <td>1</td>\n",
       "      <td>9</td>\n",
       "      <td>175</td>\n",
       "      <td>70</td>\n",
       "      <td>85.0</td>\n",
       "      <td>110.0</td>\n",
       "      <td>64.0</td>\n",
       "      <td>83.0</td>\n",
       "      <td>16.0</td>\n",
       "      <td>1.0</td>\n",
       "      <td>0.9</td>\n",
       "      <td>26.0</td>\n",
       "      <td>20.0</td>\n",
       "      <td>17.0</td>\n",
       "      <td>1.0</td>\n",
       "      <td>1.0</td>\n",
       "      <td>0</td>\n",
       "      <td>경남</td>\n",
       "    </tr>\n",
       "    <tr>\n",
       "      <th>249998</th>\n",
       "      <td>2</td>\n",
       "      <td>9</td>\n",
       "      <td>160</td>\n",
       "      <td>70</td>\n",
       "      <td>91.0</td>\n",
       "      <td>137.0</td>\n",
       "      <td>82.0</td>\n",
       "      <td>111.0</td>\n",
       "      <td>11.9</td>\n",
       "      <td>1.0</td>\n",
       "      <td>1.0</td>\n",
       "      <td>25.0</td>\n",
       "      <td>29.0</td>\n",
       "      <td>13.0</td>\n",
       "      <td>1.0</td>\n",
       "      <td>0.0</td>\n",
       "      <td>0</td>\n",
       "      <td>경남</td>\n",
       "    </tr>\n",
       "    <tr>\n",
       "      <th>249999</th>\n",
       "      <td>1</td>\n",
       "      <td>11</td>\n",
       "      <td>160</td>\n",
       "      <td>55</td>\n",
       "      <td>76.1</td>\n",
       "      <td>133.0</td>\n",
       "      <td>74.0</td>\n",
       "      <td>121.0</td>\n",
       "      <td>14.9</td>\n",
       "      <td>1.0</td>\n",
       "      <td>0.9</td>\n",
       "      <td>17.0</td>\n",
       "      <td>13.0</td>\n",
       "      <td>24.0</td>\n",
       "      <td>2.0</td>\n",
       "      <td>0.0</td>\n",
       "      <td>0</td>\n",
       "      <td>인천</td>\n",
       "    </tr>\n",
       "  </tbody>\n",
       "</table>\n",
       "<p>1000000 rows × 18 columns</p>\n",
       "</div>"
      ],
      "text/plain": [
       "        성별코드  연령대 코드(5세단위)  신장(5Cm단위)  체중(5Kg 단위)  허리둘레  수축기 혈압  이완기 혈압  \\\n",
       "0          1             9        165          60  72.1   127.0    79.0   \n",
       "1          2            13        150          65  81.0   110.0    73.0   \n",
       "2          2            12        155          55  70.0   123.0    80.0   \n",
       "3          1            13        160          70  90.8   134.0    84.0   \n",
       "4          2            12        155          50  75.2   144.0    89.0   \n",
       "...      ...           ...        ...         ...   ...     ...     ...   \n",
       "249995     2            13        145          55  81.0   132.0    78.0   \n",
       "249996     2            12        160          55  76.5   100.0    64.0   \n",
       "249997     1             9        175          70  85.0   110.0    64.0   \n",
       "249998     2             9        160          70  91.0   137.0    82.0   \n",
       "249999     1            11        160          55  76.1   133.0    74.0   \n",
       "\n",
       "        식전혈당(공복혈당)   혈색소  요단백  혈청크레아티닌  (혈청지오티)AST  (혈청지오티)ALT  감마 지티피  흡연상태  \\\n",
       "0             90.0  15.0  1.0      1.1        21.0        27.0    21.0   1.0   \n",
       "1             87.0  12.7  1.0      0.5        18.0        15.0    15.0   1.0   \n",
       "2            102.0  12.8  1.0      0.7        27.0        25.0     7.0   1.0   \n",
       "3            146.0  16.4  1.0      1.2        65.0        97.0    72.0   1.0   \n",
       "4            110.0  12.4  1.0      0.7        18.0        17.0    14.0   1.0   \n",
       "...            ...   ...  ...      ...         ...         ...     ...   ...   \n",
       "249995       124.0  13.6  1.0      0.6        21.0        25.0    18.0   1.0   \n",
       "249996        98.0  14.0  1.0      0.8        21.0        14.0    19.0   1.0   \n",
       "249997        83.0  16.0  1.0      0.9        26.0        20.0    17.0   1.0   \n",
       "249998       111.0  11.9  1.0      1.0        25.0        29.0    13.0   1.0   \n",
       "249999       121.0  14.9  1.0      0.9        17.0        13.0    24.0   2.0   \n",
       "\n",
       "        음주여부  구강검진 수검여부 시도명  \n",
       "0        0.0          0  세종  \n",
       "1        0.0          0  대구  \n",
       "2        0.0          0  서울  \n",
       "3        0.0          1  울산  \n",
       "4        0.0          0  경기  \n",
       "...      ...        ...  ..  \n",
       "249995   0.0          0  경기  \n",
       "249996   1.0          0  부산  \n",
       "249997   1.0          0  경남  \n",
       "249998   0.0          0  경남  \n",
       "249999   0.0          0  인천  \n",
       "\n",
       "[1000000 rows x 18 columns]"
      ]
     },
     "execution_count": 14,
     "metadata": {},
     "output_type": "execute_result"
    }
   ],
   "source": [
    "#df 데이터프레임 결측치 제거\n",
    "\n",
    "df"
   ]
  },
  {
   "cell_type": "code",
   "execution_count": 204,
   "metadata": {},
   "outputs": [
    {
     "data": {
      "text/plain": [
       "(987219, 24)"
      ]
     },
     "execution_count": 204,
     "metadata": {},
     "output_type": "execute_result"
    }
   ],
   "source": [
    "#df.isnull().sum()\n",
    "df.shape"
   ]
  },
  {
   "cell_type": "code",
   "execution_count": 15,
   "metadata": {},
   "outputs": [
    {
     "data": {
      "text/plain": [
       "성별코드            0\n",
       "연령대 코드(5세단위)    0\n",
       "신장(5Cm단위)       0\n",
       "체중(5Kg 단위)      0\n",
       "허리둘레            0\n",
       "수축기 혈압          0\n",
       "이완기 혈압          0\n",
       "식전혈당(공복혈당)      0\n",
       "혈색소             0\n",
       "요단백             0\n",
       "혈청크레아티닌         0\n",
       "(혈청지오티)AST      0\n",
       "(혈청지오티)ALT      0\n",
       "감마 지티피          0\n",
       "흡연상태            0\n",
       "음주여부            0\n",
       "구강검진 수검여부       0\n",
       "시도명             0\n",
       "dtype: int64"
      ]
     },
     "execution_count": 15,
     "metadata": {},
     "output_type": "execute_result"
    }
   ],
   "source": [
    "df = df.dropna()\n",
    "df.isnull().sum()"
   ]
  },
  {
   "cell_type": "code",
   "execution_count": 16,
   "metadata": {},
   "outputs": [
    {
     "data": {
      "text/html": [
       "<div>\n",
       "<style scoped>\n",
       "    .dataframe tbody tr th:only-of-type {\n",
       "        vertical-align: middle;\n",
       "    }\n",
       "\n",
       "    .dataframe tbody tr th {\n",
       "        vertical-align: top;\n",
       "    }\n",
       "\n",
       "    .dataframe thead th {\n",
       "        text-align: right;\n",
       "    }\n",
       "</style>\n",
       "<table border=\"1\" class=\"dataframe\">\n",
       "  <thead>\n",
       "    <tr style=\"text-align: right;\">\n",
       "      <th></th>\n",
       "      <th>성별코드</th>\n",
       "      <th>연령대 코드(5세단위)</th>\n",
       "      <th>신장(5Cm단위)</th>\n",
       "      <th>체중(5Kg 단위)</th>\n",
       "      <th>허리둘레</th>\n",
       "      <th>수축기 혈압</th>\n",
       "      <th>이완기 혈압</th>\n",
       "      <th>식전혈당(공복혈당)</th>\n",
       "      <th>혈색소</th>\n",
       "      <th>요단백</th>\n",
       "      <th>혈청크레아티닌</th>\n",
       "      <th>(혈청지오티)AST</th>\n",
       "      <th>(혈청지오티)ALT</th>\n",
       "      <th>감마 지티피</th>\n",
       "      <th>흡연상태</th>\n",
       "      <th>음주여부</th>\n",
       "      <th>구강검진 수검여부</th>\n",
       "    </tr>\n",
       "  </thead>\n",
       "  <tbody>\n",
       "    <tr>\n",
       "      <th>count</th>\n",
       "      <td>987219.000000</td>\n",
       "      <td>987219.000000</td>\n",
       "      <td>987219.000000</td>\n",
       "      <td>987219.000000</td>\n",
       "      <td>987219.000000</td>\n",
       "      <td>987219.000000</td>\n",
       "      <td>987219.000000</td>\n",
       "      <td>987219.000000</td>\n",
       "      <td>987219.000000</td>\n",
       "      <td>987219.000000</td>\n",
       "      <td>987219.00000</td>\n",
       "      <td>987219.000000</td>\n",
       "      <td>987219.000000</td>\n",
       "      <td>987219.000000</td>\n",
       "      <td>987219.000000</td>\n",
       "      <td>987219.000000</td>\n",
       "      <td>987219.000000</td>\n",
       "    </tr>\n",
       "    <tr>\n",
       "      <th>mean</th>\n",
       "      <td>1.487734</td>\n",
       "      <td>11.887454</td>\n",
       "      <td>161.032983</td>\n",
       "      <td>63.124190</td>\n",
       "      <td>82.345232</td>\n",
       "      <td>124.835507</td>\n",
       "      <td>76.823508</td>\n",
       "      <td>104.248022</td>\n",
       "      <td>14.213197</td>\n",
       "      <td>1.122263</td>\n",
       "      <td>0.84962</td>\n",
       "      <td>27.703397</td>\n",
       "      <td>26.775568</td>\n",
       "      <td>37.791644</td>\n",
       "      <td>1.559469</td>\n",
       "      <td>0.588249</td>\n",
       "      <td>0.334180</td>\n",
       "    </tr>\n",
       "    <tr>\n",
       "      <th>std</th>\n",
       "      <td>0.499850</td>\n",
       "      <td>2.150102</td>\n",
       "      <td>9.174479</td>\n",
       "      <td>12.266035</td>\n",
       "      <td>9.615590</td>\n",
       "      <td>14.743182</td>\n",
       "      <td>9.987141</td>\n",
       "      <td>25.375695</td>\n",
       "      <td>1.551654</td>\n",
       "      <td>0.493333</td>\n",
       "      <td>0.34016</td>\n",
       "      <td>25.299815</td>\n",
       "      <td>25.846017</td>\n",
       "      <td>51.813809</td>\n",
       "      <td>0.784434</td>\n",
       "      <td>0.492151</td>\n",
       "      <td>0.471703</td>\n",
       "    </tr>\n",
       "    <tr>\n",
       "      <th>min</th>\n",
       "      <td>1.000000</td>\n",
       "      <td>9.000000</td>\n",
       "      <td>130.000000</td>\n",
       "      <td>30.000000</td>\n",
       "      <td>5.800000</td>\n",
       "      <td>65.000000</td>\n",
       "      <td>30.000000</td>\n",
       "      <td>1.000000</td>\n",
       "      <td>1.000000</td>\n",
       "      <td>1.000000</td>\n",
       "      <td>0.00000</td>\n",
       "      <td>1.000000</td>\n",
       "      <td>1.000000</td>\n",
       "      <td>1.000000</td>\n",
       "      <td>1.000000</td>\n",
       "      <td>0.000000</td>\n",
       "      <td>0.000000</td>\n",
       "    </tr>\n",
       "    <tr>\n",
       "      <th>25%</th>\n",
       "      <td>1.000000</td>\n",
       "      <td>10.000000</td>\n",
       "      <td>155.000000</td>\n",
       "      <td>55.000000</td>\n",
       "      <td>76.000000</td>\n",
       "      <td>115.000000</td>\n",
       "      <td>70.000000</td>\n",
       "      <td>91.000000</td>\n",
       "      <td>13.200000</td>\n",
       "      <td>1.000000</td>\n",
       "      <td>0.70000</td>\n",
       "      <td>20.000000</td>\n",
       "      <td>16.000000</td>\n",
       "      <td>16.000000</td>\n",
       "      <td>1.000000</td>\n",
       "      <td>0.000000</td>\n",
       "      <td>0.000000</td>\n",
       "    </tr>\n",
       "    <tr>\n",
       "      <th>50%</th>\n",
       "      <td>1.000000</td>\n",
       "      <td>12.000000</td>\n",
       "      <td>160.000000</td>\n",
       "      <td>60.000000</td>\n",
       "      <td>82.000000</td>\n",
       "      <td>124.000000</td>\n",
       "      <td>77.000000</td>\n",
       "      <td>99.000000</td>\n",
       "      <td>14.200000</td>\n",
       "      <td>1.000000</td>\n",
       "      <td>0.80000</td>\n",
       "      <td>24.000000</td>\n",
       "      <td>21.000000</td>\n",
       "      <td>24.000000</td>\n",
       "      <td>1.000000</td>\n",
       "      <td>1.000000</td>\n",
       "      <td>0.000000</td>\n",
       "    </tr>\n",
       "    <tr>\n",
       "      <th>75%</th>\n",
       "      <td>2.000000</td>\n",
       "      <td>13.000000</td>\n",
       "      <td>170.000000</td>\n",
       "      <td>70.000000</td>\n",
       "      <td>89.000000</td>\n",
       "      <td>134.000000</td>\n",
       "      <td>83.000000</td>\n",
       "      <td>109.000000</td>\n",
       "      <td>15.300000</td>\n",
       "      <td>1.000000</td>\n",
       "      <td>1.00000</td>\n",
       "      <td>30.000000</td>\n",
       "      <td>31.000000</td>\n",
       "      <td>40.000000</td>\n",
       "      <td>2.000000</td>\n",
       "      <td>1.000000</td>\n",
       "      <td>1.000000</td>\n",
       "    </tr>\n",
       "    <tr>\n",
       "      <th>max</th>\n",
       "      <td>2.000000</td>\n",
       "      <td>18.000000</td>\n",
       "      <td>195.000000</td>\n",
       "      <td>135.000000</td>\n",
       "      <td>999.000000</td>\n",
       "      <td>260.000000</td>\n",
       "      <td>190.000000</td>\n",
       "      <td>950.000000</td>\n",
       "      <td>25.000000</td>\n",
       "      <td>6.000000</td>\n",
       "      <td>95.00000</td>\n",
       "      <td>8712.000000</td>\n",
       "      <td>5990.000000</td>\n",
       "      <td>2630.000000</td>\n",
       "      <td>3.000000</td>\n",
       "      <td>1.000000</td>\n",
       "      <td>1.000000</td>\n",
       "    </tr>\n",
       "  </tbody>\n",
       "</table>\n",
       "</div>"
      ],
      "text/plain": [
       "                성별코드   연령대 코드(5세단위)      신장(5Cm단위)     체중(5Kg 단위)  \\\n",
       "count  987219.000000  987219.000000  987219.000000  987219.000000   \n",
       "mean        1.487734      11.887454     161.032983      63.124190   \n",
       "std         0.499850       2.150102       9.174479      12.266035   \n",
       "min         1.000000       9.000000     130.000000      30.000000   \n",
       "25%         1.000000      10.000000     155.000000      55.000000   \n",
       "50%         1.000000      12.000000     160.000000      60.000000   \n",
       "75%         2.000000      13.000000     170.000000      70.000000   \n",
       "max         2.000000      18.000000     195.000000     135.000000   \n",
       "\n",
       "                허리둘레         수축기 혈압         이완기 혈압     식전혈당(공복혈당)  \\\n",
       "count  987219.000000  987219.000000  987219.000000  987219.000000   \n",
       "mean       82.345232     124.835507      76.823508     104.248022   \n",
       "std         9.615590      14.743182       9.987141      25.375695   \n",
       "min         5.800000      65.000000      30.000000       1.000000   \n",
       "25%        76.000000     115.000000      70.000000      91.000000   \n",
       "50%        82.000000     124.000000      77.000000      99.000000   \n",
       "75%        89.000000     134.000000      83.000000     109.000000   \n",
       "max       999.000000     260.000000     190.000000     950.000000   \n",
       "\n",
       "                 혈색소            요단백       혈청크레아티닌     (혈청지오티)AST  \\\n",
       "count  987219.000000  987219.000000  987219.00000  987219.000000   \n",
       "mean       14.213197       1.122263       0.84962      27.703397   \n",
       "std         1.551654       0.493333       0.34016      25.299815   \n",
       "min         1.000000       1.000000       0.00000       1.000000   \n",
       "25%        13.200000       1.000000       0.70000      20.000000   \n",
       "50%        14.200000       1.000000       0.80000      24.000000   \n",
       "75%        15.300000       1.000000       1.00000      30.000000   \n",
       "max        25.000000       6.000000      95.00000    8712.000000   \n",
       "\n",
       "          (혈청지오티)ALT         감마 지티피           흡연상태           음주여부  \\\n",
       "count  987219.000000  987219.000000  987219.000000  987219.000000   \n",
       "mean       26.775568      37.791644       1.559469       0.588249   \n",
       "std        25.846017      51.813809       0.784434       0.492151   \n",
       "min         1.000000       1.000000       1.000000       0.000000   \n",
       "25%        16.000000      16.000000       1.000000       0.000000   \n",
       "50%        21.000000      24.000000       1.000000       1.000000   \n",
       "75%        31.000000      40.000000       2.000000       1.000000   \n",
       "max      5990.000000    2630.000000       3.000000       1.000000   \n",
       "\n",
       "           구강검진 수검여부  \n",
       "count  987219.000000  \n",
       "mean        0.334180  \n",
       "std         0.471703  \n",
       "min         0.000000  \n",
       "25%         0.000000  \n",
       "50%         0.000000  \n",
       "75%         1.000000  \n",
       "max         1.000000  "
      ]
     },
     "execution_count": 16,
     "metadata": {},
     "output_type": "execute_result"
    }
   ],
   "source": [
    "df.describe()"
   ]
  },
  {
   "cell_type": "markdown",
   "metadata": {},
   "source": [
    "#### 비만 / 복부 비만"
   ]
  },
  {
   "cell_type": "code",
   "execution_count": 17,
   "metadata": {},
   "outputs": [
    {
     "name": "stderr",
     "output_type": "stream",
     "text": [
      "C:\\Users\\user\\AppData\\Local\\Temp/ipykernel_272/381919537.py:19: SettingWithCopyWarning: \n",
      "A value is trying to be set on a copy of a slice from a DataFrame.\n",
      "Try using .loc[row_indexer,col_indexer] = value instead\n",
      "\n",
      "See the caveats in the documentation: https://pandas.pydata.org/pandas-docs/stable/user_guide/indexing.html#returning-a-view-versus-a-copy\n",
      "  df['복부비만'] = df.apply(belly, axis = 1)\n"
     ]
    },
    {
     "data": {
      "text/html": [
       "<div>\n",
       "<style scoped>\n",
       "    .dataframe tbody tr th:only-of-type {\n",
       "        vertical-align: middle;\n",
       "    }\n",
       "\n",
       "    .dataframe tbody tr th {\n",
       "        vertical-align: top;\n",
       "    }\n",
       "\n",
       "    .dataframe thead th {\n",
       "        text-align: right;\n",
       "    }\n",
       "</style>\n",
       "<table border=\"1\" class=\"dataframe\">\n",
       "  <thead>\n",
       "    <tr style=\"text-align: right;\">\n",
       "      <th></th>\n",
       "      <th>성별코드</th>\n",
       "      <th>연령대 코드(5세단위)</th>\n",
       "      <th>신장(5Cm단위)</th>\n",
       "      <th>체중(5Kg 단위)</th>\n",
       "      <th>허리둘레</th>\n",
       "      <th>수축기 혈압</th>\n",
       "      <th>이완기 혈압</th>\n",
       "      <th>식전혈당(공복혈당)</th>\n",
       "      <th>혈색소</th>\n",
       "      <th>요단백</th>\n",
       "      <th>혈청크레아티닌</th>\n",
       "      <th>(혈청지오티)AST</th>\n",
       "      <th>(혈청지오티)ALT</th>\n",
       "      <th>감마 지티피</th>\n",
       "      <th>흡연상태</th>\n",
       "      <th>음주여부</th>\n",
       "      <th>구강검진 수검여부</th>\n",
       "      <th>시도명</th>\n",
       "      <th>복부비만</th>\n",
       "    </tr>\n",
       "  </thead>\n",
       "  <tbody>\n",
       "    <tr>\n",
       "      <th>0</th>\n",
       "      <td>1</td>\n",
       "      <td>9</td>\n",
       "      <td>165</td>\n",
       "      <td>60</td>\n",
       "      <td>72.1</td>\n",
       "      <td>127.0</td>\n",
       "      <td>79.0</td>\n",
       "      <td>90.0</td>\n",
       "      <td>15.0</td>\n",
       "      <td>1.0</td>\n",
       "      <td>1.1</td>\n",
       "      <td>21.0</td>\n",
       "      <td>27.0</td>\n",
       "      <td>21.0</td>\n",
       "      <td>1.0</td>\n",
       "      <td>0.0</td>\n",
       "      <td>0</td>\n",
       "      <td>세종</td>\n",
       "      <td>비해당</td>\n",
       "    </tr>\n",
       "    <tr>\n",
       "      <th>1</th>\n",
       "      <td>2</td>\n",
       "      <td>13</td>\n",
       "      <td>150</td>\n",
       "      <td>65</td>\n",
       "      <td>81.0</td>\n",
       "      <td>110.0</td>\n",
       "      <td>73.0</td>\n",
       "      <td>87.0</td>\n",
       "      <td>12.7</td>\n",
       "      <td>1.0</td>\n",
       "      <td>0.5</td>\n",
       "      <td>18.0</td>\n",
       "      <td>15.0</td>\n",
       "      <td>15.0</td>\n",
       "      <td>1.0</td>\n",
       "      <td>0.0</td>\n",
       "      <td>0</td>\n",
       "      <td>대구</td>\n",
       "      <td>비해당</td>\n",
       "    </tr>\n",
       "    <tr>\n",
       "      <th>2</th>\n",
       "      <td>2</td>\n",
       "      <td>12</td>\n",
       "      <td>155</td>\n",
       "      <td>55</td>\n",
       "      <td>70.0</td>\n",
       "      <td>123.0</td>\n",
       "      <td>80.0</td>\n",
       "      <td>102.0</td>\n",
       "      <td>12.8</td>\n",
       "      <td>1.0</td>\n",
       "      <td>0.7</td>\n",
       "      <td>27.0</td>\n",
       "      <td>25.0</td>\n",
       "      <td>7.0</td>\n",
       "      <td>1.0</td>\n",
       "      <td>0.0</td>\n",
       "      <td>0</td>\n",
       "      <td>서울</td>\n",
       "      <td>비해당</td>\n",
       "    </tr>\n",
       "    <tr>\n",
       "      <th>3</th>\n",
       "      <td>1</td>\n",
       "      <td>13</td>\n",
       "      <td>160</td>\n",
       "      <td>70</td>\n",
       "      <td>90.8</td>\n",
       "      <td>134.0</td>\n",
       "      <td>84.0</td>\n",
       "      <td>146.0</td>\n",
       "      <td>16.4</td>\n",
       "      <td>1.0</td>\n",
       "      <td>1.2</td>\n",
       "      <td>65.0</td>\n",
       "      <td>97.0</td>\n",
       "      <td>72.0</td>\n",
       "      <td>1.0</td>\n",
       "      <td>0.0</td>\n",
       "      <td>1</td>\n",
       "      <td>울산</td>\n",
       "      <td>해당</td>\n",
       "    </tr>\n",
       "    <tr>\n",
       "      <th>4</th>\n",
       "      <td>2</td>\n",
       "      <td>12</td>\n",
       "      <td>155</td>\n",
       "      <td>50</td>\n",
       "      <td>75.2</td>\n",
       "      <td>144.0</td>\n",
       "      <td>89.0</td>\n",
       "      <td>110.0</td>\n",
       "      <td>12.4</td>\n",
       "      <td>1.0</td>\n",
       "      <td>0.7</td>\n",
       "      <td>18.0</td>\n",
       "      <td>17.0</td>\n",
       "      <td>14.0</td>\n",
       "      <td>1.0</td>\n",
       "      <td>0.0</td>\n",
       "      <td>0</td>\n",
       "      <td>경기</td>\n",
       "      <td>비해당</td>\n",
       "    </tr>\n",
       "  </tbody>\n",
       "</table>\n",
       "</div>"
      ],
      "text/plain": [
       "   성별코드  연령대 코드(5세단위)  신장(5Cm단위)  체중(5Kg 단위)  허리둘레  수축기 혈압  이완기 혈압  \\\n",
       "0     1             9        165          60  72.1   127.0    79.0   \n",
       "1     2            13        150          65  81.0   110.0    73.0   \n",
       "2     2            12        155          55  70.0   123.0    80.0   \n",
       "3     1            13        160          70  90.8   134.0    84.0   \n",
       "4     2            12        155          50  75.2   144.0    89.0   \n",
       "\n",
       "   식전혈당(공복혈당)   혈색소  요단백  혈청크레아티닌  (혈청지오티)AST  (혈청지오티)ALT  감마 지티피  흡연상태  음주여부  \\\n",
       "0        90.0  15.0  1.0      1.1        21.0        27.0    21.0   1.0   0.0   \n",
       "1        87.0  12.7  1.0      0.5        18.0        15.0    15.0   1.0   0.0   \n",
       "2       102.0  12.8  1.0      0.7        27.0        25.0     7.0   1.0   0.0   \n",
       "3       146.0  16.4  1.0      1.2        65.0        97.0    72.0   1.0   0.0   \n",
       "4       110.0  12.4  1.0      0.7        18.0        17.0    14.0   1.0   0.0   \n",
       "\n",
       "   구강검진 수검여부 시도명 복부비만  \n",
       "0          0  세종  비해당  \n",
       "1          0  대구  비해당  \n",
       "2          0  서울  비해당  \n",
       "3          1  울산   해당  \n",
       "4          0  경기  비해당  "
      ]
     },
     "execution_count": 17,
     "metadata": {},
     "output_type": "execute_result"
    }
   ],
   "source": [
    "# 복부비만\n",
    "\n",
    "def belly(x):\n",
    "    # 남성\n",
    "    if x['성별코드'] == 1:\n",
    "        if x['허리둘레'] >= 90:\n",
    "            return '해당'\n",
    "        else:\n",
    "            return '비해당'\n",
    "            \n",
    "    # 여성\n",
    "    else:\n",
    "        if x['허리둘레'] >= 85:\n",
    "            return '해당'\n",
    "        else:\n",
    "            return '비해당'\n",
    "        \n",
    "\n",
    "df['복부비만'] = df.apply(belly, axis = 1)\n",
    "df.head()"
   ]
  },
  {
   "cell_type": "code",
   "execution_count": 18,
   "metadata": {},
   "outputs": [
    {
     "name": "stderr",
     "output_type": "stream",
     "text": [
      "C:\\Users\\user\\AppData\\Local\\Temp/ipykernel_272/3195275117.py:19: SettingWithCopyWarning: \n",
      "A value is trying to be set on a copy of a slice from a DataFrame.\n",
      "Try using .loc[row_indexer,col_indexer] = value instead\n",
      "\n",
      "See the caveats in the documentation: https://pandas.pydata.org/pandas-docs/stable/user_guide/indexing.html#returning-a-view-versus-a-copy\n",
      "  df['비만'] = df.apply(overweight, axis = 1)\n"
     ]
    },
    {
     "data": {
      "text/html": [
       "<div>\n",
       "<style scoped>\n",
       "    .dataframe tbody tr th:only-of-type {\n",
       "        vertical-align: middle;\n",
       "    }\n",
       "\n",
       "    .dataframe tbody tr th {\n",
       "        vertical-align: top;\n",
       "    }\n",
       "\n",
       "    .dataframe thead th {\n",
       "        text-align: right;\n",
       "    }\n",
       "</style>\n",
       "<table border=\"1\" class=\"dataframe\">\n",
       "  <thead>\n",
       "    <tr style=\"text-align: right;\">\n",
       "      <th></th>\n",
       "      <th>성별코드</th>\n",
       "      <th>연령대 코드(5세단위)</th>\n",
       "      <th>신장(5Cm단위)</th>\n",
       "      <th>체중(5Kg 단위)</th>\n",
       "      <th>허리둘레</th>\n",
       "      <th>수축기 혈압</th>\n",
       "      <th>이완기 혈압</th>\n",
       "      <th>식전혈당(공복혈당)</th>\n",
       "      <th>혈색소</th>\n",
       "      <th>요단백</th>\n",
       "      <th>혈청크레아티닌</th>\n",
       "      <th>(혈청지오티)AST</th>\n",
       "      <th>(혈청지오티)ALT</th>\n",
       "      <th>감마 지티피</th>\n",
       "      <th>흡연상태</th>\n",
       "      <th>음주여부</th>\n",
       "      <th>구강검진 수검여부</th>\n",
       "      <th>시도명</th>\n",
       "      <th>복부비만</th>\n",
       "      <th>비만</th>\n",
       "    </tr>\n",
       "  </thead>\n",
       "  <tbody>\n",
       "    <tr>\n",
       "      <th>0</th>\n",
       "      <td>1</td>\n",
       "      <td>9</td>\n",
       "      <td>165</td>\n",
       "      <td>60</td>\n",
       "      <td>72.1</td>\n",
       "      <td>127.0</td>\n",
       "      <td>79.0</td>\n",
       "      <td>90.0</td>\n",
       "      <td>15.0</td>\n",
       "      <td>1.0</td>\n",
       "      <td>1.1</td>\n",
       "      <td>21.0</td>\n",
       "      <td>27.0</td>\n",
       "      <td>21.0</td>\n",
       "      <td>1.0</td>\n",
       "      <td>0.0</td>\n",
       "      <td>0</td>\n",
       "      <td>세종</td>\n",
       "      <td>비해당</td>\n",
       "      <td>정상</td>\n",
       "    </tr>\n",
       "    <tr>\n",
       "      <th>1</th>\n",
       "      <td>2</td>\n",
       "      <td>13</td>\n",
       "      <td>150</td>\n",
       "      <td>65</td>\n",
       "      <td>81.0</td>\n",
       "      <td>110.0</td>\n",
       "      <td>73.0</td>\n",
       "      <td>87.0</td>\n",
       "      <td>12.7</td>\n",
       "      <td>1.0</td>\n",
       "      <td>0.5</td>\n",
       "      <td>18.0</td>\n",
       "      <td>15.0</td>\n",
       "      <td>15.0</td>\n",
       "      <td>1.0</td>\n",
       "      <td>0.0</td>\n",
       "      <td>0</td>\n",
       "      <td>대구</td>\n",
       "      <td>비해당</td>\n",
       "      <td>과체중</td>\n",
       "    </tr>\n",
       "    <tr>\n",
       "      <th>2</th>\n",
       "      <td>2</td>\n",
       "      <td>12</td>\n",
       "      <td>155</td>\n",
       "      <td>55</td>\n",
       "      <td>70.0</td>\n",
       "      <td>123.0</td>\n",
       "      <td>80.0</td>\n",
       "      <td>102.0</td>\n",
       "      <td>12.8</td>\n",
       "      <td>1.0</td>\n",
       "      <td>0.7</td>\n",
       "      <td>27.0</td>\n",
       "      <td>25.0</td>\n",
       "      <td>7.0</td>\n",
       "      <td>1.0</td>\n",
       "      <td>0.0</td>\n",
       "      <td>0</td>\n",
       "      <td>서울</td>\n",
       "      <td>비해당</td>\n",
       "      <td>정상</td>\n",
       "    </tr>\n",
       "    <tr>\n",
       "      <th>3</th>\n",
       "      <td>1</td>\n",
       "      <td>13</td>\n",
       "      <td>160</td>\n",
       "      <td>70</td>\n",
       "      <td>90.8</td>\n",
       "      <td>134.0</td>\n",
       "      <td>84.0</td>\n",
       "      <td>146.0</td>\n",
       "      <td>16.4</td>\n",
       "      <td>1.0</td>\n",
       "      <td>1.2</td>\n",
       "      <td>65.0</td>\n",
       "      <td>97.0</td>\n",
       "      <td>72.0</td>\n",
       "      <td>1.0</td>\n",
       "      <td>0.0</td>\n",
       "      <td>1</td>\n",
       "      <td>울산</td>\n",
       "      <td>해당</td>\n",
       "      <td>과체중</td>\n",
       "    </tr>\n",
       "    <tr>\n",
       "      <th>4</th>\n",
       "      <td>2</td>\n",
       "      <td>12</td>\n",
       "      <td>155</td>\n",
       "      <td>50</td>\n",
       "      <td>75.2</td>\n",
       "      <td>144.0</td>\n",
       "      <td>89.0</td>\n",
       "      <td>110.0</td>\n",
       "      <td>12.4</td>\n",
       "      <td>1.0</td>\n",
       "      <td>0.7</td>\n",
       "      <td>18.0</td>\n",
       "      <td>17.0</td>\n",
       "      <td>14.0</td>\n",
       "      <td>1.0</td>\n",
       "      <td>0.0</td>\n",
       "      <td>0</td>\n",
       "      <td>경기</td>\n",
       "      <td>비해당</td>\n",
       "      <td>정상</td>\n",
       "    </tr>\n",
       "  </tbody>\n",
       "</table>\n",
       "</div>"
      ],
      "text/plain": [
       "   성별코드  연령대 코드(5세단위)  신장(5Cm단위)  체중(5Kg 단위)  허리둘레  수축기 혈압  이완기 혈압  \\\n",
       "0     1             9        165          60  72.1   127.0    79.0   \n",
       "1     2            13        150          65  81.0   110.0    73.0   \n",
       "2     2            12        155          55  70.0   123.0    80.0   \n",
       "3     1            13        160          70  90.8   134.0    84.0   \n",
       "4     2            12        155          50  75.2   144.0    89.0   \n",
       "\n",
       "   식전혈당(공복혈당)   혈색소  요단백  혈청크레아티닌  (혈청지오티)AST  (혈청지오티)ALT  감마 지티피  흡연상태  음주여부  \\\n",
       "0        90.0  15.0  1.0      1.1        21.0        27.0    21.0   1.0   0.0   \n",
       "1        87.0  12.7  1.0      0.5        18.0        15.0    15.0   1.0   0.0   \n",
       "2       102.0  12.8  1.0      0.7        27.0        25.0     7.0   1.0   0.0   \n",
       "3       146.0  16.4  1.0      1.2        65.0        97.0    72.0   1.0   0.0   \n",
       "4       110.0  12.4  1.0      0.7        18.0        17.0    14.0   1.0   0.0   \n",
       "\n",
       "   구강검진 수검여부 시도명 복부비만   비만  \n",
       "0          0  세종  비해당   정상  \n",
       "1          0  대구  비해당  과체중  \n",
       "2          0  서울  비해당   정상  \n",
       "3          1  울산   해당  과체중  \n",
       "4          0  경기  비해당   정상  "
      ]
     },
     "execution_count": 18,
     "metadata": {},
     "output_type": "execute_result"
    }
   ],
   "source": [
    "# 비만\n",
    "\n",
    "def overweight(x):\n",
    "    h = x['신장(5Cm단위)']\n",
    "    h *= 0.01\n",
    "    h = h ** 2\n",
    "    w = x['체중(5Kg 단위)']\n",
    "    bmi = w / h\n",
    "    \n",
    "    if bmi <= 18.5:\n",
    "        return '저체중'\n",
    "    elif bmi <= 25:\n",
    "        return '정상'\n",
    "    elif bmi <= 30:\n",
    "        return '과체중'\n",
    "    else:\n",
    "        return '비만'\n",
    "    \n",
    "df['비만'] = df.apply(overweight, axis = 1)\n",
    "df.head()"
   ]
  },
  {
   "cell_type": "code",
   "execution_count": 19,
   "metadata": {},
   "outputs": [
    {
     "name": "stderr",
     "output_type": "stream",
     "text": [
      "C:\\Users\\user\\AppData\\Local\\Temp/ipykernel_272/3483696640.py:16: SettingWithCopyWarning: \n",
      "A value is trying to be set on a copy of a slice from a DataFrame.\n",
      "Try using .loc[row_indexer,col_indexer] = value instead\n",
      "\n",
      "See the caveats in the documentation: https://pandas.pydata.org/pandas-docs/stable/user_guide/indexing.html#returning-a-view-versus-a-copy\n",
      "  df['빈혈'] = df.apply(빈혈,axis =1)\n"
     ]
    },
    {
     "data": {
      "text/html": [
       "<div>\n",
       "<style scoped>\n",
       "    .dataframe tbody tr th:only-of-type {\n",
       "        vertical-align: middle;\n",
       "    }\n",
       "\n",
       "    .dataframe tbody tr th {\n",
       "        vertical-align: top;\n",
       "    }\n",
       "\n",
       "    .dataframe thead th {\n",
       "        text-align: right;\n",
       "    }\n",
       "</style>\n",
       "<table border=\"1\" class=\"dataframe\">\n",
       "  <thead>\n",
       "    <tr style=\"text-align: right;\">\n",
       "      <th></th>\n",
       "      <th>성별코드</th>\n",
       "      <th>연령대 코드(5세단위)</th>\n",
       "      <th>신장(5Cm단위)</th>\n",
       "      <th>체중(5Kg 단위)</th>\n",
       "      <th>허리둘레</th>\n",
       "      <th>수축기 혈압</th>\n",
       "      <th>이완기 혈압</th>\n",
       "      <th>식전혈당(공복혈당)</th>\n",
       "      <th>혈색소</th>\n",
       "      <th>요단백</th>\n",
       "      <th>...</th>\n",
       "      <th>(혈청지오티)AST</th>\n",
       "      <th>(혈청지오티)ALT</th>\n",
       "      <th>감마 지티피</th>\n",
       "      <th>흡연상태</th>\n",
       "      <th>음주여부</th>\n",
       "      <th>구강검진 수검여부</th>\n",
       "      <th>시도명</th>\n",
       "      <th>복부비만</th>\n",
       "      <th>비만</th>\n",
       "      <th>빈혈</th>\n",
       "    </tr>\n",
       "  </thead>\n",
       "  <tbody>\n",
       "    <tr>\n",
       "      <th>0</th>\n",
       "      <td>1</td>\n",
       "      <td>9</td>\n",
       "      <td>165</td>\n",
       "      <td>60</td>\n",
       "      <td>72.1</td>\n",
       "      <td>127.0</td>\n",
       "      <td>79.0</td>\n",
       "      <td>90.0</td>\n",
       "      <td>15.0</td>\n",
       "      <td>1.0</td>\n",
       "      <td>...</td>\n",
       "      <td>21.0</td>\n",
       "      <td>27.0</td>\n",
       "      <td>21.0</td>\n",
       "      <td>1.0</td>\n",
       "      <td>0.0</td>\n",
       "      <td>0</td>\n",
       "      <td>세종</td>\n",
       "      <td>비해당</td>\n",
       "      <td>정상</td>\n",
       "      <td>비해당</td>\n",
       "    </tr>\n",
       "  </tbody>\n",
       "</table>\n",
       "<p>1 rows × 21 columns</p>\n",
       "</div>"
      ],
      "text/plain": [
       "   성별코드  연령대 코드(5세단위)  신장(5Cm단위)  체중(5Kg 단위)  허리둘레  수축기 혈압  이완기 혈압  \\\n",
       "0     1             9        165          60  72.1   127.0    79.0   \n",
       "\n",
       "   식전혈당(공복혈당)   혈색소  요단백  ...  (혈청지오티)AST  (혈청지오티)ALT  감마 지티피  흡연상태  음주여부  \\\n",
       "0        90.0  15.0  1.0  ...        21.0        27.0    21.0   1.0   0.0   \n",
       "\n",
       "   구강검진 수검여부  시도명 복부비만  비만   빈혈  \n",
       "0          0   세종  비해당  정상  비해당  \n",
       "\n",
       "[1 rows x 21 columns]"
      ]
     },
     "execution_count": 19,
     "metadata": {},
     "output_type": "execute_result"
    }
   ],
   "source": [
    "# 빈혈 함수\n",
    "# 성별코드 1:남자, 2:여자\n",
    "def 빈혈(x):\n",
    "    if x['성별코드'] == 1:\n",
    "        if x['혈색소'] <= 13:\n",
    "            return '해당'\n",
    "        else:\n",
    "            return '비해당'\n",
    "    \n",
    "    else:\n",
    "        if x['혈색소'] <= 12:\n",
    "            return '해당'\n",
    "        else:\n",
    "            return '비해당'\n",
    "\n",
    "df['빈혈'] = df.apply(빈혈,axis =1)\n",
    "df.head(1)"
   ]
  },
  {
   "cell_type": "code",
   "execution_count": 20,
   "metadata": {},
   "outputs": [
    {
     "name": "stderr",
     "output_type": "stream",
     "text": [
      "C:\\Anaconda3\\lib\\site-packages\\pandas\\core\\indexing.py:1684: SettingWithCopyWarning: \n",
      "A value is trying to be set on a copy of a slice from a DataFrame.\n",
      "Try using .loc[row_indexer,col_indexer] = value instead\n",
      "\n",
      "See the caveats in the documentation: https://pandas.pydata.org/pandas-docs/stable/user_guide/indexing.html#returning-a-view-versus-a-copy\n",
      "  self.obj[key] = infer_fill_value(value)\n",
      "C:\\Anaconda3\\lib\\site-packages\\pandas\\core\\indexing.py:1817: SettingWithCopyWarning: \n",
      "A value is trying to be set on a copy of a slice from a DataFrame.\n",
      "Try using .loc[row_indexer,col_indexer] = value instead\n",
      "\n",
      "See the caveats in the documentation: https://pandas.pydata.org/pandas-docs/stable/user_guide/indexing.html#returning-a-view-versus-a-copy\n",
      "  self._setitem_single_column(loc, value, pi)\n"
     ]
    },
    {
     "data": {
      "text/html": [
       "<div>\n",
       "<style scoped>\n",
       "    .dataframe tbody tr th:only-of-type {\n",
       "        vertical-align: middle;\n",
       "    }\n",
       "\n",
       "    .dataframe tbody tr th {\n",
       "        vertical-align: top;\n",
       "    }\n",
       "\n",
       "    .dataframe thead th {\n",
       "        text-align: right;\n",
       "    }\n",
       "</style>\n",
       "<table border=\"1\" class=\"dataframe\">\n",
       "  <thead>\n",
       "    <tr style=\"text-align: right;\">\n",
       "      <th></th>\n",
       "      <th>성별코드</th>\n",
       "      <th>연령대 코드(5세단위)</th>\n",
       "      <th>신장(5Cm단위)</th>\n",
       "      <th>체중(5Kg 단위)</th>\n",
       "      <th>허리둘레</th>\n",
       "      <th>수축기 혈압</th>\n",
       "      <th>이완기 혈압</th>\n",
       "      <th>식전혈당(공복혈당)</th>\n",
       "      <th>혈색소</th>\n",
       "      <th>요단백</th>\n",
       "      <th>...</th>\n",
       "      <th>(혈청지오티)ALT</th>\n",
       "      <th>감마 지티피</th>\n",
       "      <th>흡연상태</th>\n",
       "      <th>음주여부</th>\n",
       "      <th>구강검진 수검여부</th>\n",
       "      <th>시도명</th>\n",
       "      <th>복부비만</th>\n",
       "      <th>비만</th>\n",
       "      <th>빈혈</th>\n",
       "      <th>당뇨</th>\n",
       "    </tr>\n",
       "  </thead>\n",
       "  <tbody>\n",
       "    <tr>\n",
       "      <th>0</th>\n",
       "      <td>1</td>\n",
       "      <td>9</td>\n",
       "      <td>165</td>\n",
       "      <td>60</td>\n",
       "      <td>72.1</td>\n",
       "      <td>127.0</td>\n",
       "      <td>79.0</td>\n",
       "      <td>90.0</td>\n",
       "      <td>15.0</td>\n",
       "      <td>1.0</td>\n",
       "      <td>...</td>\n",
       "      <td>27.0</td>\n",
       "      <td>21.0</td>\n",
       "      <td>1.0</td>\n",
       "      <td>0.0</td>\n",
       "      <td>0</td>\n",
       "      <td>세종</td>\n",
       "      <td>비해당</td>\n",
       "      <td>정상</td>\n",
       "      <td>비해당</td>\n",
       "      <td>정상</td>\n",
       "    </tr>\n",
       "    <tr>\n",
       "      <th>1</th>\n",
       "      <td>2</td>\n",
       "      <td>13</td>\n",
       "      <td>150</td>\n",
       "      <td>65</td>\n",
       "      <td>81.0</td>\n",
       "      <td>110.0</td>\n",
       "      <td>73.0</td>\n",
       "      <td>87.0</td>\n",
       "      <td>12.7</td>\n",
       "      <td>1.0</td>\n",
       "      <td>...</td>\n",
       "      <td>15.0</td>\n",
       "      <td>15.0</td>\n",
       "      <td>1.0</td>\n",
       "      <td>0.0</td>\n",
       "      <td>0</td>\n",
       "      <td>대구</td>\n",
       "      <td>비해당</td>\n",
       "      <td>과체중</td>\n",
       "      <td>비해당</td>\n",
       "      <td>정상</td>\n",
       "    </tr>\n",
       "    <tr>\n",
       "      <th>2</th>\n",
       "      <td>2</td>\n",
       "      <td>12</td>\n",
       "      <td>155</td>\n",
       "      <td>55</td>\n",
       "      <td>70.0</td>\n",
       "      <td>123.0</td>\n",
       "      <td>80.0</td>\n",
       "      <td>102.0</td>\n",
       "      <td>12.8</td>\n",
       "      <td>1.0</td>\n",
       "      <td>...</td>\n",
       "      <td>25.0</td>\n",
       "      <td>7.0</td>\n",
       "      <td>1.0</td>\n",
       "      <td>0.0</td>\n",
       "      <td>0</td>\n",
       "      <td>서울</td>\n",
       "      <td>비해당</td>\n",
       "      <td>정상</td>\n",
       "      <td>비해당</td>\n",
       "      <td>정상</td>\n",
       "    </tr>\n",
       "    <tr>\n",
       "      <th>3</th>\n",
       "      <td>1</td>\n",
       "      <td>13</td>\n",
       "      <td>160</td>\n",
       "      <td>70</td>\n",
       "      <td>90.8</td>\n",
       "      <td>134.0</td>\n",
       "      <td>84.0</td>\n",
       "      <td>146.0</td>\n",
       "      <td>16.4</td>\n",
       "      <td>1.0</td>\n",
       "      <td>...</td>\n",
       "      <td>97.0</td>\n",
       "      <td>72.0</td>\n",
       "      <td>1.0</td>\n",
       "      <td>0.0</td>\n",
       "      <td>1</td>\n",
       "      <td>울산</td>\n",
       "      <td>해당</td>\n",
       "      <td>과체중</td>\n",
       "      <td>비해당</td>\n",
       "      <td>질환 의심</td>\n",
       "    </tr>\n",
       "    <tr>\n",
       "      <th>4</th>\n",
       "      <td>2</td>\n",
       "      <td>12</td>\n",
       "      <td>155</td>\n",
       "      <td>50</td>\n",
       "      <td>75.2</td>\n",
       "      <td>144.0</td>\n",
       "      <td>89.0</td>\n",
       "      <td>110.0</td>\n",
       "      <td>12.4</td>\n",
       "      <td>1.0</td>\n",
       "      <td>...</td>\n",
       "      <td>17.0</td>\n",
       "      <td>14.0</td>\n",
       "      <td>1.0</td>\n",
       "      <td>0.0</td>\n",
       "      <td>0</td>\n",
       "      <td>경기</td>\n",
       "      <td>비해당</td>\n",
       "      <td>정상</td>\n",
       "      <td>비해당</td>\n",
       "      <td>정상</td>\n",
       "    </tr>\n",
       "    <tr>\n",
       "      <th>...</th>\n",
       "      <td>...</td>\n",
       "      <td>...</td>\n",
       "      <td>...</td>\n",
       "      <td>...</td>\n",
       "      <td>...</td>\n",
       "      <td>...</td>\n",
       "      <td>...</td>\n",
       "      <td>...</td>\n",
       "      <td>...</td>\n",
       "      <td>...</td>\n",
       "      <td>...</td>\n",
       "      <td>...</td>\n",
       "      <td>...</td>\n",
       "      <td>...</td>\n",
       "      <td>...</td>\n",
       "      <td>...</td>\n",
       "      <td>...</td>\n",
       "      <td>...</td>\n",
       "      <td>...</td>\n",
       "      <td>...</td>\n",
       "      <td>...</td>\n",
       "    </tr>\n",
       "    <tr>\n",
       "      <th>249995</th>\n",
       "      <td>2</td>\n",
       "      <td>13</td>\n",
       "      <td>145</td>\n",
       "      <td>55</td>\n",
       "      <td>81.0</td>\n",
       "      <td>132.0</td>\n",
       "      <td>78.0</td>\n",
       "      <td>124.0</td>\n",
       "      <td>13.6</td>\n",
       "      <td>1.0</td>\n",
       "      <td>...</td>\n",
       "      <td>25.0</td>\n",
       "      <td>18.0</td>\n",
       "      <td>1.0</td>\n",
       "      <td>0.0</td>\n",
       "      <td>0</td>\n",
       "      <td>경기</td>\n",
       "      <td>비해당</td>\n",
       "      <td>과체중</td>\n",
       "      <td>비해당</td>\n",
       "      <td>질환 위험</td>\n",
       "    </tr>\n",
       "    <tr>\n",
       "      <th>249996</th>\n",
       "      <td>2</td>\n",
       "      <td>12</td>\n",
       "      <td>160</td>\n",
       "      <td>55</td>\n",
       "      <td>76.5</td>\n",
       "      <td>100.0</td>\n",
       "      <td>64.0</td>\n",
       "      <td>98.0</td>\n",
       "      <td>14.0</td>\n",
       "      <td>1.0</td>\n",
       "      <td>...</td>\n",
       "      <td>14.0</td>\n",
       "      <td>19.0</td>\n",
       "      <td>1.0</td>\n",
       "      <td>1.0</td>\n",
       "      <td>0</td>\n",
       "      <td>부산</td>\n",
       "      <td>비해당</td>\n",
       "      <td>정상</td>\n",
       "      <td>비해당</td>\n",
       "      <td>정상</td>\n",
       "    </tr>\n",
       "    <tr>\n",
       "      <th>249997</th>\n",
       "      <td>1</td>\n",
       "      <td>9</td>\n",
       "      <td>175</td>\n",
       "      <td>70</td>\n",
       "      <td>85.0</td>\n",
       "      <td>110.0</td>\n",
       "      <td>64.0</td>\n",
       "      <td>83.0</td>\n",
       "      <td>16.0</td>\n",
       "      <td>1.0</td>\n",
       "      <td>...</td>\n",
       "      <td>20.0</td>\n",
       "      <td>17.0</td>\n",
       "      <td>1.0</td>\n",
       "      <td>1.0</td>\n",
       "      <td>0</td>\n",
       "      <td>경남</td>\n",
       "      <td>비해당</td>\n",
       "      <td>정상</td>\n",
       "      <td>비해당</td>\n",
       "      <td>정상</td>\n",
       "    </tr>\n",
       "    <tr>\n",
       "      <th>249998</th>\n",
       "      <td>2</td>\n",
       "      <td>9</td>\n",
       "      <td>160</td>\n",
       "      <td>70</td>\n",
       "      <td>91.0</td>\n",
       "      <td>137.0</td>\n",
       "      <td>82.0</td>\n",
       "      <td>111.0</td>\n",
       "      <td>11.9</td>\n",
       "      <td>1.0</td>\n",
       "      <td>...</td>\n",
       "      <td>29.0</td>\n",
       "      <td>13.0</td>\n",
       "      <td>1.0</td>\n",
       "      <td>0.0</td>\n",
       "      <td>0</td>\n",
       "      <td>경남</td>\n",
       "      <td>해당</td>\n",
       "      <td>과체중</td>\n",
       "      <td>해당</td>\n",
       "      <td>정상</td>\n",
       "    </tr>\n",
       "    <tr>\n",
       "      <th>249999</th>\n",
       "      <td>1</td>\n",
       "      <td>11</td>\n",
       "      <td>160</td>\n",
       "      <td>55</td>\n",
       "      <td>76.1</td>\n",
       "      <td>133.0</td>\n",
       "      <td>74.0</td>\n",
       "      <td>121.0</td>\n",
       "      <td>14.9</td>\n",
       "      <td>1.0</td>\n",
       "      <td>...</td>\n",
       "      <td>13.0</td>\n",
       "      <td>24.0</td>\n",
       "      <td>2.0</td>\n",
       "      <td>0.0</td>\n",
       "      <td>0</td>\n",
       "      <td>인천</td>\n",
       "      <td>비해당</td>\n",
       "      <td>정상</td>\n",
       "      <td>비해당</td>\n",
       "      <td>질환 위험</td>\n",
       "    </tr>\n",
       "  </tbody>\n",
       "</table>\n",
       "<p>987219 rows × 22 columns</p>\n",
       "</div>"
      ],
      "text/plain": [
       "        성별코드  연령대 코드(5세단위)  신장(5Cm단위)  체중(5Kg 단위)  허리둘레  수축기 혈압  이완기 혈압  \\\n",
       "0          1             9        165          60  72.1   127.0    79.0   \n",
       "1          2            13        150          65  81.0   110.0    73.0   \n",
       "2          2            12        155          55  70.0   123.0    80.0   \n",
       "3          1            13        160          70  90.8   134.0    84.0   \n",
       "4          2            12        155          50  75.2   144.0    89.0   \n",
       "...      ...           ...        ...         ...   ...     ...     ...   \n",
       "249995     2            13        145          55  81.0   132.0    78.0   \n",
       "249996     2            12        160          55  76.5   100.0    64.0   \n",
       "249997     1             9        175          70  85.0   110.0    64.0   \n",
       "249998     2             9        160          70  91.0   137.0    82.0   \n",
       "249999     1            11        160          55  76.1   133.0    74.0   \n",
       "\n",
       "        식전혈당(공복혈당)   혈색소  요단백  ...  (혈청지오티)ALT  감마 지티피  흡연상태  음주여부  구강검진 수검여부  \\\n",
       "0             90.0  15.0  1.0  ...        27.0    21.0   1.0   0.0          0   \n",
       "1             87.0  12.7  1.0  ...        15.0    15.0   1.0   0.0          0   \n",
       "2            102.0  12.8  1.0  ...        25.0     7.0   1.0   0.0          0   \n",
       "3            146.0  16.4  1.0  ...        97.0    72.0   1.0   0.0          1   \n",
       "4            110.0  12.4  1.0  ...        17.0    14.0   1.0   0.0          0   \n",
       "...            ...   ...  ...  ...         ...     ...   ...   ...        ...   \n",
       "249995       124.0  13.6  1.0  ...        25.0    18.0   1.0   0.0          0   \n",
       "249996        98.0  14.0  1.0  ...        14.0    19.0   1.0   1.0          0   \n",
       "249997        83.0  16.0  1.0  ...        20.0    17.0   1.0   1.0          0   \n",
       "249998       111.0  11.9  1.0  ...        29.0    13.0   1.0   0.0          0   \n",
       "249999       121.0  14.9  1.0  ...        13.0    24.0   2.0   0.0          0   \n",
       "\n",
       "        시도명  복부비만   비만   빈혈     당뇨  \n",
       "0        세종   비해당   정상  비해당     정상  \n",
       "1        대구   비해당  과체중  비해당     정상  \n",
       "2        서울   비해당   정상  비해당     정상  \n",
       "3        울산    해당  과체중  비해당  질환 의심  \n",
       "4        경기   비해당   정상  비해당     정상  \n",
       "...     ...   ...  ...  ...    ...  \n",
       "249995   경기   비해당  과체중  비해당  질환 위험  \n",
       "249996   부산   비해당   정상  비해당     정상  \n",
       "249997   경남   비해당   정상  비해당     정상  \n",
       "249998   경남    해당  과체중   해당     정상  \n",
       "249999   인천   비해당   정상  비해당  질환 위험  \n",
       "\n",
       "[987219 rows x 22 columns]"
      ]
     },
     "execution_count": 20,
     "metadata": {},
     "output_type": "execute_result"
    }
   ],
   "source": [
    "con1 = (df['식전혈당(공복혈당)']<= 120)\n",
    "con2 = (df['식전혈당(공복혈당)']>120)&(df['식전혈당(공복혈당)']<126)\n",
    "con3 = (df['식전혈당(공복혈당)']>=126)\n",
    "\n",
    "df.loc[con1, '당뇨'] = \"정상\"\n",
    "df.loc[con2, '당뇨'] = \"질환 위험\"\n",
    "df.loc[con3, '당뇨'] = \"질환 의심\"\n",
    "df"
   ]
  },
  {
   "cell_type": "code",
   "execution_count": 21,
   "metadata": {},
   "outputs": [
    {
     "name": "stderr",
     "output_type": "stream",
     "text": [
      "C:\\Users\\user\\AppData\\Local\\Temp/ipykernel_272/2817138693.py:21: SettingWithCopyWarning: \n",
      "A value is trying to be set on a copy of a slice from a DataFrame.\n",
      "Try using .loc[row_indexer,col_indexer] = value instead\n",
      "\n",
      "See the caveats in the documentation: https://pandas.pydata.org/pandas-docs/stable/user_guide/indexing.html#returning-a-view-versus-a-copy\n",
      "  df['혈압'] = df.apply(blood_pressure, axis=1)\n"
     ]
    }
   ],
   "source": [
    "def blood_pressure(x):\n",
    "    sbp = x['수축기 혈압']\n",
    "    dpb = x['이완기 혈압']\n",
    "    \n",
    "    if dpb <= 60:\n",
    "        return '저혈압'\n",
    "        \n",
    "    elif dpb >= 95:\n",
    "        return '고혈압'\n",
    "    \n",
    "    else:\n",
    "        if sbp <= 100:\n",
    "            return '저혈압'\n",
    "        \n",
    "        elif sbp >= 145:\n",
    "            return '고혈압'\n",
    "        \n",
    "        else:\n",
    "            return '정상'\n",
    "\n",
    "df['혈압'] = df.apply(blood_pressure, axis=1)"
   ]
  },
  {
   "cell_type": "code",
   "execution_count": 24,
   "metadata": {},
   "outputs": [
    {
     "name": "stderr",
     "output_type": "stream",
     "text": [
      "C:\\Users\\user\\AppData\\Local\\Temp/ipykernel_272/827696170.py:19: SettingWithCopyWarning: \n",
      "A value is trying to be set on a copy of a slice from a DataFrame.\n",
      "Try using .loc[row_indexer,col_indexer] = value instead\n",
      "\n",
      "See the caveats in the documentation: https://pandas.pydata.org/pandas-docs/stable/user_guide/indexing.html#returning-a-view-versus-a-copy\n",
      "  df['간 기능 이상'] = df.apply(liver, axis = 1)\n"
     ]
    }
   ],
   "source": [
    "def liver(x):\n",
    "    ast = x['(혈청지오티)AST']\n",
    "    alt = x['(혈청지오티)ALT']\n",
    "    \n",
    "    if ast <= 32:\n",
    "        if alt <= 32:\n",
    "            return '정상'\n",
    "        elif alt >= 46:\n",
    "            return '질환의심'\n",
    "        else:\n",
    "            return '질환위험'\n",
    "        \n",
    "    elif ast >= 51:\n",
    "        return '질환의심'\n",
    "    \n",
    "    else:\n",
    "        return '질환위험'\n",
    "        \n",
    "df['간 기능 이상'] = df.apply(liver, axis = 1)"
   ]
  },
  {
   "cell_type": "code",
   "execution_count": 25,
   "metadata": {},
   "outputs": [
    {
     "data": {
      "text/html": [
       "<div>\n",
       "<style scoped>\n",
       "    .dataframe tbody tr th:only-of-type {\n",
       "        vertical-align: middle;\n",
       "    }\n",
       "\n",
       "    .dataframe tbody tr th {\n",
       "        vertical-align: top;\n",
       "    }\n",
       "\n",
       "    .dataframe thead th {\n",
       "        text-align: right;\n",
       "    }\n",
       "</style>\n",
       "<table border=\"1\" class=\"dataframe\">\n",
       "  <thead>\n",
       "    <tr style=\"text-align: right;\">\n",
       "      <th></th>\n",
       "      <th>성별코드</th>\n",
       "      <th>연령대 코드(5세단위)</th>\n",
       "      <th>신장(5Cm단위)</th>\n",
       "      <th>체중(5Kg 단위)</th>\n",
       "      <th>허리둘레</th>\n",
       "      <th>수축기 혈압</th>\n",
       "      <th>이완기 혈압</th>\n",
       "      <th>식전혈당(공복혈당)</th>\n",
       "      <th>혈색소</th>\n",
       "      <th>요단백</th>\n",
       "      <th>...</th>\n",
       "      <th>흡연상태</th>\n",
       "      <th>음주여부</th>\n",
       "      <th>구강검진 수검여부</th>\n",
       "      <th>시도명</th>\n",
       "      <th>복부비만</th>\n",
       "      <th>비만</th>\n",
       "      <th>빈혈</th>\n",
       "      <th>당뇨</th>\n",
       "      <th>혈압</th>\n",
       "      <th>간 기능 이상</th>\n",
       "    </tr>\n",
       "  </thead>\n",
       "  <tbody>\n",
       "    <tr>\n",
       "      <th>0</th>\n",
       "      <td>1</td>\n",
       "      <td>9</td>\n",
       "      <td>165</td>\n",
       "      <td>60</td>\n",
       "      <td>72.1</td>\n",
       "      <td>127.0</td>\n",
       "      <td>79.0</td>\n",
       "      <td>90.0</td>\n",
       "      <td>15.0</td>\n",
       "      <td>1.0</td>\n",
       "      <td>...</td>\n",
       "      <td>1.0</td>\n",
       "      <td>0.0</td>\n",
       "      <td>0</td>\n",
       "      <td>세종</td>\n",
       "      <td>비해당</td>\n",
       "      <td>정상</td>\n",
       "      <td>비해당</td>\n",
       "      <td>정상</td>\n",
       "      <td>정상</td>\n",
       "      <td>정상</td>\n",
       "    </tr>\n",
       "    <tr>\n",
       "      <th>1</th>\n",
       "      <td>2</td>\n",
       "      <td>13</td>\n",
       "      <td>150</td>\n",
       "      <td>65</td>\n",
       "      <td>81.0</td>\n",
       "      <td>110.0</td>\n",
       "      <td>73.0</td>\n",
       "      <td>87.0</td>\n",
       "      <td>12.7</td>\n",
       "      <td>1.0</td>\n",
       "      <td>...</td>\n",
       "      <td>1.0</td>\n",
       "      <td>0.0</td>\n",
       "      <td>0</td>\n",
       "      <td>대구</td>\n",
       "      <td>비해당</td>\n",
       "      <td>과체중</td>\n",
       "      <td>비해당</td>\n",
       "      <td>정상</td>\n",
       "      <td>정상</td>\n",
       "      <td>정상</td>\n",
       "    </tr>\n",
       "    <tr>\n",
       "      <th>2</th>\n",
       "      <td>2</td>\n",
       "      <td>12</td>\n",
       "      <td>155</td>\n",
       "      <td>55</td>\n",
       "      <td>70.0</td>\n",
       "      <td>123.0</td>\n",
       "      <td>80.0</td>\n",
       "      <td>102.0</td>\n",
       "      <td>12.8</td>\n",
       "      <td>1.0</td>\n",
       "      <td>...</td>\n",
       "      <td>1.0</td>\n",
       "      <td>0.0</td>\n",
       "      <td>0</td>\n",
       "      <td>서울</td>\n",
       "      <td>비해당</td>\n",
       "      <td>정상</td>\n",
       "      <td>비해당</td>\n",
       "      <td>정상</td>\n",
       "      <td>정상</td>\n",
       "      <td>정상</td>\n",
       "    </tr>\n",
       "    <tr>\n",
       "      <th>3</th>\n",
       "      <td>1</td>\n",
       "      <td>13</td>\n",
       "      <td>160</td>\n",
       "      <td>70</td>\n",
       "      <td>90.8</td>\n",
       "      <td>134.0</td>\n",
       "      <td>84.0</td>\n",
       "      <td>146.0</td>\n",
       "      <td>16.4</td>\n",
       "      <td>1.0</td>\n",
       "      <td>...</td>\n",
       "      <td>1.0</td>\n",
       "      <td>0.0</td>\n",
       "      <td>1</td>\n",
       "      <td>울산</td>\n",
       "      <td>해당</td>\n",
       "      <td>과체중</td>\n",
       "      <td>비해당</td>\n",
       "      <td>질환 의심</td>\n",
       "      <td>정상</td>\n",
       "      <td>질환의심</td>\n",
       "    </tr>\n",
       "    <tr>\n",
       "      <th>4</th>\n",
       "      <td>2</td>\n",
       "      <td>12</td>\n",
       "      <td>155</td>\n",
       "      <td>50</td>\n",
       "      <td>75.2</td>\n",
       "      <td>144.0</td>\n",
       "      <td>89.0</td>\n",
       "      <td>110.0</td>\n",
       "      <td>12.4</td>\n",
       "      <td>1.0</td>\n",
       "      <td>...</td>\n",
       "      <td>1.0</td>\n",
       "      <td>0.0</td>\n",
       "      <td>0</td>\n",
       "      <td>경기</td>\n",
       "      <td>비해당</td>\n",
       "      <td>정상</td>\n",
       "      <td>비해당</td>\n",
       "      <td>정상</td>\n",
       "      <td>정상</td>\n",
       "      <td>정상</td>\n",
       "    </tr>\n",
       "  </tbody>\n",
       "</table>\n",
       "<p>5 rows × 24 columns</p>\n",
       "</div>"
      ],
      "text/plain": [
       "   성별코드  연령대 코드(5세단위)  신장(5Cm단위)  체중(5Kg 단위)  허리둘레  수축기 혈압  이완기 혈압  \\\n",
       "0     1             9        165          60  72.1   127.0    79.0   \n",
       "1     2            13        150          65  81.0   110.0    73.0   \n",
       "2     2            12        155          55  70.0   123.0    80.0   \n",
       "3     1            13        160          70  90.8   134.0    84.0   \n",
       "4     2            12        155          50  75.2   144.0    89.0   \n",
       "\n",
       "   식전혈당(공복혈당)   혈색소  요단백  ...  흡연상태  음주여부  구강검진 수검여부  시도명  복부비만   비만   빈혈  \\\n",
       "0        90.0  15.0  1.0  ...   1.0   0.0          0   세종   비해당   정상  비해당   \n",
       "1        87.0  12.7  1.0  ...   1.0   0.0          0   대구   비해당  과체중  비해당   \n",
       "2       102.0  12.8  1.0  ...   1.0   0.0          0   서울   비해당   정상  비해당   \n",
       "3       146.0  16.4  1.0  ...   1.0   0.0          1   울산    해당  과체중  비해당   \n",
       "4       110.0  12.4  1.0  ...   1.0   0.0          0   경기   비해당   정상  비해당   \n",
       "\n",
       "      당뇨  혈압 간 기능 이상  \n",
       "0     정상  정상      정상  \n",
       "1     정상  정상      정상  \n",
       "2     정상  정상      정상  \n",
       "3  질환 의심  정상    질환의심  \n",
       "4     정상  정상      정상  \n",
       "\n",
       "[5 rows x 24 columns]"
      ]
     },
     "execution_count": 25,
     "metadata": {},
     "output_type": "execute_result"
    }
   ],
   "source": [
    "df.head()"
   ]
  },
  {
   "cell_type": "code",
   "execution_count": 26,
   "metadata": {},
   "outputs": [
    {
     "data": {
      "text/plain": [
       "성별코드            0\n",
       "연령대 코드(5세단위)    0\n",
       "신장(5Cm단위)       0\n",
       "체중(5Kg 단위)      0\n",
       "허리둘레            0\n",
       "수축기 혈압          0\n",
       "이완기 혈압          0\n",
       "식전혈당(공복혈당)      0\n",
       "혈색소             0\n",
       "요단백             0\n",
       "혈청크레아티닌         0\n",
       "(혈청지오티)AST      0\n",
       "(혈청지오티)ALT      0\n",
       "감마 지티피          0\n",
       "흡연상태            0\n",
       "음주여부            0\n",
       "구강검진 수검여부       0\n",
       "시도명             0\n",
       "복부비만            0\n",
       "비만              0\n",
       "빈혈              0\n",
       "당뇨              0\n",
       "혈압              0\n",
       "간 기능 이상         0\n",
       "dtype: int64"
      ]
     },
     "execution_count": 26,
     "metadata": {},
     "output_type": "execute_result"
    }
   ],
   "source": [
    "df.isnull().sum()"
   ]
  },
  {
   "cell_type": "code",
   "execution_count": 27,
   "metadata": {},
   "outputs": [
    {
     "name": "stdout",
     "output_type": "stream",
     "text": [
      "<class 'pandas.core.frame.DataFrame'>\n",
      "Int64Index: 987219 entries, 0 to 249999\n",
      "Data columns (total 24 columns):\n",
      " #   Column        Non-Null Count   Dtype  \n",
      "---  ------        --------------   -----  \n",
      " 0   성별코드          987219 non-null  int64  \n",
      " 1   연령대 코드(5세단위)  987219 non-null  int64  \n",
      " 2   신장(5Cm단위)     987219 non-null  int64  \n",
      " 3   체중(5Kg 단위)    987219 non-null  int64  \n",
      " 4   허리둘레          987219 non-null  float64\n",
      " 5   수축기 혈압        987219 non-null  float64\n",
      " 6   이완기 혈압        987219 non-null  float64\n",
      " 7   식전혈당(공복혈당)    987219 non-null  float64\n",
      " 8   혈색소           987219 non-null  float64\n",
      " 9   요단백           987219 non-null  float64\n",
      " 10  혈청크레아티닌       987219 non-null  float64\n",
      " 11  (혈청지오티)AST    987219 non-null  float64\n",
      " 12  (혈청지오티)ALT    987219 non-null  float64\n",
      " 13  감마 지티피        987219 non-null  float64\n",
      " 14  흡연상태          987219 non-null  float64\n",
      " 15  음주여부          987219 non-null  float64\n",
      " 16  구강검진 수검여부     987219 non-null  int64  \n",
      " 17  시도명           987219 non-null  object \n",
      " 18  복부비만          987219 non-null  object \n",
      " 19  비만            987219 non-null  object \n",
      " 20  빈혈            987219 non-null  object \n",
      " 21  당뇨            987219 non-null  object \n",
      " 22  혈압            987219 non-null  object \n",
      " 23  간 기능 이상       987219 non-null  object \n",
      "dtypes: float64(12), int64(5), object(7)\n",
      "memory usage: 188.3+ MB\n"
     ]
    }
   ],
   "source": [
    "df.info()"
   ]
  },
  {
   "cell_type": "code",
   "execution_count": 28,
   "metadata": {},
   "outputs": [
    {
     "data": {
      "text/plain": [
       "'\\n9 : 40 ~ 44\\n10 : 45 ~ 49\\n11 : 50 ~ 54\\n12 : 55 ~ 59\\n13 : 60 ~ 64\\n14 : 65 ~ 69\\n15 : 70 ~ 74\\n16 : 75 ~ 79\\n17 : 80 ~ 44\\n18 : 85 ~ 89\\n'"
      ]
     },
     "execution_count": 28,
     "metadata": {},
     "output_type": "execute_result"
    }
   ],
   "source": [
    "df['연령대 코드(5세단위)'].unique()\n",
    "\n",
    "'''\n",
    "9 : 40 ~ 44\n",
    "10 : 45 ~ 49\n",
    "11 : 50 ~ 54\n",
    "12 : 55 ~ 59\n",
    "13 : 60 ~ 64\n",
    "14 : 65 ~ 69\n",
    "15 : 70 ~ 74\n",
    "16 : 75 ~ 79\n",
    "17 : 80 ~ 44\n",
    "18 : 85 ~ 89\n",
    "'''"
   ]
  },
  {
   "cell_type": "code",
   "execution_count": 29,
   "metadata": {},
   "outputs": [
    {
     "data": {
      "text/plain": [
       "'\\n1 : 비흡연자\\n2 : 전흡연자 (끊은 상태)\\n3 : 흡연자\\n'"
      ]
     },
     "execution_count": 29,
     "metadata": {},
     "output_type": "execute_result"
    }
   ],
   "source": [
    "df['흡연상태'].unique()\n",
    "\n",
    "'''\n",
    "1 : 비흡연자\n",
    "2 : 전흡연자 (끊은 상태)\n",
    "3 : 흡연자\n",
    "'''"
   ]
  },
  {
   "cell_type": "code",
   "execution_count": 30,
   "metadata": {},
   "outputs": [
    {
     "data": {
      "text/plain": [
       "'\\n0 : 음주 x\\n1 : 음주 o\\n'"
      ]
     },
     "execution_count": 30,
     "metadata": {},
     "output_type": "execute_result"
    }
   ],
   "source": [
    "df['음주여부'].unique()\n",
    "\n",
    "'''\n",
    "0 : 음주 x\n",
    "1 : 음주 o\n",
    "'''"
   ]
  },
  {
   "cell_type": "code",
   "execution_count": 31,
   "metadata": {},
   "outputs": [
    {
     "data": {
      "text/plain": [
       "'\\n1 : 남자\\n2 : 여자\\n'"
      ]
     },
     "execution_count": 31,
     "metadata": {},
     "output_type": "execute_result"
    }
   ],
   "source": [
    "df['성별코드'].unique()\n",
    "\n",
    "'''\n",
    "1 : 남자\n",
    "2 : 여자\n",
    "'''"
   ]
  },
  {
   "cell_type": "code",
   "execution_count": 32,
   "metadata": {},
   "outputs": [
    {
     "data": {
      "text/plain": [
       "Index(['치석', '치아우식증유무', '흡연상태', '구강검진 수검여부'], dtype='object')"
      ]
     },
     "execution_count": 32,
     "metadata": {},
     "output_type": "execute_result"
    }
   ],
   "source": [
    "smoke.columns"
   ]
  },
  {
   "cell_type": "code",
   "execution_count": 33,
   "metadata": {},
   "outputs": [
    {
     "data": {
      "text/plain": [
       "'\\n0 : 없음\\n1 : 있음\\n'"
      ]
     },
     "execution_count": 33,
     "metadata": {},
     "output_type": "execute_result"
    }
   ],
   "source": [
    "smoke['치아우식증유무'].unique()\n",
    "\n",
    "'''\n",
    "0 : 없음\n",
    "1 : 있음\n",
    "'''"
   ]
  },
  {
   "cell_type": "code",
   "execution_count": 34,
   "metadata": {},
   "outputs": [
    {
     "data": {
      "text/plain": [
       "'\\n0 : 없음\\n1 : 있음\\n'"
      ]
     },
     "execution_count": 34,
     "metadata": {},
     "output_type": "execute_result"
    }
   ],
   "source": [
    "smoke['치석'].unique()\n",
    "\n",
    "'''\n",
    "0 : 없음\n",
    "1 : 있음\n",
    "'''"
   ]
  },
  {
   "cell_type": "code",
   "execution_count": 35,
   "metadata": {},
   "outputs": [
    {
     "data": {
      "text/plain": [
       "array([0, 1], dtype=int64)"
      ]
     },
     "execution_count": 35,
     "metadata": {},
     "output_type": "execute_result"
    }
   ],
   "source": [
    "df['구강검진 수검여부'].unique()"
   ]
  },
  {
   "cell_type": "code",
   "execution_count": 36,
   "metadata": {},
   "outputs": [
    {
     "data": {
      "text/html": [
       "<div>\n",
       "<style scoped>\n",
       "    .dataframe tbody tr th:only-of-type {\n",
       "        vertical-align: middle;\n",
       "    }\n",
       "\n",
       "    .dataframe tbody tr th {\n",
       "        vertical-align: top;\n",
       "    }\n",
       "\n",
       "    .dataframe thead th {\n",
       "        text-align: right;\n",
       "    }\n",
       "</style>\n",
       "<table border=\"1\" class=\"dataframe\">\n",
       "  <thead>\n",
       "    <tr style=\"text-align: right;\">\n",
       "      <th></th>\n",
       "      <th>치석</th>\n",
       "      <th>치아우식증유무</th>\n",
       "      <th>흡연상태</th>\n",
       "      <th>구강검진 수검여부</th>\n",
       "    </tr>\n",
       "  </thead>\n",
       "  <tbody>\n",
       "    <tr>\n",
       "      <th>3</th>\n",
       "      <td>0</td>\n",
       "      <td>0</td>\n",
       "      <td>1</td>\n",
       "      <td>1</td>\n",
       "    </tr>\n",
       "    <tr>\n",
       "      <th>6</th>\n",
       "      <td>1</td>\n",
       "      <td>0</td>\n",
       "      <td>3</td>\n",
       "      <td>1</td>\n",
       "    </tr>\n",
       "    <tr>\n",
       "      <th>7</th>\n",
       "      <td>2</td>\n",
       "      <td>0</td>\n",
       "      <td>3</td>\n",
       "      <td>1</td>\n",
       "    </tr>\n",
       "    <tr>\n",
       "      <th>12</th>\n",
       "      <td>0</td>\n",
       "      <td>0</td>\n",
       "      <td>3</td>\n",
       "      <td>1</td>\n",
       "    </tr>\n",
       "    <tr>\n",
       "      <th>16</th>\n",
       "      <td>1</td>\n",
       "      <td>0</td>\n",
       "      <td>1</td>\n",
       "      <td>1</td>\n",
       "    </tr>\n",
       "  </tbody>\n",
       "</table>\n",
       "</div>"
      ],
      "text/plain": [
       "    치석  치아우식증유무  흡연상태  구강검진 수검여부\n",
       "3    0        0     1          1\n",
       "6    1        0     3          1\n",
       "7    2        0     3          1\n",
       "12   0        0     3          1\n",
       "16   1        0     1          1"
      ]
     },
     "execution_count": 36,
     "metadata": {},
     "output_type": "execute_result"
    }
   ],
   "source": [
    "smoke.head()"
   ]
  },
  {
   "cell_type": "code",
   "execution_count": 37,
   "metadata": {},
   "outputs": [
    {
     "data": {
      "text/plain": [
       "치석           0\n",
       "치아우식증유무      0\n",
       "흡연상태         0\n",
       "구강검진 수검여부    0\n",
       "dtype: int64"
      ]
     },
     "execution_count": 37,
     "metadata": {},
     "output_type": "execute_result"
    }
   ],
   "source": [
    "smoke.isnull().sum()"
   ]
  },
  {
   "cell_type": "code",
   "execution_count": null,
   "metadata": {},
   "outputs": [],
   "source": []
  },
  {
   "cell_type": "code",
   "execution_count": null,
   "metadata": {},
   "outputs": [],
   "source": []
  },
  {
   "cell_type": "code",
   "execution_count": null,
   "metadata": {},
   "outputs": [],
   "source": []
  },
  {
   "cell_type": "markdown",
   "metadata": {},
   "source": [
    "###########################################################################"
   ]
  },
  {
   "cell_type": "markdown",
   "metadata": {},
   "source": [
    "### 데이터 분석"
   ]
  },
  {
   "cell_type": "code",
   "execution_count": 38,
   "metadata": {},
   "outputs": [],
   "source": [
    "import pandas as pd\n",
    "import numpy as np\n",
    "import seaborn as sns\n",
    "import matplotlib.pyplot as plt\n",
    "%matplotlib inline"
   ]
  },
  {
   "cell_type": "code",
   "execution_count": 39,
   "metadata": {},
   "outputs": [],
   "source": [
    "import platform\n",
    "\n",
    "from matplotlib import font_manager, rc\n",
    "plt.rcParams['axes.unicode_minus'] = False\n",
    "\n",
    "if platform.system() == 'Darwin':\n",
    "    rc('font', family='AppleGothic')\n",
    "elif platform.system() == 'Windows':\n",
    "    path = \"c:/Windows/Fonts/malgun.ttf\"\n",
    "    font_name = font_manager.FontProperties(fname=path).get_name()\n",
    "    rc('font', family=font_name)\n",
    "else:\n",
    "    print('Unknown system... sorry~~~~')"
   ]
  },
  {
   "cell_type": "markdown",
   "metadata": {},
   "source": [
    "### 성별여부"
   ]
  },
  {
   "cell_type": "code",
   "execution_count": 40,
   "metadata": {},
   "outputs": [
    {
     "data": {
      "text/plain": [
       "(987219, 24)"
      ]
     },
     "execution_count": 40,
     "metadata": {},
     "output_type": "execute_result"
    }
   ],
   "source": [
    "data = df.copy()\n",
    "data.shape"
   ]
  },
  {
   "cell_type": "code",
   "execution_count": 41,
   "metadata": {},
   "outputs": [
    {
     "data": {
      "text/plain": [
       "Index(['성별코드', '연령대 코드(5세단위)', '신장(5Cm단위)', '체중(5Kg 단위)', '허리둘레', '수축기 혈압',\n",
       "       '이완기 혈압', '식전혈당(공복혈당)', '혈색소', '요단백', '혈청크레아티닌', '(혈청지오티)AST',\n",
       "       '(혈청지오티)ALT', '감마 지티피', '흡연상태', '음주여부', '구강검진 수검여부', '시도명', '복부비만',\n",
       "       '비만', '빈혈', '당뇨', '혈압', '간 기능 이상'],\n",
       "      dtype='object')"
      ]
     },
     "execution_count": 41,
     "metadata": {},
     "output_type": "execute_result"
    }
   ],
   "source": [
    "data.columns"
   ]
  },
  {
   "cell_type": "code",
   "execution_count": 42,
   "metadata": {},
   "outputs": [
    {
     "data": {
      "text/plain": [
       "1    505719\n",
       "2    481500\n",
       "Name: 성별코드, dtype: int64"
      ]
     },
     "execution_count": 42,
     "metadata": {},
     "output_type": "execute_result"
    }
   ],
   "source": [
    "data['성별코드'].value_counts()"
   ]
  },
  {
   "cell_type": "code",
   "execution_count": 47,
   "metadata": {},
   "outputs": [
    {
     "data": {
      "text/plain": [
       "남    505719\n",
       "여    481500\n",
       "Name: 성별코드, dtype: int64"
      ]
     },
     "execution_count": 47,
     "metadata": {},
     "output_type": "execute_result"
    }
   ],
   "source": [
    "data.replace({'성별코드':1},'남',inplace = True)\n",
    "data.replace({'성별코드':2},'여',inplace = True)\n",
    "data['성별코드'].value_counts()"
   ]
  },
  {
   "cell_type": "code",
   "execution_count": 48,
   "metadata": {},
   "outputs": [
    {
     "data": {
      "text/plain": [
       "남    505719\n",
       "여    481500\n",
       "Name: 성별코드, dtype: int64"
      ]
     },
     "execution_count": 48,
     "metadata": {},
     "output_type": "execute_result"
    }
   ],
   "source": [
    "data['성별코드'].value_counts()"
   ]
  },
  {
   "cell_type": "code",
   "execution_count": 49,
   "metadata": {},
   "outputs": [
    {
     "data": {
      "text/plain": [
       "505719"
      ]
     },
     "execution_count": 49,
     "metadata": {},
     "output_type": "execute_result"
    }
   ],
   "source": [
    "len(data.loc[data['성별코드']=='남'])"
   ]
  },
  {
   "cell_type": "code",
   "execution_count": 50,
   "metadata": {},
   "outputs": [
    {
     "name": "stdout",
     "output_type": "stream",
     "text": [
      "남성비율 : 51.23\n",
      "여성비율 : 48.77\n"
     ]
    }
   ],
   "source": [
    "print(\"남성비율 :\",round(len(data.loc[data['성별코드']=='남'])/len(data)*100,2))\n",
    "print(\"여성비율 :\",round(len(data.loc[data['성별코드']=='여'])/len(data)*100,2))"
   ]
  },
  {
   "cell_type": "code",
   "execution_count": 51,
   "metadata": {},
   "outputs": [
    {
     "data": {
      "text/html": [
       "<div>\n",
       "<style scoped>\n",
       "    .dataframe tbody tr th:only-of-type {\n",
       "        vertical-align: middle;\n",
       "    }\n",
       "\n",
       "    .dataframe tbody tr th {\n",
       "        vertical-align: top;\n",
       "    }\n",
       "\n",
       "    .dataframe thead th {\n",
       "        text-align: right;\n",
       "    }\n",
       "</style>\n",
       "<table border=\"1\" class=\"dataframe\">\n",
       "  <thead>\n",
       "    <tr style=\"text-align: right;\">\n",
       "      <th></th>\n",
       "      <th></th>\n",
       "      <th>빈혈</th>\n",
       "    </tr>\n",
       "    <tr>\n",
       "      <th>성별코드</th>\n",
       "      <th>연령대 코드(5세단위)</th>\n",
       "      <th></th>\n",
       "    </tr>\n",
       "  </thead>\n",
       "  <tbody>\n",
       "    <tr>\n",
       "      <th rowspan=\"3\" valign=\"top\">남</th>\n",
       "      <th>9</th>\n",
       "      <td>88223</td>\n",
       "    </tr>\n",
       "    <tr>\n",
       "      <th>10</th>\n",
       "      <td>79057</td>\n",
       "    </tr>\n",
       "    <tr>\n",
       "      <th>11</th>\n",
       "      <td>88921</td>\n",
       "    </tr>\n",
       "  </tbody>\n",
       "</table>\n",
       "</div>"
      ],
      "text/plain": [
       "                      빈혈\n",
       "성별코드 연령대 코드(5세단위)       \n",
       "남    9             88223\n",
       "     10            79057\n",
       "     11            88921"
      ]
     },
     "execution_count": 51,
     "metadata": {},
     "output_type": "execute_result"
    }
   ],
   "source": [
    "data.pivot_table(index = ['성별코드','연령대 코드(5세단위)'], values = '빈혈', aggfunc = 'count').head(3)"
   ]
  },
  {
   "cell_type": "code",
   "execution_count": 52,
   "metadata": {},
   "outputs": [
    {
     "data": {
      "text/html": [
       "<div>\n",
       "<style scoped>\n",
       "    .dataframe tbody tr th:only-of-type {\n",
       "        vertical-align: middle;\n",
       "    }\n",
       "\n",
       "    .dataframe tbody tr th {\n",
       "        vertical-align: top;\n",
       "    }\n",
       "\n",
       "    .dataframe thead th {\n",
       "        text-align: right;\n",
       "    }\n",
       "</style>\n",
       "<table border=\"1\" class=\"dataframe\">\n",
       "  <thead>\n",
       "    <tr style=\"text-align: right;\">\n",
       "      <th>비만</th>\n",
       "      <th>과체중</th>\n",
       "      <th>비만</th>\n",
       "      <th>저체중</th>\n",
       "      <th>정상</th>\n",
       "    </tr>\n",
       "    <tr>\n",
       "      <th>성별코드</th>\n",
       "      <th></th>\n",
       "      <th></th>\n",
       "      <th></th>\n",
       "      <th></th>\n",
       "    </tr>\n",
       "  </thead>\n",
       "  <tbody>\n",
       "    <tr>\n",
       "      <th>남</th>\n",
       "      <td>200994</td>\n",
       "      <td>27523</td>\n",
       "      <td>11170</td>\n",
       "      <td>266032</td>\n",
       "    </tr>\n",
       "    <tr>\n",
       "      <th>여</th>\n",
       "      <td>109140</td>\n",
       "      <td>24800</td>\n",
       "      <td>23196</td>\n",
       "      <td>324364</td>\n",
       "    </tr>\n",
       "  </tbody>\n",
       "</table>\n",
       "</div>"
      ],
      "text/plain": [
       "비만       과체중     비만    저체중      정상\n",
       "성별코드                              \n",
       "남     200994  27523  11170  266032\n",
       "여     109140  24800  23196  324364"
      ]
     },
     "execution_count": 52,
     "metadata": {},
     "output_type": "execute_result"
    }
   ],
   "source": [
    "비만표 = data.pivot_table(index = '성별코드',columns = ['비만'], values = '요단백', aggfunc = 'count')\n",
    "비만표"
   ]
  },
  {
   "cell_type": "code",
   "execution_count": 53,
   "metadata": {},
   "outputs": [
    {
     "data": {
      "text/plain": [
       "<AxesSubplot:xlabel='성별코드'>"
      ]
     },
     "execution_count": 53,
     "metadata": {},
     "output_type": "execute_result"
    },
    {
     "data": {
      "image/png": "[encoded data removed]",
      "text/plain": [
       "<Figure size 432x288 with 1 Axes>"
      ]
     },
     "metadata": {
      "needs_background": "light"
     },
     "output_type": "display_data"
    }
   ],
   "source": [
    "data.pivot_table(index = '성별코드',columns = ['비만'], \n",
    "                 values = '요단백', aggfunc = 'count').plot(kind = 'bar')"
   ]
  },
  {
   "cell_type": "code",
   "execution_count": 100,
   "metadata": {},
   "outputs": [],
   "source": [
    "# def x_prop(group): \n",
    "#     group['prop'] = group.x / group.x.sum() \n",
    "#     return group \n",
    "# 비만표 = 비만표.apply(x_prop)\n",
    "# 비만표"
   ]
  },
  {
   "cell_type": "code",
   "execution_count": 101,
   "metadata": {},
   "outputs": [],
   "source": [
    "# colors = sns.color_palette('pastel')\n",
    "# plt.pie(비만표,labels=비만표.columns)\n",
    "# plt.show()"
   ]
  },
  {
   "cell_type": "code",
   "execution_count": 54,
   "metadata": {},
   "outputs": [
    {
     "data": {
      "text/html": [
       "<div>\n",
       "<style scoped>\n",
       "    .dataframe tbody tr th:only-of-type {\n",
       "        vertical-align: middle;\n",
       "    }\n",
       "\n",
       "    .dataframe tbody tr th {\n",
       "        vertical-align: top;\n",
       "    }\n",
       "\n",
       "    .dataframe thead th {\n",
       "        text-align: right;\n",
       "    }\n",
       "</style>\n",
       "<table border=\"1\" class=\"dataframe\">\n",
       "  <thead>\n",
       "    <tr style=\"text-align: right;\">\n",
       "      <th>복부비만</th>\n",
       "      <th>비해당</th>\n",
       "      <th>해당</th>\n",
       "    </tr>\n",
       "    <tr>\n",
       "      <th>성별코드</th>\n",
       "      <th></th>\n",
       "      <th></th>\n",
       "    </tr>\n",
       "  </thead>\n",
       "  <tbody>\n",
       "    <tr>\n",
       "      <th>남</th>\n",
       "      <td>345401</td>\n",
       "      <td>160318</td>\n",
       "    </tr>\n",
       "    <tr>\n",
       "      <th>여</th>\n",
       "      <td>369667</td>\n",
       "      <td>111833</td>\n",
       "    </tr>\n",
       "  </tbody>\n",
       "</table>\n",
       "</div>"
      ],
      "text/plain": [
       "복부비만     비해당      해당\n",
       "성별코드                \n",
       "남     345401  160318\n",
       "여     369667  111833"
      ]
     },
     "execution_count": 54,
     "metadata": {},
     "output_type": "execute_result"
    }
   ],
   "source": [
    "data.pivot_table(index = '성별코드',columns = ['복부비만'], \n",
    "                 values = '요단백', aggfunc = 'count')"
   ]
  },
  {
   "cell_type": "code",
   "execution_count": 55,
   "metadata": {},
   "outputs": [
    {
     "data": {
      "image/png": "[encoded data removed]",
      "text/plain": [
       "<Figure size 432x288 with 1 Axes>"
      ]
     },
     "metadata": {
      "needs_background": "light"
     },
     "output_type": "display_data"
    }
   ],
   "source": [
    "data.pivot_table(index = '성별코드',columns = ['빈혈'], \n",
    "                 values = '요단백', aggfunc = 'count').plot(kind = 'bar')\n",
    "plt.show()"
   ]
  },
  {
   "cell_type": "code",
   "execution_count": 56,
   "metadata": {},
   "outputs": [
    {
     "data": {
      "text/plain": [
       "<AxesSubplot:xlabel='성별코드'>"
      ]
     },
     "execution_count": 56,
     "metadata": {},
     "output_type": "execute_result"
    },
    {
     "data": {
      "image/png": "[encoded data removed]",
      "text/plain": [
       "<Figure size 432x288 with 1 Axes>"
      ]
     },
     "metadata": {
      "needs_background": "light"
     },
     "output_type": "display_data"
    }
   ],
   "source": [
    "data.pivot_table(index = '성별코드',columns = ['당뇨'], \n",
    "                 values = '요단백', aggfunc = 'count').plot(kind = 'bar')"
   ]
  },
  {
   "cell_type": "code",
   "execution_count": 57,
   "metadata": {},
   "outputs": [
    {
     "data": {
      "text/plain": [
       "<AxesSubplot:xlabel='성별코드'>"
      ]
     },
     "execution_count": 57,
     "metadata": {},
     "output_type": "execute_result"
    },
    {
     "data": {
      "image/png": "[encoded data removed]",
      "text/plain": [
       "<Figure size 432x288 with 1 Axes>"
      ]
     },
     "metadata": {
      "needs_background": "light"
     },
     "output_type": "display_data"
    }
   ],
   "source": [
    "data.pivot_table(index = '성별코드',columns = ['혈압'], \n",
    "                 values = '요단백', aggfunc = 'count').plot(kind = 'bar')"
   ]
  },
  {
   "cell_type": "code",
   "execution_count": 58,
   "metadata": {},
   "outputs": [
    {
     "data": {
      "image/png": "[encoded data removed]",
      "text/plain": [
       "<Figure size 432x288 with 1 Axes>"
      ]
     },
     "metadata": {
      "needs_background": "light"
     },
     "output_type": "display_data"
    }
   ],
   "source": [
    "data.pivot_table(index = '성별코드',columns = ['간 기능 이상'], \n",
    "                 values = '요단백', aggfunc = 'count').plot(kind = 'bar')\n",
    "plt.show()"
   ]
  },
  {
   "cell_type": "code",
   "execution_count": 59,
   "metadata": {},
   "outputs": [
    {
     "data": {
      "text/plain": [
       "50세-54세    175077\n",
       "40세-44세    155340\n",
       "60세-64세    154476\n",
       "45세-49세    143414\n",
       "55세-59세    141671\n",
       "65세-69세     84358\n",
       "70세-74세     70797\n",
       "75세-79세     34742\n",
       "80세-84세     21798\n",
       "85세이상        5546\n",
       "Name: 연령대 코드(5세단위), dtype: int64"
      ]
     },
     "execution_count": 59,
     "metadata": {},
     "output_type": "execute_result"
    }
   ],
   "source": [
    "data.replace({'연령대 코드(5세단위)':9},'40세-44세',inplace = True)\n",
    "data.replace({'연령대 코드(5세단위)':10},'45세-49세',inplace = True)\n",
    "data.replace({'연령대 코드(5세단위)':11},'50세-54세',inplace = True)\n",
    "data.replace({'연령대 코드(5세단위)':12},'55세-59세',inplace = True)\n",
    "data.replace({'연령대 코드(5세단위)':13},'60세-64세',inplace = True)\n",
    "data.replace({'연령대 코드(5세단위)':14},'65세-69세',inplace = True)\n",
    "data.replace({'연령대 코드(5세단위)':15},'70세-74세',inplace = True)\n",
    "data.replace({'연령대 코드(5세단위)':16},'75세-79세',inplace = True)\n",
    "data.replace({'연령대 코드(5세단위)':17},'80세-84세',inplace = True)\n",
    "data.replace({'연령대 코드(5세단위)':18},'85세이상',inplace = True)\n",
    "data['연령대 코드(5세단위)'].value_counts()"
   ]
  },
  {
   "cell_type": "code",
   "execution_count": 60,
   "metadata": {},
   "outputs": [
    {
     "data": {
      "image/png": "[encoded data removed]",
      "text/plain": [
       "<Figure size 1080x576 with 1 Axes>"
      ]
     },
     "metadata": {
      "needs_background": "light"
     },
     "output_type": "display_data"
    }
   ],
   "source": [
    "data.pivot_table(index = '성별코드',columns = ['연령대 코드(5세단위)'], \n",
    "                 values = '요단백', aggfunc = 'count').plot(kind = 'bar',figsize = (15,8))\n",
    "plt.show()"
   ]
  },
  {
   "cell_type": "code",
   "execution_count": 61,
   "metadata": {},
   "outputs": [
    {
     "data": {
      "text/plain": [
       "연령대 코드(5세단위)\n",
       "40세-44세    155340\n",
       "45세-49세    143414\n",
       "50세-54세    175077\n",
       "55세-59세    141671\n",
       "60세-64세    154476\n",
       "65세-69세     84358\n",
       "70세-74세     70797\n",
       "75세-79세     34742\n",
       "80세-84세     21798\n",
       "85세이상        5546\n",
       "Name: 요단백, dtype: int64"
      ]
     },
     "execution_count": 61,
     "metadata": {},
     "output_type": "execute_result"
    }
   ],
   "source": [
    "var = data.groupby(['연령대 코드(5세단위)','성별코드'])['요단백'].count()\n",
    "var\n",
    "all = data.groupby(['연령대 코드(5세단위)'])['요단백'].count()\n",
    "all"
   ]
  },
  {
   "cell_type": "code",
   "execution_count": 62,
   "metadata": {},
   "outputs": [
    {
     "data": {
      "text/plain": [
       "연령대 코드(5세단위)  성별코드\n",
       "40세-44세       남       56.793485\n",
       "              여       43.206515\n",
       "45세-49세       남       55.125023\n",
       "              여       44.874977\n",
       "50세-54세       남       50.789653\n",
       "              여       49.210347\n",
       "55세-59세       남       50.315167\n",
       "              여       49.684833\n",
       "60세-64세       남       48.044356\n",
       "              여       51.955644\n",
       "65세-69세       남       49.086038\n",
       "              여       50.913962\n",
       "70세-74세       남       48.345269\n",
       "              여       51.654731\n",
       "75세-79세       남       47.029532\n",
       "              여       52.970468\n",
       "80세-84세       남       45.361960\n",
       "              여       54.638040\n",
       "85세이상         남       38.892896\n",
       "              여       61.107104\n",
       "Name: 요단백, dtype: float64"
      ]
     },
     "execution_count": 62,
     "metadata": {},
     "output_type": "execute_result"
    }
   ],
   "source": [
    "result = var/all*100\n",
    "result"
   ]
  },
  {
   "cell_type": "code",
   "execution_count": 63,
   "metadata": {},
   "outputs": [
    {
     "data": {
      "text/html": [
       "<div>\n",
       "<style scoped>\n",
       "    .dataframe tbody tr th:only-of-type {\n",
       "        vertical-align: middle;\n",
       "    }\n",
       "\n",
       "    .dataframe tbody tr th {\n",
       "        vertical-align: top;\n",
       "    }\n",
       "\n",
       "    .dataframe thead th {\n",
       "        text-align: right;\n",
       "    }\n",
       "</style>\n",
       "<table border=\"1\" class=\"dataframe\">\n",
       "  <thead>\n",
       "    <tr style=\"text-align: right;\">\n",
       "      <th>성별코드</th>\n",
       "      <th>남</th>\n",
       "      <th>여</th>\n",
       "    </tr>\n",
       "    <tr>\n",
       "      <th>연령대 코드(5세단위)</th>\n",
       "      <th></th>\n",
       "      <th></th>\n",
       "    </tr>\n",
       "  </thead>\n",
       "  <tbody>\n",
       "    <tr>\n",
       "      <th>40세-44세</th>\n",
       "      <td>56.793485</td>\n",
       "      <td>43.206515</td>\n",
       "    </tr>\n",
       "    <tr>\n",
       "      <th>45세-49세</th>\n",
       "      <td>55.125023</td>\n",
       "      <td>44.874977</td>\n",
       "    </tr>\n",
       "    <tr>\n",
       "      <th>50세-54세</th>\n",
       "      <td>50.789653</td>\n",
       "      <td>49.210347</td>\n",
       "    </tr>\n",
       "    <tr>\n",
       "      <th>55세-59세</th>\n",
       "      <td>50.315167</td>\n",
       "      <td>49.684833</td>\n",
       "    </tr>\n",
       "    <tr>\n",
       "      <th>60세-64세</th>\n",
       "      <td>48.044356</td>\n",
       "      <td>51.955644</td>\n",
       "    </tr>\n",
       "    <tr>\n",
       "      <th>65세-69세</th>\n",
       "      <td>49.086038</td>\n",
       "      <td>50.913962</td>\n",
       "    </tr>\n",
       "    <tr>\n",
       "      <th>70세-74세</th>\n",
       "      <td>48.345269</td>\n",
       "      <td>51.654731</td>\n",
       "    </tr>\n",
       "    <tr>\n",
       "      <th>75세-79세</th>\n",
       "      <td>47.029532</td>\n",
       "      <td>52.970468</td>\n",
       "    </tr>\n",
       "    <tr>\n",
       "      <th>80세-84세</th>\n",
       "      <td>45.361960</td>\n",
       "      <td>54.638040</td>\n",
       "    </tr>\n",
       "    <tr>\n",
       "      <th>85세이상</th>\n",
       "      <td>38.892896</td>\n",
       "      <td>61.107104</td>\n",
       "    </tr>\n",
       "  </tbody>\n",
       "</table>\n",
       "</div>"
      ],
      "text/plain": [
       "성별코드                  남          여\n",
       "연령대 코드(5세단위)                      \n",
       "40세-44세       56.793485  43.206515\n",
       "45세-49세       55.125023  44.874977\n",
       "50세-54세       50.789653  49.210347\n",
       "55세-59세       50.315167  49.684833\n",
       "60세-64세       48.044356  51.955644\n",
       "65세-69세       49.086038  50.913962\n",
       "70세-74세       48.345269  51.654731\n",
       "75세-79세       47.029532  52.970468\n",
       "80세-84세       45.361960  54.638040\n",
       "85세이상         38.892896  61.107104"
      ]
     },
     "execution_count": 63,
     "metadata": {},
     "output_type": "execute_result"
    }
   ],
   "source": [
    "result.unstack()#.transpose()"
   ]
  },
  {
   "cell_type": "markdown",
   "metadata": {},
   "source": [
    "### 연령대별 성별 비율"
   ]
  },
  {
   "cell_type": "code",
   "execution_count": 178,
   "metadata": {},
   "outputs": [
    {
     "data": {
      "image/png": "[encoded data removed]",
      "text/plain": [
       "<Figure size 1080x576 with 1 Axes>"
      ]
     },
     "metadata": {
      "needs_background": "light"
     },
     "output_type": "display_data"
    }
   ],
   "source": [
    "result.unstack().plot(kind = 'barh', stacked = True, fontsize = 18,figsize = (15,8), alpha = 0.7,color = ['dodgerblue','#e35f62'])\n",
    "plt.ylabel(\"연령대 (5세단위)\",fontsize = 15)\n",
    "plt.xlabel(\"비율(100%)\",fontsize = 15)\n",
    "plt.title(\"남여 연령대별 비율 현황\",fontsize = 25)\n",
    "plt.rc('legend', fontsize=16)\n",
    "plt.show()"
   ]
  },
  {
   "cell_type": "markdown",
   "metadata": {},
   "source": [
    "## 성별 비율별 질병 알아보기"
   ]
  },
  {
   "cell_type": "markdown",
   "metadata": {},
   "source": [
    "### 남여 비만 비율"
   ]
  },
  {
   "cell_type": "code",
   "execution_count": 65,
   "metadata": {},
   "outputs": [],
   "source": [
    "#비만\n",
    "var1 = data.groupby(['성별코드','비만'])['요단백'].count()\n",
    "all1 = data.groupby(['성별코드'])['요단백'].count()"
   ]
  },
  {
   "cell_type": "code",
   "execution_count": 175,
   "metadata": {},
   "outputs": [
    {
     "data": {
      "text/html": [
       "<div>\n",
       "<style scoped>\n",
       "    .dataframe tbody tr th:only-of-type {\n",
       "        vertical-align: middle;\n",
       "    }\n",
       "\n",
       "    .dataframe tbody tr th {\n",
       "        vertical-align: top;\n",
       "    }\n",
       "\n",
       "    .dataframe thead th {\n",
       "        text-align: right;\n",
       "    }\n",
       "</style>\n",
       "<table border=\"1\" class=\"dataframe\">\n",
       "  <thead>\n",
       "    <tr style=\"text-align: right;\">\n",
       "      <th>비만</th>\n",
       "      <th>과체중</th>\n",
       "      <th>비만</th>\n",
       "      <th>저체중</th>\n",
       "      <th>정상</th>\n",
       "    </tr>\n",
       "    <tr>\n",
       "      <th>성별코드</th>\n",
       "      <th></th>\n",
       "      <th></th>\n",
       "      <th></th>\n",
       "      <th></th>\n",
       "    </tr>\n",
       "  </thead>\n",
       "  <tbody>\n",
       "    <tr>\n",
       "      <th>남</th>\n",
       "      <td>39.744206</td>\n",
       "      <td>5.442350</td>\n",
       "      <td>2.208736</td>\n",
       "      <td>52.604707</td>\n",
       "    </tr>\n",
       "    <tr>\n",
       "      <th>여</th>\n",
       "      <td>22.666667</td>\n",
       "      <td>5.150571</td>\n",
       "      <td>4.817445</td>\n",
       "      <td>67.365317</td>\n",
       "    </tr>\n",
       "  </tbody>\n",
       "</table>\n",
       "</div>"
      ],
      "text/plain": [
       "비만          과체중        비만       저체중         정상\n",
       "성별코드                                          \n",
       "남     39.744206  5.442350  2.208736  52.604707\n",
       "여     22.666667  5.150571  4.817445  67.365317"
      ]
     },
     "execution_count": 175,
     "metadata": {},
     "output_type": "execute_result"
    }
   ],
   "source": [
    "result1 = var1/all1*100\n",
    "#result1 #= result1.unstack()#.T\n",
    "result1.unstack()"
   ]
  },
  {
   "cell_type": "code",
   "execution_count": 182,
   "metadata": {},
   "outputs": [
    {
     "data": {
      "image/png": "[encoded data removed]",
      "text/plain": [
       "<Figure size 1080x576 with 1 Axes>"
      ]
     },
     "metadata": {
      "needs_background": "light"
     },
     "output_type": "display_data"
    }
   ],
   "source": [
    "result1.unstack().plot(kind = 'barh', stacked = True,fontsize = 18,figsize = (15,8), alpha = 0.7,color = ['#ff7f0e','#d62728','#2ca02c','#17becf'])\n",
    "plt.title('남 / 여 비만 비율 현황',fontsize = 25)\n",
    "plt.ylabel(\"성별\",fontsize = 15)\n",
    "plt.xlabel(\"비율(100%)\",fontsize = 15)\n",
    "plt.rc('legend', fontsize=16)\n",
    "plt.show()"
   ]
  },
  {
   "cell_type": "code",
   "execution_count": 107,
   "metadata": {},
   "outputs": [
    {
     "data": {
      "image/png": "[encoded data removed]",
      "text/plain": [
       "<Figure size 1080x576 with 1 Axes>"
      ]
     },
     "metadata": {
      "needs_background": "light"
     },
     "output_type": "display_data"
    }
   ],
   "source": [
    "# plt.figure(figsize = (15,8))\n",
    "# sns.barplot(data = data, x = '성별코드', y = '요단백', hue = '비만', estimator= len , alpha = 0.8)\n",
    "# plt.title('거래년도별 시군구별 거래금액 평균 그래프')\n",
    "# plt.show()"
   ]
  },
  {
   "cell_type": "code",
   "execution_count": null,
   "metadata": {},
   "outputs": [],
   "source": [
    "df = pd.DataFrame({\"Price\": [7,1,5,6,3,10,5,8],\n",
    "                    \"Product\": ['C1','C2','C1','C2','C1','C2','C1','C2'],\n",
    "              a    \"Day\": [1,1,2,2,3,3,4,4]})\n",
    "\n",
    "s = sns.barplot(x =\"Day\", y = 'Price', data = df, hue = \"Product\")"
   ]
  },
  {
   "cell_type": "markdown",
   "metadata": {},
   "source": [
    "### 남여 복부비만 비율"
   ]
  },
  {
   "cell_type": "code",
   "execution_count": 68,
   "metadata": {},
   "outputs": [
    {
     "data": {
      "text/html": [
       "<div>\n",
       "<style scoped>\n",
       "    .dataframe tbody tr th:only-of-type {\n",
       "        vertical-align: middle;\n",
       "    }\n",
       "\n",
       "    .dataframe tbody tr th {\n",
       "        vertical-align: top;\n",
       "    }\n",
       "\n",
       "    .dataframe thead th {\n",
       "        text-align: right;\n",
       "    }\n",
       "</style>\n",
       "<table border=\"1\" class=\"dataframe\">\n",
       "  <thead>\n",
       "    <tr style=\"text-align: right;\">\n",
       "      <th>복부비만</th>\n",
       "      <th>비해당</th>\n",
       "      <th>해당</th>\n",
       "    </tr>\n",
       "    <tr>\n",
       "      <th>성별코드</th>\n",
       "      <th></th>\n",
       "      <th></th>\n",
       "    </tr>\n",
       "  </thead>\n",
       "  <tbody>\n",
       "    <tr>\n",
       "      <th>남</th>\n",
       "      <td>68.298996</td>\n",
       "      <td>31.701004</td>\n",
       "    </tr>\n",
       "    <tr>\n",
       "      <th>여</th>\n",
       "      <td>76.774039</td>\n",
       "      <td>23.225961</td>\n",
       "    </tr>\n",
       "  </tbody>\n",
       "</table>\n",
       "</div>"
      ],
      "text/plain": [
       "복부비만        비해당         해당\n",
       "성별코드                      \n",
       "남     68.298996  31.701004\n",
       "여     76.774039  23.225961"
      ]
     },
     "execution_count": 68,
     "metadata": {},
     "output_type": "execute_result"
    }
   ],
   "source": [
    "#복부비만\n",
    "var2 = data.groupby(['성별코드','복부비만'])['요단백'].count()\n",
    "all2 = data.groupby(['성별코드'])['요단백'].count()\n",
    "result2 = var2/all2*100\n",
    "result2.unstack()"
   ]
  },
  {
   "cell_type": "code",
   "execution_count": 181,
   "metadata": {},
   "outputs": [
    {
     "data": {
      "image/png": "[encoded data removed]",
      "text/plain": [
       "<Figure size 1080x576 with 1 Axes>"
      ]
     },
     "metadata": {
      "needs_background": "light"
     },
     "output_type": "display_data"
    }
   ],
   "source": [
    "result2.unstack().plot(kind = 'barh', stacked = True,fontsize = 18,figsize = (15,8), alpha = 0.7,color = ['#17becf','#d62728'])\n",
    "#plt.title('남 / 여 복부비만 비율 알아보기')\n",
    "plt.title('남 / 여 복부비만 비율 현황',fontsize = 25)\n",
    "plt.ylabel(\"성별\",fontsize = 15)\n",
    "plt.xlabel(\"비율(100%)\",fontsize = 15)\n",
    "plt.rc('legend', fontsize=16)\n",
    "plt.show()"
   ]
  },
  {
   "cell_type": "markdown",
   "metadata": {},
   "source": [
    "### 남여 빈혈 비율"
   ]
  },
  {
   "cell_type": "code",
   "execution_count": 70,
   "metadata": {},
   "outputs": [
    {
     "data": {
      "text/html": [
       "<div>\n",
       "<style scoped>\n",
       "    .dataframe tbody tr th:only-of-type {\n",
       "        vertical-align: middle;\n",
       "    }\n",
       "\n",
       "    .dataframe tbody tr th {\n",
       "        vertical-align: top;\n",
       "    }\n",
       "\n",
       "    .dataframe thead th {\n",
       "        text-align: right;\n",
       "    }\n",
       "</style>\n",
       "<table border=\"1\" class=\"dataframe\">\n",
       "  <thead>\n",
       "    <tr style=\"text-align: right;\">\n",
       "      <th>빈혈</th>\n",
       "      <th>비해당</th>\n",
       "      <th>해당</th>\n",
       "    </tr>\n",
       "    <tr>\n",
       "      <th>성별코드</th>\n",
       "      <th></th>\n",
       "      <th></th>\n",
       "    </tr>\n",
       "  </thead>\n",
       "  <tbody>\n",
       "    <tr>\n",
       "      <th>남</th>\n",
       "      <td>95.297784</td>\n",
       "      <td>4.702216</td>\n",
       "    </tr>\n",
       "    <tr>\n",
       "      <th>여</th>\n",
       "      <td>87.685358</td>\n",
       "      <td>12.314642</td>\n",
       "    </tr>\n",
       "  </tbody>\n",
       "</table>\n",
       "</div>"
      ],
      "text/plain": [
       "빈혈          비해당         해당\n",
       "성별코드                      \n",
       "남     95.297784   4.702216\n",
       "여     87.685358  12.314642"
      ]
     },
     "execution_count": 70,
     "metadata": {},
     "output_type": "execute_result"
    }
   ],
   "source": [
    "#빈혈\n",
    "var3 = data.groupby(['성별코드','빈혈'])['요단백'].count()\n",
    "all3 = data.groupby(['성별코드'])['요단백'].count()\n",
    "result3 = var3/all3*100\n",
    "result3.unstack()"
   ]
  },
  {
   "cell_type": "code",
   "execution_count": 184,
   "metadata": {},
   "outputs": [
    {
     "data": {
      "image/png": "[encoded data removed]",
      "text/plain": [
       "<Figure size 1080x576 with 1 Axes>"
      ]
     },
     "metadata": {
      "needs_background": "light"
     },
     "output_type": "display_data"
    }
   ],
   "source": [
    "result3.unstack().plot(kind = 'barh', stacked = True,fontsize = 18,figsize = (15,8), alpha = 0.7,color = ['#17becf','#d62728'])\n",
    "#plt.title('남 / 여 빈혈 비율 알아보기')\n",
    "plt.title('남 / 여 빈혈 비율 현황',fontsize = 25)\n",
    "plt.ylabel(\"성별\",fontsize = 15)\n",
    "plt.xlabel(\"비율(100%)\",fontsize = 15)\n",
    "plt.rc('legend', fontsize=16)\n",
    "plt.show()"
   ]
  },
  {
   "cell_type": "markdown",
   "metadata": {},
   "source": [
    "### 남여 당뇨 비율"
   ]
  },
  {
   "cell_type": "code",
   "execution_count": 72,
   "metadata": {},
   "outputs": [
    {
     "data": {
      "text/html": [
       "<div>\n",
       "<style scoped>\n",
       "    .dataframe tbody tr th:only-of-type {\n",
       "        vertical-align: middle;\n",
       "    }\n",
       "\n",
       "    .dataframe tbody tr th {\n",
       "        vertical-align: top;\n",
       "    }\n",
       "\n",
       "    .dataframe thead th {\n",
       "        text-align: right;\n",
       "    }\n",
       "</style>\n",
       "<table border=\"1\" class=\"dataframe\">\n",
       "  <thead>\n",
       "    <tr style=\"text-align: right;\">\n",
       "      <th>당뇨</th>\n",
       "      <th>정상</th>\n",
       "      <th>질환 위험</th>\n",
       "      <th>질환 의심</th>\n",
       "    </tr>\n",
       "    <tr>\n",
       "      <th>성별코드</th>\n",
       "      <th></th>\n",
       "      <th></th>\n",
       "      <th></th>\n",
       "    </tr>\n",
       "  </thead>\n",
       "  <tbody>\n",
       "    <tr>\n",
       "      <th>남</th>\n",
       "      <td>83.247416</td>\n",
       "      <td>3.366296</td>\n",
       "      <td>13.386288</td>\n",
       "    </tr>\n",
       "    <tr>\n",
       "      <th>여</th>\n",
       "      <td>90.154102</td>\n",
       "      <td>2.199792</td>\n",
       "      <td>7.646106</td>\n",
       "    </tr>\n",
       "  </tbody>\n",
       "</table>\n",
       "</div>"
      ],
      "text/plain": [
       "당뇨           정상     질환 위험      질환 의심\n",
       "성별코드                                \n",
       "남     83.247416  3.366296  13.386288\n",
       "여     90.154102  2.199792   7.646106"
      ]
     },
     "execution_count": 72,
     "metadata": {},
     "output_type": "execute_result"
    }
   ],
   "source": [
    "#당뇨\n",
    "var4 = data.groupby(['성별코드','당뇨'])['요단백'].count()\n",
    "all4 = data.groupby(['성별코드'])['요단백'].count()\n",
    "result4 = var4/all4*100\n",
    "result4.unstack()"
   ]
  },
  {
   "cell_type": "code",
   "execution_count": 186,
   "metadata": {},
   "outputs": [
    {
     "data": {
      "image/png": "[encoded data removed]",
      "text/plain": [
       "<Figure size 1080x576 with 1 Axes>"
      ]
     },
     "metadata": {
      "needs_background": "light"
     },
     "output_type": "display_data"
    }
   ],
   "source": [
    "result4.unstack().plot(kind = 'barh', stacked = True,fontsize = 18,figsize = (15,8),alpha = 0.7,color = ['#17becf','#d62728','#ff7f0e'])\n",
    "#plt.title('남 / 여 당뇨 비율 알아보기')\n",
    "plt.title('남 / 여 당뇨 비율 현황',fontsize = 25)\n",
    "plt.ylabel(\"성별\",fontsize = 15)\n",
    "plt.xlabel(\"비율(100%)\",fontsize = 15)\n",
    "plt.rc('legend', fontsize=16)\n",
    "plt.show()"
   ]
  },
  {
   "cell_type": "markdown",
   "metadata": {},
   "source": [
    "### 남여 혈압 비율"
   ]
  },
  {
   "cell_type": "code",
   "execution_count": 74,
   "metadata": {},
   "outputs": [
    {
     "data": {
      "text/html": [
       "<div>\n",
       "<style scoped>\n",
       "    .dataframe tbody tr th:only-of-type {\n",
       "        vertical-align: middle;\n",
       "    }\n",
       "\n",
       "    .dataframe tbody tr th {\n",
       "        vertical-align: top;\n",
       "    }\n",
       "\n",
       "    .dataframe thead th {\n",
       "        text-align: right;\n",
       "    }\n",
       "</style>\n",
       "<table border=\"1\" class=\"dataframe\">\n",
       "  <thead>\n",
       "    <tr style=\"text-align: right;\">\n",
       "      <th>혈압</th>\n",
       "      <th>고혈압</th>\n",
       "      <th>저혈압</th>\n",
       "      <th>정상</th>\n",
       "    </tr>\n",
       "    <tr>\n",
       "      <th>성별코드</th>\n",
       "      <th></th>\n",
       "      <th></th>\n",
       "      <th></th>\n",
       "    </tr>\n",
       "  </thead>\n",
       "  <tbody>\n",
       "    <tr>\n",
       "      <th>남</th>\n",
       "      <td>11.208992</td>\n",
       "      <td>4.981422</td>\n",
       "      <td>83.809586</td>\n",
       "    </tr>\n",
       "    <tr>\n",
       "      <th>여</th>\n",
       "      <td>9.063344</td>\n",
       "      <td>10.815576</td>\n",
       "      <td>80.121080</td>\n",
       "    </tr>\n",
       "  </tbody>\n",
       "</table>\n",
       "</div>"
      ],
      "text/plain": [
       "혈압          고혈압        저혈압         정상\n",
       "성별코드                                 \n",
       "남     11.208992   4.981422  83.809586\n",
       "여      9.063344  10.815576  80.121080"
      ]
     },
     "execution_count": 74,
     "metadata": {},
     "output_type": "execute_result"
    }
   ],
   "source": [
    "#혈압\n",
    "var5 = data.groupby(['성별코드','혈압'])['요단백'].count()\n",
    "all5 = data.groupby(['성별코드'])['요단백'].count()\n",
    "result5 = var5/all5*100\n",
    "result5.unstack()"
   ]
  },
  {
   "cell_type": "code",
   "execution_count": 114,
   "metadata": {},
   "outputs": [
    {
     "name": "stdout",
     "output_type": "stream",
     "text": [
      "Collecting colorspacious\n",
      "  Downloading colorspacious-1.1.2-py2.py3-none-any.whl (37 kB)\n",
      "Requirement already satisfied: numpy in c:\\anaconda3\\lib\\site-packages (from colorspacious) (1.20.3)\n",
      "Installing collected packages: colorspacious\n",
      "Successfully installed colorspacious-1.1.2\n"
     ]
    }
   ],
   "source": [
    "!pip install colorspacious"
   ]
  },
  {
   "cell_type": "code",
   "execution_count": 115,
   "metadata": {},
   "outputs": [],
   "source": [
    "import numpy as np\n",
    "import matplotlib as mpl\n",
    "import matplotlib.pyplot as plt\n",
    "from matplotlib import cm\n",
    "from colorspacious import cspace_converter"
   ]
  },
  {
   "cell_type": "code",
   "execution_count": 116,
   "metadata": {},
   "outputs": [],
   "source": [
    "cmaps = {}\n",
    "\n",
    "gradient = np.linspace(0, 1, 256)\n",
    "gradient = np.vstack((gradient, gradient))\n",
    "\n",
    "\n",
    "def plot_color_gradients(category, cmap_list):\n",
    "    # Create figure and adjust figure height to number of colormaps\n",
    "    nrows = len(cmap_list)\n",
    "    figh = 0.35 + 0.15 + (nrows + (nrows - 1) * 0.1) * 0.22\n",
    "    fig, axs = plt.subplots(nrows=nrows + 1, figsize=(6.4, figh))\n",
    "    fig.subplots_adjust(top=1 - 0.35 / figh, bottom=0.15 / figh,\n",
    "                        left=0.2, right=0.99)\n",
    "    axs[0].set_title(f'{category} colormaps', fontsize=14)\n",
    "\n",
    "    for ax, name in zip(axs, cmap_list):\n",
    "        ax.imshow(gradient, aspect='auto', cmap=plt.get_cmap(name))\n",
    "        ax.text(-0.01, 0.5, name, va='center', ha='right', fontsize=10,\n",
    "                transform=ax.transAxes)\n",
    "\n",
    "    # Turn off *all* ticks & spines, not just the ones with colormaps.\n",
    "    for ax in axs:\n",
    "        ax.set_axis_off()\n",
    "\n",
    "    # Save colormap list for later.\n",
    "    cmaps[category] = cmap_list"
   ]
  },
  {
   "cell_type": "code",
   "execution_count": 188,
   "metadata": {},
   "outputs": [
    {
     "data": {
      "image/png": "[encoded data removed]",
      "text/plain": [
       "<Figure size 1080x576 with 1 Axes>"
      ]
     },
     "metadata": {
      "needs_background": "light"
     },
     "output_type": "display_data"
    }
   ],
   "source": [
    "result5.unstack().plot(kind = 'barh', stacked = True,fontsize = 12,figsize = (15,8),alpha = 0.7,color = ['#d62728','#ff7f0e','#17becf'])\n",
    "#plot_color_gradients('Qualitative',['coolwarm'])\n",
    "#plt.title('남 / 여 혈압 알아보기')\n",
    "plt.title('남 / 여 혈압 비율 현황',fontsize = 25)\n",
    "plt.ylabel(\"성별\",fontsize = 15)\n",
    "plt.xlabel(\"비율(100%)\",fontsize = 15)\n",
    "plt.rc('legend', fontsize=16)\n",
    "plt.show()"
   ]
  },
  {
   "cell_type": "markdown",
   "metadata": {},
   "source": [
    "### 남여 간기능 비율"
   ]
  },
  {
   "cell_type": "code",
   "execution_count": 76,
   "metadata": {},
   "outputs": [
    {
     "data": {
      "text/html": [
       "<div>\n",
       "<style scoped>\n",
       "    .dataframe tbody tr th:only-of-type {\n",
       "        vertical-align: middle;\n",
       "    }\n",
       "\n",
       "    .dataframe tbody tr th {\n",
       "        vertical-align: top;\n",
       "    }\n",
       "\n",
       "    .dataframe thead th {\n",
       "        text-align: right;\n",
       "    }\n",
       "</style>\n",
       "<table border=\"1\" class=\"dataframe\">\n",
       "  <thead>\n",
       "    <tr style=\"text-align: right;\">\n",
       "      <th>간 기능 이상</th>\n",
       "      <th>정상</th>\n",
       "      <th>질환위험</th>\n",
       "      <th>질환의심</th>\n",
       "    </tr>\n",
       "    <tr>\n",
       "      <th>성별코드</th>\n",
       "      <th></th>\n",
       "      <th></th>\n",
       "      <th></th>\n",
       "    </tr>\n",
       "  </thead>\n",
       "  <tbody>\n",
       "    <tr>\n",
       "      <th>남</th>\n",
       "      <td>63.223450</td>\n",
       "      <td>28.143099</td>\n",
       "      <td>8.633451</td>\n",
       "    </tr>\n",
       "    <tr>\n",
       "      <th>여</th>\n",
       "      <td>81.256075</td>\n",
       "      <td>14.899896</td>\n",
       "      <td>3.844029</td>\n",
       "    </tr>\n",
       "  </tbody>\n",
       "</table>\n",
       "</div>"
      ],
      "text/plain": [
       "간 기능 이상         정상       질환위험      질환의심\n",
       "성별코드                                   \n",
       "남        63.223450  28.143099  8.633451\n",
       "여        81.256075  14.899896  3.844029"
      ]
     },
     "execution_count": 76,
     "metadata": {},
     "output_type": "execute_result"
    }
   ],
   "source": [
    "#혈압\n",
    "var6 = data.groupby(['성별코드','간 기능 이상'])['요단백'].count()\n",
    "all6 = data.groupby(['성별코드'])['요단백'].count()\n",
    "result6 = var6/all6*100\n",
    "result6.unstack()"
   ]
  },
  {
   "cell_type": "code",
   "execution_count": 189,
   "metadata": {},
   "outputs": [
    {
     "data": {
      "image/png": "[encoded data removed]",
      "text/plain": [
       "<Figure size 1080x576 with 1 Axes>"
      ]
     },
     "metadata": {
      "needs_background": "light"
     },
     "output_type": "display_data"
    }
   ],
   "source": [
    "result6.unstack().plot(kind = 'barh', stacked = True,fontsize = 18,figsize = (15,8),alpha = 0.7,color = ['#17becf','#d62728','#ff7f0e'])\n",
    "#plt.title('남 / 여 간 기능 이상 비율 알아보기')\n",
    "plt.title('남 / 여 간 기능 이상 비율 현황',fontsize = 25)\n",
    "plt.ylabel(\"성별\",fontsize = 15)\n",
    "plt.xlabel(\"비율(100%)\",fontsize = 15)\n",
    "plt.rc('legend', fontsize=16)\n",
    "plt.show()"
   ]
  },
  {
   "cell_type": "markdown",
   "metadata": {},
   "source": [
    "### 남여별 음주비율"
   ]
  },
  {
   "cell_type": "code",
   "execution_count": 78,
   "metadata": {},
   "outputs": [
    {
     "data": {
      "text/html": [
       "<div>\n",
       "<style scoped>\n",
       "    .dataframe tbody tr th:only-of-type {\n",
       "        vertical-align: middle;\n",
       "    }\n",
       "\n",
       "    .dataframe tbody tr th {\n",
       "        vertical-align: top;\n",
       "    }\n",
       "\n",
       "    .dataframe thead th {\n",
       "        text-align: right;\n",
       "    }\n",
       "</style>\n",
       "<table border=\"1\" class=\"dataframe\">\n",
       "  <thead>\n",
       "    <tr style=\"text-align: right;\">\n",
       "      <th></th>\n",
       "      <th>음주여부</th>\n",
       "    </tr>\n",
       "    <tr>\n",
       "      <th>성별코드</th>\n",
       "      <th></th>\n",
       "    </tr>\n",
       "  </thead>\n",
       "  <tbody>\n",
       "    <tr>\n",
       "      <th>남</th>\n",
       "      <td>505719</td>\n",
       "    </tr>\n",
       "    <tr>\n",
       "      <th>여</th>\n",
       "      <td>481500</td>\n",
       "    </tr>\n",
       "  </tbody>\n",
       "</table>\n",
       "</div>"
      ],
      "text/plain": [
       "        음주여부\n",
       "성별코드        \n",
       "남     505719\n",
       "여     481500"
      ]
     },
     "execution_count": 78,
     "metadata": {},
     "output_type": "execute_result"
    }
   ],
   "source": [
    "data.groupby('성별코드')[['음주여부']].count()"
   ]
  },
  {
   "cell_type": "code",
   "execution_count": 79,
   "metadata": {},
   "outputs": [
    {
     "data": {
      "text/html": [
       "<div>\n",
       "<style scoped>\n",
       "    .dataframe tbody tr th:only-of-type {\n",
       "        vertical-align: middle;\n",
       "    }\n",
       "\n",
       "    .dataframe tbody tr th {\n",
       "        vertical-align: top;\n",
       "    }\n",
       "\n",
       "    .dataframe thead th {\n",
       "        text-align: right;\n",
       "    }\n",
       "</style>\n",
       "<table border=\"1\" class=\"dataframe\">\n",
       "  <thead>\n",
       "    <tr style=\"text-align: right;\">\n",
       "      <th>음주여부</th>\n",
       "      <th>0.0</th>\n",
       "      <th>1.0</th>\n",
       "    </tr>\n",
       "    <tr>\n",
       "      <th>성별코드</th>\n",
       "      <th></th>\n",
       "      <th></th>\n",
       "    </tr>\n",
       "  </thead>\n",
       "  <tbody>\n",
       "    <tr>\n",
       "      <th>남</th>\n",
       "      <td>25.523265</td>\n",
       "      <td>74.476735</td>\n",
       "    </tr>\n",
       "    <tr>\n",
       "      <th>여</th>\n",
       "      <td>57.614123</td>\n",
       "      <td>42.385877</td>\n",
       "    </tr>\n",
       "  </tbody>\n",
       "</table>\n",
       "</div>"
      ],
      "text/plain": [
       "음주여부        0.0        1.0\n",
       "성별코드                      \n",
       "남     25.523265  74.476735\n",
       "여     57.614123  42.385877"
      ]
     },
     "execution_count": 79,
     "metadata": {},
     "output_type": "execute_result"
    }
   ],
   "source": [
    "var7 = data.groupby(['성별코드','음주여부'])['요단백'].count()\n",
    "all7 = data.groupby(['성별코드'])['요단백'].count()\n",
    "result7 = var7/all7*100\n",
    "result7.unstack()"
   ]
  },
  {
   "cell_type": "code",
   "execution_count": 190,
   "metadata": {},
   "outputs": [
    {
     "data": {
      "image/png": "[encoded data removed]",
      "text/plain": [
       "<Figure size 1080x576 with 1 Axes>"
      ]
     },
     "metadata": {
      "needs_background": "light"
     },
     "output_type": "display_data"
    }
   ],
   "source": [
    "result7.unstack().plot(kind = 'barh', stacked = True,fontsize = 18,figsize = (15,8),alpha = 0.7,color = ['#17becf','#d62728'])\n",
    "#plt.title('남 / 여 음주 비율 알아보기')\n",
    "plt.title('남 / 여 음주 비율 현황',fontsize = 25)\n",
    "plt.ylabel(\"성별\",fontsize = 15)\n",
    "plt.xlabel(\"비율(100%)\",fontsize = 15)\n",
    "plt.rc('legend', fontsize=16)\n",
    "plt.show()"
   ]
  },
  {
   "cell_type": "markdown",
   "metadata": {},
   "source": [
    "### 남여 복부비만별 음주여부"
   ]
  },
  {
   "cell_type": "code",
   "execution_count": 238,
   "metadata": {},
   "outputs": [
    {
     "data": {
      "text/html": [
       "<div>\n",
       "<style scoped>\n",
       "    .dataframe tbody tr th:only-of-type {\n",
       "        vertical-align: middle;\n",
       "    }\n",
       "\n",
       "    .dataframe tbody tr th {\n",
       "        vertical-align: top;\n",
       "    }\n",
       "\n",
       "    .dataframe thead th {\n",
       "        text-align: right;\n",
       "    }\n",
       "</style>\n",
       "<table border=\"1\" class=\"dataframe\">\n",
       "  <thead>\n",
       "    <tr style=\"text-align: right;\">\n",
       "      <th></th>\n",
       "      <th></th>\n",
       "      <th>음주여부</th>\n",
       "    </tr>\n",
       "    <tr>\n",
       "      <th>성별코드</th>\n",
       "      <th>복부비만</th>\n",
       "      <th></th>\n",
       "    </tr>\n",
       "  </thead>\n",
       "  <tbody>\n",
       "    <tr>\n",
       "      <th rowspan=\"2\" valign=\"top\">남</th>\n",
       "      <th>비해당</th>\n",
       "      <td>345401</td>\n",
       "    </tr>\n",
       "    <tr>\n",
       "      <th>해당</th>\n",
       "      <td>160318</td>\n",
       "    </tr>\n",
       "    <tr>\n",
       "      <th rowspan=\"2\" valign=\"top\">여</th>\n",
       "      <th>비해당</th>\n",
       "      <td>369667</td>\n",
       "    </tr>\n",
       "    <tr>\n",
       "      <th>해당</th>\n",
       "      <td>111833</td>\n",
       "    </tr>\n",
       "  </tbody>\n",
       "</table>\n",
       "</div>"
      ],
      "text/plain": [
       "             음주여부\n",
       "성별코드 복부비만        \n",
       "남    비해당   345401\n",
       "     해당    160318\n",
       "여    비해당   369667\n",
       "     해당    111833"
      ]
     },
     "execution_count": 238,
     "metadata": {},
     "output_type": "execute_result"
    }
   ],
   "source": [
    "data.groupby(['성별코드','복부비만'])[['음주여부']].count()"
   ]
  },
  {
   "cell_type": "code",
   "execution_count": 85,
   "metadata": {},
   "outputs": [
    {
     "data": {
      "text/html": [
       "<div>\n",
       "<style scoped>\n",
       "    .dataframe tbody tr th:only-of-type {\n",
       "        vertical-align: middle;\n",
       "    }\n",
       "\n",
       "    .dataframe tbody tr th {\n",
       "        vertical-align: top;\n",
       "    }\n",
       "\n",
       "    .dataframe thead th {\n",
       "        text-align: right;\n",
       "    }\n",
       "</style>\n",
       "<table border=\"1\" class=\"dataframe\">\n",
       "  <thead>\n",
       "    <tr style=\"text-align: right;\">\n",
       "      <th></th>\n",
       "      <th>음주여부</th>\n",
       "      <th>0.0</th>\n",
       "      <th>1.0</th>\n",
       "    </tr>\n",
       "    <tr>\n",
       "      <th>성별코드</th>\n",
       "      <th>복부비만</th>\n",
       "      <th></th>\n",
       "      <th></th>\n",
       "    </tr>\n",
       "  </thead>\n",
       "  <tbody>\n",
       "    <tr>\n",
       "      <th rowspan=\"2\" valign=\"top\">남</th>\n",
       "      <th>비해당</th>\n",
       "      <td>25.83</td>\n",
       "      <td>74.17</td>\n",
       "    </tr>\n",
       "    <tr>\n",
       "      <th>해당</th>\n",
       "      <td>24.87</td>\n",
       "      <td>75.13</td>\n",
       "    </tr>\n",
       "    <tr>\n",
       "      <th rowspan=\"2\" valign=\"top\">여</th>\n",
       "      <th>비해당</th>\n",
       "      <td>55.61</td>\n",
       "      <td>44.39</td>\n",
       "    </tr>\n",
       "    <tr>\n",
       "      <th>해당</th>\n",
       "      <td>64.24</td>\n",
       "      <td>35.76</td>\n",
       "    </tr>\n",
       "  </tbody>\n",
       "</table>\n",
       "</div>"
      ],
      "text/plain": [
       "음주여부         0.0    1.0\n",
       "성별코드 복부비만              \n",
       "남    비해당   25.83  74.17\n",
       "     해당    24.87  75.13\n",
       "여    비해당   55.61  44.39\n",
       "     해당    64.24  35.76"
      ]
     },
     "execution_count": 85,
     "metadata": {},
     "output_type": "execute_result"
    }
   ],
   "source": [
    "#복부비만\n",
    "var8 = data.groupby(['성별코드','복부비만','음주여부'])['요단백'].count()\n",
    "#var8.unstack()\n",
    "all8 = data.groupby(['성별코드','복부비만'])['요단백'].count()\n",
    "result8 = round(var8/all8*100,2)#.reset_index()\n",
    "result8.unstack()"
   ]
  },
  {
   "cell_type": "code",
   "execution_count": 162,
   "metadata": {},
   "outputs": [
    {
     "data": {
      "image/png": "[encoded data removed]",
      "text/plain": [
       "<Figure size 1080x576 with 1 Axes>"
      ]
     },
     "metadata": {
      "needs_background": "light"
     },
     "output_type": "display_data"
    }
   ],
   "source": [
    "result8.unstack().plot(kind = 'bar', stacked = False,fontsize = 20,figsize = (15,8))\n",
    "plt.title('남 / 여 복부비만별 음주 비율 알아보기',fontsize = 25)\n",
    "plt.xticks(rotation = 0)\n",
    "plt.show()"
   ]
  },
  {
   "cell_type": "markdown",
   "metadata": {},
   "source": [
    "### 남여 간기능이상별 음주여부"
   ]
  },
  {
   "cell_type": "code",
   "execution_count": 158,
   "metadata": {},
   "outputs": [
    {
     "data": {
      "text/html": [
       "<div>\n",
       "<style scoped>\n",
       "    .dataframe tbody tr th:only-of-type {\n",
       "        vertical-align: middle;\n",
       "    }\n",
       "\n",
       "    .dataframe tbody tr th {\n",
       "        vertical-align: top;\n",
       "    }\n",
       "\n",
       "    .dataframe thead th {\n",
       "        text-align: right;\n",
       "    }\n",
       "</style>\n",
       "<table border=\"1\" class=\"dataframe\">\n",
       "  <thead>\n",
       "    <tr style=\"text-align: right;\">\n",
       "      <th></th>\n",
       "      <th>음주여부</th>\n",
       "      <th>0.0</th>\n",
       "      <th>1.0</th>\n",
       "    </tr>\n",
       "    <tr>\n",
       "      <th>성별코드</th>\n",
       "      <th>간 기능 이상</th>\n",
       "      <th></th>\n",
       "      <th></th>\n",
       "    </tr>\n",
       "  </thead>\n",
       "  <tbody>\n",
       "    <tr>\n",
       "      <th rowspan=\"3\" valign=\"top\">남</th>\n",
       "      <th>정상</th>\n",
       "      <td>27.05</td>\n",
       "      <td>72.95</td>\n",
       "    </tr>\n",
       "    <tr>\n",
       "      <th>질환위험</th>\n",
       "      <td>23.51</td>\n",
       "      <td>76.49</td>\n",
       "    </tr>\n",
       "    <tr>\n",
       "      <th>질환의심</th>\n",
       "      <td>20.88</td>\n",
       "      <td>79.12</td>\n",
       "    </tr>\n",
       "    <tr>\n",
       "      <th rowspan=\"3\" valign=\"top\">여</th>\n",
       "      <th>정상</th>\n",
       "      <td>56.60</td>\n",
       "      <td>43.40</td>\n",
       "    </tr>\n",
       "    <tr>\n",
       "      <th>질환위험</th>\n",
       "      <td>62.55</td>\n",
       "      <td>37.45</td>\n",
       "    </tr>\n",
       "    <tr>\n",
       "      <th>질환의심</th>\n",
       "      <td>59.85</td>\n",
       "      <td>40.15</td>\n",
       "    </tr>\n",
       "  </tbody>\n",
       "</table>\n",
       "</div>"
      ],
      "text/plain": [
       "음주여부            0.0    1.0\n",
       "성별코드 간 기능 이상              \n",
       "남    정상       27.05  72.95\n",
       "     질환위험     23.51  76.49\n",
       "     질환의심     20.88  79.12\n",
       "여    정상       56.60  43.40\n",
       "     질환위험     62.55  37.45\n",
       "     질환의심     59.85  40.15"
      ]
     },
     "execution_count": 158,
     "metadata": {},
     "output_type": "execute_result"
    }
   ],
   "source": [
    "#간 기능 이상\n",
    "var9 = data.groupby(['성별코드','간 기능 이상','음주여부'])['요단백'].count()\n",
    "#var8.unstack()\n",
    "#all9 = data.groupby(['성별코드'])['요단백'].count()\n",
    "all9 = data.groupby(['성별코드','간 기능 이상'])['요단백'].count()\n",
    "result9 = round(var9/all9*100,2)#.reset_index()\n",
    "result9.unstack()"
   ]
  },
  {
   "cell_type": "code",
   "execution_count": 159,
   "metadata": {},
   "outputs": [
    {
     "data": {
      "image/png": "[encoded data removed]",
      "text/plain": [
       "<Figure size 1080x576 with 1 Axes>"
      ]
     },
     "metadata": {
      "needs_background": "light"
     },
     "output_type": "display_data"
    }
   ],
   "source": [
    "result9.unstack().plot(kind = 'bar', stacked = True,fontsize = 12,figsize = (15,8))\n",
    "plt.title('남 / 여 간기능이상별 음주 비율 알아보기',fontsize = 15)\n",
    "plt.xticks(rotation = 0)\n",
    "#plt.ylim(20,80)\n",
    "plt.show()"
   ]
  },
  {
   "cell_type": "markdown",
   "metadata": {},
   "source": [
    "### 남여 비만별 음주여부"
   ]
  },
  {
   "cell_type": "code",
   "execution_count": 272,
   "metadata": {},
   "outputs": [
    {
     "data": {
      "text/html": [
       "<div>\n",
       "<style scoped>\n",
       "    .dataframe tbody tr th:only-of-type {\n",
       "        vertical-align: middle;\n",
       "    }\n",
       "\n",
       "    .dataframe tbody tr th {\n",
       "        vertical-align: top;\n",
       "    }\n",
       "\n",
       "    .dataframe thead th {\n",
       "        text-align: right;\n",
       "    }\n",
       "</style>\n",
       "<table border=\"1\" class=\"dataframe\">\n",
       "  <thead>\n",
       "    <tr style=\"text-align: right;\">\n",
       "      <th></th>\n",
       "      <th>음주여부</th>\n",
       "      <th>0.0</th>\n",
       "      <th>1.0</th>\n",
       "    </tr>\n",
       "    <tr>\n",
       "      <th>성별코드</th>\n",
       "      <th>비만</th>\n",
       "      <th></th>\n",
       "      <th></th>\n",
       "    </tr>\n",
       "  </thead>\n",
       "  <tbody>\n",
       "    <tr>\n",
       "      <th rowspan=\"4\" valign=\"top\">남</th>\n",
       "      <th>과체중</th>\n",
       "      <td>23.96</td>\n",
       "      <td>76.04</td>\n",
       "    </tr>\n",
       "    <tr>\n",
       "      <th>비만</th>\n",
       "      <td>22.20</td>\n",
       "      <td>77.80</td>\n",
       "    </tr>\n",
       "    <tr>\n",
       "      <th>저체중</th>\n",
       "      <td>37.40</td>\n",
       "      <td>62.60</td>\n",
       "    </tr>\n",
       "    <tr>\n",
       "      <th>정상</th>\n",
       "      <td>26.55</td>\n",
       "      <td>73.45</td>\n",
       "    </tr>\n",
       "    <tr>\n",
       "      <th rowspan=\"4\" valign=\"top\">여</th>\n",
       "      <th>과체중</th>\n",
       "      <td>60.98</td>\n",
       "      <td>39.02</td>\n",
       "    </tr>\n",
       "    <tr>\n",
       "      <th>비만</th>\n",
       "      <td>60.37</td>\n",
       "      <td>39.63</td>\n",
       "    </tr>\n",
       "    <tr>\n",
       "      <th>저체중</th>\n",
       "      <td>56.26</td>\n",
       "      <td>43.74</td>\n",
       "    </tr>\n",
       "    <tr>\n",
       "      <th>정상</th>\n",
       "      <td>56.37</td>\n",
       "      <td>43.63</td>\n",
       "    </tr>\n",
       "  </tbody>\n",
       "</table>\n",
       "</div>"
      ],
      "text/plain": [
       "음주여부        0.0    1.0\n",
       "성별코드 비만               \n",
       "남    과체중  23.96  76.04\n",
       "     비만   22.20  77.80\n",
       "     저체중  37.40  62.60\n",
       "     정상   26.55  73.45\n",
       "여    과체중  60.98  39.02\n",
       "     비만   60.37  39.63\n",
       "     저체중  56.26  43.74\n",
       "     정상   56.37  43.63"
      ]
     },
     "execution_count": 272,
     "metadata": {},
     "output_type": "execute_result"
    }
   ],
   "source": [
    "var10 = data.groupby(['성별코드','비만','음주여부'])['요단백'].count()\n",
    "#var8.unstack()\n",
    "all10 = data.groupby(['성별코드','비만'])['요단백'].count()\n",
    "result10 = round(var10/all10*100,2)#.reset_index()\n",
    "result10.unstack()"
   ]
  },
  {
   "cell_type": "code",
   "execution_count": 276,
   "metadata": {},
   "outputs": [
    {
     "data": {
      "image/png": "[encoded data removed]",
      "text/plain": [
       "<Figure size 1080x576 with 1 Axes>"
      ]
     },
     "metadata": {
      "needs_background": "light"
     },
     "output_type": "display_data"
    }
   ],
   "source": [
    "result10.unstack().plot(kind = 'bar', stacked = True,fontsize = 12,figsize = (15,8))\n",
    "plt.title('남 / 여 비만별 음주 비율 알아보기')\n",
    "plt.xticks(rotation = 0)\n",
    "plt.ylim(0,100)\n",
    "plt.show()\n",
    "'''\n",
    "별다른 특징은 없지만, 하나만 뽑자면 저체중 남자가 음주 하지 않는 경향이 크다.\n",
    "'''"
   ]
  },
  {
   "cell_type": "code",
   "execution_count": 84,
   "metadata": {},
   "outputs": [
    {
     "data": {
      "text/plain": [
       "Index(['성별코드', '연령대 코드(5세단위)', '신장(5Cm단위)', '체중(5Kg 단위)', '허리둘레', '수축기 혈압',\n",
       "       '이완기 혈압', '식전혈당(공복혈당)', '혈색소', '요단백', '혈청크레아티닌', '(혈청지오티)AST',\n",
       "       '(혈청지오티)ALT', '감마 지티피', '흡연상태', '음주여부', '구강검진 수검여부', '시도명', '복부비만',\n",
       "       '비만', '빈혈', '당뇨', '혈압', '간 기능 이상'],\n",
       "      dtype='object')"
      ]
     },
     "execution_count": 84,
     "metadata": {},
     "output_type": "execute_result"
    }
   ],
   "source": [
    "data.columns"
   ]
  },
  {
   "cell_type": "code",
   "execution_count": null,
   "metadata": {},
   "outputs": [],
   "source": [
    "sns.violinplot(data=tips, x=\"day\", y=\"total_bill\", hue=\"smoker\",\n",
    "               split=True, inner=\"quart\", linewidth=1,\n",
    "               palette={\"Yes\": \"b\", \"No\": \".85\"})\n",
    "sns.despine(left=True)"
   ]
  },
  {
   "cell_type": "code",
   "execution_count": null,
   "metadata": {},
   "outputs": [],
   "source": []
  },
  {
   "cell_type": "code",
   "execution_count": null,
   "metadata": {},
   "outputs": [],
   "source": []
  },
  {
   "cell_type": "markdown",
   "metadata": {},
   "source": [
    "## 남자 연령대별 질병 비율 알아보기"
   ]
  },
  {
   "cell_type": "code",
   "execution_count": 81,
   "metadata": {},
   "outputs": [
    {
     "data": {
      "text/plain": [
       "(505719, 24)"
      ]
     },
     "execution_count": 81,
     "metadata": {},
     "output_type": "execute_result"
    }
   ],
   "source": [
    "male = data.loc[data['성별코드']=='남']\n",
    "male.shape"
   ]
  },
  {
   "cell_type": "markdown",
   "metadata": {},
   "source": [
    "### 남자 연령별 비만"
   ]
  },
  {
   "cell_type": "code",
   "execution_count": 82,
   "metadata": {},
   "outputs": [
    {
     "data": {
      "text/plain": [
       "연령대 코드(5세단위)  비만 \n",
       "40세-44세       과체중    41.281752\n",
       "              비만      9.843238\n",
       "              저체중     1.530213\n",
       "              정상     47.344797\n",
       "45세-49세       과체중    41.435926\n",
       "              비만      7.270703\n",
       "              저체중     1.736722\n",
       "              정상     49.556649\n",
       "50세-54세       과체중    41.449151\n",
       "              비만      5.610598\n",
       "              저체중     1.791478\n",
       "              정상     51.148773\n",
       "55세-59세       과체중    40.189669\n",
       "              비만      3.957521\n",
       "              저체중     2.036980\n",
       "              정상     53.815830\n",
       "60세-64세       과체중    39.315790\n",
       "              비만      3.434523\n",
       "              저체중     2.298665\n",
       "              정상     54.951022\n",
       "65세-69세       과체중    38.746136\n",
       "              비만      3.057380\n",
       "              저체중     2.605777\n",
       "              정상     55.590707\n",
       "70세-74세       과체중    36.436147\n",
       "              비만      2.661641\n",
       "              저체중     3.079440\n",
       "              정상     57.822771\n",
       "75세-79세       과체중    32.976314\n",
       "              비만      1.915662\n",
       "              저체중     4.314830\n",
       "              정상     60.793194\n",
       "80세-84세       과체중    28.145227\n",
       "              비만      2.073220\n",
       "              저체중     6.462379\n",
       "              정상     63.319175\n",
       "85세이상         과체중    20.676866\n",
       "              비만      1.715345\n",
       "              저체중    10.152990\n",
       "              정상     67.454798\n",
       "Name: 요단백, dtype: float64"
      ]
     },
     "execution_count": 82,
     "metadata": {},
     "output_type": "execute_result"
    }
   ],
   "source": [
    "m_var1 = male.groupby(['연령대 코드(5세단위)','비만'])['요단백'].count()\n",
    "m_all1 = male.groupby(['연령대 코드(5세단위)'])['요단백'].count()\n",
    "m_result1 = m_var1/m_all1*100\n",
    "m_result1"
   ]
  },
  {
   "cell_type": "code",
   "execution_count": 83,
   "metadata": {
    "scrolled": true
   },
   "outputs": [
    {
     "data": {
      "image/png": "[encoded data removed]",
      "text/plain": [
       "<Figure size 1080x576 with 1 Axes>"
      ]
     },
     "metadata": {
      "needs_background": "light"
     },
     "output_type": "display_data"
    }
   ],
   "source": [
    "# m_result1.plot(kind = 'bar',fontsize = 12,figsize = (15,8))\n",
    "# plt.title('남자 연령대별 비만 알아보기')\n",
    "# plt.show()\n",
    "m_result1.unstack().plot(kind = 'barh', stacked = True,fontsize = 12,figsize = (15,8))\n",
    "plt.title('남자 연령별 비만 비율 알아보기')\n",
    "plt.show()"
   ]
  },
  {
   "cell_type": "code",
   "execution_count": 223,
   "metadata": {},
   "outputs": [
    {
     "data": {
      "text/plain": [
       "성별코드  비만 \n",
       "남     과체중    39.744206\n",
       "      비만      5.442350\n",
       "      저체중     2.208736\n",
       "      정상     52.604707\n",
       "Name: 요단백, dtype: float64"
      ]
     },
     "execution_count": 223,
     "metadata": {},
     "output_type": "execute_result"
    }
   ],
   "source": [
    "#male\n",
    "m_var = male.groupby(['성별코드','비만'])['요단백'].count()\n",
    "m_all = male.groupby(['성별코드'])['요단백'].count()\n",
    "m_result = m_var/m_all*100\n",
    "m_result"
   ]
  },
  {
   "cell_type": "code",
   "execution_count": 224,
   "metadata": {},
   "outputs": [
    {
     "data": {
      "text/html": [
       "<div>\n",
       "<style scoped>\n",
       "    .dataframe tbody tr th:only-of-type {\n",
       "        vertical-align: middle;\n",
       "    }\n",
       "\n",
       "    .dataframe tbody tr th {\n",
       "        vertical-align: top;\n",
       "    }\n",
       "\n",
       "    .dataframe thead th {\n",
       "        text-align: right;\n",
       "    }\n",
       "</style>\n",
       "<table border=\"1\" class=\"dataframe\">\n",
       "  <thead>\n",
       "    <tr style=\"text-align: right;\">\n",
       "      <th></th>\n",
       "      <th>성별코드</th>\n",
       "      <th>비만</th>\n",
       "      <th>요단백</th>\n",
       "    </tr>\n",
       "  </thead>\n",
       "  <tbody>\n",
       "    <tr>\n",
       "      <th>0</th>\n",
       "      <td>남</td>\n",
       "      <td>과체중</td>\n",
       "      <td>39.744206</td>\n",
       "    </tr>\n",
       "    <tr>\n",
       "      <th>1</th>\n",
       "      <td>남</td>\n",
       "      <td>비만</td>\n",
       "      <td>5.442350</td>\n",
       "    </tr>\n",
       "    <tr>\n",
       "      <th>2</th>\n",
       "      <td>남</td>\n",
       "      <td>저체중</td>\n",
       "      <td>2.208736</td>\n",
       "    </tr>\n",
       "    <tr>\n",
       "      <th>3</th>\n",
       "      <td>남</td>\n",
       "      <td>정상</td>\n",
       "      <td>52.604707</td>\n",
       "    </tr>\n",
       "  </tbody>\n",
       "</table>\n",
       "</div>"
      ],
      "text/plain": [
       "  성별코드   비만        요단백\n",
       "0    남  과체중  39.744206\n",
       "1    남   비만   5.442350\n",
       "2    남  저체중   2.208736\n",
       "3    남   정상  52.604707"
      ]
     },
     "execution_count": 224,
     "metadata": {},
     "output_type": "execute_result"
    }
   ],
   "source": [
    "m_result.reset_index()#[['성별코드']]"
   ]
  },
  {
   "cell_type": "code",
   "execution_count": 225,
   "metadata": {},
   "outputs": [
    {
     "data": {
      "image/png": "[encoded data removed]",
      "text/plain": [
       "<Figure size 432x288 with 1 Axes>"
      ]
     },
     "metadata": {},
     "output_type": "display_data"
    }
   ],
   "source": [
    "#example_series = pd.Series([12, 15, 7, 13, 9], index = ['a', 'b', 'c', 'd', 'e'])\n",
    "plt.pie(m_result, labels = m_result.index, autopct = '%.1f%%')\n",
    "plt.show()"
   ]
  },
  {
   "cell_type": "markdown",
   "metadata": {},
   "source": [
    "### 남자 연령별 복부비만"
   ]
  },
  {
   "cell_type": "code",
   "execution_count": 231,
   "metadata": {},
   "outputs": [
    {
     "data": {
      "text/plain": [
       "연령대 코드(5세단위)  복부비만\n",
       "40세-44세       비해당     66.065538\n",
       "              해당      33.934462\n",
       "45세-49세       비해당     69.024881\n",
       "              해당      30.975119\n",
       "50세-54세       비해당     69.840645\n",
       "              해당      30.159355\n",
       "55세-59세       비해당     70.744367\n",
       "              해당      29.255633\n",
       "60세-64세       비해당     68.963984\n",
       "              해당      31.036016\n",
       "65세-69세       비해당     66.946001\n",
       "              해당      33.053999\n",
       "70세-74세       비해당     65.562275\n",
       "              해당      34.437725\n",
       "75세-79세       비해당     65.059061\n",
       "              해당      34.940939\n",
       "80세-84세       비해당     65.796926\n",
       "              해당      34.203074\n",
       "85세이상         비해당     71.210014\n",
       "              해당      28.789986\n",
       "Name: 요단백, dtype: float64"
      ]
     },
     "execution_count": 231,
     "metadata": {},
     "output_type": "execute_result"
    }
   ],
   "source": [
    "m_var2 = male.groupby(['연령대 코드(5세단위)','복부비만'])['요단백'].count()\n",
    "m_all2 = male.groupby(['연령대 코드(5세단위)'])['요단백'].count()\n",
    "m_result2 = m_var2/m_all2*100\n",
    "m_result2"
   ]
  },
  {
   "cell_type": "code",
   "execution_count": 232,
   "metadata": {},
   "outputs": [
    {
     "data": {
      "image/png": "[encoded data removed]",
      "text/plain": [
       "<Figure size 1080x576 with 1 Axes>"
      ]
     },
     "metadata": {
      "needs_background": "light"
     },
     "output_type": "display_data"
    }
   ],
   "source": [
    "m_result2.unstack().plot(kind = 'barh', stacked = True,fontsize = 12,figsize = (15,8))\n",
    "plt.title('남자 연령별 복부비만 비율 알아보기')\n",
    "plt.show()"
   ]
  },
  {
   "cell_type": "markdown",
   "metadata": {},
   "source": [
    "### 남여 비만여부별 체중 분포 현황"
   ]
  },
  {
   "cell_type": "code",
   "execution_count": 126,
   "metadata": {
    "scrolled": true
   },
   "outputs": [
    {
     "data": {
      "image/png": "[encoded data removed]",
      "text/plain": [
       "<Figure size 1080x576 with 1 Axes>"
      ]
     },
     "metadata": {
      "needs_background": "light"
     },
     "output_type": "display_data"
    }
   ],
   "source": [
    "plt.figure(figsize=(15,8))\n",
    "sns.violinplot(data=data, x=\"비만\", y=\"체중(5Kg 단위)\", hue=\"성별코드\",\n",
    "               split=True, inner=\"quart\", linewidth=1)\n",
    "plt.title(\"남여 비만여부별 체중 분포 현황\")\n",
    "sns.despine(left=True)"
   ]
  },
  {
   "cell_type": "markdown",
   "metadata": {},
   "source": [
    "### 남여 복부비만별 "
   ]
  },
  {
   "cell_type": "code",
   "execution_count": null,
   "metadata": {},
   "outputs": [],
   "source": [
    "data.groupby('성별코드','')"
   ]
  },
  {
   "cell_type": "code",
   "execution_count": 123,
   "metadata": {},
   "outputs": [
    {
     "data": {
      "image/png": "[encoded data removed]",
      "text/plain": [
       "<Figure size 1080x576 with 1 Axes>"
      ]
     },
     "metadata": {
      "needs_background": "light"
     },
     "output_type": "display_data"
    }
   ],
   "source": [
    "plt.figure(figsize = (15,8))\n",
    "sns.barplot(data = data, x = '성별코드', y = '체중(5Kg 단위)', hue = '비만', estimator= len , alpha = 0.8)\n",
    "plt.title('거래년도별 시군구별 거래금액 평균 그래프')\n",
    "plt.show()"
   ]
  },
  {
   "cell_type": "code",
   "execution_count": 130,
   "metadata": {},
   "outputs": [
    {
     "data": {
      "image/png": "[encoded data removed]",
      "text/plain": [
       "<Figure size 1080x576 with 1 Axes>"
      ]
     },
     "metadata": {
      "needs_background": "light"
     },
     "output_type": "display_data"
    }
   ],
   "source": [
    "plt.figure(figsize=(15,8))\n",
    "sns.violinplot(data=data.loc[data['복부비만']!=999], x=\"복부비만\", y=\"허리둘레\", hue=\"성별코드\",\n",
    "               split=True, inner=\"quart\", linewidth=1)\n",
    "plt.title(\"남여 복부비만여부별 허리 둘레 분포 현황\")\n",
    "sns.despine(left=True)"
   ]
  },
  {
   "cell_type": "code",
   "execution_count": 132,
   "metadata": {},
   "outputs": [
    {
     "data": {
      "text/plain": [
       "count    987218.000000\n",
       "mean         82.344303\n",
       "std           9.571235\n",
       "min           5.800000\n",
       "25%          76.000000\n",
       "50%          82.000000\n",
       "75%          89.000000\n",
       "max         680.000000\n",
       "Name: 허리둘레, dtype: float64"
      ]
     },
     "execution_count": 132,
     "metadata": {},
     "output_type": "execute_result"
    }
   ],
   "source": [
    "data.loc[data['허리둘레']!=999,'허리둘레']"
   ]
  },
  {
   "cell_type": "code",
   "execution_count": 133,
   "metadata": {},
   "outputs": [
    {
     "data": {
      "text/plain": [
       "Index(['성별코드', '연령대 코드(5세단위)', '신장(5Cm단위)', '체중(5Kg 단위)', '허리둘레', '수축기 혈압',\n",
       "       '이완기 혈압', '식전혈당(공복혈당)', '혈색소', '요단백', '혈청크레아티닌', '(혈청지오티)AST',\n",
       "       '(혈청지오티)ALT', '감마 지티피', '흡연상태', '음주여부', '구강검진 수검여부', '시도명', '복부비만',\n",
       "       '비만', '빈혈', '당뇨', '혈압', '간 기능 이상'],\n",
       "      dtype='object')"
      ]
     },
     "execution_count": 133,
     "metadata": {},
     "output_type": "execute_result"
    }
   ],
   "source": [
    "data.columns"
   ]
  },
  {
   "cell_type": "code",
   "execution_count": null,
   "metadata": {},
   "outputs": [],
   "source": [
    "plt.figure(figsize=(15,8))\n",
    "sns.violinplot(data=data, x=\"비만\", y=\"체중(5Kg 단위)\", hue=\"성별코드\",\n",
    "               split=True, inner=\"quart\", linewidth=1)\n",
    "plt.title(\"남여 복부비만여부별 허리 둘레 분포 현황\")\n",
    "sns.despine(left=True)"
   ]
  },
  {
   "cell_type": "code",
   "execution_count": 150,
   "metadata": {},
   "outputs": [
    {
     "data": {
      "image/png": "[encoded data removed]",
      "text/plain": [
       "<Figure size 1080x576 with 1 Axes>"
      ]
     },
     "metadata": {
      "needs_background": "light"
     },
     "output_type": "display_data"
    }
   ],
   "source": [
    "plt.figure(figsize=(15,8))\n",
    "sns.violinplot(data=data_D, x=\"성별코드\", y=\"허리둘레\", #hue=\"복부비만\",\n",
    "               split=True, inner=\"quart\", linewidth=1)\n",
    "plt.title(\"남여 비만여부별 체중 분포 현황\")\n",
    "sns.despine(left=True)"
   ]
  },
  {
   "cell_type": "code",
   "execution_count": 146,
   "metadata": {},
   "outputs": [],
   "source": [
    "data_D = data.loc[data['허리둘레']<=200]"
   ]
  },
  {
   "cell_type": "code",
   "execution_count": 145,
   "metadata": {},
   "outputs": [
    {
     "data": {
      "text/plain": [
       "2"
      ]
     },
     "execution_count": 145,
     "metadata": {},
     "output_type": "execute_result"
    }
   ],
   "source": [
    "len(data.loc[data['허리둘레']>=200])"
   ]
  },
  {
   "cell_type": "code",
   "execution_count": 144,
   "metadata": {},
   "outputs": [
    {
     "ename": "AttributeError",
     "evalue": "'numpy.ndarray' object has no attribute 'sort_values'",
     "output_type": "error",
     "traceback": [
      "\u001b[1;31m---------------------------------------------------------------------------\u001b[0m",
      "\u001b[1;31mAttributeError\u001b[0m                            Traceback (most recent call last)",
      "\u001b[1;32m~\\AppData\\Local\\Temp/ipykernel_272/1316839376.py\u001b[0m in \u001b[0;36m<module>\u001b[1;34m\u001b[0m\n\u001b[1;32m----> 1\u001b[1;33m \u001b[0mdata\u001b[0m\u001b[1;33m.\u001b[0m\u001b[0mloc\u001b[0m\u001b[1;33m[\u001b[0m\u001b[0mdata\u001b[0m\u001b[1;33m[\u001b[0m\u001b[1;34m'허리둘레'\u001b[0m\u001b[1;33m]\u001b[0m\u001b[1;33m!=\u001b[0m\u001b[1;36m999\u001b[0m\u001b[1;33m,\u001b[0m\u001b[1;34m'허리둘레'\u001b[0m\u001b[1;33m]\u001b[0m\u001b[1;33m.\u001b[0m\u001b[0munique\u001b[0m\u001b[1;33m(\u001b[0m\u001b[1;33m)\u001b[0m\u001b[1;33m.\u001b[0m\u001b[0msort_values\u001b[0m\u001b[1;33m(\u001b[0m\u001b[1;33m)\u001b[0m\u001b[1;33m\u001b[0m\u001b[1;33m\u001b[0m\u001b[0m\n\u001b[0m",
      "\u001b[1;31mAttributeError\u001b[0m: 'numpy.ndarray' object has no attribute 'sort_values'"
     ]
    }
   ],
   "source": [
    "data.loc[data['허리둘레']!=999,'허리둘레'].sort_values(by = )"
   ]
  },
  {
   "cell_type": "code",
   "execution_count": 156,
   "metadata": {},
   "outputs": [
    {
     "data": {
      "image/png": "[encoded data removed]",
      "text/plain": [
       "<Figure size 432x576 with 1 Axes>"
      ]
     },
     "metadata": {
      "needs_background": "light"
     },
     "output_type": "display_data"
    }
   ],
   "source": [
    "plt.figure(figsize=(6,8))\n",
    "box=sns.boxplot(x='성별코드',y='식전혈당(공복혈당)',data=data)\n",
    "box.set_xlabel(\"성별\")\n",
    "box.set_ylabel(\"공복혈당\")\n",
    "plt.show()"
   ]
  },
  {
   "cell_type": "code",
   "execution_count": 207,
   "metadata": {},
   "outputs": [
    {
     "data": {
      "text/html": [
       "<div>\n",
       "<style scoped>\n",
       "    .dataframe tbody tr th:only-of-type {\n",
       "        vertical-align: middle;\n",
       "    }\n",
       "\n",
       "    .dataframe tbody tr th {\n",
       "        vertical-align: top;\n",
       "    }\n",
       "\n",
       "    .dataframe thead th {\n",
       "        text-align: right;\n",
       "    }\n",
       "</style>\n",
       "<table border=\"1\" class=\"dataframe\">\n",
       "  <thead>\n",
       "    <tr style=\"text-align: right;\">\n",
       "      <th></th>\n",
       "      <th>복부비만</th>\n",
       "      <th>비해당</th>\n",
       "      <th>해당</th>\n",
       "    </tr>\n",
       "    <tr>\n",
       "      <th>성별코드</th>\n",
       "      <th>비만</th>\n",
       "      <th></th>\n",
       "      <th></th>\n",
       "    </tr>\n",
       "  </thead>\n",
       "  <tbody>\n",
       "    <tr>\n",
       "      <th rowspan=\"4\" valign=\"top\">남</th>\n",
       "      <th>과체중</th>\n",
       "      <td>90873</td>\n",
       "      <td>110121</td>\n",
       "    </tr>\n",
       "    <tr>\n",
       "      <th>비만</th>\n",
       "      <td>761</td>\n",
       "      <td>26762</td>\n",
       "    </tr>\n",
       "    <tr>\n",
       "      <th>저체중</th>\n",
       "      <td>11136</td>\n",
       "      <td>34</td>\n",
       "    </tr>\n",
       "    <tr>\n",
       "      <th>정상</th>\n",
       "      <td>242631</td>\n",
       "      <td>23401</td>\n",
       "    </tr>\n",
       "    <tr>\n",
       "      <th rowspan=\"4\" valign=\"top\">여</th>\n",
       "      <th>과체중</th>\n",
       "      <td>48113</td>\n",
       "      <td>61027</td>\n",
       "    </tr>\n",
       "    <tr>\n",
       "      <th>비만</th>\n",
       "      <td>1547</td>\n",
       "      <td>23253</td>\n",
       "    </tr>\n",
       "    <tr>\n",
       "      <th>저체중</th>\n",
       "      <td>23117</td>\n",
       "      <td>79</td>\n",
       "    </tr>\n",
       "    <tr>\n",
       "      <th>정상</th>\n",
       "      <td>296890</td>\n",
       "      <td>27474</td>\n",
       "    </tr>\n",
       "  </tbody>\n",
       "</table>\n",
       "</div>"
      ],
      "text/plain": [
       "복부비만         비해당      해당\n",
       "성별코드 비만                 \n",
       "남    과체중   90873  110121\n",
       "     비만      761   26762\n",
       "     저체중   11136      34\n",
       "     정상   242631   23401\n",
       "여    과체중   48113   61027\n",
       "     비만     1547   23253\n",
       "     저체중   23117      79\n",
       "     정상   296890   27474"
      ]
     },
     "execution_count": 207,
     "metadata": {},
     "output_type": "execute_result"
    }
   ],
   "source": [
    "data.pivot_table(index = ['성별코드','비만'],columns = '복부비만',values = '요단백', aggfunc = 'count')"
   ]
  },
  {
   "cell_type": "code",
   "execution_count": 210,
   "metadata": {},
   "outputs": [],
   "source": [
    "def bmi(x):\n",
    "    h = x['신장(5Cm단위)']\n",
    "    h *= 0.01\n",
    "    h = h ** 2\n",
    "    w = x['체중(5Kg 단위)']\n",
    "    bmi = w / h\n",
    "    return bmi"
   ]
  },
  {
   "cell_type": "code",
   "execution_count": 212,
   "metadata": {},
   "outputs": [
    {
     "data": {
      "text/plain": [
       "(987219, 25)"
      ]
     },
     "execution_count": 212,
     "metadata": {},
     "output_type": "execute_result"
    }
   ],
   "source": [
    "data['bmi'] = data.apply(bmi,axis = 1)\n",
    "data.shape"
   ]
  },
  {
   "cell_type": "code",
   "execution_count": 214,
   "metadata": {},
   "outputs": [
    {
     "data": {
      "text/plain": [
       "<seaborn.axisgrid.FacetGrid at 0x1aebeb3d250>"
      ]
     },
     "execution_count": 214,
     "metadata": {},
     "output_type": "execute_result"
    },
    {
     "data": {
      "image/png": "[encoded data removed]",
      "text/plain": [
       "<Figure size 649.6x576 with 1 Axes>"
      ]
     },
     "metadata": {
      "needs_background": "light"
     },
     "output_type": "display_data"
    }
   ],
   "source": [
    "sns.lmplot(data=data,x=\"체중(5Kg 단위)\", y=\"신장(5Cm단위)\", hue=\"성별코드\",height=8)"
   ]
  },
  {
   "cell_type": "code",
   "execution_count": null,
   "metadata": {},
   "outputs": [],
   "source": [
    "g"
   ]
  }
 ],
 "metadata": {
  "colab": {
   "collapsed_sections": [],
   "name": "22-02-11 국민건강보험공단_건강검진정보_2021_12 분석.ipynb",
   "provenance": []
  },
  "kernelspec": {
   "display_name": "Python 3 (ipykernel)",
   "language": "python",
   "name": "python3"
  },
  "language_info": {
   "codemirror_mode": {
    "name": "ipython",
    "version": 3
   },
   "file_extension": ".py",
   "mimetype": "text/x-python",
   "name": "python",
   "nbconvert_exporter": "python",
   "pygments_lexer": "ipython3",
   "version": "3.9.7"
  },
  "toc": {
   "base_numbering": 1,
   "nav_menu": {},
   "number_sections": true,
   "sideBar": true,
   "skip_h1_title": false,
   "title_cell": "Table of Contents",
   "title_sidebar": "Contents",
   "toc_cell": false,
   "toc_position": {},
   "toc_section_display": true,
   "toc_window_display": false
  },
  "varInspector": {
   "cols": {
    "lenName": 16,
    "lenType": 16,
    "lenVar": 40
   },
   "kernels_config": {
    "python": {
     "delete_cmd_postfix": "",
     "delete_cmd_prefix": "del ",
     "library": "var_list.py",
     "varRefreshCmd": "print(var_dic_list())"
    },
    "r": {
     "delete_cmd_postfix": ") ",
     "delete_cmd_prefix": "rm(",
     "library": "var_list.r",
     "varRefreshCmd": "cat(var_dic_list()) "
    }
   },
   "types_to_exclude": [
    "module",
    "function",
    "builtin_function_or_method",
    "instance",
    "_Feature"
   ],
   "window_display": false
  }
 },
 "nbformat": 4,
 "nbformat_minor": 1
}
