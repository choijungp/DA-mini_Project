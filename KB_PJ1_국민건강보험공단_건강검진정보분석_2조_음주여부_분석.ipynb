{
 "cells": [
  {
   "cell_type": "markdown",
   "metadata": {
    "id": "gjr42eVdQOql"
   },
   "source": [
    "# 국민건강보험공단 건강검진정보 분석"
   ]
  },
  {
   "cell_type": "markdown",
   "metadata": {},
   "source": [
    "## 건강검진정보 데이터 불러오기"
   ]
  },
  {
   "cell_type": "code",
   "execution_count": 1,
   "metadata": {
    "id": "0iAeZkFtWxzH"
   },
   "outputs": [],
   "source": [
    "url1=\"https://raw.githubusercontent.com/KimYounghwan/bigdata/master/%EA%B5%AD%EB%AF%BC%EA%B1%B4%EA%B0%95%EB%B3%B4%ED%97%98%EA%B3%B5%EB%8B%A8_%EA%B1%B4%EA%B0%95%EA%B2%80%EC%A7%84%EC%A0%95%EB%B3%B4_20211229_1.CSV\"\n",
    "url2=\"https://raw.githubusercontent.com/KimYounghwan/bigdata/master/%EA%B5%AD%EB%AF%BC%EA%B1%B4%EA%B0%95%EB%B3%B4%ED%97%98%EA%B3%B5%EB%8B%A8_%EA%B1%B4%EA%B0%95%EA%B2%80%EC%A7%84%EC%A0%95%EB%B3%B4_20211229_2.CSV\"\n",
    "url3=\"https://raw.githubusercontent.com/KimYounghwan/bigdata/master/%EA%B5%AD%EB%AF%BC%EA%B1%B4%EA%B0%95%EB%B3%B4%ED%97%98%EA%B3%B5%EB%8B%A8_%EA%B1%B4%EA%B0%95%EA%B2%80%EC%A7%84%EC%A0%95%EB%B3%B4_20211229_3.CSV\"\n",
    "url4=\"https://raw.githubusercontent.com/KimYounghwan/bigdata/master/%EA%B5%AD%EB%AF%BC%EA%B1%B4%EA%B0%95%EB%B3%B4%ED%97%98%EA%B3%B5%EB%8B%A8_%EA%B1%B4%EA%B0%95%EA%B2%80%EC%A7%84%EC%A0%95%EB%B3%B4_20211229_4.CSV\""
   ]
  },
  {
   "cell_type": "code",
   "execution_count": 2,
   "metadata": {
    "id": "8MWkVQG7Wx1x"
   },
   "outputs": [],
   "source": [
    "import pandas as pd\n",
    "\n",
    "검진정보1=pd.read_csv(url1)\n",
    "검진정보2=pd.read_csv(url2)\n",
    "검진정보3=pd.read_csv(url3)\n",
    "검진정보4=pd.read_csv(url4)"
   ]
  },
  {
   "cell_type": "code",
   "execution_count": 3,
   "metadata": {},
   "outputs": [
    {
     "data": {
      "text/html": [
       "<div>\n",
       "<style scoped>\n",
       "    .dataframe tbody tr th:only-of-type {\n",
       "        vertical-align: middle;\n",
       "    }\n",
       "\n",
       "    .dataframe tbody tr th {\n",
       "        vertical-align: top;\n",
       "    }\n",
       "\n",
       "    .dataframe thead th {\n",
       "        text-align: right;\n",
       "    }\n",
       "</style>\n",
       "<table border=\"1\" class=\"dataframe\">\n",
       "  <thead>\n",
       "    <tr style=\"text-align: right;\">\n",
       "      <th></th>\n",
       "      <th>기준년도</th>\n",
       "      <th>가입자 일련번호</th>\n",
       "      <th>시도코드</th>\n",
       "      <th>성별코드</th>\n",
       "      <th>연령대 코드(5세단위)</th>\n",
       "      <th>신장(5Cm단위)</th>\n",
       "      <th>체중(5Kg 단위)</th>\n",
       "      <th>허리둘레</th>\n",
       "      <th>시력(좌)</th>\n",
       "      <th>시력(우)</th>\n",
       "      <th>...</th>\n",
       "      <th>혈청크레아티닌</th>\n",
       "      <th>(혈청지오티)AST</th>\n",
       "      <th>(혈청지오티)ALT</th>\n",
       "      <th>감마 지티피</th>\n",
       "      <th>흡연상태</th>\n",
       "      <th>음주여부</th>\n",
       "      <th>구강검진 수검여부</th>\n",
       "      <th>치아우식증유무</th>\n",
       "      <th>치석</th>\n",
       "      <th>데이터 공개일자</th>\n",
       "    </tr>\n",
       "  </thead>\n",
       "  <tbody>\n",
       "    <tr>\n",
       "      <th>0</th>\n",
       "      <td>2020</td>\n",
       "      <td>1</td>\n",
       "      <td>36</td>\n",
       "      <td>1</td>\n",
       "      <td>9</td>\n",
       "      <td>165</td>\n",
       "      <td>60</td>\n",
       "      <td>72.1</td>\n",
       "      <td>1.2</td>\n",
       "      <td>1.5</td>\n",
       "      <td>...</td>\n",
       "      <td>1.1</td>\n",
       "      <td>21.0</td>\n",
       "      <td>27.0</td>\n",
       "      <td>21.0</td>\n",
       "      <td>1.0</td>\n",
       "      <td>0.0</td>\n",
       "      <td>0</td>\n",
       "      <td>NaN</td>\n",
       "      <td>NaN</td>\n",
       "      <td>2021-12-29</td>\n",
       "    </tr>\n",
       "    <tr>\n",
       "      <th>1</th>\n",
       "      <td>2020</td>\n",
       "      <td>2</td>\n",
       "      <td>27</td>\n",
       "      <td>2</td>\n",
       "      <td>13</td>\n",
       "      <td>150</td>\n",
       "      <td>65</td>\n",
       "      <td>81.0</td>\n",
       "      <td>0.8</td>\n",
       "      <td>0.8</td>\n",
       "      <td>...</td>\n",
       "      <td>0.5</td>\n",
       "      <td>18.0</td>\n",
       "      <td>15.0</td>\n",
       "      <td>15.0</td>\n",
       "      <td>1.0</td>\n",
       "      <td>0.0</td>\n",
       "      <td>0</td>\n",
       "      <td>NaN</td>\n",
       "      <td>NaN</td>\n",
       "      <td>2021-12-29</td>\n",
       "    </tr>\n",
       "    <tr>\n",
       "      <th>2</th>\n",
       "      <td>2020</td>\n",
       "      <td>3</td>\n",
       "      <td>11</td>\n",
       "      <td>2</td>\n",
       "      <td>12</td>\n",
       "      <td>155</td>\n",
       "      <td>55</td>\n",
       "      <td>70.0</td>\n",
       "      <td>0.6</td>\n",
       "      <td>0.7</td>\n",
       "      <td>...</td>\n",
       "      <td>0.7</td>\n",
       "      <td>27.0</td>\n",
       "      <td>25.0</td>\n",
       "      <td>7.0</td>\n",
       "      <td>1.0</td>\n",
       "      <td>0.0</td>\n",
       "      <td>0</td>\n",
       "      <td>NaN</td>\n",
       "      <td>NaN</td>\n",
       "      <td>2021-12-29</td>\n",
       "    </tr>\n",
       "    <tr>\n",
       "      <th>3</th>\n",
       "      <td>2020</td>\n",
       "      <td>4</td>\n",
       "      <td>31</td>\n",
       "      <td>1</td>\n",
       "      <td>13</td>\n",
       "      <td>160</td>\n",
       "      <td>70</td>\n",
       "      <td>90.8</td>\n",
       "      <td>1.0</td>\n",
       "      <td>1.0</td>\n",
       "      <td>...</td>\n",
       "      <td>1.2</td>\n",
       "      <td>65.0</td>\n",
       "      <td>97.0</td>\n",
       "      <td>72.0</td>\n",
       "      <td>1.0</td>\n",
       "      <td>0.0</td>\n",
       "      <td>1</td>\n",
       "      <td>0.0</td>\n",
       "      <td>0.0</td>\n",
       "      <td>2021-12-29</td>\n",
       "    </tr>\n",
       "    <tr>\n",
       "      <th>4</th>\n",
       "      <td>2020</td>\n",
       "      <td>5</td>\n",
       "      <td>41</td>\n",
       "      <td>2</td>\n",
       "      <td>12</td>\n",
       "      <td>155</td>\n",
       "      <td>50</td>\n",
       "      <td>75.2</td>\n",
       "      <td>1.5</td>\n",
       "      <td>1.2</td>\n",
       "      <td>...</td>\n",
       "      <td>0.7</td>\n",
       "      <td>18.0</td>\n",
       "      <td>17.0</td>\n",
       "      <td>14.0</td>\n",
       "      <td>1.0</td>\n",
       "      <td>0.0</td>\n",
       "      <td>0</td>\n",
       "      <td>NaN</td>\n",
       "      <td>NaN</td>\n",
       "      <td>2021-12-29</td>\n",
       "    </tr>\n",
       "    <tr>\n",
       "      <th>...</th>\n",
       "      <td>...</td>\n",
       "      <td>...</td>\n",
       "      <td>...</td>\n",
       "      <td>...</td>\n",
       "      <td>...</td>\n",
       "      <td>...</td>\n",
       "      <td>...</td>\n",
       "      <td>...</td>\n",
       "      <td>...</td>\n",
       "      <td>...</td>\n",
       "      <td>...</td>\n",
       "      <td>...</td>\n",
       "      <td>...</td>\n",
       "      <td>...</td>\n",
       "      <td>...</td>\n",
       "      <td>...</td>\n",
       "      <td>...</td>\n",
       "      <td>...</td>\n",
       "      <td>...</td>\n",
       "      <td>...</td>\n",
       "      <td>...</td>\n",
       "    </tr>\n",
       "    <tr>\n",
       "      <th>249995</th>\n",
       "      <td>2020</td>\n",
       "      <td>999996</td>\n",
       "      <td>41</td>\n",
       "      <td>2</td>\n",
       "      <td>13</td>\n",
       "      <td>145</td>\n",
       "      <td>55</td>\n",
       "      <td>81.0</td>\n",
       "      <td>0.9</td>\n",
       "      <td>1.0</td>\n",
       "      <td>...</td>\n",
       "      <td>0.6</td>\n",
       "      <td>21.0</td>\n",
       "      <td>25.0</td>\n",
       "      <td>18.0</td>\n",
       "      <td>1.0</td>\n",
       "      <td>0.0</td>\n",
       "      <td>0</td>\n",
       "      <td>NaN</td>\n",
       "      <td>NaN</td>\n",
       "      <td>2021-12-29</td>\n",
       "    </tr>\n",
       "    <tr>\n",
       "      <th>249996</th>\n",
       "      <td>2020</td>\n",
       "      <td>999997</td>\n",
       "      <td>26</td>\n",
       "      <td>2</td>\n",
       "      <td>12</td>\n",
       "      <td>160</td>\n",
       "      <td>55</td>\n",
       "      <td>76.5</td>\n",
       "      <td>1.5</td>\n",
       "      <td>1.5</td>\n",
       "      <td>...</td>\n",
       "      <td>0.8</td>\n",
       "      <td>21.0</td>\n",
       "      <td>14.0</td>\n",
       "      <td>19.0</td>\n",
       "      <td>1.0</td>\n",
       "      <td>1.0</td>\n",
       "      <td>0</td>\n",
       "      <td>NaN</td>\n",
       "      <td>NaN</td>\n",
       "      <td>2021-12-29</td>\n",
       "    </tr>\n",
       "    <tr>\n",
       "      <th>249997</th>\n",
       "      <td>2020</td>\n",
       "      <td>999998</td>\n",
       "      <td>48</td>\n",
       "      <td>1</td>\n",
       "      <td>9</td>\n",
       "      <td>175</td>\n",
       "      <td>70</td>\n",
       "      <td>85.0</td>\n",
       "      <td>1.2</td>\n",
       "      <td>1.2</td>\n",
       "      <td>...</td>\n",
       "      <td>0.9</td>\n",
       "      <td>26.0</td>\n",
       "      <td>20.0</td>\n",
       "      <td>17.0</td>\n",
       "      <td>1.0</td>\n",
       "      <td>1.0</td>\n",
       "      <td>0</td>\n",
       "      <td>NaN</td>\n",
       "      <td>NaN</td>\n",
       "      <td>2021-12-29</td>\n",
       "    </tr>\n",
       "    <tr>\n",
       "      <th>249998</th>\n",
       "      <td>2020</td>\n",
       "      <td>999999</td>\n",
       "      <td>48</td>\n",
       "      <td>2</td>\n",
       "      <td>9</td>\n",
       "      <td>160</td>\n",
       "      <td>70</td>\n",
       "      <td>91.0</td>\n",
       "      <td>0.6</td>\n",
       "      <td>0.5</td>\n",
       "      <td>...</td>\n",
       "      <td>1.0</td>\n",
       "      <td>25.0</td>\n",
       "      <td>29.0</td>\n",
       "      <td>13.0</td>\n",
       "      <td>1.0</td>\n",
       "      <td>0.0</td>\n",
       "      <td>0</td>\n",
       "      <td>NaN</td>\n",
       "      <td>NaN</td>\n",
       "      <td>2021-12-29</td>\n",
       "    </tr>\n",
       "    <tr>\n",
       "      <th>249999</th>\n",
       "      <td>2020</td>\n",
       "      <td>1000000</td>\n",
       "      <td>28</td>\n",
       "      <td>1</td>\n",
       "      <td>11</td>\n",
       "      <td>160</td>\n",
       "      <td>55</td>\n",
       "      <td>76.1</td>\n",
       "      <td>2.0</td>\n",
       "      <td>2.0</td>\n",
       "      <td>...</td>\n",
       "      <td>0.9</td>\n",
       "      <td>17.0</td>\n",
       "      <td>13.0</td>\n",
       "      <td>24.0</td>\n",
       "      <td>2.0</td>\n",
       "      <td>0.0</td>\n",
       "      <td>0</td>\n",
       "      <td>NaN</td>\n",
       "      <td>NaN</td>\n",
       "      <td>2021-12-29</td>\n",
       "    </tr>\n",
       "  </tbody>\n",
       "</table>\n",
       "<p>1000000 rows × 31 columns</p>\n",
       "</div>"
      ],
      "text/plain": [
       "        기준년도  가입자 일련번호  시도코드  성별코드  연령대 코드(5세단위)  신장(5Cm단위)  체중(5Kg 단위)  허리둘레  \\\n",
       "0       2020         1    36     1             9        165          60  72.1   \n",
       "1       2020         2    27     2            13        150          65  81.0   \n",
       "2       2020         3    11     2            12        155          55  70.0   \n",
       "3       2020         4    31     1            13        160          70  90.8   \n",
       "4       2020         5    41     2            12        155          50  75.2   \n",
       "...      ...       ...   ...   ...           ...        ...         ...   ...   \n",
       "249995  2020    999996    41     2            13        145          55  81.0   \n",
       "249996  2020    999997    26     2            12        160          55  76.5   \n",
       "249997  2020    999998    48     1             9        175          70  85.0   \n",
       "249998  2020    999999    48     2             9        160          70  91.0   \n",
       "249999  2020   1000000    28     1            11        160          55  76.1   \n",
       "\n",
       "        시력(좌)  시력(우)  ...  혈청크레아티닌  (혈청지오티)AST  (혈청지오티)ALT  감마 지티피  흡연상태  \\\n",
       "0         1.2    1.5  ...      1.1        21.0        27.0    21.0   1.0   \n",
       "1         0.8    0.8  ...      0.5        18.0        15.0    15.0   1.0   \n",
       "2         0.6    0.7  ...      0.7        27.0        25.0     7.0   1.0   \n",
       "3         1.0    1.0  ...      1.2        65.0        97.0    72.0   1.0   \n",
       "4         1.5    1.2  ...      0.7        18.0        17.0    14.0   1.0   \n",
       "...       ...    ...  ...      ...         ...         ...     ...   ...   \n",
       "249995    0.9    1.0  ...      0.6        21.0        25.0    18.0   1.0   \n",
       "249996    1.5    1.5  ...      0.8        21.0        14.0    19.0   1.0   \n",
       "249997    1.2    1.2  ...      0.9        26.0        20.0    17.0   1.0   \n",
       "249998    0.6    0.5  ...      1.0        25.0        29.0    13.0   1.0   \n",
       "249999    2.0    2.0  ...      0.9        17.0        13.0    24.0   2.0   \n",
       "\n",
       "        음주여부  구강검진 수검여부  치아우식증유무   치석    데이터 공개일자  \n",
       "0        0.0          0      NaN  NaN  2021-12-29  \n",
       "1        0.0          0      NaN  NaN  2021-12-29  \n",
       "2        0.0          0      NaN  NaN  2021-12-29  \n",
       "3        0.0          1      0.0  0.0  2021-12-29  \n",
       "4        0.0          0      NaN  NaN  2021-12-29  \n",
       "...      ...        ...      ...  ...         ...  \n",
       "249995   0.0          0      NaN  NaN  2021-12-29  \n",
       "249996   1.0          0      NaN  NaN  2021-12-29  \n",
       "249997   1.0          0      NaN  NaN  2021-12-29  \n",
       "249998   0.0          0      NaN  NaN  2021-12-29  \n",
       "249999   0.0          0      NaN  NaN  2021-12-29  \n",
       "\n",
       "[1000000 rows x 31 columns]"
      ]
     },
     "execution_count": 3,
     "metadata": {},
     "output_type": "execute_result"
    }
   ],
   "source": [
    "검진정보 = 검진정보1.append(검진정보2).append(검진정보3).append(검진정보4)\n",
    "검진정보"
   ]
  },
  {
   "cell_type": "code",
   "execution_count": 4,
   "metadata": {
    "id": "onFzwCc5Wx7W"
   },
   "outputs": [
    {
     "data": {
      "text/plain": [
       "Index(['기준년도', '가입자 일련번호', '시도코드', '성별코드', '연령대 코드(5세단위)', '신장(5Cm단위)',\n",
       "       '체중(5Kg 단위)', '허리둘레', '시력(좌)', '시력(우)', '청력(좌)', '청력(우)', '수축기 혈압',\n",
       "       '이완기 혈압', '식전혈당(공복혈당)', '총 콜레스테롤', '트리글리세라이드', 'HDL 콜레스테롤', 'LDL 콜레스테롤',\n",
       "       '혈색소', '요단백', '혈청크레아티닌', '(혈청지오티)AST', '(혈청지오티)ALT', '감마 지티피', '흡연상태',\n",
       "       '음주여부', '구강검진 수검여부', '치아우식증유무', '치석', '데이터 공개일자'],\n",
       "      dtype='object')"
      ]
     },
     "execution_count": 4,
     "metadata": {},
     "output_type": "execute_result"
    }
   ],
   "source": [
    "검진정보.columns"
   ]
  },
  {
   "cell_type": "code",
   "execution_count": 192,
   "metadata": {},
   "outputs": [
    {
     "data": {
      "text/html": [
       "<div>\n",
       "<style scoped>\n",
       "    .dataframe tbody tr th:only-of-type {\n",
       "        vertical-align: middle;\n",
       "    }\n",
       "\n",
       "    .dataframe tbody tr th {\n",
       "        vertical-align: top;\n",
       "    }\n",
       "\n",
       "    .dataframe thead th {\n",
       "        text-align: right;\n",
       "    }\n",
       "</style>\n",
       "<table border=\"1\" class=\"dataframe\">\n",
       "  <thead>\n",
       "    <tr style=\"text-align: right;\">\n",
       "      <th></th>\n",
       "      <th>성별코드</th>\n",
       "      <th>연령대 코드(5세단위)</th>\n",
       "      <th>신장(5Cm단위)</th>\n",
       "      <th>체중(5Kg 단위)</th>\n",
       "      <th>허리둘레</th>\n",
       "      <th>수축기 혈압</th>\n",
       "      <th>이완기 혈압</th>\n",
       "      <th>식전혈당(공복혈당)</th>\n",
       "      <th>혈색소</th>\n",
       "      <th>요단백</th>\n",
       "      <th>...</th>\n",
       "      <th>흡연상태</th>\n",
       "      <th>음주여부</th>\n",
       "      <th>구강검진 수검여부</th>\n",
       "      <th>시도명</th>\n",
       "      <th>복부비만</th>\n",
       "      <th>비만</th>\n",
       "      <th>빈혈</th>\n",
       "      <th>당뇨</th>\n",
       "      <th>혈압</th>\n",
       "      <th>간 기능 이상</th>\n",
       "    </tr>\n",
       "  </thead>\n",
       "  <tbody>\n",
       "    <tr>\n",
       "      <th>0</th>\n",
       "      <td>남</td>\n",
       "      <td>9</td>\n",
       "      <td>165</td>\n",
       "      <td>60</td>\n",
       "      <td>72.1</td>\n",
       "      <td>127.0</td>\n",
       "      <td>79.0</td>\n",
       "      <td>90.0</td>\n",
       "      <td>15.0</td>\n",
       "      <td>1.0</td>\n",
       "      <td>...</td>\n",
       "      <td>1.0</td>\n",
       "      <td>X</td>\n",
       "      <td>0</td>\n",
       "      <td>세종</td>\n",
       "      <td>비해당</td>\n",
       "      <td>정상</td>\n",
       "      <td>비해당</td>\n",
       "      <td>정상</td>\n",
       "      <td>정상</td>\n",
       "      <td>정상</td>\n",
       "    </tr>\n",
       "    <tr>\n",
       "      <th>1</th>\n",
       "      <td>여</td>\n",
       "      <td>13</td>\n",
       "      <td>150</td>\n",
       "      <td>65</td>\n",
       "      <td>81.0</td>\n",
       "      <td>110.0</td>\n",
       "      <td>73.0</td>\n",
       "      <td>87.0</td>\n",
       "      <td>12.7</td>\n",
       "      <td>1.0</td>\n",
       "      <td>...</td>\n",
       "      <td>1.0</td>\n",
       "      <td>X</td>\n",
       "      <td>0</td>\n",
       "      <td>대구</td>\n",
       "      <td>비해당</td>\n",
       "      <td>과체중</td>\n",
       "      <td>비해당</td>\n",
       "      <td>정상</td>\n",
       "      <td>정상</td>\n",
       "      <td>정상</td>\n",
       "    </tr>\n",
       "    <tr>\n",
       "      <th>2</th>\n",
       "      <td>여</td>\n",
       "      <td>12</td>\n",
       "      <td>155</td>\n",
       "      <td>55</td>\n",
       "      <td>70.0</td>\n",
       "      <td>123.0</td>\n",
       "      <td>80.0</td>\n",
       "      <td>102.0</td>\n",
       "      <td>12.8</td>\n",
       "      <td>1.0</td>\n",
       "      <td>...</td>\n",
       "      <td>1.0</td>\n",
       "      <td>X</td>\n",
       "      <td>0</td>\n",
       "      <td>서울</td>\n",
       "      <td>비해당</td>\n",
       "      <td>정상</td>\n",
       "      <td>비해당</td>\n",
       "      <td>정상</td>\n",
       "      <td>정상</td>\n",
       "      <td>정상</td>\n",
       "    </tr>\n",
       "    <tr>\n",
       "      <th>3</th>\n",
       "      <td>남</td>\n",
       "      <td>13</td>\n",
       "      <td>160</td>\n",
       "      <td>70</td>\n",
       "      <td>90.8</td>\n",
       "      <td>134.0</td>\n",
       "      <td>84.0</td>\n",
       "      <td>146.0</td>\n",
       "      <td>16.4</td>\n",
       "      <td>1.0</td>\n",
       "      <td>...</td>\n",
       "      <td>1.0</td>\n",
       "      <td>X</td>\n",
       "      <td>1</td>\n",
       "      <td>울산</td>\n",
       "      <td>해당</td>\n",
       "      <td>과체중</td>\n",
       "      <td>비해당</td>\n",
       "      <td>질환 의심</td>\n",
       "      <td>정상</td>\n",
       "      <td>질환의심</td>\n",
       "    </tr>\n",
       "    <tr>\n",
       "      <th>4</th>\n",
       "      <td>여</td>\n",
       "      <td>12</td>\n",
       "      <td>155</td>\n",
       "      <td>50</td>\n",
       "      <td>75.2</td>\n",
       "      <td>144.0</td>\n",
       "      <td>89.0</td>\n",
       "      <td>110.0</td>\n",
       "      <td>12.4</td>\n",
       "      <td>1.0</td>\n",
       "      <td>...</td>\n",
       "      <td>1.0</td>\n",
       "      <td>X</td>\n",
       "      <td>0</td>\n",
       "      <td>경기</td>\n",
       "      <td>비해당</td>\n",
       "      <td>정상</td>\n",
       "      <td>비해당</td>\n",
       "      <td>정상</td>\n",
       "      <td>정상</td>\n",
       "      <td>정상</td>\n",
       "    </tr>\n",
       "  </tbody>\n",
       "</table>\n",
       "<p>5 rows × 24 columns</p>\n",
       "</div>"
      ],
      "text/plain": [
       "  성별코드  연령대 코드(5세단위)  신장(5Cm단위)  체중(5Kg 단위)  허리둘레  수축기 혈압  이완기 혈압  식전혈당(공복혈당)  \\\n",
       "0    남             9        165          60  72.1   127.0    79.0        90.0   \n",
       "1    여            13        150          65  81.0   110.0    73.0        87.0   \n",
       "2    여            12        155          55  70.0   123.0    80.0       102.0   \n",
       "3    남            13        160          70  90.8   134.0    84.0       146.0   \n",
       "4    여            12        155          50  75.2   144.0    89.0       110.0   \n",
       "\n",
       "    혈색소  요단백  ...  흡연상태  음주여부  구강검진 수검여부  시도명  복부비만   비만   빈혈     당뇨  혈압  \\\n",
       "0  15.0  1.0  ...   1.0     X          0   세종   비해당   정상  비해당     정상  정상   \n",
       "1  12.7  1.0  ...   1.0     X          0   대구   비해당  과체중  비해당     정상  정상   \n",
       "2  12.8  1.0  ...   1.0     X          0   서울   비해당   정상  비해당     정상  정상   \n",
       "3  16.4  1.0  ...   1.0     X          1   울산    해당  과체중  비해당  질환 의심  정상   \n",
       "4  12.4  1.0  ...   1.0     X          0   경기   비해당   정상  비해당     정상  정상   \n",
       "\n",
       "  간 기능 이상  \n",
       "0      정상  \n",
       "1      정상  \n",
       "2      정상  \n",
       "3    질환의심  \n",
       "4      정상  \n",
       "\n",
       "[5 rows x 24 columns]"
      ]
     },
     "execution_count": 192,
     "metadata": {},
     "output_type": "execute_result"
    }
   ],
   "source": [
    "df.head()"
   ]
  },
  {
   "cell_type": "markdown",
   "metadata": {},
   "source": [
    "## 데이터 복사 및 전처리 작업"
   ]
  },
  {
   "cell_type": "code",
   "execution_count": 64,
   "metadata": {},
   "outputs": [],
   "source": [
    "df = 검진정보.copy()"
   ]
  },
  {
   "cell_type": "code",
   "execution_count": 65,
   "metadata": {
    "id": "L0uYejtmWx9v"
   },
   "outputs": [
    {
     "data": {
      "text/plain": [
       "기준년도                 0\n",
       "가입자 일련번호             0\n",
       "시도코드                 0\n",
       "성별코드                 0\n",
       "연령대 코드(5세단위)         0\n",
       "신장(5Cm단위)            0\n",
       "체중(5Kg 단위)           0\n",
       "허리둘레               108\n",
       "시력(좌)              257\n",
       "시력(우)              252\n",
       "청력(좌)              222\n",
       "청력(우)              230\n",
       "수축기 혈압            7532\n",
       "이완기 혈압            7534\n",
       "식전혈당(공복혈당)        7602\n",
       "총 콜레스테롤         597694\n",
       "트리글리세라이드        597678\n",
       "HDL 콜레스테롤       597685\n",
       "LDL 콜레스테롤       605529\n",
       "혈색소               7611\n",
       "요단백              12141\n",
       "혈청크레아티닌           7602\n",
       "(혈청지오티)AST        7601\n",
       "(혈청지오티)ALT        7602\n",
       "감마 지티피            7603\n",
       "흡연상태               343\n",
       "음주여부               196\n",
       "구강검진 수검여부            0\n",
       "치아우식증유무         668617\n",
       "치석              668618\n",
       "데이터 공개일자             0\n",
       "dtype: int64"
      ]
     },
     "execution_count": 65,
     "metadata": {},
     "output_type": "execute_result"
    }
   ],
   "source": [
    "#결측값 확인\n",
    "df.isnull().sum()"
   ]
  },
  {
   "cell_type": "code",
   "execution_count": 66,
   "metadata": {
    "id": "VLJ8n6jEWyAC"
   },
   "outputs": [
    {
     "data": {
      "text/html": [
       "<div>\n",
       "<style scoped>\n",
       "    .dataframe tbody tr th:only-of-type {\n",
       "        vertical-align: middle;\n",
       "    }\n",
       "\n",
       "    .dataframe tbody tr th {\n",
       "        vertical-align: top;\n",
       "    }\n",
       "\n",
       "    .dataframe thead th {\n",
       "        text-align: right;\n",
       "    }\n",
       "</style>\n",
       "<table border=\"1\" class=\"dataframe\">\n",
       "  <thead>\n",
       "    <tr style=\"text-align: right;\">\n",
       "      <th></th>\n",
       "      <th>기준년도</th>\n",
       "      <th>가입자 일련번호</th>\n",
       "      <th>시도코드</th>\n",
       "      <th>성별코드</th>\n",
       "      <th>연령대 코드(5세단위)</th>\n",
       "      <th>신장(5Cm단위)</th>\n",
       "      <th>체중(5Kg 단위)</th>\n",
       "      <th>허리둘레</th>\n",
       "      <th>시력(좌)</th>\n",
       "      <th>시력(우)</th>\n",
       "      <th>...</th>\n",
       "      <th>(혈청지오티)AST</th>\n",
       "      <th>(혈청지오티)ALT</th>\n",
       "      <th>감마 지티피</th>\n",
       "      <th>흡연상태</th>\n",
       "      <th>음주여부</th>\n",
       "      <th>구강검진 수검여부</th>\n",
       "      <th>치아우식증유무</th>\n",
       "      <th>치석</th>\n",
       "      <th>데이터 공개일자</th>\n",
       "      <th>시도명</th>\n",
       "    </tr>\n",
       "  </thead>\n",
       "  <tbody>\n",
       "    <tr>\n",
       "      <th>0</th>\n",
       "      <td>2020</td>\n",
       "      <td>1</td>\n",
       "      <td>36</td>\n",
       "      <td>1</td>\n",
       "      <td>9</td>\n",
       "      <td>165</td>\n",
       "      <td>60</td>\n",
       "      <td>72.1</td>\n",
       "      <td>1.2</td>\n",
       "      <td>1.5</td>\n",
       "      <td>...</td>\n",
       "      <td>21.0</td>\n",
       "      <td>27.0</td>\n",
       "      <td>21.0</td>\n",
       "      <td>1.0</td>\n",
       "      <td>0.0</td>\n",
       "      <td>0</td>\n",
       "      <td>NaN</td>\n",
       "      <td>NaN</td>\n",
       "      <td>2021-12-29</td>\n",
       "      <td>세종</td>\n",
       "    </tr>\n",
       "    <tr>\n",
       "      <th>1</th>\n",
       "      <td>2020</td>\n",
       "      <td>2</td>\n",
       "      <td>27</td>\n",
       "      <td>2</td>\n",
       "      <td>13</td>\n",
       "      <td>150</td>\n",
       "      <td>65</td>\n",
       "      <td>81.0</td>\n",
       "      <td>0.8</td>\n",
       "      <td>0.8</td>\n",
       "      <td>...</td>\n",
       "      <td>18.0</td>\n",
       "      <td>15.0</td>\n",
       "      <td>15.0</td>\n",
       "      <td>1.0</td>\n",
       "      <td>0.0</td>\n",
       "      <td>0</td>\n",
       "      <td>NaN</td>\n",
       "      <td>NaN</td>\n",
       "      <td>2021-12-29</td>\n",
       "      <td>대구</td>\n",
       "    </tr>\n",
       "    <tr>\n",
       "      <th>2</th>\n",
       "      <td>2020</td>\n",
       "      <td>3</td>\n",
       "      <td>11</td>\n",
       "      <td>2</td>\n",
       "      <td>12</td>\n",
       "      <td>155</td>\n",
       "      <td>55</td>\n",
       "      <td>70.0</td>\n",
       "      <td>0.6</td>\n",
       "      <td>0.7</td>\n",
       "      <td>...</td>\n",
       "      <td>27.0</td>\n",
       "      <td>25.0</td>\n",
       "      <td>7.0</td>\n",
       "      <td>1.0</td>\n",
       "      <td>0.0</td>\n",
       "      <td>0</td>\n",
       "      <td>NaN</td>\n",
       "      <td>NaN</td>\n",
       "      <td>2021-12-29</td>\n",
       "      <td>서울</td>\n",
       "    </tr>\n",
       "    <tr>\n",
       "      <th>3</th>\n",
       "      <td>2020</td>\n",
       "      <td>4</td>\n",
       "      <td>31</td>\n",
       "      <td>1</td>\n",
       "      <td>13</td>\n",
       "      <td>160</td>\n",
       "      <td>70</td>\n",
       "      <td>90.8</td>\n",
       "      <td>1.0</td>\n",
       "      <td>1.0</td>\n",
       "      <td>...</td>\n",
       "      <td>65.0</td>\n",
       "      <td>97.0</td>\n",
       "      <td>72.0</td>\n",
       "      <td>1.0</td>\n",
       "      <td>0.0</td>\n",
       "      <td>1</td>\n",
       "      <td>0.0</td>\n",
       "      <td>0.0</td>\n",
       "      <td>2021-12-29</td>\n",
       "      <td>울산</td>\n",
       "    </tr>\n",
       "    <tr>\n",
       "      <th>4</th>\n",
       "      <td>2020</td>\n",
       "      <td>5</td>\n",
       "      <td>41</td>\n",
       "      <td>2</td>\n",
       "      <td>12</td>\n",
       "      <td>155</td>\n",
       "      <td>50</td>\n",
       "      <td>75.2</td>\n",
       "      <td>1.5</td>\n",
       "      <td>1.2</td>\n",
       "      <td>...</td>\n",
       "      <td>18.0</td>\n",
       "      <td>17.0</td>\n",
       "      <td>14.0</td>\n",
       "      <td>1.0</td>\n",
       "      <td>0.0</td>\n",
       "      <td>0</td>\n",
       "      <td>NaN</td>\n",
       "      <td>NaN</td>\n",
       "      <td>2021-12-29</td>\n",
       "      <td>경기</td>\n",
       "    </tr>\n",
       "  </tbody>\n",
       "</table>\n",
       "<p>5 rows × 32 columns</p>\n",
       "</div>"
      ],
      "text/plain": [
       "   기준년도  가입자 일련번호  시도코드  성별코드  연령대 코드(5세단위)  신장(5Cm단위)  체중(5Kg 단위)  허리둘레  \\\n",
       "0  2020         1    36     1             9        165          60  72.1   \n",
       "1  2020         2    27     2            13        150          65  81.0   \n",
       "2  2020         3    11     2            12        155          55  70.0   \n",
       "3  2020         4    31     1            13        160          70  90.8   \n",
       "4  2020         5    41     2            12        155          50  75.2   \n",
       "\n",
       "   시력(좌)  시력(우)  ...  (혈청지오티)AST  (혈청지오티)ALT  감마 지티피  흡연상태  음주여부  구강검진 수검여부  \\\n",
       "0    1.2    1.5  ...        21.0        27.0    21.0   1.0   0.0          0   \n",
       "1    0.8    0.8  ...        18.0        15.0    15.0   1.0   0.0          0   \n",
       "2    0.6    0.7  ...        27.0        25.0     7.0   1.0   0.0          0   \n",
       "3    1.0    1.0  ...        65.0        97.0    72.0   1.0   0.0          1   \n",
       "4    1.5    1.2  ...        18.0        17.0    14.0   1.0   0.0          0   \n",
       "\n",
       "   치아우식증유무   치석    데이터 공개일자  시도명  \n",
       "0      NaN  NaN  2021-12-29   세종  \n",
       "1      NaN  NaN  2021-12-29   대구  \n",
       "2      NaN  NaN  2021-12-29   서울  \n",
       "3      0.0  0.0  2021-12-29   울산  \n",
       "4      NaN  NaN  2021-12-29   경기  \n",
       "\n",
       "[5 rows x 32 columns]"
      ]
     },
     "execution_count": 66,
     "metadata": {},
     "output_type": "execute_result"
    }
   ],
   "source": [
    "#시도코드를 활용하여 시도명 컬럼을 새롭게 생성\n",
    "\n",
    "def sido(x):\n",
    "    if x == 11:\n",
    "        return '서울'\n",
    "    elif x==26:\n",
    "        return '부산'\n",
    "    elif x==27:\n",
    "        return '대구'\n",
    "    elif x==28:\n",
    "        return '인천'\n",
    "    elif x==29:\n",
    "        return '광주'\n",
    "    elif x==30:\n",
    "        return '대전'\n",
    "    elif x==31:\n",
    "        return '울산'\n",
    "    elif x==36:\n",
    "        return '세종'\n",
    "    elif x==41:\n",
    "        return '경기'\n",
    "    elif x==42:\n",
    "        return '강원'\n",
    "    elif x==43:\n",
    "        return '충북'\n",
    "    elif x==44:\n",
    "        return '충남'\n",
    "    elif x==45:\n",
    "        return '전북'\n",
    "    elif x==46:\n",
    "        return '전남'\n",
    "    elif x==47:\n",
    "        return '경북'\n",
    "    elif x==48:\n",
    "        return '경남'\n",
    "    elif x==49:\n",
    "        return '제주'\n",
    "    \n",
    "df['시도명'] = df['시도코드'].apply(sido)\n",
    "df.shape\n",
    "\n",
    "df.head()"
   ]
  },
  {
   "cell_type": "code",
   "execution_count": 67,
   "metadata": {},
   "outputs": [],
   "source": [
    "#흡연 여부에 따른 치아 상태 분석을 위한 smoke 데이터프레임 생성\n",
    "\n",
    "smoke = df[['치석', '치아우식증유무', '흡연상태', '구강검진 수검여부']]"
   ]
  },
  {
   "cell_type": "code",
   "execution_count": 68,
   "metadata": {},
   "outputs": [],
   "source": [
    "#질병 관련 데이터 분석을 위한 df 데이터프레임 생성\n",
    "\n",
    "df = df.drop(['시도코드', '기준년도','가입자 일련번호',\"시력(좌)\",\"시력(우)\",\"청력(좌)\",\"청력(우)\",'총 콜레스테롤','트리글리세라이드','데이터 공개일자', '치아우식증유무', '치석', 'HDL 콜레스테롤', 'LDL 콜레스테롤'],axis=1)"
   ]
  },
  {
   "cell_type": "code",
   "execution_count": 69,
   "metadata": {},
   "outputs": [
    {
     "data": {
      "text/html": [
       "<div>\n",
       "<style scoped>\n",
       "    .dataframe tbody tr th:only-of-type {\n",
       "        vertical-align: middle;\n",
       "    }\n",
       "\n",
       "    .dataframe tbody tr th {\n",
       "        vertical-align: top;\n",
       "    }\n",
       "\n",
       "    .dataframe thead th {\n",
       "        text-align: right;\n",
       "    }\n",
       "</style>\n",
       "<table border=\"1\" class=\"dataframe\">\n",
       "  <thead>\n",
       "    <tr style=\"text-align: right;\">\n",
       "      <th></th>\n",
       "      <th>치석</th>\n",
       "      <th>치아우식증유무</th>\n",
       "      <th>흡연상태</th>\n",
       "      <th>구강검진 수검여부</th>\n",
       "    </tr>\n",
       "  </thead>\n",
       "  <tbody>\n",
       "    <tr>\n",
       "      <th>3</th>\n",
       "      <td>0.0</td>\n",
       "      <td>0.0</td>\n",
       "      <td>1.0</td>\n",
       "      <td>1</td>\n",
       "    </tr>\n",
       "    <tr>\n",
       "      <th>6</th>\n",
       "      <td>1.0</td>\n",
       "      <td>0.0</td>\n",
       "      <td>3.0</td>\n",
       "      <td>1</td>\n",
       "    </tr>\n",
       "    <tr>\n",
       "      <th>7</th>\n",
       "      <td>2.0</td>\n",
       "      <td>0.0</td>\n",
       "      <td>3.0</td>\n",
       "      <td>1</td>\n",
       "    </tr>\n",
       "    <tr>\n",
       "      <th>12</th>\n",
       "      <td>0.0</td>\n",
       "      <td>0.0</td>\n",
       "      <td>3.0</td>\n",
       "      <td>1</td>\n",
       "    </tr>\n",
       "    <tr>\n",
       "      <th>16</th>\n",
       "      <td>1.0</td>\n",
       "      <td>0.0</td>\n",
       "      <td>1.0</td>\n",
       "      <td>1</td>\n",
       "    </tr>\n",
       "    <tr>\n",
       "      <th>...</th>\n",
       "      <td>...</td>\n",
       "      <td>...</td>\n",
       "      <td>...</td>\n",
       "      <td>...</td>\n",
       "    </tr>\n",
       "    <tr>\n",
       "      <th>249981</th>\n",
       "      <td>2.0</td>\n",
       "      <td>1.0</td>\n",
       "      <td>2.0</td>\n",
       "      <td>1</td>\n",
       "    </tr>\n",
       "    <tr>\n",
       "      <th>249982</th>\n",
       "      <td>1.0</td>\n",
       "      <td>1.0</td>\n",
       "      <td>1.0</td>\n",
       "      <td>1</td>\n",
       "    </tr>\n",
       "    <tr>\n",
       "      <th>249988</th>\n",
       "      <td>1.0</td>\n",
       "      <td>0.0</td>\n",
       "      <td>2.0</td>\n",
       "      <td>1</td>\n",
       "    </tr>\n",
       "    <tr>\n",
       "      <th>249990</th>\n",
       "      <td>1.0</td>\n",
       "      <td>0.0</td>\n",
       "      <td>1.0</td>\n",
       "      <td>1</td>\n",
       "    </tr>\n",
       "    <tr>\n",
       "      <th>249993</th>\n",
       "      <td>1.0</td>\n",
       "      <td>0.0</td>\n",
       "      <td>2.0</td>\n",
       "      <td>1</td>\n",
       "    </tr>\n",
       "  </tbody>\n",
       "</table>\n",
       "<p>331293 rows × 4 columns</p>\n",
       "</div>"
      ],
      "text/plain": [
       "         치석  치아우식증유무  흡연상태  구강검진 수검여부\n",
       "3       0.0      0.0   1.0          1\n",
       "6       1.0      0.0   3.0          1\n",
       "7       2.0      0.0   3.0          1\n",
       "12      0.0      0.0   3.0          1\n",
       "16      1.0      0.0   1.0          1\n",
       "...     ...      ...   ...        ...\n",
       "249981  2.0      1.0   2.0          1\n",
       "249982  1.0      1.0   1.0          1\n",
       "249988  1.0      0.0   2.0          1\n",
       "249990  1.0      0.0   1.0          1\n",
       "249993  1.0      0.0   2.0          1\n",
       "\n",
       "[331293 rows x 4 columns]"
      ]
     },
     "execution_count": 69,
     "metadata": {},
     "output_type": "execute_result"
    }
   ],
   "source": [
    "#smoke 데이터프레임 결측치 제거\n",
    "\n",
    "smoke = smoke.dropna()\n",
    "smoke"
   ]
  },
  {
   "cell_type": "code",
   "execution_count": 70,
   "metadata": {},
   "outputs": [
    {
     "data": {
      "text/plain": [
       "치석           float64\n",
       "치아우식증유무      float64\n",
       "흡연상태         float64\n",
       "구강검진 수검여부      int64\n",
       "dtype: object"
      ]
     },
     "execution_count": 70,
     "metadata": {},
     "output_type": "execute_result"
    }
   ],
   "source": [
    "smoke.dtypes"
   ]
  },
  {
   "cell_type": "code",
   "execution_count": 71,
   "metadata": {},
   "outputs": [
    {
     "data": {
      "text/plain": [
       "치석           int32\n",
       "치아우식증유무      int32\n",
       "흡연상태         int32\n",
       "구강검진 수검여부    int32\n",
       "dtype: object"
      ]
     },
     "execution_count": 71,
     "metadata": {},
     "output_type": "execute_result"
    }
   ],
   "source": [
    "smoke = smoke.astype('int')\n",
    "smoke.dtypes"
   ]
  },
  {
   "cell_type": "code",
   "execution_count": 72,
   "metadata": {},
   "outputs": [
    {
     "data": {
      "text/plain": [
       "치석           0\n",
       "치아우식증유무      0\n",
       "흡연상태         0\n",
       "구강검진 수검여부    0\n",
       "dtype: int64"
      ]
     },
     "execution_count": 72,
     "metadata": {},
     "output_type": "execute_result"
    }
   ],
   "source": [
    "smoke.isnull().sum()"
   ]
  },
  {
   "cell_type": "code",
   "execution_count": 73,
   "metadata": {},
   "outputs": [
    {
     "data": {
      "text/html": [
       "<div>\n",
       "<style scoped>\n",
       "    .dataframe tbody tr th:only-of-type {\n",
       "        vertical-align: middle;\n",
       "    }\n",
       "\n",
       "    .dataframe tbody tr th {\n",
       "        vertical-align: top;\n",
       "    }\n",
       "\n",
       "    .dataframe thead th {\n",
       "        text-align: right;\n",
       "    }\n",
       "</style>\n",
       "<table border=\"1\" class=\"dataframe\">\n",
       "  <thead>\n",
       "    <tr style=\"text-align: right;\">\n",
       "      <th></th>\n",
       "      <th>성별코드</th>\n",
       "      <th>연령대 코드(5세단위)</th>\n",
       "      <th>신장(5Cm단위)</th>\n",
       "      <th>체중(5Kg 단위)</th>\n",
       "      <th>허리둘레</th>\n",
       "      <th>수축기 혈압</th>\n",
       "      <th>이완기 혈압</th>\n",
       "      <th>식전혈당(공복혈당)</th>\n",
       "      <th>혈색소</th>\n",
       "      <th>요단백</th>\n",
       "      <th>혈청크레아티닌</th>\n",
       "      <th>(혈청지오티)AST</th>\n",
       "      <th>(혈청지오티)ALT</th>\n",
       "      <th>감마 지티피</th>\n",
       "      <th>흡연상태</th>\n",
       "      <th>음주여부</th>\n",
       "      <th>구강검진 수검여부</th>\n",
       "      <th>시도명</th>\n",
       "    </tr>\n",
       "  </thead>\n",
       "  <tbody>\n",
       "    <tr>\n",
       "      <th>0</th>\n",
       "      <td>1</td>\n",
       "      <td>9</td>\n",
       "      <td>165</td>\n",
       "      <td>60</td>\n",
       "      <td>72.1</td>\n",
       "      <td>127.0</td>\n",
       "      <td>79.0</td>\n",
       "      <td>90.0</td>\n",
       "      <td>15.0</td>\n",
       "      <td>1.0</td>\n",
       "      <td>1.1</td>\n",
       "      <td>21.0</td>\n",
       "      <td>27.0</td>\n",
       "      <td>21.0</td>\n",
       "      <td>1.0</td>\n",
       "      <td>0.0</td>\n",
       "      <td>0</td>\n",
       "      <td>세종</td>\n",
       "    </tr>\n",
       "    <tr>\n",
       "      <th>1</th>\n",
       "      <td>2</td>\n",
       "      <td>13</td>\n",
       "      <td>150</td>\n",
       "      <td>65</td>\n",
       "      <td>81.0</td>\n",
       "      <td>110.0</td>\n",
       "      <td>73.0</td>\n",
       "      <td>87.0</td>\n",
       "      <td>12.7</td>\n",
       "      <td>1.0</td>\n",
       "      <td>0.5</td>\n",
       "      <td>18.0</td>\n",
       "      <td>15.0</td>\n",
       "      <td>15.0</td>\n",
       "      <td>1.0</td>\n",
       "      <td>0.0</td>\n",
       "      <td>0</td>\n",
       "      <td>대구</td>\n",
       "    </tr>\n",
       "    <tr>\n",
       "      <th>2</th>\n",
       "      <td>2</td>\n",
       "      <td>12</td>\n",
       "      <td>155</td>\n",
       "      <td>55</td>\n",
       "      <td>70.0</td>\n",
       "      <td>123.0</td>\n",
       "      <td>80.0</td>\n",
       "      <td>102.0</td>\n",
       "      <td>12.8</td>\n",
       "      <td>1.0</td>\n",
       "      <td>0.7</td>\n",
       "      <td>27.0</td>\n",
       "      <td>25.0</td>\n",
       "      <td>7.0</td>\n",
       "      <td>1.0</td>\n",
       "      <td>0.0</td>\n",
       "      <td>0</td>\n",
       "      <td>서울</td>\n",
       "    </tr>\n",
       "    <tr>\n",
       "      <th>3</th>\n",
       "      <td>1</td>\n",
       "      <td>13</td>\n",
       "      <td>160</td>\n",
       "      <td>70</td>\n",
       "      <td>90.8</td>\n",
       "      <td>134.0</td>\n",
       "      <td>84.0</td>\n",
       "      <td>146.0</td>\n",
       "      <td>16.4</td>\n",
       "      <td>1.0</td>\n",
       "      <td>1.2</td>\n",
       "      <td>65.0</td>\n",
       "      <td>97.0</td>\n",
       "      <td>72.0</td>\n",
       "      <td>1.0</td>\n",
       "      <td>0.0</td>\n",
       "      <td>1</td>\n",
       "      <td>울산</td>\n",
       "    </tr>\n",
       "    <tr>\n",
       "      <th>4</th>\n",
       "      <td>2</td>\n",
       "      <td>12</td>\n",
       "      <td>155</td>\n",
       "      <td>50</td>\n",
       "      <td>75.2</td>\n",
       "      <td>144.0</td>\n",
       "      <td>89.0</td>\n",
       "      <td>110.0</td>\n",
       "      <td>12.4</td>\n",
       "      <td>1.0</td>\n",
       "      <td>0.7</td>\n",
       "      <td>18.0</td>\n",
       "      <td>17.0</td>\n",
       "      <td>14.0</td>\n",
       "      <td>1.0</td>\n",
       "      <td>0.0</td>\n",
       "      <td>0</td>\n",
       "      <td>경기</td>\n",
       "    </tr>\n",
       "    <tr>\n",
       "      <th>...</th>\n",
       "      <td>...</td>\n",
       "      <td>...</td>\n",
       "      <td>...</td>\n",
       "      <td>...</td>\n",
       "      <td>...</td>\n",
       "      <td>...</td>\n",
       "      <td>...</td>\n",
       "      <td>...</td>\n",
       "      <td>...</td>\n",
       "      <td>...</td>\n",
       "      <td>...</td>\n",
       "      <td>...</td>\n",
       "      <td>...</td>\n",
       "      <td>...</td>\n",
       "      <td>...</td>\n",
       "      <td>...</td>\n",
       "      <td>...</td>\n",
       "      <td>...</td>\n",
       "    </tr>\n",
       "    <tr>\n",
       "      <th>249995</th>\n",
       "      <td>2</td>\n",
       "      <td>13</td>\n",
       "      <td>145</td>\n",
       "      <td>55</td>\n",
       "      <td>81.0</td>\n",
       "      <td>132.0</td>\n",
       "      <td>78.0</td>\n",
       "      <td>124.0</td>\n",
       "      <td>13.6</td>\n",
       "      <td>1.0</td>\n",
       "      <td>0.6</td>\n",
       "      <td>21.0</td>\n",
       "      <td>25.0</td>\n",
       "      <td>18.0</td>\n",
       "      <td>1.0</td>\n",
       "      <td>0.0</td>\n",
       "      <td>0</td>\n",
       "      <td>경기</td>\n",
       "    </tr>\n",
       "    <tr>\n",
       "      <th>249996</th>\n",
       "      <td>2</td>\n",
       "      <td>12</td>\n",
       "      <td>160</td>\n",
       "      <td>55</td>\n",
       "      <td>76.5</td>\n",
       "      <td>100.0</td>\n",
       "      <td>64.0</td>\n",
       "      <td>98.0</td>\n",
       "      <td>14.0</td>\n",
       "      <td>1.0</td>\n",
       "      <td>0.8</td>\n",
       "      <td>21.0</td>\n",
       "      <td>14.0</td>\n",
       "      <td>19.0</td>\n",
       "      <td>1.0</td>\n",
       "      <td>1.0</td>\n",
       "      <td>0</td>\n",
       "      <td>부산</td>\n",
       "    </tr>\n",
       "    <tr>\n",
       "      <th>249997</th>\n",
       "      <td>1</td>\n",
       "      <td>9</td>\n",
       "      <td>175</td>\n",
       "      <td>70</td>\n",
       "      <td>85.0</td>\n",
       "      <td>110.0</td>\n",
       "      <td>64.0</td>\n",
       "      <td>83.0</td>\n",
       "      <td>16.0</td>\n",
       "      <td>1.0</td>\n",
       "      <td>0.9</td>\n",
       "      <td>26.0</td>\n",
       "      <td>20.0</td>\n",
       "      <td>17.0</td>\n",
       "      <td>1.0</td>\n",
       "      <td>1.0</td>\n",
       "      <td>0</td>\n",
       "      <td>경남</td>\n",
       "    </tr>\n",
       "    <tr>\n",
       "      <th>249998</th>\n",
       "      <td>2</td>\n",
       "      <td>9</td>\n",
       "      <td>160</td>\n",
       "      <td>70</td>\n",
       "      <td>91.0</td>\n",
       "      <td>137.0</td>\n",
       "      <td>82.0</td>\n",
       "      <td>111.0</td>\n",
       "      <td>11.9</td>\n",
       "      <td>1.0</td>\n",
       "      <td>1.0</td>\n",
       "      <td>25.0</td>\n",
       "      <td>29.0</td>\n",
       "      <td>13.0</td>\n",
       "      <td>1.0</td>\n",
       "      <td>0.0</td>\n",
       "      <td>0</td>\n",
       "      <td>경남</td>\n",
       "    </tr>\n",
       "    <tr>\n",
       "      <th>249999</th>\n",
       "      <td>1</td>\n",
       "      <td>11</td>\n",
       "      <td>160</td>\n",
       "      <td>55</td>\n",
       "      <td>76.1</td>\n",
       "      <td>133.0</td>\n",
       "      <td>74.0</td>\n",
       "      <td>121.0</td>\n",
       "      <td>14.9</td>\n",
       "      <td>1.0</td>\n",
       "      <td>0.9</td>\n",
       "      <td>17.0</td>\n",
       "      <td>13.0</td>\n",
       "      <td>24.0</td>\n",
       "      <td>2.0</td>\n",
       "      <td>0.0</td>\n",
       "      <td>0</td>\n",
       "      <td>인천</td>\n",
       "    </tr>\n",
       "  </tbody>\n",
       "</table>\n",
       "<p>1000000 rows × 18 columns</p>\n",
       "</div>"
      ],
      "text/plain": [
       "        성별코드  연령대 코드(5세단위)  신장(5Cm단위)  체중(5Kg 단위)  허리둘레  수축기 혈압  이완기 혈압  \\\n",
       "0          1             9        165          60  72.1   127.0    79.0   \n",
       "1          2            13        150          65  81.0   110.0    73.0   \n",
       "2          2            12        155          55  70.0   123.0    80.0   \n",
       "3          1            13        160          70  90.8   134.0    84.0   \n",
       "4          2            12        155          50  75.2   144.0    89.0   \n",
       "...      ...           ...        ...         ...   ...     ...     ...   \n",
       "249995     2            13        145          55  81.0   132.0    78.0   \n",
       "249996     2            12        160          55  76.5   100.0    64.0   \n",
       "249997     1             9        175          70  85.0   110.0    64.0   \n",
       "249998     2             9        160          70  91.0   137.0    82.0   \n",
       "249999     1            11        160          55  76.1   133.0    74.0   \n",
       "\n",
       "        식전혈당(공복혈당)   혈색소  요단백  혈청크레아티닌  (혈청지오티)AST  (혈청지오티)ALT  감마 지티피  흡연상태  \\\n",
       "0             90.0  15.0  1.0      1.1        21.0        27.0    21.0   1.0   \n",
       "1             87.0  12.7  1.0      0.5        18.0        15.0    15.0   1.0   \n",
       "2            102.0  12.8  1.0      0.7        27.0        25.0     7.0   1.0   \n",
       "3            146.0  16.4  1.0      1.2        65.0        97.0    72.0   1.0   \n",
       "4            110.0  12.4  1.0      0.7        18.0        17.0    14.0   1.0   \n",
       "...            ...   ...  ...      ...         ...         ...     ...   ...   \n",
       "249995       124.0  13.6  1.0      0.6        21.0        25.0    18.0   1.0   \n",
       "249996        98.0  14.0  1.0      0.8        21.0        14.0    19.0   1.0   \n",
       "249997        83.0  16.0  1.0      0.9        26.0        20.0    17.0   1.0   \n",
       "249998       111.0  11.9  1.0      1.0        25.0        29.0    13.0   1.0   \n",
       "249999       121.0  14.9  1.0      0.9        17.0        13.0    24.0   2.0   \n",
       "\n",
       "        음주여부  구강검진 수검여부 시도명  \n",
       "0        0.0          0  세종  \n",
       "1        0.0          0  대구  \n",
       "2        0.0          0  서울  \n",
       "3        0.0          1  울산  \n",
       "4        0.0          0  경기  \n",
       "...      ...        ...  ..  \n",
       "249995   0.0          0  경기  \n",
       "249996   1.0          0  부산  \n",
       "249997   1.0          0  경남  \n",
       "249998   0.0          0  경남  \n",
       "249999   0.0          0  인천  \n",
       "\n",
       "[1000000 rows x 18 columns]"
      ]
     },
     "execution_count": 73,
     "metadata": {},
     "output_type": "execute_result"
    }
   ],
   "source": [
    "#df 데이터프레임 결측치 제거\n",
    "df\n",
    "df = df.dropna()"
   ]
  },
  {
   "cell_type": "code",
   "execution_count": 74,
   "metadata": {},
   "outputs": [
    {
     "data": {
      "text/plain": [
       "성별코드            0\n",
       "연령대 코드(5세단위)    0\n",
       "신장(5Cm단위)       0\n",
       "체중(5Kg 단위)      0\n",
       "허리둘레            0\n",
       "수축기 혈압          0\n",
       "이완기 혈압          0\n",
       "식전혈당(공복혈당)      0\n",
       "혈색소             0\n",
       "요단백             0\n",
       "혈청크레아티닌         0\n",
       "(혈청지오티)AST      0\n",
       "(혈청지오티)ALT      0\n",
       "감마 지티피          0\n",
       "흡연상태            0\n",
       "음주여부            0\n",
       "구강검진 수검여부       0\n",
       "시도명             0\n",
       "dtype: int64"
      ]
     },
     "execution_count": 74,
     "metadata": {},
     "output_type": "execute_result"
    }
   ],
   "source": [
    "df.isnull().sum()"
   ]
  },
  {
   "cell_type": "code",
   "execution_count": 75,
   "metadata": {},
   "outputs": [
    {
     "data": {
      "text/html": [
       "<div>\n",
       "<style scoped>\n",
       "    .dataframe tbody tr th:only-of-type {\n",
       "        vertical-align: middle;\n",
       "    }\n",
       "\n",
       "    .dataframe tbody tr th {\n",
       "        vertical-align: top;\n",
       "    }\n",
       "\n",
       "    .dataframe thead th {\n",
       "        text-align: right;\n",
       "    }\n",
       "</style>\n",
       "<table border=\"1\" class=\"dataframe\">\n",
       "  <thead>\n",
       "    <tr style=\"text-align: right;\">\n",
       "      <th></th>\n",
       "      <th>성별코드</th>\n",
       "      <th>연령대 코드(5세단위)</th>\n",
       "      <th>신장(5Cm단위)</th>\n",
       "      <th>체중(5Kg 단위)</th>\n",
       "      <th>허리둘레</th>\n",
       "      <th>수축기 혈압</th>\n",
       "      <th>이완기 혈압</th>\n",
       "      <th>식전혈당(공복혈당)</th>\n",
       "      <th>혈색소</th>\n",
       "      <th>요단백</th>\n",
       "      <th>혈청크레아티닌</th>\n",
       "      <th>(혈청지오티)AST</th>\n",
       "      <th>(혈청지오티)ALT</th>\n",
       "      <th>감마 지티피</th>\n",
       "      <th>흡연상태</th>\n",
       "      <th>음주여부</th>\n",
       "      <th>구강검진 수검여부</th>\n",
       "    </tr>\n",
       "  </thead>\n",
       "  <tbody>\n",
       "    <tr>\n",
       "      <th>count</th>\n",
       "      <td>987219.000000</td>\n",
       "      <td>987219.000000</td>\n",
       "      <td>987219.000000</td>\n",
       "      <td>987219.000000</td>\n",
       "      <td>987219.000000</td>\n",
       "      <td>987219.000000</td>\n",
       "      <td>987219.000000</td>\n",
       "      <td>987219.000000</td>\n",
       "      <td>987219.000000</td>\n",
       "      <td>987219.000000</td>\n",
       "      <td>987219.00000</td>\n",
       "      <td>987219.000000</td>\n",
       "      <td>987219.000000</td>\n",
       "      <td>987219.000000</td>\n",
       "      <td>987219.000000</td>\n",
       "      <td>987219.000000</td>\n",
       "      <td>987219.000000</td>\n",
       "    </tr>\n",
       "    <tr>\n",
       "      <th>mean</th>\n",
       "      <td>1.487734</td>\n",
       "      <td>11.887454</td>\n",
       "      <td>161.032983</td>\n",
       "      <td>63.124190</td>\n",
       "      <td>82.345232</td>\n",
       "      <td>124.835507</td>\n",
       "      <td>76.823508</td>\n",
       "      <td>104.248022</td>\n",
       "      <td>14.213197</td>\n",
       "      <td>1.122263</td>\n",
       "      <td>0.84962</td>\n",
       "      <td>27.703397</td>\n",
       "      <td>26.775568</td>\n",
       "      <td>37.791644</td>\n",
       "      <td>1.559469</td>\n",
       "      <td>0.588249</td>\n",
       "      <td>0.334180</td>\n",
       "    </tr>\n",
       "    <tr>\n",
       "      <th>std</th>\n",
       "      <td>0.499850</td>\n",
       "      <td>2.150102</td>\n",
       "      <td>9.174479</td>\n",
       "      <td>12.266035</td>\n",
       "      <td>9.615590</td>\n",
       "      <td>14.743182</td>\n",
       "      <td>9.987141</td>\n",
       "      <td>25.375695</td>\n",
       "      <td>1.551654</td>\n",
       "      <td>0.493333</td>\n",
       "      <td>0.34016</td>\n",
       "      <td>25.299815</td>\n",
       "      <td>25.846017</td>\n",
       "      <td>51.813809</td>\n",
       "      <td>0.784434</td>\n",
       "      <td>0.492151</td>\n",
       "      <td>0.471703</td>\n",
       "    </tr>\n",
       "    <tr>\n",
       "      <th>min</th>\n",
       "      <td>1.000000</td>\n",
       "      <td>9.000000</td>\n",
       "      <td>130.000000</td>\n",
       "      <td>30.000000</td>\n",
       "      <td>5.800000</td>\n",
       "      <td>65.000000</td>\n",
       "      <td>30.000000</td>\n",
       "      <td>1.000000</td>\n",
       "      <td>1.000000</td>\n",
       "      <td>1.000000</td>\n",
       "      <td>0.00000</td>\n",
       "      <td>1.000000</td>\n",
       "      <td>1.000000</td>\n",
       "      <td>1.000000</td>\n",
       "      <td>1.000000</td>\n",
       "      <td>0.000000</td>\n",
       "      <td>0.000000</td>\n",
       "    </tr>\n",
       "    <tr>\n",
       "      <th>25%</th>\n",
       "      <td>1.000000</td>\n",
       "      <td>10.000000</td>\n",
       "      <td>155.000000</td>\n",
       "      <td>55.000000</td>\n",
       "      <td>76.000000</td>\n",
       "      <td>115.000000</td>\n",
       "      <td>70.000000</td>\n",
       "      <td>91.000000</td>\n",
       "      <td>13.200000</td>\n",
       "      <td>1.000000</td>\n",
       "      <td>0.70000</td>\n",
       "      <td>20.000000</td>\n",
       "      <td>16.000000</td>\n",
       "      <td>16.000000</td>\n",
       "      <td>1.000000</td>\n",
       "      <td>0.000000</td>\n",
       "      <td>0.000000</td>\n",
       "    </tr>\n",
       "    <tr>\n",
       "      <th>50%</th>\n",
       "      <td>1.000000</td>\n",
       "      <td>12.000000</td>\n",
       "      <td>160.000000</td>\n",
       "      <td>60.000000</td>\n",
       "      <td>82.000000</td>\n",
       "      <td>124.000000</td>\n",
       "      <td>77.000000</td>\n",
       "      <td>99.000000</td>\n",
       "      <td>14.200000</td>\n",
       "      <td>1.000000</td>\n",
       "      <td>0.80000</td>\n",
       "      <td>24.000000</td>\n",
       "      <td>21.000000</td>\n",
       "      <td>24.000000</td>\n",
       "      <td>1.000000</td>\n",
       "      <td>1.000000</td>\n",
       "      <td>0.000000</td>\n",
       "    </tr>\n",
       "    <tr>\n",
       "      <th>75%</th>\n",
       "      <td>2.000000</td>\n",
       "      <td>13.000000</td>\n",
       "      <td>170.000000</td>\n",
       "      <td>70.000000</td>\n",
       "      <td>89.000000</td>\n",
       "      <td>134.000000</td>\n",
       "      <td>83.000000</td>\n",
       "      <td>109.000000</td>\n",
       "      <td>15.300000</td>\n",
       "      <td>1.000000</td>\n",
       "      <td>1.00000</td>\n",
       "      <td>30.000000</td>\n",
       "      <td>31.000000</td>\n",
       "      <td>40.000000</td>\n",
       "      <td>2.000000</td>\n",
       "      <td>1.000000</td>\n",
       "      <td>1.000000</td>\n",
       "    </tr>\n",
       "    <tr>\n",
       "      <th>max</th>\n",
       "      <td>2.000000</td>\n",
       "      <td>18.000000</td>\n",
       "      <td>195.000000</td>\n",
       "      <td>135.000000</td>\n",
       "      <td>999.000000</td>\n",
       "      <td>260.000000</td>\n",
       "      <td>190.000000</td>\n",
       "      <td>950.000000</td>\n",
       "      <td>25.000000</td>\n",
       "      <td>6.000000</td>\n",
       "      <td>95.00000</td>\n",
       "      <td>8712.000000</td>\n",
       "      <td>5990.000000</td>\n",
       "      <td>2630.000000</td>\n",
       "      <td>3.000000</td>\n",
       "      <td>1.000000</td>\n",
       "      <td>1.000000</td>\n",
       "    </tr>\n",
       "  </tbody>\n",
       "</table>\n",
       "</div>"
      ],
      "text/plain": [
       "                성별코드   연령대 코드(5세단위)      신장(5Cm단위)     체중(5Kg 단위)  \\\n",
       "count  987219.000000  987219.000000  987219.000000  987219.000000   \n",
       "mean        1.487734      11.887454     161.032983      63.124190   \n",
       "std         0.499850       2.150102       9.174479      12.266035   \n",
       "min         1.000000       9.000000     130.000000      30.000000   \n",
       "25%         1.000000      10.000000     155.000000      55.000000   \n",
       "50%         1.000000      12.000000     160.000000      60.000000   \n",
       "75%         2.000000      13.000000     170.000000      70.000000   \n",
       "max         2.000000      18.000000     195.000000     135.000000   \n",
       "\n",
       "                허리둘레         수축기 혈압         이완기 혈압     식전혈당(공복혈당)  \\\n",
       "count  987219.000000  987219.000000  987219.000000  987219.000000   \n",
       "mean       82.345232     124.835507      76.823508     104.248022   \n",
       "std         9.615590      14.743182       9.987141      25.375695   \n",
       "min         5.800000      65.000000      30.000000       1.000000   \n",
       "25%        76.000000     115.000000      70.000000      91.000000   \n",
       "50%        82.000000     124.000000      77.000000      99.000000   \n",
       "75%        89.000000     134.000000      83.000000     109.000000   \n",
       "max       999.000000     260.000000     190.000000     950.000000   \n",
       "\n",
       "                 혈색소            요단백       혈청크레아티닌     (혈청지오티)AST  \\\n",
       "count  987219.000000  987219.000000  987219.00000  987219.000000   \n",
       "mean       14.213197       1.122263       0.84962      27.703397   \n",
       "std         1.551654       0.493333       0.34016      25.299815   \n",
       "min         1.000000       1.000000       0.00000       1.000000   \n",
       "25%        13.200000       1.000000       0.70000      20.000000   \n",
       "50%        14.200000       1.000000       0.80000      24.000000   \n",
       "75%        15.300000       1.000000       1.00000      30.000000   \n",
       "max        25.000000       6.000000      95.00000    8712.000000   \n",
       "\n",
       "          (혈청지오티)ALT         감마 지티피           흡연상태           음주여부  \\\n",
       "count  987219.000000  987219.000000  987219.000000  987219.000000   \n",
       "mean       26.775568      37.791644       1.559469       0.588249   \n",
       "std        25.846017      51.813809       0.784434       0.492151   \n",
       "min         1.000000       1.000000       1.000000       0.000000   \n",
       "25%        16.000000      16.000000       1.000000       0.000000   \n",
       "50%        21.000000      24.000000       1.000000       1.000000   \n",
       "75%        31.000000      40.000000       2.000000       1.000000   \n",
       "max      5990.000000    2630.000000       3.000000       1.000000   \n",
       "\n",
       "           구강검진 수검여부  \n",
       "count  987219.000000  \n",
       "mean        0.334180  \n",
       "std         0.471703  \n",
       "min         0.000000  \n",
       "25%         0.000000  \n",
       "50%         0.000000  \n",
       "75%         1.000000  \n",
       "max         1.000000  "
      ]
     },
     "execution_count": 75,
     "metadata": {},
     "output_type": "execute_result"
    }
   ],
   "source": [
    "df.describe()"
   ]
  },
  {
   "cell_type": "markdown",
   "metadata": {},
   "source": [
    "#### 비만 / 복부 비만"
   ]
  },
  {
   "cell_type": "code",
   "execution_count": 76,
   "metadata": {},
   "outputs": [
    {
     "name": "stderr",
     "output_type": "stream",
     "text": [
      "C:\\Users\\user\\AppData\\Local\\Temp/ipykernel_5976/381919537.py:19: SettingWithCopyWarning: \n",
      "A value is trying to be set on a copy of a slice from a DataFrame.\n",
      "Try using .loc[row_indexer,col_indexer] = value instead\n",
      "\n",
      "See the caveats in the documentation: https://pandas.pydata.org/pandas-docs/stable/user_guide/indexing.html#returning-a-view-versus-a-copy\n",
      "  df['복부비만'] = df.apply(belly, axis = 1)\n"
     ]
    },
    {
     "data": {
      "text/html": [
       "<div>\n",
       "<style scoped>\n",
       "    .dataframe tbody tr th:only-of-type {\n",
       "        vertical-align: middle;\n",
       "    }\n",
       "\n",
       "    .dataframe tbody tr th {\n",
       "        vertical-align: top;\n",
       "    }\n",
       "\n",
       "    .dataframe thead th {\n",
       "        text-align: right;\n",
       "    }\n",
       "</style>\n",
       "<table border=\"1\" class=\"dataframe\">\n",
       "  <thead>\n",
       "    <tr style=\"text-align: right;\">\n",
       "      <th></th>\n",
       "      <th>성별코드</th>\n",
       "      <th>연령대 코드(5세단위)</th>\n",
       "      <th>신장(5Cm단위)</th>\n",
       "      <th>체중(5Kg 단위)</th>\n",
       "      <th>허리둘레</th>\n",
       "      <th>수축기 혈압</th>\n",
       "      <th>이완기 혈압</th>\n",
       "      <th>식전혈당(공복혈당)</th>\n",
       "      <th>혈색소</th>\n",
       "      <th>요단백</th>\n",
       "      <th>혈청크레아티닌</th>\n",
       "      <th>(혈청지오티)AST</th>\n",
       "      <th>(혈청지오티)ALT</th>\n",
       "      <th>감마 지티피</th>\n",
       "      <th>흡연상태</th>\n",
       "      <th>음주여부</th>\n",
       "      <th>구강검진 수검여부</th>\n",
       "      <th>시도명</th>\n",
       "      <th>복부비만</th>\n",
       "    </tr>\n",
       "  </thead>\n",
       "  <tbody>\n",
       "    <tr>\n",
       "      <th>0</th>\n",
       "      <td>1</td>\n",
       "      <td>9</td>\n",
       "      <td>165</td>\n",
       "      <td>60</td>\n",
       "      <td>72.1</td>\n",
       "      <td>127.0</td>\n",
       "      <td>79.0</td>\n",
       "      <td>90.0</td>\n",
       "      <td>15.0</td>\n",
       "      <td>1.0</td>\n",
       "      <td>1.1</td>\n",
       "      <td>21.0</td>\n",
       "      <td>27.0</td>\n",
       "      <td>21.0</td>\n",
       "      <td>1.0</td>\n",
       "      <td>0.0</td>\n",
       "      <td>0</td>\n",
       "      <td>세종</td>\n",
       "      <td>비해당</td>\n",
       "    </tr>\n",
       "    <tr>\n",
       "      <th>1</th>\n",
       "      <td>2</td>\n",
       "      <td>13</td>\n",
       "      <td>150</td>\n",
       "      <td>65</td>\n",
       "      <td>81.0</td>\n",
       "      <td>110.0</td>\n",
       "      <td>73.0</td>\n",
       "      <td>87.0</td>\n",
       "      <td>12.7</td>\n",
       "      <td>1.0</td>\n",
       "      <td>0.5</td>\n",
       "      <td>18.0</td>\n",
       "      <td>15.0</td>\n",
       "      <td>15.0</td>\n",
       "      <td>1.0</td>\n",
       "      <td>0.0</td>\n",
       "      <td>0</td>\n",
       "      <td>대구</td>\n",
       "      <td>비해당</td>\n",
       "    </tr>\n",
       "    <tr>\n",
       "      <th>2</th>\n",
       "      <td>2</td>\n",
       "      <td>12</td>\n",
       "      <td>155</td>\n",
       "      <td>55</td>\n",
       "      <td>70.0</td>\n",
       "      <td>123.0</td>\n",
       "      <td>80.0</td>\n",
       "      <td>102.0</td>\n",
       "      <td>12.8</td>\n",
       "      <td>1.0</td>\n",
       "      <td>0.7</td>\n",
       "      <td>27.0</td>\n",
       "      <td>25.0</td>\n",
       "      <td>7.0</td>\n",
       "      <td>1.0</td>\n",
       "      <td>0.0</td>\n",
       "      <td>0</td>\n",
       "      <td>서울</td>\n",
       "      <td>비해당</td>\n",
       "    </tr>\n",
       "    <tr>\n",
       "      <th>3</th>\n",
       "      <td>1</td>\n",
       "      <td>13</td>\n",
       "      <td>160</td>\n",
       "      <td>70</td>\n",
       "      <td>90.8</td>\n",
       "      <td>134.0</td>\n",
       "      <td>84.0</td>\n",
       "      <td>146.0</td>\n",
       "      <td>16.4</td>\n",
       "      <td>1.0</td>\n",
       "      <td>1.2</td>\n",
       "      <td>65.0</td>\n",
       "      <td>97.0</td>\n",
       "      <td>72.0</td>\n",
       "      <td>1.0</td>\n",
       "      <td>0.0</td>\n",
       "      <td>1</td>\n",
       "      <td>울산</td>\n",
       "      <td>해당</td>\n",
       "    </tr>\n",
       "    <tr>\n",
       "      <th>4</th>\n",
       "      <td>2</td>\n",
       "      <td>12</td>\n",
       "      <td>155</td>\n",
       "      <td>50</td>\n",
       "      <td>75.2</td>\n",
       "      <td>144.0</td>\n",
       "      <td>89.0</td>\n",
       "      <td>110.0</td>\n",
       "      <td>12.4</td>\n",
       "      <td>1.0</td>\n",
       "      <td>0.7</td>\n",
       "      <td>18.0</td>\n",
       "      <td>17.0</td>\n",
       "      <td>14.0</td>\n",
       "      <td>1.0</td>\n",
       "      <td>0.0</td>\n",
       "      <td>0</td>\n",
       "      <td>경기</td>\n",
       "      <td>비해당</td>\n",
       "    </tr>\n",
       "  </tbody>\n",
       "</table>\n",
       "</div>"
      ],
      "text/plain": [
       "   성별코드  연령대 코드(5세단위)  신장(5Cm단위)  체중(5Kg 단위)  허리둘레  수축기 혈압  이완기 혈압  \\\n",
       "0     1             9        165          60  72.1   127.0    79.0   \n",
       "1     2            13        150          65  81.0   110.0    73.0   \n",
       "2     2            12        155          55  70.0   123.0    80.0   \n",
       "3     1            13        160          70  90.8   134.0    84.0   \n",
       "4     2            12        155          50  75.2   144.0    89.0   \n",
       "\n",
       "   식전혈당(공복혈당)   혈색소  요단백  혈청크레아티닌  (혈청지오티)AST  (혈청지오티)ALT  감마 지티피  흡연상태  음주여부  \\\n",
       "0        90.0  15.0  1.0      1.1        21.0        27.0    21.0   1.0   0.0   \n",
       "1        87.0  12.7  1.0      0.5        18.0        15.0    15.0   1.0   0.0   \n",
       "2       102.0  12.8  1.0      0.7        27.0        25.0     7.0   1.0   0.0   \n",
       "3       146.0  16.4  1.0      1.2        65.0        97.0    72.0   1.0   0.0   \n",
       "4       110.0  12.4  1.0      0.7        18.0        17.0    14.0   1.0   0.0   \n",
       "\n",
       "   구강검진 수검여부 시도명 복부비만  \n",
       "0          0  세종  비해당  \n",
       "1          0  대구  비해당  \n",
       "2          0  서울  비해당  \n",
       "3          1  울산   해당  \n",
       "4          0  경기  비해당  "
      ]
     },
     "execution_count": 76,
     "metadata": {},
     "output_type": "execute_result"
    }
   ],
   "source": [
    "#복부비만\n",
    "\n",
    "def belly(x):\n",
    "    # 남성\n",
    "    if x['성별코드'] == 1:\n",
    "        if x['허리둘레'] >= 90:\n",
    "            return '해당'\n",
    "        else:\n",
    "            return '비해당'\n",
    "            \n",
    "    # 여성\n",
    "    else:\n",
    "        if x['허리둘레'] >= 85:\n",
    "            return '해당'\n",
    "        else:\n",
    "            return '비해당'\n",
    "        \n",
    "\n",
    "df['복부비만'] = df.apply(belly, axis = 1)\n",
    "df.head()"
   ]
  },
  {
   "cell_type": "code",
   "execution_count": 77,
   "metadata": {},
   "outputs": [
    {
     "name": "stderr",
     "output_type": "stream",
     "text": [
      "C:\\Users\\user\\AppData\\Local\\Temp/ipykernel_5976/3195275117.py:19: SettingWithCopyWarning: \n",
      "A value is trying to be set on a copy of a slice from a DataFrame.\n",
      "Try using .loc[row_indexer,col_indexer] = value instead\n",
      "\n",
      "See the caveats in the documentation: https://pandas.pydata.org/pandas-docs/stable/user_guide/indexing.html#returning-a-view-versus-a-copy\n",
      "  df['비만'] = df.apply(overweight, axis = 1)\n"
     ]
    },
    {
     "data": {
      "text/html": [
       "<div>\n",
       "<style scoped>\n",
       "    .dataframe tbody tr th:only-of-type {\n",
       "        vertical-align: middle;\n",
       "    }\n",
       "\n",
       "    .dataframe tbody tr th {\n",
       "        vertical-align: top;\n",
       "    }\n",
       "\n",
       "    .dataframe thead th {\n",
       "        text-align: right;\n",
       "    }\n",
       "</style>\n",
       "<table border=\"1\" class=\"dataframe\">\n",
       "  <thead>\n",
       "    <tr style=\"text-align: right;\">\n",
       "      <th></th>\n",
       "      <th>성별코드</th>\n",
       "      <th>연령대 코드(5세단위)</th>\n",
       "      <th>신장(5Cm단위)</th>\n",
       "      <th>체중(5Kg 단위)</th>\n",
       "      <th>허리둘레</th>\n",
       "      <th>수축기 혈압</th>\n",
       "      <th>이완기 혈압</th>\n",
       "      <th>식전혈당(공복혈당)</th>\n",
       "      <th>혈색소</th>\n",
       "      <th>요단백</th>\n",
       "      <th>혈청크레아티닌</th>\n",
       "      <th>(혈청지오티)AST</th>\n",
       "      <th>(혈청지오티)ALT</th>\n",
       "      <th>감마 지티피</th>\n",
       "      <th>흡연상태</th>\n",
       "      <th>음주여부</th>\n",
       "      <th>구강검진 수검여부</th>\n",
       "      <th>시도명</th>\n",
       "      <th>복부비만</th>\n",
       "      <th>비만</th>\n",
       "    </tr>\n",
       "  </thead>\n",
       "  <tbody>\n",
       "    <tr>\n",
       "      <th>0</th>\n",
       "      <td>1</td>\n",
       "      <td>9</td>\n",
       "      <td>165</td>\n",
       "      <td>60</td>\n",
       "      <td>72.1</td>\n",
       "      <td>127.0</td>\n",
       "      <td>79.0</td>\n",
       "      <td>90.0</td>\n",
       "      <td>15.0</td>\n",
       "      <td>1.0</td>\n",
       "      <td>1.1</td>\n",
       "      <td>21.0</td>\n",
       "      <td>27.0</td>\n",
       "      <td>21.0</td>\n",
       "      <td>1.0</td>\n",
       "      <td>0.0</td>\n",
       "      <td>0</td>\n",
       "      <td>세종</td>\n",
       "      <td>비해당</td>\n",
       "      <td>정상</td>\n",
       "    </tr>\n",
       "    <tr>\n",
       "      <th>1</th>\n",
       "      <td>2</td>\n",
       "      <td>13</td>\n",
       "      <td>150</td>\n",
       "      <td>65</td>\n",
       "      <td>81.0</td>\n",
       "      <td>110.0</td>\n",
       "      <td>73.0</td>\n",
       "      <td>87.0</td>\n",
       "      <td>12.7</td>\n",
       "      <td>1.0</td>\n",
       "      <td>0.5</td>\n",
       "      <td>18.0</td>\n",
       "      <td>15.0</td>\n",
       "      <td>15.0</td>\n",
       "      <td>1.0</td>\n",
       "      <td>0.0</td>\n",
       "      <td>0</td>\n",
       "      <td>대구</td>\n",
       "      <td>비해당</td>\n",
       "      <td>과체중</td>\n",
       "    </tr>\n",
       "    <tr>\n",
       "      <th>2</th>\n",
       "      <td>2</td>\n",
       "      <td>12</td>\n",
       "      <td>155</td>\n",
       "      <td>55</td>\n",
       "      <td>70.0</td>\n",
       "      <td>123.0</td>\n",
       "      <td>80.0</td>\n",
       "      <td>102.0</td>\n",
       "      <td>12.8</td>\n",
       "      <td>1.0</td>\n",
       "      <td>0.7</td>\n",
       "      <td>27.0</td>\n",
       "      <td>25.0</td>\n",
       "      <td>7.0</td>\n",
       "      <td>1.0</td>\n",
       "      <td>0.0</td>\n",
       "      <td>0</td>\n",
       "      <td>서울</td>\n",
       "      <td>비해당</td>\n",
       "      <td>정상</td>\n",
       "    </tr>\n",
       "    <tr>\n",
       "      <th>3</th>\n",
       "      <td>1</td>\n",
       "      <td>13</td>\n",
       "      <td>160</td>\n",
       "      <td>70</td>\n",
       "      <td>90.8</td>\n",
       "      <td>134.0</td>\n",
       "      <td>84.0</td>\n",
       "      <td>146.0</td>\n",
       "      <td>16.4</td>\n",
       "      <td>1.0</td>\n",
       "      <td>1.2</td>\n",
       "      <td>65.0</td>\n",
       "      <td>97.0</td>\n",
       "      <td>72.0</td>\n",
       "      <td>1.0</td>\n",
       "      <td>0.0</td>\n",
       "      <td>1</td>\n",
       "      <td>울산</td>\n",
       "      <td>해당</td>\n",
       "      <td>과체중</td>\n",
       "    </tr>\n",
       "    <tr>\n",
       "      <th>4</th>\n",
       "      <td>2</td>\n",
       "      <td>12</td>\n",
       "      <td>155</td>\n",
       "      <td>50</td>\n",
       "      <td>75.2</td>\n",
       "      <td>144.0</td>\n",
       "      <td>89.0</td>\n",
       "      <td>110.0</td>\n",
       "      <td>12.4</td>\n",
       "      <td>1.0</td>\n",
       "      <td>0.7</td>\n",
       "      <td>18.0</td>\n",
       "      <td>17.0</td>\n",
       "      <td>14.0</td>\n",
       "      <td>1.0</td>\n",
       "      <td>0.0</td>\n",
       "      <td>0</td>\n",
       "      <td>경기</td>\n",
       "      <td>비해당</td>\n",
       "      <td>정상</td>\n",
       "    </tr>\n",
       "  </tbody>\n",
       "</table>\n",
       "</div>"
      ],
      "text/plain": [
       "   성별코드  연령대 코드(5세단위)  신장(5Cm단위)  체중(5Kg 단위)  허리둘레  수축기 혈압  이완기 혈압  \\\n",
       "0     1             9        165          60  72.1   127.0    79.0   \n",
       "1     2            13        150          65  81.0   110.0    73.0   \n",
       "2     2            12        155          55  70.0   123.0    80.0   \n",
       "3     1            13        160          70  90.8   134.0    84.0   \n",
       "4     2            12        155          50  75.2   144.0    89.0   \n",
       "\n",
       "   식전혈당(공복혈당)   혈색소  요단백  혈청크레아티닌  (혈청지오티)AST  (혈청지오티)ALT  감마 지티피  흡연상태  음주여부  \\\n",
       "0        90.0  15.0  1.0      1.1        21.0        27.0    21.0   1.0   0.0   \n",
       "1        87.0  12.7  1.0      0.5        18.0        15.0    15.0   1.0   0.0   \n",
       "2       102.0  12.8  1.0      0.7        27.0        25.0     7.0   1.0   0.0   \n",
       "3       146.0  16.4  1.0      1.2        65.0        97.0    72.0   1.0   0.0   \n",
       "4       110.0  12.4  1.0      0.7        18.0        17.0    14.0   1.0   0.0   \n",
       "\n",
       "   구강검진 수검여부 시도명 복부비만   비만  \n",
       "0          0  세종  비해당   정상  \n",
       "1          0  대구  비해당  과체중  \n",
       "2          0  서울  비해당   정상  \n",
       "3          1  울산   해당  과체중  \n",
       "4          0  경기  비해당   정상  "
      ]
     },
     "execution_count": 77,
     "metadata": {},
     "output_type": "execute_result"
    }
   ],
   "source": [
    "#비만\n",
    "\n",
    "def overweight(x):\n",
    "    h = x['신장(5Cm단위)']\n",
    "    h *= 0.01\n",
    "    h = h ** 2\n",
    "    w = x['체중(5Kg 단위)']\n",
    "    bmi = w / h\n",
    "    \n",
    "    if bmi <= 18.5:\n",
    "        return '저체중'\n",
    "    elif bmi <= 25:\n",
    "        return '정상'\n",
    "    elif bmi <= 30:\n",
    "        return '과체중'\n",
    "    else:\n",
    "        return '비만'\n",
    "    \n",
    "df['비만'] = df.apply(overweight, axis = 1)\n",
    "df.head()"
   ]
  },
  {
   "cell_type": "code",
   "execution_count": 78,
   "metadata": {},
   "outputs": [
    {
     "name": "stderr",
     "output_type": "stream",
     "text": [
      "C:\\Users\\user\\AppData\\Local\\Temp/ipykernel_5976/3483696640.py:16: SettingWithCopyWarning: \n",
      "A value is trying to be set on a copy of a slice from a DataFrame.\n",
      "Try using .loc[row_indexer,col_indexer] = value instead\n",
      "\n",
      "See the caveats in the documentation: https://pandas.pydata.org/pandas-docs/stable/user_guide/indexing.html#returning-a-view-versus-a-copy\n",
      "  df['빈혈'] = df.apply(빈혈,axis =1)\n"
     ]
    },
    {
     "data": {
      "text/html": [
       "<div>\n",
       "<style scoped>\n",
       "    .dataframe tbody tr th:only-of-type {\n",
       "        vertical-align: middle;\n",
       "    }\n",
       "\n",
       "    .dataframe tbody tr th {\n",
       "        vertical-align: top;\n",
       "    }\n",
       "\n",
       "    .dataframe thead th {\n",
       "        text-align: right;\n",
       "    }\n",
       "</style>\n",
       "<table border=\"1\" class=\"dataframe\">\n",
       "  <thead>\n",
       "    <tr style=\"text-align: right;\">\n",
       "      <th></th>\n",
       "      <th>성별코드</th>\n",
       "      <th>연령대 코드(5세단위)</th>\n",
       "      <th>신장(5Cm단위)</th>\n",
       "      <th>체중(5Kg 단위)</th>\n",
       "      <th>허리둘레</th>\n",
       "      <th>수축기 혈압</th>\n",
       "      <th>이완기 혈압</th>\n",
       "      <th>식전혈당(공복혈당)</th>\n",
       "      <th>혈색소</th>\n",
       "      <th>요단백</th>\n",
       "      <th>...</th>\n",
       "      <th>(혈청지오티)AST</th>\n",
       "      <th>(혈청지오티)ALT</th>\n",
       "      <th>감마 지티피</th>\n",
       "      <th>흡연상태</th>\n",
       "      <th>음주여부</th>\n",
       "      <th>구강검진 수검여부</th>\n",
       "      <th>시도명</th>\n",
       "      <th>복부비만</th>\n",
       "      <th>비만</th>\n",
       "      <th>빈혈</th>\n",
       "    </tr>\n",
       "  </thead>\n",
       "  <tbody>\n",
       "    <tr>\n",
       "      <th>0</th>\n",
       "      <td>1</td>\n",
       "      <td>9</td>\n",
       "      <td>165</td>\n",
       "      <td>60</td>\n",
       "      <td>72.1</td>\n",
       "      <td>127.0</td>\n",
       "      <td>79.0</td>\n",
       "      <td>90.0</td>\n",
       "      <td>15.0</td>\n",
       "      <td>1.0</td>\n",
       "      <td>...</td>\n",
       "      <td>21.0</td>\n",
       "      <td>27.0</td>\n",
       "      <td>21.0</td>\n",
       "      <td>1.0</td>\n",
       "      <td>0.0</td>\n",
       "      <td>0</td>\n",
       "      <td>세종</td>\n",
       "      <td>비해당</td>\n",
       "      <td>정상</td>\n",
       "      <td>비해당</td>\n",
       "    </tr>\n",
       "  </tbody>\n",
       "</table>\n",
       "<p>1 rows × 21 columns</p>\n",
       "</div>"
      ],
      "text/plain": [
       "   성별코드  연령대 코드(5세단위)  신장(5Cm단위)  체중(5Kg 단위)  허리둘레  수축기 혈압  이완기 혈압  \\\n",
       "0     1             9        165          60  72.1   127.0    79.0   \n",
       "\n",
       "   식전혈당(공복혈당)   혈색소  요단백  ...  (혈청지오티)AST  (혈청지오티)ALT  감마 지티피  흡연상태  음주여부  \\\n",
       "0        90.0  15.0  1.0  ...        21.0        27.0    21.0   1.0   0.0   \n",
       "\n",
       "   구강검진 수검여부  시도명 복부비만  비만   빈혈  \n",
       "0          0   세종  비해당  정상  비해당  \n",
       "\n",
       "[1 rows x 21 columns]"
      ]
     },
     "execution_count": 78,
     "metadata": {},
     "output_type": "execute_result"
    }
   ],
   "source": [
    "# 빈혈 함수\n",
    "# 성별코드 1:남자, 2:여자\n",
    "def 빈혈(x):\n",
    "    if x['성별코드'] == 1:\n",
    "        if x['혈색소'] <= 13:\n",
    "            return '해당'\n",
    "        else:\n",
    "            return '비해당'\n",
    "    \n",
    "    else:\n",
    "        if x['혈색소'] <= 12:\n",
    "            return '해당'\n",
    "        else:\n",
    "            return '비해당'\n",
    "\n",
    "df['빈혈'] = df.apply(빈혈,axis =1)\n",
    "df.head(1)"
   ]
  },
  {
   "cell_type": "code",
   "execution_count": 79,
   "metadata": {},
   "outputs": [
    {
     "name": "stderr",
     "output_type": "stream",
     "text": [
      "C:\\Anaconda3\\lib\\site-packages\\pandas\\core\\indexing.py:1684: SettingWithCopyWarning: \n",
      "A value is trying to be set on a copy of a slice from a DataFrame.\n",
      "Try using .loc[row_indexer,col_indexer] = value instead\n",
      "\n",
      "See the caveats in the documentation: https://pandas.pydata.org/pandas-docs/stable/user_guide/indexing.html#returning-a-view-versus-a-copy\n",
      "  self.obj[key] = infer_fill_value(value)\n",
      "C:\\Anaconda3\\lib\\site-packages\\pandas\\core\\indexing.py:1817: SettingWithCopyWarning: \n",
      "A value is trying to be set on a copy of a slice from a DataFrame.\n",
      "Try using .loc[row_indexer,col_indexer] = value instead\n",
      "\n",
      "See the caveats in the documentation: https://pandas.pydata.org/pandas-docs/stable/user_guide/indexing.html#returning-a-view-versus-a-copy\n",
      "  self._setitem_single_column(loc, value, pi)\n"
     ]
    },
    {
     "data": {
      "text/html": [
       "<div>\n",
       "<style scoped>\n",
       "    .dataframe tbody tr th:only-of-type {\n",
       "        vertical-align: middle;\n",
       "    }\n",
       "\n",
       "    .dataframe tbody tr th {\n",
       "        vertical-align: top;\n",
       "    }\n",
       "\n",
       "    .dataframe thead th {\n",
       "        text-align: right;\n",
       "    }\n",
       "</style>\n",
       "<table border=\"1\" class=\"dataframe\">\n",
       "  <thead>\n",
       "    <tr style=\"text-align: right;\">\n",
       "      <th></th>\n",
       "      <th>성별코드</th>\n",
       "      <th>연령대 코드(5세단위)</th>\n",
       "      <th>신장(5Cm단위)</th>\n",
       "      <th>체중(5Kg 단위)</th>\n",
       "      <th>허리둘레</th>\n",
       "      <th>수축기 혈압</th>\n",
       "      <th>이완기 혈압</th>\n",
       "      <th>식전혈당(공복혈당)</th>\n",
       "      <th>혈색소</th>\n",
       "      <th>요단백</th>\n",
       "      <th>...</th>\n",
       "      <th>(혈청지오티)ALT</th>\n",
       "      <th>감마 지티피</th>\n",
       "      <th>흡연상태</th>\n",
       "      <th>음주여부</th>\n",
       "      <th>구강검진 수검여부</th>\n",
       "      <th>시도명</th>\n",
       "      <th>복부비만</th>\n",
       "      <th>비만</th>\n",
       "      <th>빈혈</th>\n",
       "      <th>당뇨</th>\n",
       "    </tr>\n",
       "  </thead>\n",
       "  <tbody>\n",
       "    <tr>\n",
       "      <th>0</th>\n",
       "      <td>1</td>\n",
       "      <td>9</td>\n",
       "      <td>165</td>\n",
       "      <td>60</td>\n",
       "      <td>72.1</td>\n",
       "      <td>127.0</td>\n",
       "      <td>79.0</td>\n",
       "      <td>90.0</td>\n",
       "      <td>15.0</td>\n",
       "      <td>1.0</td>\n",
       "      <td>...</td>\n",
       "      <td>27.0</td>\n",
       "      <td>21.0</td>\n",
       "      <td>1.0</td>\n",
       "      <td>0.0</td>\n",
       "      <td>0</td>\n",
       "      <td>세종</td>\n",
       "      <td>비해당</td>\n",
       "      <td>정상</td>\n",
       "      <td>비해당</td>\n",
       "      <td>정상</td>\n",
       "    </tr>\n",
       "    <tr>\n",
       "      <th>1</th>\n",
       "      <td>2</td>\n",
       "      <td>13</td>\n",
       "      <td>150</td>\n",
       "      <td>65</td>\n",
       "      <td>81.0</td>\n",
       "      <td>110.0</td>\n",
       "      <td>73.0</td>\n",
       "      <td>87.0</td>\n",
       "      <td>12.7</td>\n",
       "      <td>1.0</td>\n",
       "      <td>...</td>\n",
       "      <td>15.0</td>\n",
       "      <td>15.0</td>\n",
       "      <td>1.0</td>\n",
       "      <td>0.0</td>\n",
       "      <td>0</td>\n",
       "      <td>대구</td>\n",
       "      <td>비해당</td>\n",
       "      <td>과체중</td>\n",
       "      <td>비해당</td>\n",
       "      <td>정상</td>\n",
       "    </tr>\n",
       "    <tr>\n",
       "      <th>2</th>\n",
       "      <td>2</td>\n",
       "      <td>12</td>\n",
       "      <td>155</td>\n",
       "      <td>55</td>\n",
       "      <td>70.0</td>\n",
       "      <td>123.0</td>\n",
       "      <td>80.0</td>\n",
       "      <td>102.0</td>\n",
       "      <td>12.8</td>\n",
       "      <td>1.0</td>\n",
       "      <td>...</td>\n",
       "      <td>25.0</td>\n",
       "      <td>7.0</td>\n",
       "      <td>1.0</td>\n",
       "      <td>0.0</td>\n",
       "      <td>0</td>\n",
       "      <td>서울</td>\n",
       "      <td>비해당</td>\n",
       "      <td>정상</td>\n",
       "      <td>비해당</td>\n",
       "      <td>정상</td>\n",
       "    </tr>\n",
       "    <tr>\n",
       "      <th>3</th>\n",
       "      <td>1</td>\n",
       "      <td>13</td>\n",
       "      <td>160</td>\n",
       "      <td>70</td>\n",
       "      <td>90.8</td>\n",
       "      <td>134.0</td>\n",
       "      <td>84.0</td>\n",
       "      <td>146.0</td>\n",
       "      <td>16.4</td>\n",
       "      <td>1.0</td>\n",
       "      <td>...</td>\n",
       "      <td>97.0</td>\n",
       "      <td>72.0</td>\n",
       "      <td>1.0</td>\n",
       "      <td>0.0</td>\n",
       "      <td>1</td>\n",
       "      <td>울산</td>\n",
       "      <td>해당</td>\n",
       "      <td>과체중</td>\n",
       "      <td>비해당</td>\n",
       "      <td>질환 의심</td>\n",
       "    </tr>\n",
       "    <tr>\n",
       "      <th>4</th>\n",
       "      <td>2</td>\n",
       "      <td>12</td>\n",
       "      <td>155</td>\n",
       "      <td>50</td>\n",
       "      <td>75.2</td>\n",
       "      <td>144.0</td>\n",
       "      <td>89.0</td>\n",
       "      <td>110.0</td>\n",
       "      <td>12.4</td>\n",
       "      <td>1.0</td>\n",
       "      <td>...</td>\n",
       "      <td>17.0</td>\n",
       "      <td>14.0</td>\n",
       "      <td>1.0</td>\n",
       "      <td>0.0</td>\n",
       "      <td>0</td>\n",
       "      <td>경기</td>\n",
       "      <td>비해당</td>\n",
       "      <td>정상</td>\n",
       "      <td>비해당</td>\n",
       "      <td>정상</td>\n",
       "    </tr>\n",
       "    <tr>\n",
       "      <th>...</th>\n",
       "      <td>...</td>\n",
       "      <td>...</td>\n",
       "      <td>...</td>\n",
       "      <td>...</td>\n",
       "      <td>...</td>\n",
       "      <td>...</td>\n",
       "      <td>...</td>\n",
       "      <td>...</td>\n",
       "      <td>...</td>\n",
       "      <td>...</td>\n",
       "      <td>...</td>\n",
       "      <td>...</td>\n",
       "      <td>...</td>\n",
       "      <td>...</td>\n",
       "      <td>...</td>\n",
       "      <td>...</td>\n",
       "      <td>...</td>\n",
       "      <td>...</td>\n",
       "      <td>...</td>\n",
       "      <td>...</td>\n",
       "      <td>...</td>\n",
       "    </tr>\n",
       "    <tr>\n",
       "      <th>249995</th>\n",
       "      <td>2</td>\n",
       "      <td>13</td>\n",
       "      <td>145</td>\n",
       "      <td>55</td>\n",
       "      <td>81.0</td>\n",
       "      <td>132.0</td>\n",
       "      <td>78.0</td>\n",
       "      <td>124.0</td>\n",
       "      <td>13.6</td>\n",
       "      <td>1.0</td>\n",
       "      <td>...</td>\n",
       "      <td>25.0</td>\n",
       "      <td>18.0</td>\n",
       "      <td>1.0</td>\n",
       "      <td>0.0</td>\n",
       "      <td>0</td>\n",
       "      <td>경기</td>\n",
       "      <td>비해당</td>\n",
       "      <td>과체중</td>\n",
       "      <td>비해당</td>\n",
       "      <td>질환 위험</td>\n",
       "    </tr>\n",
       "    <tr>\n",
       "      <th>249996</th>\n",
       "      <td>2</td>\n",
       "      <td>12</td>\n",
       "      <td>160</td>\n",
       "      <td>55</td>\n",
       "      <td>76.5</td>\n",
       "      <td>100.0</td>\n",
       "      <td>64.0</td>\n",
       "      <td>98.0</td>\n",
       "      <td>14.0</td>\n",
       "      <td>1.0</td>\n",
       "      <td>...</td>\n",
       "      <td>14.0</td>\n",
       "      <td>19.0</td>\n",
       "      <td>1.0</td>\n",
       "      <td>1.0</td>\n",
       "      <td>0</td>\n",
       "      <td>부산</td>\n",
       "      <td>비해당</td>\n",
       "      <td>정상</td>\n",
       "      <td>비해당</td>\n",
       "      <td>정상</td>\n",
       "    </tr>\n",
       "    <tr>\n",
       "      <th>249997</th>\n",
       "      <td>1</td>\n",
       "      <td>9</td>\n",
       "      <td>175</td>\n",
       "      <td>70</td>\n",
       "      <td>85.0</td>\n",
       "      <td>110.0</td>\n",
       "      <td>64.0</td>\n",
       "      <td>83.0</td>\n",
       "      <td>16.0</td>\n",
       "      <td>1.0</td>\n",
       "      <td>...</td>\n",
       "      <td>20.0</td>\n",
       "      <td>17.0</td>\n",
       "      <td>1.0</td>\n",
       "      <td>1.0</td>\n",
       "      <td>0</td>\n",
       "      <td>경남</td>\n",
       "      <td>비해당</td>\n",
       "      <td>정상</td>\n",
       "      <td>비해당</td>\n",
       "      <td>정상</td>\n",
       "    </tr>\n",
       "    <tr>\n",
       "      <th>249998</th>\n",
       "      <td>2</td>\n",
       "      <td>9</td>\n",
       "      <td>160</td>\n",
       "      <td>70</td>\n",
       "      <td>91.0</td>\n",
       "      <td>137.0</td>\n",
       "      <td>82.0</td>\n",
       "      <td>111.0</td>\n",
       "      <td>11.9</td>\n",
       "      <td>1.0</td>\n",
       "      <td>...</td>\n",
       "      <td>29.0</td>\n",
       "      <td>13.0</td>\n",
       "      <td>1.0</td>\n",
       "      <td>0.0</td>\n",
       "      <td>0</td>\n",
       "      <td>경남</td>\n",
       "      <td>해당</td>\n",
       "      <td>과체중</td>\n",
       "      <td>해당</td>\n",
       "      <td>정상</td>\n",
       "    </tr>\n",
       "    <tr>\n",
       "      <th>249999</th>\n",
       "      <td>1</td>\n",
       "      <td>11</td>\n",
       "      <td>160</td>\n",
       "      <td>55</td>\n",
       "      <td>76.1</td>\n",
       "      <td>133.0</td>\n",
       "      <td>74.0</td>\n",
       "      <td>121.0</td>\n",
       "      <td>14.9</td>\n",
       "      <td>1.0</td>\n",
       "      <td>...</td>\n",
       "      <td>13.0</td>\n",
       "      <td>24.0</td>\n",
       "      <td>2.0</td>\n",
       "      <td>0.0</td>\n",
       "      <td>0</td>\n",
       "      <td>인천</td>\n",
       "      <td>비해당</td>\n",
       "      <td>정상</td>\n",
       "      <td>비해당</td>\n",
       "      <td>질환 위험</td>\n",
       "    </tr>\n",
       "  </tbody>\n",
       "</table>\n",
       "<p>987219 rows × 22 columns</p>\n",
       "</div>"
      ],
      "text/plain": [
       "        성별코드  연령대 코드(5세단위)  신장(5Cm단위)  체중(5Kg 단위)  허리둘레  수축기 혈압  이완기 혈압  \\\n",
       "0          1             9        165          60  72.1   127.0    79.0   \n",
       "1          2            13        150          65  81.0   110.0    73.0   \n",
       "2          2            12        155          55  70.0   123.0    80.0   \n",
       "3          1            13        160          70  90.8   134.0    84.0   \n",
       "4          2            12        155          50  75.2   144.0    89.0   \n",
       "...      ...           ...        ...         ...   ...     ...     ...   \n",
       "249995     2            13        145          55  81.0   132.0    78.0   \n",
       "249996     2            12        160          55  76.5   100.0    64.0   \n",
       "249997     1             9        175          70  85.0   110.0    64.0   \n",
       "249998     2             9        160          70  91.0   137.0    82.0   \n",
       "249999     1            11        160          55  76.1   133.0    74.0   \n",
       "\n",
       "        식전혈당(공복혈당)   혈색소  요단백  ...  (혈청지오티)ALT  감마 지티피  흡연상태  음주여부  구강검진 수검여부  \\\n",
       "0             90.0  15.0  1.0  ...        27.0    21.0   1.0   0.0          0   \n",
       "1             87.0  12.7  1.0  ...        15.0    15.0   1.0   0.0          0   \n",
       "2            102.0  12.8  1.0  ...        25.0     7.0   1.0   0.0          0   \n",
       "3            146.0  16.4  1.0  ...        97.0    72.0   1.0   0.0          1   \n",
       "4            110.0  12.4  1.0  ...        17.0    14.0   1.0   0.0          0   \n",
       "...            ...   ...  ...  ...         ...     ...   ...   ...        ...   \n",
       "249995       124.0  13.6  1.0  ...        25.0    18.0   1.0   0.0          0   \n",
       "249996        98.0  14.0  1.0  ...        14.0    19.0   1.0   1.0          0   \n",
       "249997        83.0  16.0  1.0  ...        20.0    17.0   1.0   1.0          0   \n",
       "249998       111.0  11.9  1.0  ...        29.0    13.0   1.0   0.0          0   \n",
       "249999       121.0  14.9  1.0  ...        13.0    24.0   2.0   0.0          0   \n",
       "\n",
       "        시도명  복부비만   비만   빈혈     당뇨  \n",
       "0        세종   비해당   정상  비해당     정상  \n",
       "1        대구   비해당  과체중  비해당     정상  \n",
       "2        서울   비해당   정상  비해당     정상  \n",
       "3        울산    해당  과체중  비해당  질환 의심  \n",
       "4        경기   비해당   정상  비해당     정상  \n",
       "...     ...   ...  ...  ...    ...  \n",
       "249995   경기   비해당  과체중  비해당  질환 위험  \n",
       "249996   부산   비해당   정상  비해당     정상  \n",
       "249997   경남   비해당   정상  비해당     정상  \n",
       "249998   경남    해당  과체중   해당     정상  \n",
       "249999   인천   비해당   정상  비해당  질환 위험  \n",
       "\n",
       "[987219 rows x 22 columns]"
      ]
     },
     "execution_count": 79,
     "metadata": {},
     "output_type": "execute_result"
    }
   ],
   "source": [
    "con1 = (df['식전혈당(공복혈당)']<= 120)\n",
    "con2 = (df['식전혈당(공복혈당)']>120)&(df['식전혈당(공복혈당)']<126)\n",
    "con3 = (df['식전혈당(공복혈당)']>=126)\n",
    "\n",
    "df.loc[con1, '당뇨'] = \"정상\"\n",
    "df.loc[con2, '당뇨'] = \"질환 위험\"\n",
    "df.loc[con3, '당뇨'] = \"질환 의심\"\n",
    "df"
   ]
  },
  {
   "cell_type": "code",
   "execution_count": 80,
   "metadata": {},
   "outputs": [
    {
     "name": "stderr",
     "output_type": "stream",
     "text": [
      "C:\\Users\\user\\AppData\\Local\\Temp/ipykernel_5976/2817138693.py:21: SettingWithCopyWarning: \n",
      "A value is trying to be set on a copy of a slice from a DataFrame.\n",
      "Try using .loc[row_indexer,col_indexer] = value instead\n",
      "\n",
      "See the caveats in the documentation: https://pandas.pydata.org/pandas-docs/stable/user_guide/indexing.html#returning-a-view-versus-a-copy\n",
      "  df['혈압'] = df.apply(blood_pressure, axis=1)\n"
     ]
    }
   ],
   "source": [
    "def blood_pressure(x):\n",
    "    sbp = x['수축기 혈압']\n",
    "    dpb = x['이완기 혈압']\n",
    "    \n",
    "    if dpb <= 60:\n",
    "        return '저혈압'\n",
    "        \n",
    "    elif dpb >= 95:\n",
    "        return '고혈압'\n",
    "    \n",
    "    else:\n",
    "        if sbp <= 100:\n",
    "            return '저혈압'\n",
    "        \n",
    "        elif sbp >= 145:\n",
    "            return '고혈압'\n",
    "        \n",
    "        else:\n",
    "            return '정상'\n",
    "\n",
    "df['혈압'] = df.apply(blood_pressure, axis=1)"
   ]
  },
  {
   "cell_type": "code",
   "execution_count": 81,
   "metadata": {},
   "outputs": [
    {
     "name": "stderr",
     "output_type": "stream",
     "text": [
      "C:\\Users\\user\\AppData\\Local\\Temp/ipykernel_5976/827696170.py:19: SettingWithCopyWarning: \n",
      "A value is trying to be set on a copy of a slice from a DataFrame.\n",
      "Try using .loc[row_indexer,col_indexer] = value instead\n",
      "\n",
      "See the caveats in the documentation: https://pandas.pydata.org/pandas-docs/stable/user_guide/indexing.html#returning-a-view-versus-a-copy\n",
      "  df['간 기능 이상'] = df.apply(liver, axis = 1)\n"
     ]
    }
   ],
   "source": [
    "def liver(x):\n",
    "    ast = x['(혈청지오티)AST']\n",
    "    alt = x['(혈청지오티)ALT']\n",
    "    \n",
    "    if ast <= 32:\n",
    "        if alt <= 32:\n",
    "            return '정상'\n",
    "        elif alt >= 46:\n",
    "            return '질환의심'\n",
    "        else:\n",
    "            return '질환위험'\n",
    "        \n",
    "    elif ast >= 51:\n",
    "        return '질환의심'\n",
    "    \n",
    "    else:\n",
    "        return '질환위험'\n",
    "        \n",
    "df['간 기능 이상'] = df.apply(liver, axis = 1)"
   ]
  },
  {
   "cell_type": "code",
   "execution_count": 82,
   "metadata": {},
   "outputs": [
    {
     "data": {
      "text/html": [
       "<div>\n",
       "<style scoped>\n",
       "    .dataframe tbody tr th:only-of-type {\n",
       "        vertical-align: middle;\n",
       "    }\n",
       "\n",
       "    .dataframe tbody tr th {\n",
       "        vertical-align: top;\n",
       "    }\n",
       "\n",
       "    .dataframe thead th {\n",
       "        text-align: right;\n",
       "    }\n",
       "</style>\n",
       "<table border=\"1\" class=\"dataframe\">\n",
       "  <thead>\n",
       "    <tr style=\"text-align: right;\">\n",
       "      <th></th>\n",
       "      <th>성별코드</th>\n",
       "      <th>연령대 코드(5세단위)</th>\n",
       "      <th>신장(5Cm단위)</th>\n",
       "      <th>체중(5Kg 단위)</th>\n",
       "      <th>허리둘레</th>\n",
       "      <th>수축기 혈압</th>\n",
       "      <th>이완기 혈압</th>\n",
       "      <th>식전혈당(공복혈당)</th>\n",
       "      <th>혈색소</th>\n",
       "      <th>요단백</th>\n",
       "      <th>...</th>\n",
       "      <th>흡연상태</th>\n",
       "      <th>음주여부</th>\n",
       "      <th>구강검진 수검여부</th>\n",
       "      <th>시도명</th>\n",
       "      <th>복부비만</th>\n",
       "      <th>비만</th>\n",
       "      <th>빈혈</th>\n",
       "      <th>당뇨</th>\n",
       "      <th>혈압</th>\n",
       "      <th>간 기능 이상</th>\n",
       "    </tr>\n",
       "  </thead>\n",
       "  <tbody>\n",
       "    <tr>\n",
       "      <th>0</th>\n",
       "      <td>1</td>\n",
       "      <td>9</td>\n",
       "      <td>165</td>\n",
       "      <td>60</td>\n",
       "      <td>72.1</td>\n",
       "      <td>127.0</td>\n",
       "      <td>79.0</td>\n",
       "      <td>90.0</td>\n",
       "      <td>15.0</td>\n",
       "      <td>1.0</td>\n",
       "      <td>...</td>\n",
       "      <td>1.0</td>\n",
       "      <td>0.0</td>\n",
       "      <td>0</td>\n",
       "      <td>세종</td>\n",
       "      <td>비해당</td>\n",
       "      <td>정상</td>\n",
       "      <td>비해당</td>\n",
       "      <td>정상</td>\n",
       "      <td>정상</td>\n",
       "      <td>정상</td>\n",
       "    </tr>\n",
       "    <tr>\n",
       "      <th>1</th>\n",
       "      <td>2</td>\n",
       "      <td>13</td>\n",
       "      <td>150</td>\n",
       "      <td>65</td>\n",
       "      <td>81.0</td>\n",
       "      <td>110.0</td>\n",
       "      <td>73.0</td>\n",
       "      <td>87.0</td>\n",
       "      <td>12.7</td>\n",
       "      <td>1.0</td>\n",
       "      <td>...</td>\n",
       "      <td>1.0</td>\n",
       "      <td>0.0</td>\n",
       "      <td>0</td>\n",
       "      <td>대구</td>\n",
       "      <td>비해당</td>\n",
       "      <td>과체중</td>\n",
       "      <td>비해당</td>\n",
       "      <td>정상</td>\n",
       "      <td>정상</td>\n",
       "      <td>정상</td>\n",
       "    </tr>\n",
       "    <tr>\n",
       "      <th>2</th>\n",
       "      <td>2</td>\n",
       "      <td>12</td>\n",
       "      <td>155</td>\n",
       "      <td>55</td>\n",
       "      <td>70.0</td>\n",
       "      <td>123.0</td>\n",
       "      <td>80.0</td>\n",
       "      <td>102.0</td>\n",
       "      <td>12.8</td>\n",
       "      <td>1.0</td>\n",
       "      <td>...</td>\n",
       "      <td>1.0</td>\n",
       "      <td>0.0</td>\n",
       "      <td>0</td>\n",
       "      <td>서울</td>\n",
       "      <td>비해당</td>\n",
       "      <td>정상</td>\n",
       "      <td>비해당</td>\n",
       "      <td>정상</td>\n",
       "      <td>정상</td>\n",
       "      <td>정상</td>\n",
       "    </tr>\n",
       "    <tr>\n",
       "      <th>3</th>\n",
       "      <td>1</td>\n",
       "      <td>13</td>\n",
       "      <td>160</td>\n",
       "      <td>70</td>\n",
       "      <td>90.8</td>\n",
       "      <td>134.0</td>\n",
       "      <td>84.0</td>\n",
       "      <td>146.0</td>\n",
       "      <td>16.4</td>\n",
       "      <td>1.0</td>\n",
       "      <td>...</td>\n",
       "      <td>1.0</td>\n",
       "      <td>0.0</td>\n",
       "      <td>1</td>\n",
       "      <td>울산</td>\n",
       "      <td>해당</td>\n",
       "      <td>과체중</td>\n",
       "      <td>비해당</td>\n",
       "      <td>질환 의심</td>\n",
       "      <td>정상</td>\n",
       "      <td>질환의심</td>\n",
       "    </tr>\n",
       "    <tr>\n",
       "      <th>4</th>\n",
       "      <td>2</td>\n",
       "      <td>12</td>\n",
       "      <td>155</td>\n",
       "      <td>50</td>\n",
       "      <td>75.2</td>\n",
       "      <td>144.0</td>\n",
       "      <td>89.0</td>\n",
       "      <td>110.0</td>\n",
       "      <td>12.4</td>\n",
       "      <td>1.0</td>\n",
       "      <td>...</td>\n",
       "      <td>1.0</td>\n",
       "      <td>0.0</td>\n",
       "      <td>0</td>\n",
       "      <td>경기</td>\n",
       "      <td>비해당</td>\n",
       "      <td>정상</td>\n",
       "      <td>비해당</td>\n",
       "      <td>정상</td>\n",
       "      <td>정상</td>\n",
       "      <td>정상</td>\n",
       "    </tr>\n",
       "  </tbody>\n",
       "</table>\n",
       "<p>5 rows × 24 columns</p>\n",
       "</div>"
      ],
      "text/plain": [
       "   성별코드  연령대 코드(5세단위)  신장(5Cm단위)  체중(5Kg 단위)  허리둘레  수축기 혈압  이완기 혈압  \\\n",
       "0     1             9        165          60  72.1   127.0    79.0   \n",
       "1     2            13        150          65  81.0   110.0    73.0   \n",
       "2     2            12        155          55  70.0   123.0    80.0   \n",
       "3     1            13        160          70  90.8   134.0    84.0   \n",
       "4     2            12        155          50  75.2   144.0    89.0   \n",
       "\n",
       "   식전혈당(공복혈당)   혈색소  요단백  ...  흡연상태  음주여부  구강검진 수검여부  시도명  복부비만   비만   빈혈  \\\n",
       "0        90.0  15.0  1.0  ...   1.0   0.0          0   세종   비해당   정상  비해당   \n",
       "1        87.0  12.7  1.0  ...   1.0   0.0          0   대구   비해당  과체중  비해당   \n",
       "2       102.0  12.8  1.0  ...   1.0   0.0          0   서울   비해당   정상  비해당   \n",
       "3       146.0  16.4  1.0  ...   1.0   0.0          1   울산    해당  과체중  비해당   \n",
       "4       110.0  12.4  1.0  ...   1.0   0.0          0   경기   비해당   정상  비해당   \n",
       "\n",
       "      당뇨  혈압 간 기능 이상  \n",
       "0     정상  정상      정상  \n",
       "1     정상  정상      정상  \n",
       "2     정상  정상      정상  \n",
       "3  질환 의심  정상    질환의심  \n",
       "4     정상  정상      정상  \n",
       "\n",
       "[5 rows x 24 columns]"
      ]
     },
     "execution_count": 82,
     "metadata": {},
     "output_type": "execute_result"
    }
   ],
   "source": [
    "df.head()"
   ]
  },
  {
   "cell_type": "code",
   "execution_count": 83,
   "metadata": {},
   "outputs": [
    {
     "data": {
      "text/plain": [
       "성별코드            0\n",
       "연령대 코드(5세단위)    0\n",
       "신장(5Cm단위)       0\n",
       "체중(5Kg 단위)      0\n",
       "허리둘레            0\n",
       "수축기 혈압          0\n",
       "이완기 혈압          0\n",
       "식전혈당(공복혈당)      0\n",
       "혈색소             0\n",
       "요단백             0\n",
       "혈청크레아티닌         0\n",
       "(혈청지오티)AST      0\n",
       "(혈청지오티)ALT      0\n",
       "감마 지티피          0\n",
       "흡연상태            0\n",
       "음주여부            0\n",
       "구강검진 수검여부       0\n",
       "시도명             0\n",
       "복부비만            0\n",
       "비만              0\n",
       "빈혈              0\n",
       "당뇨              0\n",
       "혈압              0\n",
       "간 기능 이상         0\n",
       "dtype: int64"
      ]
     },
     "execution_count": 83,
     "metadata": {},
     "output_type": "execute_result"
    }
   ],
   "source": [
    "df.isnull().sum()"
   ]
  },
  {
   "cell_type": "code",
   "execution_count": 198,
   "metadata": {},
   "outputs": [
    {
     "data": {
      "text/html": [
       "<div>\n",
       "<style scoped>\n",
       "    .dataframe tbody tr th:only-of-type {\n",
       "        vertical-align: middle;\n",
       "    }\n",
       "\n",
       "    .dataframe tbody tr th {\n",
       "        vertical-align: top;\n",
       "    }\n",
       "\n",
       "    .dataframe thead th {\n",
       "        text-align: right;\n",
       "    }\n",
       "</style>\n",
       "<table border=\"1\" class=\"dataframe\">\n",
       "  <thead>\n",
       "    <tr style=\"text-align: right;\">\n",
       "      <th></th>\n",
       "      <th>치석</th>\n",
       "      <th>치아우식증유무</th>\n",
       "      <th>흡연상태</th>\n",
       "      <th>구강검진 수검여부</th>\n",
       "    </tr>\n",
       "  </thead>\n",
       "  <tbody>\n",
       "    <tr>\n",
       "      <th>3</th>\n",
       "      <td>0</td>\n",
       "      <td>0</td>\n",
       "      <td>1</td>\n",
       "      <td>1</td>\n",
       "    </tr>\n",
       "    <tr>\n",
       "      <th>6</th>\n",
       "      <td>1</td>\n",
       "      <td>0</td>\n",
       "      <td>3</td>\n",
       "      <td>1</td>\n",
       "    </tr>\n",
       "    <tr>\n",
       "      <th>12</th>\n",
       "      <td>0</td>\n",
       "      <td>0</td>\n",
       "      <td>3</td>\n",
       "      <td>1</td>\n",
       "    </tr>\n",
       "    <tr>\n",
       "      <th>16</th>\n",
       "      <td>1</td>\n",
       "      <td>0</td>\n",
       "      <td>1</td>\n",
       "      <td>1</td>\n",
       "    </tr>\n",
       "    <tr>\n",
       "      <th>21</th>\n",
       "      <td>0</td>\n",
       "      <td>0</td>\n",
       "      <td>1</td>\n",
       "      <td>1</td>\n",
       "    </tr>\n",
       "    <tr>\n",
       "      <th>...</th>\n",
       "      <td>...</td>\n",
       "      <td>...</td>\n",
       "      <td>...</td>\n",
       "      <td>...</td>\n",
       "    </tr>\n",
       "    <tr>\n",
       "      <th>249979</th>\n",
       "      <td>1</td>\n",
       "      <td>0</td>\n",
       "      <td>3</td>\n",
       "      <td>1</td>\n",
       "    </tr>\n",
       "    <tr>\n",
       "      <th>249982</th>\n",
       "      <td>1</td>\n",
       "      <td>1</td>\n",
       "      <td>1</td>\n",
       "      <td>1</td>\n",
       "    </tr>\n",
       "    <tr>\n",
       "      <th>249988</th>\n",
       "      <td>1</td>\n",
       "      <td>0</td>\n",
       "      <td>2</td>\n",
       "      <td>1</td>\n",
       "    </tr>\n",
       "    <tr>\n",
       "      <th>249990</th>\n",
       "      <td>1</td>\n",
       "      <td>0</td>\n",
       "      <td>1</td>\n",
       "      <td>1</td>\n",
       "    </tr>\n",
       "    <tr>\n",
       "      <th>249993</th>\n",
       "      <td>1</td>\n",
       "      <td>0</td>\n",
       "      <td>2</td>\n",
       "      <td>1</td>\n",
       "    </tr>\n",
       "  </tbody>\n",
       "</table>\n",
       "<p>297759 rows × 4 columns</p>\n",
       "</div>"
      ],
      "text/plain": [
       "        치석  치아우식증유무  흡연상태  구강검진 수검여부\n",
       "3        0        0     1          1\n",
       "6        1        0     3          1\n",
       "12       0        0     3          1\n",
       "16       1        0     1          1\n",
       "21       0        0     1          1\n",
       "...     ..      ...   ...        ...\n",
       "249979   1        0     3          1\n",
       "249982   1        1     1          1\n",
       "249988   1        0     2          1\n",
       "249990   1        0     1          1\n",
       "249993   1        0     2          1\n",
       "\n",
       "[297759 rows x 4 columns]"
      ]
     },
     "execution_count": 198,
     "metadata": {},
     "output_type": "execute_result"
    }
   ],
   "source": [
    "con1 = smoke[smoke['치석']==2].index\n",
    "smoke.drop(con1)"
   ]
  },
  {
   "cell_type": "code",
   "execution_count": 283,
   "metadata": {},
   "outputs": [
    {
     "data": {
      "text/html": [
       "<div>\n",
       "<style scoped>\n",
       "    .dataframe tbody tr th:only-of-type {\n",
       "        vertical-align: middle;\n",
       "    }\n",
       "\n",
       "    .dataframe tbody tr th {\n",
       "        vertical-align: top;\n",
       "    }\n",
       "\n",
       "    .dataframe thead th {\n",
       "        text-align: right;\n",
       "    }\n",
       "</style>\n",
       "<table border=\"1\" class=\"dataframe\">\n",
       "  <thead>\n",
       "    <tr style=\"text-align: right;\">\n",
       "      <th></th>\n",
       "      <th>연령대 코드(5세단위)</th>\n",
       "      <th>신장(5Cm단위)</th>\n",
       "      <th>체중(5Kg 단위)</th>\n",
       "      <th>허리둘레</th>\n",
       "      <th>수축기 혈압</th>\n",
       "      <th>이완기 혈압</th>\n",
       "      <th>식전혈당(공복혈당)</th>\n",
       "      <th>혈색소</th>\n",
       "      <th>요단백</th>\n",
       "      <th>혈청크레아티닌</th>\n",
       "      <th>(혈청지오티)AST</th>\n",
       "      <th>(혈청지오티)ALT</th>\n",
       "      <th>감마 지티피</th>\n",
       "      <th>흡연상태</th>\n",
       "      <th>구강검진 수검여부</th>\n",
       "    </tr>\n",
       "  </thead>\n",
       "  <tbody>\n",
       "    <tr>\n",
       "      <th>count</th>\n",
       "      <td>987219.000000</td>\n",
       "      <td>987219.000000</td>\n",
       "      <td>987219.000000</td>\n",
       "      <td>987219.000000</td>\n",
       "      <td>987219.000000</td>\n",
       "      <td>987219.000000</td>\n",
       "      <td>987219.000000</td>\n",
       "      <td>987219.000000</td>\n",
       "      <td>987219.000000</td>\n",
       "      <td>987219.00000</td>\n",
       "      <td>987219.000000</td>\n",
       "      <td>987219.000000</td>\n",
       "      <td>987219.000000</td>\n",
       "      <td>987219.000000</td>\n",
       "      <td>987219.000000</td>\n",
       "    </tr>\n",
       "    <tr>\n",
       "      <th>mean</th>\n",
       "      <td>11.887454</td>\n",
       "      <td>161.032983</td>\n",
       "      <td>63.124190</td>\n",
       "      <td>82.345232</td>\n",
       "      <td>124.835507</td>\n",
       "      <td>76.823508</td>\n",
       "      <td>104.248022</td>\n",
       "      <td>14.213197</td>\n",
       "      <td>1.122263</td>\n",
       "      <td>0.84962</td>\n",
       "      <td>27.703397</td>\n",
       "      <td>26.775568</td>\n",
       "      <td>37.791644</td>\n",
       "      <td>1.559469</td>\n",
       "      <td>0.334180</td>\n",
       "    </tr>\n",
       "    <tr>\n",
       "      <th>std</th>\n",
       "      <td>2.150102</td>\n",
       "      <td>9.174479</td>\n",
       "      <td>12.266035</td>\n",
       "      <td>9.615590</td>\n",
       "      <td>14.743182</td>\n",
       "      <td>9.987141</td>\n",
       "      <td>25.375695</td>\n",
       "      <td>1.551654</td>\n",
       "      <td>0.493333</td>\n",
       "      <td>0.34016</td>\n",
       "      <td>25.299815</td>\n",
       "      <td>25.846017</td>\n",
       "      <td>51.813809</td>\n",
       "      <td>0.784434</td>\n",
       "      <td>0.471703</td>\n",
       "    </tr>\n",
       "    <tr>\n",
       "      <th>min</th>\n",
       "      <td>9.000000</td>\n",
       "      <td>130.000000</td>\n",
       "      <td>30.000000</td>\n",
       "      <td>5.800000</td>\n",
       "      <td>65.000000</td>\n",
       "      <td>30.000000</td>\n",
       "      <td>1.000000</td>\n",
       "      <td>1.000000</td>\n",
       "      <td>1.000000</td>\n",
       "      <td>0.00000</td>\n",
       "      <td>1.000000</td>\n",
       "      <td>1.000000</td>\n",
       "      <td>1.000000</td>\n",
       "      <td>1.000000</td>\n",
       "      <td>0.000000</td>\n",
       "    </tr>\n",
       "    <tr>\n",
       "      <th>25%</th>\n",
       "      <td>10.000000</td>\n",
       "      <td>155.000000</td>\n",
       "      <td>55.000000</td>\n",
       "      <td>76.000000</td>\n",
       "      <td>115.000000</td>\n",
       "      <td>70.000000</td>\n",
       "      <td>91.000000</td>\n",
       "      <td>13.200000</td>\n",
       "      <td>1.000000</td>\n",
       "      <td>0.70000</td>\n",
       "      <td>20.000000</td>\n",
       "      <td>16.000000</td>\n",
       "      <td>16.000000</td>\n",
       "      <td>1.000000</td>\n",
       "      <td>0.000000</td>\n",
       "    </tr>\n",
       "    <tr>\n",
       "      <th>50%</th>\n",
       "      <td>12.000000</td>\n",
       "      <td>160.000000</td>\n",
       "      <td>60.000000</td>\n",
       "      <td>82.000000</td>\n",
       "      <td>124.000000</td>\n",
       "      <td>77.000000</td>\n",
       "      <td>99.000000</td>\n",
       "      <td>14.200000</td>\n",
       "      <td>1.000000</td>\n",
       "      <td>0.80000</td>\n",
       "      <td>24.000000</td>\n",
       "      <td>21.000000</td>\n",
       "      <td>24.000000</td>\n",
       "      <td>1.000000</td>\n",
       "      <td>0.000000</td>\n",
       "    </tr>\n",
       "    <tr>\n",
       "      <th>75%</th>\n",
       "      <td>13.000000</td>\n",
       "      <td>170.000000</td>\n",
       "      <td>70.000000</td>\n",
       "      <td>89.000000</td>\n",
       "      <td>134.000000</td>\n",
       "      <td>83.000000</td>\n",
       "      <td>109.000000</td>\n",
       "      <td>15.300000</td>\n",
       "      <td>1.000000</td>\n",
       "      <td>1.00000</td>\n",
       "      <td>30.000000</td>\n",
       "      <td>31.000000</td>\n",
       "      <td>40.000000</td>\n",
       "      <td>2.000000</td>\n",
       "      <td>1.000000</td>\n",
       "    </tr>\n",
       "    <tr>\n",
       "      <th>max</th>\n",
       "      <td>18.000000</td>\n",
       "      <td>195.000000</td>\n",
       "      <td>135.000000</td>\n",
       "      <td>999.000000</td>\n",
       "      <td>260.000000</td>\n",
       "      <td>190.000000</td>\n",
       "      <td>950.000000</td>\n",
       "      <td>25.000000</td>\n",
       "      <td>6.000000</td>\n",
       "      <td>95.00000</td>\n",
       "      <td>8712.000000</td>\n",
       "      <td>5990.000000</td>\n",
       "      <td>2630.000000</td>\n",
       "      <td>3.000000</td>\n",
       "      <td>1.000000</td>\n",
       "    </tr>\n",
       "  </tbody>\n",
       "</table>\n",
       "</div>"
      ],
      "text/plain": [
       "        연령대 코드(5세단위)      신장(5Cm단위)     체중(5Kg 단위)           허리둘레  \\\n",
       "count  987219.000000  987219.000000  987219.000000  987219.000000   \n",
       "mean       11.887454     161.032983      63.124190      82.345232   \n",
       "std         2.150102       9.174479      12.266035       9.615590   \n",
       "min         9.000000     130.000000      30.000000       5.800000   \n",
       "25%        10.000000     155.000000      55.000000      76.000000   \n",
       "50%        12.000000     160.000000      60.000000      82.000000   \n",
       "75%        13.000000     170.000000      70.000000      89.000000   \n",
       "max        18.000000     195.000000     135.000000     999.000000   \n",
       "\n",
       "              수축기 혈압         이완기 혈압     식전혈당(공복혈당)            혈색소  \\\n",
       "count  987219.000000  987219.000000  987219.000000  987219.000000   \n",
       "mean      124.835507      76.823508     104.248022      14.213197   \n",
       "std        14.743182       9.987141      25.375695       1.551654   \n",
       "min        65.000000      30.000000       1.000000       1.000000   \n",
       "25%       115.000000      70.000000      91.000000      13.200000   \n",
       "50%       124.000000      77.000000      99.000000      14.200000   \n",
       "75%       134.000000      83.000000     109.000000      15.300000   \n",
       "max       260.000000     190.000000     950.000000      25.000000   \n",
       "\n",
       "                 요단백       혈청크레아티닌     (혈청지오티)AST     (혈청지오티)ALT  \\\n",
       "count  987219.000000  987219.00000  987219.000000  987219.000000   \n",
       "mean        1.122263       0.84962      27.703397      26.775568   \n",
       "std         0.493333       0.34016      25.299815      25.846017   \n",
       "min         1.000000       0.00000       1.000000       1.000000   \n",
       "25%         1.000000       0.70000      20.000000      16.000000   \n",
       "50%         1.000000       0.80000      24.000000      21.000000   \n",
       "75%         1.000000       1.00000      30.000000      31.000000   \n",
       "max         6.000000      95.00000    8712.000000    5990.000000   \n",
       "\n",
       "              감마 지티피           흡연상태      구강검진 수검여부  \n",
       "count  987219.000000  987219.000000  987219.000000  \n",
       "mean       37.791644       1.559469       0.334180  \n",
       "std        51.813809       0.784434       0.471703  \n",
       "min         1.000000       1.000000       0.000000  \n",
       "25%        16.000000       1.000000       0.000000  \n",
       "50%        24.000000       1.000000       0.000000  \n",
       "75%        40.000000       2.000000       1.000000  \n",
       "max      2630.000000       3.000000       1.000000  "
      ]
     },
     "execution_count": 283,
     "metadata": {},
     "output_type": "execute_result"
    }
   ],
   "source": [
    "df.describe()"
   ]
  },
  {
   "cell_type": "code",
   "execution_count": 285,
   "metadata": {},
   "outputs": [
    {
     "data": {
      "text/plain": [
       "array([ 72.1,  81. ,  70. ,  90.8,  75.2,  94. ,  93. ,  92. ,  82. ,\n",
       "        71.2,  84. ,  63. ,  90. ,  89. ,  75.4,  96. ,  76. ,  85. ,\n",
       "        65.9,  79. , 110. ,  76.5,  77.5,  87. ,  77. ,  67. ,  80. ,\n",
       "        73. ,  72. ,  76.2,  63.5,  75. ,  68. ,  97. ,  88. ,  85.7,\n",
       "        83. ,  69. ,  98. ,  73.2,  65. ,  86. ,  64. ,  85.9,  86.2,\n",
       "        95. ,  67.4,  74.3,  99.1,  74. ,  71. ,  98.6,  66. ,  85.6,\n",
       "        83.9,  92.3,  78. ,  84.5,  88.1,  80.5,  84.2,  53. ,  81.1,\n",
       "       103.1, 101. ,  85.1,  82.6,  75.5,  87.4,  96.5,  80.3, 108. ,\n",
       "        74.5,  75.3,  83.7,  91. ,  80.2,  76.3,  70.2,  99. , 100. ,\n",
       "       102. ,  81.5,  82.5, 105. , 100.2,  77.8,  99.5,  73.8,  76.8,\n",
       "        68.2,  81.4,  88.5,  83.2, 109. ,  90.3,  74.2,  93.2,  82.1,\n",
       "        89.4,  73.4,  60. ,  96.2,  87.1,  86.3,  84.3,  72.2,  88.8,\n",
       "        79.5, 101.5,  82.3,  83.6,  84.7,  90.6,  78.5,  88.3,  81.2,\n",
       "        86.4,  78.1,  98.5,  90.1,  79.8,  75.7,  62. , 103. , 104. ,\n",
       "        81.3,  72.5,  91.5,  57.5,  76.9,  85.5,  94.7,  67.5,  59. ,\n",
       "        83.1,  81.7,  89.9,  88.6,  75.1,  87.5,  88.9,  97.2,  72.3,\n",
       "        84.6,  91.7, 100.1,  74.1,  88.4, 106. , 100.8,  92.5,  95.7,\n",
       "        80.8,  94.1,  70.5,  78.6,  61. ,  97.7, 105.6,  67.1, 128. ,\n",
       "        81.6,  90.5,  94.8,  79.4,  71.1,  93.1, 105.1,  77.7,  71.5,\n",
       "        87.3,  89.5,  93.7,  63.7,  95.5,  87.8,  65.3,  91.9,  69.9,\n",
       "        94.5,  82.7,  86.6,  65.8,  87.6, 113. ,  96.4,  96.1,  86.5,\n",
       "        79.6,  90.2,  67.8,  83.3,  82.2,  95.6,  91.2,  93.8,  80.1,\n",
       "        67.2, 110.2,  92.1,  54. , 107. ,  83.5,  76.4,  94.4,  88.2,\n",
       "        98.2,  62.1,  93.5,  92.4,  77.6, 108.6,  85.3,  96.8,  66.8,\n",
       "        89.1,  74.6,  86.1,  78.4,  67.3, 100.5,  87.7,  70.1,  74.7,\n",
       "        96.7,  76.7,  72.4,  79.1,  85.2,  89.6,  69.4, 112.1,  91.3,\n",
       "        63.1,  98.8,  93.4,  85.8,  58. ,  89.3, 103.6,  73.9,  80.6,\n",
       "        68.7,  57. ,  69.3,  89.8,  92.8,  62.4,  75.6,  79.3,  66.2,\n",
       "       114.4,  64.4,  69.8,  81.8,  97.5,  77.2,  86.9,  98.1,  99.2,\n",
       "        70.8,  87.2,  91.6, 104.5,  89.7,  84.8,  67.9,  83.8,  73.5,\n",
       "        95.4,  85.4,  66.5,  83.4,  65.1,  65.2,  80.4,  69.5,  97.4,\n",
       "        64.2,  74.8,  66.1,  95.2,  84.1,  64.5,  73.1,  64.8,  78.2,\n",
       "       100.3, 103.5, 103.7, 106.9, 103.2,  98.4,  79.7,  82.8,  81.9,\n",
       "        75.8,  73.7,  68.5, 101.1,  86.8,  71.8,  89.2,  63.4, 100.6,\n",
       "        68.8, 102.3,  90.7,  77.4,  72.8,  77.3,  97.3,  96.3,  71.3,\n",
       "       117. ,  88.7,  70.9,  94.6,  79.2,  82.4, 103.4,  78.3,  91.8,\n",
       "        84.4,  56. ,  94.2, 119. , 115. ,  70.6, 116. , 118. ,  77.1,\n",
       "        70.4,  73.6,  86.7, 114. ,  58.5, 104.2,  71.4,  95.9,  56.5,\n",
       "        91.1, 101.7,  72.9, 101.3,  58.3,  87.9,  76.1,  66.9,  92.2,\n",
       "        63.6, 100.4, 107.5,  95.8,  64.1,  80.7,  99.8,  78.7, 110.1,\n",
       "       112. , 108.1,  97.6,  84.9,  99.6,  57.3,  98.3,  57.8,  91.4,\n",
       "        95.1,  63.2,  68.4,  60.5, 103.8, 100.9,  62.7,  65.5,  92.6,\n",
       "        92.7,  65.4, 120. ,  93.3, 102.2, 111. ,  69.1,  99.9,  94.3,\n",
       "        70.3,  95.3, 104.4,  98.9, 121.2,  93.9,  96.6,  73.3,  64.3,\n",
       "        61.5, 104.7,  94.9,  60.1, 106.4, 105.4,  61.8,  78.8,  93.6,\n",
       "       134. , 102.5,  57.6,  90.4,  76.6,  66.3,  62.5,  58.2, 104.8,\n",
       "        65.6,  59.5,  64.9,  68.6,  97.8, 123. , 107.4, 112.7,  68.1,\n",
       "        68.9,  63.3,  69.7,  72.6,  90.9, 101.8,  99.4, 108.5,  62.9,\n",
       "       126. ,  61.2,  72.7,  96.9,  71.9,  69.2, 134.5,  92.9,  62.8,\n",
       "        55. ,  79.9, 107.8,  61.9,  82.9,  75.9,  60.2, 106.5,  77.9,\n",
       "       119.4, 103.9,  99.7,  70.7,  78.9,  60.8, 121. , 111.8,  99.3,\n",
       "       102.6,  66.7,  60.4, 100.7,  71.7, 104.1,  67.7,  97.9, 101.4,\n",
       "        80.9, 106.2,  60.6,  68.3,  59.8, 107.7, 105.7, 104.6,  98.7,\n",
       "       105.5,  74.9,  60.7, 109.9,  71.6, 105.3, 125. ,  97.1, 102.1,\n",
       "       108.8, 110.5, 120.2,  62.2, 118.4,  53.9,  67.6, 105.2, 119.2,\n",
       "        74.4, 104.9,  59.9, 101.2,  61.1, 109.7, 114.8, 109.8,  61.7,\n",
       "        69.6,  59.2, 129. , 103.3, 106.7,  59.4, 101.9, 111.5,  60.3,\n",
       "       102.9,  60.9,  62.3, 105.8,  51. ,  52. , 102.4, 107.1,  57.9,\n",
       "        53.5, 110.4,  53.6, 122. ,  58.8,  66.6, 128.8, 106.3, 107.3,\n",
       "       111.1, 116.2,  56.6,  65.7, 107.2, 101.6, 108.3, 108.2, 111.4,\n",
       "       110.6, 102.8, 109.4,  66.4, 114.5, 109.5, 111.6,  64.7, 104.3,\n",
       "       109.3,  59.1,  62.6, 118.3, 117.5, 108.4, 102.7, 136. , 124. ,\n",
       "        55.3,  63.9,  63.8, 115.5,  59.6, 114.2, 127. , 117.4,  52.3,\n",
       "       116.6, 122.9,  61.4, 113.2,  51.5, 124.5, 116.5,  64.6, 112.6,\n",
       "       117.1, 139. , 124.1, 112.3,  53.2,  59.7,  57.4, 106.1, 106.6,\n",
       "       107.6,  54.5,  61.3, 122.3, 110.3, 118.5, 117.7, 142. , 113.5,\n",
       "        58.7,  54.2, 112.8, 112.5, 109.1, 115.1, 113.8, 114.9, 110.8,\n",
       "       125.4, 118.2, 106.8, 118.6, 115.4, 112.9, 120.5, 121.1, 114.3,\n",
       "        55.5,   8.7,  58.1, 123.5,  50. ,  56.3, 115.2, 132. , 105.9,\n",
       "       108.7,  56.9,  42. , 133. , 114.6, 127.6,  55.2, 130. , 117.3,\n",
       "       119.5,  56.2, 109.2, 115.3, 122.4, 121.9,  50.9, 122.6, 121.5,\n",
       "       117.9, 119.3, 119.8,  56.4, 112.2, 121.3,  49. ,  57.1, 108.9,\n",
       "        57.2,  50.2, 123.9,  61.6,  58.6, 111.9, 111.7, 109.6, 113.4,\n",
       "        55.1, 115.8, 119.1, 121.4, 111.3, 118.1, 112.4, 121.8, 111.2,\n",
       "       118.9, 114.1, 122.8,  53.8,  56.8, 129.1, 113.6,  41. ,  51.1,\n",
       "       127.5, 118.8,  58.4,  36. , 110.7,   5.8, 116.9,  48. , 138. ,\n",
       "        54.1, 135. ,  50.8, 113.1,  54.6, 116.8, 122.1,  59.3, 116.7,\n",
       "       107.9,  51.2, 131. , 135.3, 120.6, 110.9, 128.9, 119.9,  56.7,\n",
       "        50.1, 121.7, 122.2, 129.9,  55.6, 113.3,  58.9, 126.5, 117.2,\n",
       "       116.1, 124.2, 113.7, 128.3, 999. , 133.2, 123.7, 126.4,  57.7,\n",
       "        53.4, 120.4, 128.2,  55.8, 127.7, 120.1, 116.4, 115.9,  52.5,\n",
       "       140. , 127.4, 139.4,  50.6, 680. , 120.8, 123.4, 126.1, 115.7,\n",
       "       120.3,  54.4, 125.1, 124.6, 117.6, 113.9,  51.4, 118.7, 134.1,\n",
       "       125.6,  56.1,  54.8,  54.9, 123.8, 130.3, 129.5, 119.6, 123.2,\n",
       "       115.6, 127.8, 141.4,  52.1,  35. , 144. , 122.5,  39. , 126.8,\n",
       "         8.2, 119.7,  55.9, 114.7, 116.3, 126.2,  44. , 128.5, 117.8,\n",
       "        54.3, 146. ])"
      ]
     },
     "execution_count": 285,
     "metadata": {},
     "output_type": "execute_result"
    }
   ],
   "source": [
    "df['허리둘레'].unique()"
   ]
  },
  {
   "cell_type": "code",
   "execution_count": null,
   "metadata": {},
   "outputs": [],
   "source": []
  },
  {
   "cell_type": "code",
   "execution_count": null,
   "metadata": {},
   "outputs": [],
   "source": []
  },
  {
   "cell_type": "code",
   "execution_count": 84,
   "metadata": {
    "scrolled": true
   },
   "outputs": [
    {
     "name": "stdout",
     "output_type": "stream",
     "text": [
      "<class 'pandas.core.frame.DataFrame'>\n",
      "Int64Index: 987219 entries, 0 to 249999\n",
      "Data columns (total 24 columns):\n",
      " #   Column        Non-Null Count   Dtype  \n",
      "---  ------        --------------   -----  \n",
      " 0   성별코드          987219 non-null  int64  \n",
      " 1   연령대 코드(5세단위)  987219 non-null  int64  \n",
      " 2   신장(5Cm단위)     987219 non-null  int64  \n",
      " 3   체중(5Kg 단위)    987219 non-null  int64  \n",
      " 4   허리둘레          987219 non-null  float64\n",
      " 5   수축기 혈압        987219 non-null  float64\n",
      " 6   이완기 혈압        987219 non-null  float64\n",
      " 7   식전혈당(공복혈당)    987219 non-null  float64\n",
      " 8   혈색소           987219 non-null  float64\n",
      " 9   요단백           987219 non-null  float64\n",
      " 10  혈청크레아티닌       987219 non-null  float64\n",
      " 11  (혈청지오티)AST    987219 non-null  float64\n",
      " 12  (혈청지오티)ALT    987219 non-null  float64\n",
      " 13  감마 지티피        987219 non-null  float64\n",
      " 14  흡연상태          987219 non-null  float64\n",
      " 15  음주여부          987219 non-null  float64\n",
      " 16  구강검진 수검여부     987219 non-null  int64  \n",
      " 17  시도명           987219 non-null  object \n",
      " 18  복부비만          987219 non-null  object \n",
      " 19  비만            987219 non-null  object \n",
      " 20  빈혈            987219 non-null  object \n",
      " 21  당뇨            987219 non-null  object \n",
      " 22  혈압            987219 non-null  object \n",
      " 23  간 기능 이상       987219 non-null  object \n",
      "dtypes: float64(12), int64(5), object(7)\n",
      "memory usage: 188.3+ MB\n"
     ]
    }
   ],
   "source": [
    "df.info()"
   ]
  },
  {
   "cell_type": "markdown",
   "metadata": {},
   "source": [
    "-----\n",
    "# 데이터 분석  \n",
    "\n",
    "- 음주여부별 데이터 분석"
   ]
  },
  {
   "cell_type": "code",
   "execution_count": 85,
   "metadata": {},
   "outputs": [],
   "source": [
    "# module import\n",
    "import pandas as pd\n",
    "import numpy as np\n",
    "import seaborn as sns\n",
    "import matplotlib.pyplot as plt\n",
    "%matplotlib inline"
   ]
  },
  {
   "cell_type": "code",
   "execution_count": 86,
   "metadata": {},
   "outputs": [],
   "source": [
    "import platform\n",
    "\n",
    "from matplotlib import font_manager, rc\n",
    "plt.rcParams['axes.unicode_minus'] = False\n",
    "\n",
    "if platform.system() == 'Darwin':\n",
    "    rc('font', family='AppleGothic')\n",
    "elif platform.system() == 'Windows':\n",
    "    path = \"c:/Windows/Fonts/malgun.ttf\"\n",
    "    font_name = font_manager.FontProperties(fname=path).get_name()\n",
    "    rc('font', family=font_name)\n",
    "else:\n",
    "    print('Unknown system... sorry~~~~')"
   ]
  },
  {
   "cell_type": "code",
   "execution_count": 154,
   "metadata": {},
   "outputs": [],
   "source": [
    "df['음주여부'] = df['음주여부'].replace([0, 1], ['X', 'O'])"
   ]
  },
  {
   "cell_type": "markdown",
   "metadata": {},
   "source": [
    "`음주여부별 남녀 분포`"
   ]
  },
  {
   "cell_type": "code",
   "execution_count": 171,
   "metadata": {},
   "outputs": [
    {
     "data": {
      "text/plain": [
       "남    505719\n",
       "여    481500\n",
       "Name: 성별코드, dtype: int64"
      ]
     },
     "execution_count": 171,
     "metadata": {},
     "output_type": "execute_result"
    }
   ],
   "source": [
    "df.replace({'성별코드':1},'남',inplace = True)\n",
    "df.replace({'성별코드':2},'여',inplace = True)\n",
    "df['성별코드'].value_counts()"
   ]
  },
  {
   "cell_type": "code",
   "execution_count": 191,
   "metadata": {},
   "outputs": [
    {
     "data": {
      "text/plain": [
       "array(['남', '여'], dtype=object)"
      ]
     },
     "execution_count": 191,
     "metadata": {},
     "output_type": "execute_result"
    }
   ],
   "source": [
    "df['성별코드'].unique()"
   ]
  },
  {
   "cell_type": "code",
   "execution_count": 190,
   "metadata": {},
   "outputs": [
    {
     "data": {
      "text/plain": [
       "<AxesSubplot:ylabel='성별코드'>"
      ]
     },
     "execution_count": 190,
     "metadata": {},
     "output_type": "execute_result"
    },
    {
     "data": {
      "image/png": "[encoded data removed]",
      "text/plain": [
       "<Figure size 432x288 with 1 Axes>"
      ]
     },
     "metadata": {
      "needs_background": "light"
     },
     "output_type": "display_data"
    }
   ],
   "source": [
    "df.sort_values(by='음주여부')[['성별코드']].value_counts().plot(kind='barh')"
   ]
  },
  {
   "cell_type": "code",
   "execution_count": 181,
   "metadata": {},
   "outputs": [
    {
     "data": {
      "image/png": "[encoded data removed]",
      "text/plain": [
       "<Figure size 720x432 with 1 Axes>"
      ]
     },
     "metadata": {
      "needs_background": "light"
     },
     "output_type": "display_data"
    }
   ],
   "source": [
    "fig = sns.catplot(x='음주여부',y=df['',hue='성별코드',data=df, kind='bar')\n",
    "fig.fig.set_size_inches(10,6)\n",
    "plt.xticks(rotation=45) \n",
    "\n",
    "plt.show()"
   ]
  },
  {
   "cell_type": "code",
   "execution_count": null,
   "metadata": {},
   "outputs": [],
   "source": []
  },
  {
   "cell_type": "code",
   "execution_count": null,
   "metadata": {},
   "outputs": [],
   "source": []
  },
  {
   "cell_type": "markdown",
   "metadata": {},
   "source": [
    "`음주여부별 남녀의 체중 분포`"
   ]
  },
  {
   "cell_type": "code",
   "execution_count": 200,
   "metadata": {},
   "outputs": [
    {
     "data": {
      "image/png": "[encoded data removed]",
      "text/plain": [
       "<Figure size 720x432 with 1 Axes>"
      ]
     },
     "metadata": {
      "needs_background": "light"
     },
     "output_type": "display_data"
    }
   ],
   "source": [
    "fig = sns.catplot(x='음주여부',y='체중(5Kg 단위)',hue='성별코드',data=df, kind='bar', palette = 'summer')\n",
    "fig.fig.set_size_inches(10,6)\n",
    "plt.xticks(rotation=45) \n",
    "\n",
    "plt.show()"
   ]
  },
  {
   "cell_type": "code",
   "execution_count": 203,
   "metadata": {},
   "outputs": [
    {
     "data": {
      "image/png": "[encoded data removed]",
      "text/plain": [
       "<Figure size 720x432 with 1 Axes>"
      ]
     },
     "metadata": {
      "needs_background": "light"
     },
     "output_type": "display_data"
    }
   ],
   "source": [
    "fig = sns.catplot(x='음주여부',y='체중(5Kg 단위)',hue='성별코드',data=df, kind='bar', palette = 'summer')\n",
    "fig.fig.set_size_inches(10,6)\n",
    "plt.ylim(50,80)\n",
    "plt.xticks(rotation=45) \n",
    "\n",
    "plt.show()"
   ]
  },
  {
   "cell_type": "code",
   "execution_count": 168,
   "metadata": {},
   "outputs": [
    {
     "data": {
      "text/plain": [
       "Index(['성별코드', '연령대 코드(5세단위)', '신장(5Cm단위)', '체중(5Kg 단위)', '허리둘레', '수축기 혈압',\n",
       "       '이완기 혈압', '식전혈당(공복혈당)', '혈색소', '요단백', '혈청크레아티닌', '(혈청지오티)AST',\n",
       "       '(혈청지오티)ALT', '감마 지티피', '흡연상태', '음주여부', '구강검진 수검여부', '시도명', '복부비만',\n",
       "       '비만', '빈혈', '당뇨', '혈압', '간 기능 이상'],\n",
       "      dtype='object')"
      ]
     },
     "execution_count": 168,
     "metadata": {},
     "output_type": "execute_result"
    }
   ],
   "source": [
    "df.columns"
   ]
  },
  {
   "cell_type": "code",
   "execution_count": 184,
   "metadata": {},
   "outputs": [
    {
     "data": {
      "image/png": "[encoded data removed]",
      "text/plain": [
       "<Figure size 720x432 with 1 Axes>"
      ]
     },
     "metadata": {
      "needs_background": "light"
     },
     "output_type": "display_data"
    }
   ],
   "source": [
    "#구간 확대 xlim\n",
    "\n",
    "fig = sns.catplot(x='음주여부',y='허리둘레',hue='성별코드',data=df, kind='bar')\n",
    "fig.fig.set_size_inches(10,6)\n",
    "plt.xticks(rotation=45) \n",
    "plt.ylim(60,90)\n",
    "\n",
    "plt.show()"
   ]
  },
  {
   "cell_type": "markdown",
   "metadata": {},
   "source": [
    "`음주 - 비만`"
   ]
  },
  {
   "cell_type": "code",
   "execution_count": 157,
   "metadata": {
    "scrolled": true
   },
   "outputs": [
    {
     "data": {
      "text/plain": [
       "정상     336923\n",
       "과체중    195429\n",
       "비만      31242\n",
       "저체중     17137\n",
       "Name: 비만, dtype: int64"
      ]
     },
     "execution_count": 157,
     "metadata": {},
     "output_type": "execute_result"
    }
   ],
   "source": [
    "cond0 = df['음주여부'] == 'X'\n",
    "cond1 = df['음주여부'] == 'O'\n",
    "\n",
    "#음주를 하지 않는 사람들의 비만 현황\n",
    "df.loc[cond0, '비만'].value_counts()\n",
    "\n",
    "#음주를 하는 사람들의 비만 현황\n",
    "df.loc[cond1, '비만'].value_counts()"
   ]
  },
  {
   "cell_type": "code",
   "execution_count": 178,
   "metadata": {},
   "outputs": [
    {
     "data": {
      "text/plain": [
       "<AxesSubplot:xlabel='음주여부'>"
      ]
     },
     "execution_count": 178,
     "metadata": {},
     "output_type": "execute_result"
    },
    {
     "data": {
      "image/png": "[encoded data removed]",
      "text/plain": [
       "<Figure size 432x288 with 1 Axes>"
      ]
     },
     "metadata": {
      "needs_background": "light"
     },
     "output_type": "display_data"
    }
   ],
   "source": [
    "df.pivot_table(index = '음주여부',columns = ['비만'], \n",
    "                 values = '요단백', aggfunc = 'count').plot(kind = 'bar')"
   ]
  },
  {
   "cell_type": "code",
   "execution_count": 182,
   "metadata": {},
   "outputs": [
    {
     "name": "stderr",
     "output_type": "stream",
     "text": [
      "C:\\Anaconda3\\lib\\site-packages\\seaborn\\_decorators.py:36: FutureWarning: Pass the following variable as a keyword arg: x. From version 0.12, the only valid positional argument will be `data`, and passing other arguments without an explicit keyword will result in an error or misinterpretation.\n",
      "  warnings.warn(\n"
     ]
    },
    {
     "ename": "ValueError",
     "evalue": "Could not interpret input '성별코드'",
     "output_type": "error",
     "traceback": [
      "\u001b[1;31m---------------------------------------------------------------------------\u001b[0m",
      "\u001b[1;31mValueError\u001b[0m                                Traceback (most recent call last)",
      "\u001b[1;32m~\\AppData\\Local\\Temp/ipykernel_5976/1186364880.py\u001b[0m in \u001b[0;36m<module>\u001b[1;34m\u001b[0m\n\u001b[0;32m      1\u001b[0m \u001b[0mplt\u001b[0m\u001b[1;33m.\u001b[0m\u001b[0mfigure\u001b[0m\u001b[1;33m(\u001b[0m\u001b[0mfigsize\u001b[0m \u001b[1;33m=\u001b[0m \u001b[1;33m(\u001b[0m\u001b[1;36m10\u001b[0m\u001b[1;33m,\u001b[0m\u001b[1;36m8\u001b[0m\u001b[1;33m)\u001b[0m\u001b[1;33m)\u001b[0m\u001b[1;33m\u001b[0m\u001b[1;33m\u001b[0m\u001b[0m\n\u001b[1;32m----> 2\u001b[1;33m \u001b[0msns\u001b[0m\u001b[1;33m.\u001b[0m\u001b[0mcountplot\u001b[0m\u001b[1;33m(\u001b[0m\u001b[0mdf\u001b[0m\u001b[1;33m[\u001b[0m\u001b[1;34m'음주여부'\u001b[0m\u001b[1;33m]\u001b[0m\u001b[1;33m,\u001b[0m \u001b[0mhue\u001b[0m\u001b[1;33m=\u001b[0m\u001b[1;34m'성별코드'\u001b[0m\u001b[1;33m)\u001b[0m\u001b[1;33m\u001b[0m\u001b[1;33m\u001b[0m\u001b[0m\n\u001b[0m\u001b[0;32m      3\u001b[0m \u001b[0mplt\u001b[0m\u001b[1;33m.\u001b[0m\u001b[0mxticks\u001b[0m\u001b[1;33m(\u001b[0m\u001b[0mrotation\u001b[0m \u001b[1;33m=\u001b[0m \u001b[1;36m45\u001b[0m\u001b[1;33m)\u001b[0m\u001b[1;33m\u001b[0m\u001b[1;33m\u001b[0m\u001b[0m\n\u001b[0;32m      4\u001b[0m \u001b[0mplt\u001b[0m\u001b[1;33m.\u001b[0m\u001b[0mtitle\u001b[0m\u001b[1;33m(\u001b[0m\u001b[1;34m\"dddd\"\u001b[0m\u001b[1;33m)\u001b[0m\u001b[1;33m\u001b[0m\u001b[1;33m\u001b[0m\u001b[0m\n\u001b[0;32m      5\u001b[0m \u001b[0mplt\u001b[0m\u001b[1;33m.\u001b[0m\u001b[0mshow\u001b[0m\u001b[1;33m(\u001b[0m\u001b[1;33m)\u001b[0m\u001b[1;33m\u001b[0m\u001b[1;33m\u001b[0m\u001b[0m\n",
      "\u001b[1;32mC:\\Anaconda3\\lib\\site-packages\\seaborn\\_decorators.py\u001b[0m in \u001b[0;36minner_f\u001b[1;34m(*args, **kwargs)\u001b[0m\n\u001b[0;32m     44\u001b[0m             )\n\u001b[0;32m     45\u001b[0m         \u001b[0mkwargs\u001b[0m\u001b[1;33m.\u001b[0m\u001b[0mupdate\u001b[0m\u001b[1;33m(\u001b[0m\u001b[1;33m{\u001b[0m\u001b[0mk\u001b[0m\u001b[1;33m:\u001b[0m \u001b[0marg\u001b[0m \u001b[1;32mfor\u001b[0m \u001b[0mk\u001b[0m\u001b[1;33m,\u001b[0m \u001b[0marg\u001b[0m \u001b[1;32min\u001b[0m \u001b[0mzip\u001b[0m\u001b[1;33m(\u001b[0m\u001b[0msig\u001b[0m\u001b[1;33m.\u001b[0m\u001b[0mparameters\u001b[0m\u001b[1;33m,\u001b[0m \u001b[0margs\u001b[0m\u001b[1;33m)\u001b[0m\u001b[1;33m}\u001b[0m\u001b[1;33m)\u001b[0m\u001b[1;33m\u001b[0m\u001b[1;33m\u001b[0m\u001b[0m\n\u001b[1;32m---> 46\u001b[1;33m         \u001b[1;32mreturn\u001b[0m \u001b[0mf\u001b[0m\u001b[1;33m(\u001b[0m\u001b[1;33m**\u001b[0m\u001b[0mkwargs\u001b[0m\u001b[1;33m)\u001b[0m\u001b[1;33m\u001b[0m\u001b[1;33m\u001b[0m\u001b[0m\n\u001b[0m\u001b[0;32m     47\u001b[0m     \u001b[1;32mreturn\u001b[0m \u001b[0minner_f\u001b[0m\u001b[1;33m\u001b[0m\u001b[1;33m\u001b[0m\u001b[0m\n\u001b[0;32m     48\u001b[0m \u001b[1;33m\u001b[0m\u001b[0m\n",
      "\u001b[1;32mC:\\Anaconda3\\lib\\site-packages\\seaborn\\categorical.py\u001b[0m in \u001b[0;36mcountplot\u001b[1;34m(x, y, hue, data, order, hue_order, orient, color, palette, saturation, dodge, ax, **kwargs)\u001b[0m\n\u001b[0;32m   3596\u001b[0m         \u001b[1;32mraise\u001b[0m \u001b[0mValueError\u001b[0m\u001b[1;33m(\u001b[0m\u001b[1;34m\"Cannot pass values for both `x` and `y`\"\u001b[0m\u001b[1;33m)\u001b[0m\u001b[1;33m\u001b[0m\u001b[1;33m\u001b[0m\u001b[0m\n\u001b[0;32m   3597\u001b[0m \u001b[1;33m\u001b[0m\u001b[0m\n\u001b[1;32m-> 3598\u001b[1;33m     plotter = _CountPlotter(\n\u001b[0m\u001b[0;32m   3599\u001b[0m         \u001b[0mx\u001b[0m\u001b[1;33m,\u001b[0m \u001b[0my\u001b[0m\u001b[1;33m,\u001b[0m \u001b[0mhue\u001b[0m\u001b[1;33m,\u001b[0m \u001b[0mdata\u001b[0m\u001b[1;33m,\u001b[0m \u001b[0morder\u001b[0m\u001b[1;33m,\u001b[0m \u001b[0mhue_order\u001b[0m\u001b[1;33m,\u001b[0m\u001b[1;33m\u001b[0m\u001b[1;33m\u001b[0m\u001b[0m\n\u001b[0;32m   3600\u001b[0m         \u001b[0mestimator\u001b[0m\u001b[1;33m,\u001b[0m \u001b[0mci\u001b[0m\u001b[1;33m,\u001b[0m \u001b[0mn_boot\u001b[0m\u001b[1;33m,\u001b[0m \u001b[0munits\u001b[0m\u001b[1;33m,\u001b[0m \u001b[0mseed\u001b[0m\u001b[1;33m,\u001b[0m\u001b[1;33m\u001b[0m\u001b[1;33m\u001b[0m\u001b[0m\n",
      "\u001b[1;32mC:\\Anaconda3\\lib\\site-packages\\seaborn\\categorical.py\u001b[0m in \u001b[0;36m__init__\u001b[1;34m(self, x, y, hue, data, order, hue_order, estimator, ci, n_boot, units, seed, orient, color, palette, saturation, errcolor, errwidth, capsize, dodge)\u001b[0m\n\u001b[0;32m   1582\u001b[0m                  errwidth, capsize, dodge):\n\u001b[0;32m   1583\u001b[0m         \u001b[1;34m\"\"\"Initialize the plotter.\"\"\"\u001b[0m\u001b[1;33m\u001b[0m\u001b[1;33m\u001b[0m\u001b[0m\n\u001b[1;32m-> 1584\u001b[1;33m         self.establish_variables(x, y, hue, data, orient,\n\u001b[0m\u001b[0;32m   1585\u001b[0m                                  order, hue_order, units)\n\u001b[0;32m   1586\u001b[0m         \u001b[0mself\u001b[0m\u001b[1;33m.\u001b[0m\u001b[0mestablish_colors\u001b[0m\u001b[1;33m(\u001b[0m\u001b[0mcolor\u001b[0m\u001b[1;33m,\u001b[0m \u001b[0mpalette\u001b[0m\u001b[1;33m,\u001b[0m \u001b[0msaturation\u001b[0m\u001b[1;33m)\u001b[0m\u001b[1;33m\u001b[0m\u001b[1;33m\u001b[0m\u001b[0m\n",
      "\u001b[1;32mC:\\Anaconda3\\lib\\site-packages\\seaborn\\categorical.py\u001b[0m in \u001b[0;36mestablish_variables\u001b[1;34m(self, x, y, hue, data, orient, order, hue_order, units)\u001b[0m\n\u001b[0;32m    151\u001b[0m                 \u001b[1;32mif\u001b[0m \u001b[0misinstance\u001b[0m\u001b[1;33m(\u001b[0m\u001b[0mvar\u001b[0m\u001b[1;33m,\u001b[0m \u001b[0mstr\u001b[0m\u001b[1;33m)\u001b[0m\u001b[1;33m:\u001b[0m\u001b[1;33m\u001b[0m\u001b[1;33m\u001b[0m\u001b[0m\n\u001b[0;32m    152\u001b[0m                     \u001b[0merr\u001b[0m \u001b[1;33m=\u001b[0m \u001b[1;34m\"Could not interpret input '{}'\"\u001b[0m\u001b[1;33m.\u001b[0m\u001b[0mformat\u001b[0m\u001b[1;33m(\u001b[0m\u001b[0mvar\u001b[0m\u001b[1;33m)\u001b[0m\u001b[1;33m\u001b[0m\u001b[1;33m\u001b[0m\u001b[0m\n\u001b[1;32m--> 153\u001b[1;33m                     \u001b[1;32mraise\u001b[0m \u001b[0mValueError\u001b[0m\u001b[1;33m(\u001b[0m\u001b[0merr\u001b[0m\u001b[1;33m)\u001b[0m\u001b[1;33m\u001b[0m\u001b[1;33m\u001b[0m\u001b[0m\n\u001b[0m\u001b[0;32m    154\u001b[0m \u001b[1;33m\u001b[0m\u001b[0m\n\u001b[0;32m    155\u001b[0m             \u001b[1;31m# Figure out the plotting orientation\u001b[0m\u001b[1;33m\u001b[0m\u001b[1;33m\u001b[0m\u001b[0m\n",
      "\u001b[1;31mValueError\u001b[0m: Could not interpret input '성별코드'"
     ]
    },
    {
     "data": {
      "text/plain": [
       "<Figure size 720x576 with 0 Axes>"
      ]
     },
     "metadata": {},
     "output_type": "display_data"
    }
   ],
   "source": [
    "plt.figure(figsize = (10,8))\n",
    "sns.countplot(df['음주여부'], hue='성별코드')\n",
    "plt.xticks(rotation = 45) \n",
    "plt.title(\"dddd\")\n",
    "plt.show()"
   ]
  },
  {
   "cell_type": "markdown",
   "metadata": {},
   "source": [
    "`음주 - 복부비만`"
   ]
  },
  {
   "cell_type": "code",
   "execution_count": 166,
   "metadata": {},
   "outputs": [
    {
     "data": {
      "text/plain": [
       "비해당    420284\n",
       "해당     160447\n",
       "Name: 복부비만, dtype: int64"
      ]
     },
     "execution_count": 166,
     "metadata": {},
     "output_type": "execute_result"
    }
   ],
   "source": [
    "cond0 = df['음주여부'] == 'X'\n",
    "cond1 = df['음주여부'] == 'O'\n",
    "\n",
    "#음주를 하지 않는 사람들의 비만 현황\n",
    "df.loc[cond0, '복부비만'].value_counts()\n",
    "\n",
    "#음주를 하는 사람들의 비만 현황\n",
    "df.loc[cond1, '복부비만'].value_counts()"
   ]
  },
  {
   "cell_type": "code",
   "execution_count": 230,
   "metadata": {},
   "outputs": [
    {
     "data": {
      "text/html": [
       "<div>\n",
       "<style scoped>\n",
       "    .dataframe tbody tr th:only-of-type {\n",
       "        vertical-align: middle;\n",
       "    }\n",
       "\n",
       "    .dataframe tbody tr th {\n",
       "        vertical-align: top;\n",
       "    }\n",
       "\n",
       "    .dataframe thead th {\n",
       "        text-align: right;\n",
       "    }\n",
       "</style>\n",
       "<table border=\"1\" class=\"dataframe\">\n",
       "  <thead>\n",
       "    <tr style=\"text-align: right;\">\n",
       "      <th>복부비만</th>\n",
       "      <th>비해당</th>\n",
       "      <th>해당</th>\n",
       "    </tr>\n",
       "    <tr>\n",
       "      <th>음주여부</th>\n",
       "      <th></th>\n",
       "      <th></th>\n",
       "    </tr>\n",
       "  </thead>\n",
       "  <tbody>\n",
       "    <tr>\n",
       "      <th>O</th>\n",
       "      <td>420284</td>\n",
       "      <td>160447</td>\n",
       "    </tr>\n",
       "    <tr>\n",
       "      <th>X</th>\n",
       "      <td>294784</td>\n",
       "      <td>111704</td>\n",
       "    </tr>\n",
       "  </tbody>\n",
       "</table>\n",
       "</div>"
      ],
      "text/plain": [
       "복부비만     비해당      해당\n",
       "음주여부                \n",
       "O     420284  160447\n",
       "X     294784  111704"
      ]
     },
     "execution_count": 230,
     "metadata": {},
     "output_type": "execute_result"
    }
   ],
   "source": [
    "dd = df.pivot_table(index = '음주여부',columns = ['복부비만'], \n",
    "                 values = '요단백', aggfunc = 'count')\n",
    "dd"
   ]
  },
  {
   "cell_type": "code",
   "execution_count": 231,
   "metadata": {},
   "outputs": [],
   "source": [
    "dd = dd.reset_index(drop = True)\n"
   ]
  },
  {
   "cell_type": "code",
   "execution_count": 233,
   "metadata": {},
   "outputs": [
    {
     "data": {
      "text/html": [
       "<div>\n",
       "<style scoped>\n",
       "    .dataframe tbody tr th:only-of-type {\n",
       "        vertical-align: middle;\n",
       "    }\n",
       "\n",
       "    .dataframe tbody tr th {\n",
       "        vertical-align: top;\n",
       "    }\n",
       "\n",
       "    .dataframe thead th {\n",
       "        text-align: right;\n",
       "    }\n",
       "</style>\n",
       "<table border=\"1\" class=\"dataframe\">\n",
       "  <thead>\n",
       "    <tr style=\"text-align: right;\">\n",
       "      <th>복부비만</th>\n",
       "      <th>비해당</th>\n",
       "      <th>해당</th>\n",
       "    </tr>\n",
       "  </thead>\n",
       "  <tbody>\n",
       "    <tr>\n",
       "      <th>O</th>\n",
       "      <td>420284</td>\n",
       "      <td>160447</td>\n",
       "    </tr>\n",
       "    <tr>\n",
       "      <th>X</th>\n",
       "      <td>294784</td>\n",
       "      <td>111704</td>\n",
       "    </tr>\n",
       "  </tbody>\n",
       "</table>\n",
       "</div>"
      ],
      "text/plain": [
       "복부비만     비해당      해당\n",
       "O     420284  160447\n",
       "X     294784  111704"
      ]
     },
     "execution_count": 233,
     "metadata": {},
     "output_type": "execute_result"
    }
   ],
   "source": [
    "dd.index = ['O','X']\n",
    "\n",
    "dd"
   ]
  },
  {
   "cell_type": "code",
   "execution_count": 238,
   "metadata": {},
   "outputs": [
    {
     "name": "stderr",
     "output_type": "stream",
     "text": [
      "C:\\Anaconda3\\lib\\site-packages\\seaborn\\_decorators.py:36: FutureWarning: Pass the following variables as keyword args: x, y. From version 0.12, the only valid positional argument will be `data`, and passing other arguments without an explicit keyword will result in an error or misinterpretation.\n",
      "  warnings.warn(\n"
     ]
    },
    {
     "data": {
      "image/png": "[encoded data removed]",
      "text/plain": [
       "<Figure size 432x288 with 1 Axes>"
      ]
     },
     "metadata": {
      "needs_background": "light"
     },
     "output_type": "display_data"
    }
   ],
   "source": [
    "sns.barplot(dd.index, '비해당',data = dd,palette='summer')\n",
    "plt.ylabel('복부비만 검진자수')\n",
    "plt.title('음주 집단의 복부비만 비해당 수')\n",
    "plt.ylim(1,500000)\n",
    "plt.show()"
   ]
  },
  {
   "cell_type": "code",
   "execution_count": 239,
   "metadata": {},
   "outputs": [
    {
     "name": "stderr",
     "output_type": "stream",
     "text": [
      "C:\\Anaconda3\\lib\\site-packages\\seaborn\\_decorators.py:36: FutureWarning: Pass the following variables as keyword args: x, y. From version 0.12, the only valid positional argument will be `data`, and passing other arguments without an explicit keyword will result in an error or misinterpretation.\n",
      "  warnings.warn(\n"
     ]
    },
    {
     "data": {
      "image/png": "[encoded data removed]",
      "text/plain": [
       "<Figure size 432x288 with 1 Axes>"
      ]
     },
     "metadata": {
      "needs_background": "light"
     },
     "output_type": "display_data"
    }
   ],
   "source": [
    "sns.barplot(dd.index, '해당',data = dd,palette='summer')\n",
    "plt.ylabel('복부비만 검진자수')\n",
    "plt.title('음주 집단의 복부비만 해당 수')\n",
    "plt.ylim(1,500000)\n",
    "\n",
    "plt.show()"
   ]
  },
  {
   "cell_type": "code",
   "execution_count": 210,
   "metadata": {},
   "outputs": [
    {
     "data": {
      "text/plain": [
       "<AxesSubplot:xlabel='음주여부'>"
      ]
     },
     "execution_count": 210,
     "metadata": {},
     "output_type": "execute_result"
    },
    {
     "data": {
      "image/png": "[encoded data removed]",
      "text/plain": [
       "<Figure size 432x288 with 1 Axes>"
      ]
     },
     "metadata": {
      "needs_background": "light"
     },
     "output_type": "display_data"
    }
   ],
   "source": [
    "#파이변경\n",
    "\n",
    "df.pivot_table(index = '음주여부',columns = ['복부비만'], \n",
    "                 values = '요단백', aggfunc = 'count').plot(kind = 'bar', color='forestgreen')"
   ]
  },
  {
   "cell_type": "code",
   "execution_count": null,
   "metadata": {},
   "outputs": [],
   "source": [
    "#복부비만 해당하는 사람들의 연령별 현황 파이차트\n",
    "\n",
    "labels = [9,10,11,12,13,14,15,16,17,18]\n",
    "sizes = [115765,109366,133064,106234,110640,56657,45197,21152,13258,3735]\n",
    "explode = (0,0,0,0,0,0,0,0,0,0)\n",
    "\n",
    "patches, texts, autotexts=plt.pie(\n",
    "           sizes,\n",
    "           explode=explode,\n",
    "           labels = labels,\n",
    "           autopct='%1.1f%%',\n",
    "           shadow=True,\n",
    "           startangle=90\n",
    "       )\n",
    "\n",
    "plt.title('복부비만 연령대별 현황',fontsize=15)\n",
    "\n",
    "for t in autotexts:\n",
    "    t.set_fontsize(10)\n",
    "    t.set_color('white')\n",
    "\n",
    "plt.figure(figsize=(30,30))\n",
    "plt.show()"
   ]
  },
  {
   "cell_type": "markdown",
   "metadata": {},
   "source": [
    "`음주 - 비만`"
   ]
  },
  {
   "cell_type": "code",
   "execution_count": 275,
   "metadata": {},
   "outputs": [
    {
     "data": {
      "text/html": [
       "<div>\n",
       "<style scoped>\n",
       "    .dataframe tbody tr th:only-of-type {\n",
       "        vertical-align: middle;\n",
       "    }\n",
       "\n",
       "    .dataframe tbody tr th {\n",
       "        vertical-align: top;\n",
       "    }\n",
       "\n",
       "    .dataframe thead th {\n",
       "        text-align: right;\n",
       "    }\n",
       "</style>\n",
       "<table border=\"1\" class=\"dataframe\">\n",
       "  <thead>\n",
       "    <tr style=\"text-align: right;\">\n",
       "      <th>비만</th>\n",
       "      <th>과체중</th>\n",
       "      <th>비만</th>\n",
       "      <th>저체중</th>\n",
       "      <th>정상</th>\n",
       "    </tr>\n",
       "    <tr>\n",
       "      <th>음주여부</th>\n",
       "      <th></th>\n",
       "      <th></th>\n",
       "      <th></th>\n",
       "      <th></th>\n",
       "    </tr>\n",
       "  </thead>\n",
       "  <tbody>\n",
       "    <tr>\n",
       "      <th>O</th>\n",
       "      <td>195429</td>\n",
       "      <td>31242</td>\n",
       "      <td>17137</td>\n",
       "      <td>336923</td>\n",
       "    </tr>\n",
       "    <tr>\n",
       "      <th>X</th>\n",
       "      <td>114705</td>\n",
       "      <td>21081</td>\n",
       "      <td>17229</td>\n",
       "      <td>253473</td>\n",
       "    </tr>\n",
       "  </tbody>\n",
       "</table>\n",
       "</div>"
      ],
      "text/plain": [
       "비만       과체중     비만    저체중      정상\n",
       "음주여부                              \n",
       "O     195429  31242  17137  336923\n",
       "X     114705  21081  17229  253473"
      ]
     },
     "execution_count": 275,
     "metadata": {},
     "output_type": "execute_result"
    }
   ],
   "source": [
    "dff_ = df.pivot_table(index = '음주여부',columns = ['비만'], \n",
    "                 values = '요단백', aggfunc = 'count')\n",
    "\n",
    "dff_"
   ]
  },
  {
   "cell_type": "code",
   "execution_count": 282,
   "metadata": {},
   "outputs": [
    {
     "name": "stderr",
     "output_type": "stream",
     "text": [
      "C:\\Anaconda3\\lib\\site-packages\\seaborn\\_decorators.py:36: FutureWarning: Pass the following variables as keyword args: x, y. From version 0.12, the only valid positional argument will be `data`, and passing other arguments without an explicit keyword will result in an error or misinterpretation.\n",
      "  warnings.warn(\n"
     ]
    },
    {
     "data": {
      "image/png": "[encoded data removed]",
      "text/plain": [
       "<Figure size 432x288 with 1 Axes>"
      ]
     },
     "metadata": {
      "needs_background": "light"
     },
     "output_type": "display_data"
    }
   ],
   "source": [
    "sns.barplot(dff.index, '과체중',data = dff_,palette='summer')\n",
    "plt.ylabel('비만 검진자수')\n",
    "plt.title('음주 집단별 과체중 수')\n",
    "plt.ylim(1,350000)\n",
    "\n",
    "plt.show()"
   ]
  },
  {
   "cell_type": "code",
   "execution_count": 279,
   "metadata": {},
   "outputs": [
    {
     "name": "stderr",
     "output_type": "stream",
     "text": [
      "C:\\Anaconda3\\lib\\site-packages\\seaborn\\_decorators.py:36: FutureWarning: Pass the following variables as keyword args: x, y. From version 0.12, the only valid positional argument will be `data`, and passing other arguments without an explicit keyword will result in an error or misinterpretation.\n",
      "  warnings.warn(\n"
     ]
    },
    {
     "data": {
      "image/png": "[encoded data removed]",
      "text/plain": [
       "<Figure size 432x288 with 1 Axes>"
      ]
     },
     "metadata": {
      "needs_background": "light"
     },
     "output_type": "display_data"
    }
   ],
   "source": [
    "sns.barplot(dff.index, '비만',data = dff_,palette='summer')\n",
    "plt.ylabel('비만 검진자수')\n",
    "plt.title('음주 집단별 비만수')\n",
    "plt.ylim(1,350000)\n",
    "\n",
    "plt.show()"
   ]
  },
  {
   "cell_type": "code",
   "execution_count": 280,
   "metadata": {},
   "outputs": [
    {
     "name": "stderr",
     "output_type": "stream",
     "text": [
      "C:\\Anaconda3\\lib\\site-packages\\seaborn\\_decorators.py:36: FutureWarning: Pass the following variables as keyword args: x, y. From version 0.12, the only valid positional argument will be `data`, and passing other arguments without an explicit keyword will result in an error or misinterpretation.\n",
      "  warnings.warn(\n"
     ]
    },
    {
     "data": {
      "image/png": "[encoded data removed]",
      "text/plain": [
       "<Figure size 432x288 with 1 Axes>"
      ]
     },
     "metadata": {
      "needs_background": "light"
     },
     "output_type": "display_data"
    }
   ],
   "source": [
    "sns.barplot(dff.index, '저체중',data = dff_,palette='summer')\n",
    "plt.ylabel('비만 검진자수')\n",
    "plt.title('음주 집단별 저체중수')\n",
    "plt.ylim(1,350000)\n",
    "\n",
    "plt.show()"
   ]
  },
  {
   "cell_type": "code",
   "execution_count": 281,
   "metadata": {},
   "outputs": [
    {
     "name": "stderr",
     "output_type": "stream",
     "text": [
      "C:\\Anaconda3\\lib\\site-packages\\seaborn\\_decorators.py:36: FutureWarning: Pass the following variables as keyword args: x, y. From version 0.12, the only valid positional argument will be `data`, and passing other arguments without an explicit keyword will result in an error or misinterpretation.\n",
      "  warnings.warn(\n"
     ]
    },
    {
     "data": {
      "image/png": "[encoded data removed]",
      "text/plain": [
       "<Figure size 432x288 with 1 Axes>"
      ]
     },
     "metadata": {
      "needs_background": "light"
     },
     "output_type": "display_data"
    }
   ],
   "source": [
    "sns.barplot(dff.index, '정상',data = dff_,palette='summer')\n",
    "plt.ylabel('비만 검진자수')\n",
    "plt.title('음주 집단별 정상 몸무게 수')\n",
    "plt.ylim(1,350000)\n",
    "\n",
    "plt.show()"
   ]
  },
  {
   "cell_type": "markdown",
   "metadata": {},
   "source": [
    "`음주 - 빈혈`"
   ]
  },
  {
   "cell_type": "code",
   "execution_count": 158,
   "metadata": {},
   "outputs": [
    {
     "data": {
      "text/plain": [
       "비해당    545048\n",
       "해당      35683\n",
       "Name: 빈혈, dtype: int64"
      ]
     },
     "execution_count": 158,
     "metadata": {},
     "output_type": "execute_result"
    }
   ],
   "source": [
    "cond0 = df['음주여부'] == 'X'\n",
    "cond1 = df['음주여부'] == 'O'\n",
    "\n",
    "#음주를 하지 않는 사람들의 빈혈 현황\n",
    "df.loc[cond0, '빈혈'].value_counts()\n",
    "\n",
    "#음주를 하는 사람들의 빈혈 현황\n",
    "df.loc[cond1, '빈혈'].value_counts()"
   ]
  },
  {
   "cell_type": "code",
   "execution_count": 240,
   "metadata": {},
   "outputs": [
    {
     "data": {
      "text/html": [
       "<div>\n",
       "<style scoped>\n",
       "    .dataframe tbody tr th:only-of-type {\n",
       "        vertical-align: middle;\n",
       "    }\n",
       "\n",
       "    .dataframe tbody tr th {\n",
       "        vertical-align: top;\n",
       "    }\n",
       "\n",
       "    .dataframe thead th {\n",
       "        text-align: right;\n",
       "    }\n",
       "</style>\n",
       "<table border=\"1\" class=\"dataframe\">\n",
       "  <thead>\n",
       "    <tr style=\"text-align: right;\">\n",
       "      <th>빈혈</th>\n",
       "      <th>비해당</th>\n",
       "      <th>해당</th>\n",
       "    </tr>\n",
       "    <tr>\n",
       "      <th>음주여부</th>\n",
       "      <th></th>\n",
       "      <th></th>\n",
       "    </tr>\n",
       "  </thead>\n",
       "  <tbody>\n",
       "    <tr>\n",
       "      <th>O</th>\n",
       "      <td>545048</td>\n",
       "      <td>35683</td>\n",
       "    </tr>\n",
       "    <tr>\n",
       "      <th>X</th>\n",
       "      <td>359096</td>\n",
       "      <td>47392</td>\n",
       "    </tr>\n",
       "  </tbody>\n",
       "</table>\n",
       "</div>"
      ],
      "text/plain": [
       "빈혈       비해당     해당\n",
       "음주여부               \n",
       "O     545048  35683\n",
       "X     359096  47392"
      ]
     },
     "execution_count": 240,
     "metadata": {},
     "output_type": "execute_result"
    }
   ],
   "source": [
    "dff = df.pivot_table(index = '음주여부',columns = ['빈혈'], \n",
    "                 values = '요단백', aggfunc = 'count')\n",
    "\n",
    "dff"
   ]
  },
  {
   "cell_type": "code",
   "execution_count": 290,
   "metadata": {},
   "outputs": [
    {
     "data": {
      "text/html": [
       "<div>\n",
       "<style scoped>\n",
       "    .dataframe tbody tr th:only-of-type {\n",
       "        vertical-align: middle;\n",
       "    }\n",
       "\n",
       "    .dataframe tbody tr th {\n",
       "        vertical-align: top;\n",
       "    }\n",
       "\n",
       "    .dataframe thead th {\n",
       "        text-align: right;\n",
       "    }\n",
       "</style>\n",
       "<table border=\"1\" class=\"dataframe\">\n",
       "  <thead>\n",
       "    <tr style=\"text-align: right;\">\n",
       "      <th></th>\n",
       "      <th>성별코드</th>\n",
       "      <th>연령대 코드(5세단위)</th>\n",
       "      <th>신장(5Cm단위)</th>\n",
       "      <th>체중(5Kg 단위)</th>\n",
       "      <th>허리둘레</th>\n",
       "      <th>수축기 혈압</th>\n",
       "      <th>이완기 혈압</th>\n",
       "      <th>식전혈당(공복혈당)</th>\n",
       "      <th>혈색소</th>\n",
       "      <th>요단백</th>\n",
       "      <th>...</th>\n",
       "      <th>흡연상태</th>\n",
       "      <th>음주여부</th>\n",
       "      <th>구강검진 수검여부</th>\n",
       "      <th>시도명</th>\n",
       "      <th>복부비만</th>\n",
       "      <th>비만</th>\n",
       "      <th>빈혈</th>\n",
       "      <th>당뇨</th>\n",
       "      <th>혈압</th>\n",
       "      <th>간 기능 이상</th>\n",
       "    </tr>\n",
       "  </thead>\n",
       "  <tbody>\n",
       "    <tr>\n",
       "      <th>0</th>\n",
       "      <td>남</td>\n",
       "      <td>9</td>\n",
       "      <td>165</td>\n",
       "      <td>60</td>\n",
       "      <td>72.1</td>\n",
       "      <td>127.0</td>\n",
       "      <td>79.0</td>\n",
       "      <td>90.0</td>\n",
       "      <td>15.0</td>\n",
       "      <td>1.0</td>\n",
       "      <td>...</td>\n",
       "      <td>1.0</td>\n",
       "      <td>X</td>\n",
       "      <td>0</td>\n",
       "      <td>세종</td>\n",
       "      <td>비해당</td>\n",
       "      <td>정상</td>\n",
       "      <td>비해당</td>\n",
       "      <td>정상</td>\n",
       "      <td>정상</td>\n",
       "      <td>정상</td>\n",
       "    </tr>\n",
       "    <tr>\n",
       "      <th>1</th>\n",
       "      <td>여</td>\n",
       "      <td>13</td>\n",
       "      <td>150</td>\n",
       "      <td>65</td>\n",
       "      <td>81.0</td>\n",
       "      <td>110.0</td>\n",
       "      <td>73.0</td>\n",
       "      <td>87.0</td>\n",
       "      <td>12.7</td>\n",
       "      <td>1.0</td>\n",
       "      <td>...</td>\n",
       "      <td>1.0</td>\n",
       "      <td>X</td>\n",
       "      <td>0</td>\n",
       "      <td>대구</td>\n",
       "      <td>비해당</td>\n",
       "      <td>과체중</td>\n",
       "      <td>비해당</td>\n",
       "      <td>정상</td>\n",
       "      <td>정상</td>\n",
       "      <td>정상</td>\n",
       "    </tr>\n",
       "    <tr>\n",
       "      <th>2</th>\n",
       "      <td>여</td>\n",
       "      <td>12</td>\n",
       "      <td>155</td>\n",
       "      <td>55</td>\n",
       "      <td>70.0</td>\n",
       "      <td>123.0</td>\n",
       "      <td>80.0</td>\n",
       "      <td>102.0</td>\n",
       "      <td>12.8</td>\n",
       "      <td>1.0</td>\n",
       "      <td>...</td>\n",
       "      <td>1.0</td>\n",
       "      <td>X</td>\n",
       "      <td>0</td>\n",
       "      <td>서울</td>\n",
       "      <td>비해당</td>\n",
       "      <td>정상</td>\n",
       "      <td>비해당</td>\n",
       "      <td>정상</td>\n",
       "      <td>정상</td>\n",
       "      <td>정상</td>\n",
       "    </tr>\n",
       "    <tr>\n",
       "      <th>3</th>\n",
       "      <td>남</td>\n",
       "      <td>13</td>\n",
       "      <td>160</td>\n",
       "      <td>70</td>\n",
       "      <td>90.8</td>\n",
       "      <td>134.0</td>\n",
       "      <td>84.0</td>\n",
       "      <td>146.0</td>\n",
       "      <td>16.4</td>\n",
       "      <td>1.0</td>\n",
       "      <td>...</td>\n",
       "      <td>1.0</td>\n",
       "      <td>X</td>\n",
       "      <td>1</td>\n",
       "      <td>울산</td>\n",
       "      <td>해당</td>\n",
       "      <td>과체중</td>\n",
       "      <td>비해당</td>\n",
       "      <td>질환 의심</td>\n",
       "      <td>정상</td>\n",
       "      <td>질환의심</td>\n",
       "    </tr>\n",
       "    <tr>\n",
       "      <th>4</th>\n",
       "      <td>여</td>\n",
       "      <td>12</td>\n",
       "      <td>155</td>\n",
       "      <td>50</td>\n",
       "      <td>75.2</td>\n",
       "      <td>144.0</td>\n",
       "      <td>89.0</td>\n",
       "      <td>110.0</td>\n",
       "      <td>12.4</td>\n",
       "      <td>1.0</td>\n",
       "      <td>...</td>\n",
       "      <td>1.0</td>\n",
       "      <td>X</td>\n",
       "      <td>0</td>\n",
       "      <td>경기</td>\n",
       "      <td>비해당</td>\n",
       "      <td>정상</td>\n",
       "      <td>비해당</td>\n",
       "      <td>정상</td>\n",
       "      <td>정상</td>\n",
       "      <td>정상</td>\n",
       "    </tr>\n",
       "  </tbody>\n",
       "</table>\n",
       "<p>5 rows × 24 columns</p>\n",
       "</div>"
      ],
      "text/plain": [
       "  성별코드  연령대 코드(5세단위)  신장(5Cm단위)  체중(5Kg 단위)  허리둘레  수축기 혈압  이완기 혈압  식전혈당(공복혈당)  \\\n",
       "0    남             9        165          60  72.1   127.0    79.0        90.0   \n",
       "1    여            13        150          65  81.0   110.0    73.0        87.0   \n",
       "2    여            12        155          55  70.0   123.0    80.0       102.0   \n",
       "3    남            13        160          70  90.8   134.0    84.0       146.0   \n",
       "4    여            12        155          50  75.2   144.0    89.0       110.0   \n",
       "\n",
       "    혈색소  요단백  ...  흡연상태  음주여부  구강검진 수검여부  시도명  복부비만   비만   빈혈     당뇨  혈압  \\\n",
       "0  15.0  1.0  ...   1.0     X          0   세종   비해당   정상  비해당     정상  정상   \n",
       "1  12.7  1.0  ...   1.0     X          0   대구   비해당  과체중  비해당     정상  정상   \n",
       "2  12.8  1.0  ...   1.0     X          0   서울   비해당   정상  비해당     정상  정상   \n",
       "3  16.4  1.0  ...   1.0     X          1   울산    해당  과체중  비해당  질환 의심  정상   \n",
       "4  12.4  1.0  ...   1.0     X          0   경기   비해당   정상  비해당     정상  정상   \n",
       "\n",
       "  간 기능 이상  \n",
       "0      정상  \n",
       "1      정상  \n",
       "2      정상  \n",
       "3    질환의심  \n",
       "4      정상  \n",
       "\n",
       "[5 rows x 24 columns]"
      ]
     },
     "execution_count": 290,
     "metadata": {},
     "output_type": "execute_result"
    }
   ],
   "source": [
    "df.head()"
   ]
  },
  {
   "cell_type": "code",
   "execution_count": 289,
   "metadata": {},
   "outputs": [
    {
     "data": {
      "text/html": [
       "<div>\n",
       "<style scoped>\n",
       "    .dataframe tbody tr th:only-of-type {\n",
       "        vertical-align: middle;\n",
       "    }\n",
       "\n",
       "    .dataframe tbody tr th {\n",
       "        vertical-align: top;\n",
       "    }\n",
       "\n",
       "    .dataframe thead th {\n",
       "        text-align: right;\n",
       "    }\n",
       "</style>\n",
       "<table border=\"1\" class=\"dataframe\">\n",
       "  <thead>\n",
       "    <tr style=\"text-align: right;\">\n",
       "      <th></th>\n",
       "    </tr>\n",
       "  </thead>\n",
       "  <tbody>\n",
       "  </tbody>\n",
       "</table>\n",
       "</div>"
      ],
      "text/plain": [
       "Empty DataFrame\n",
       "Columns: []\n",
       "Index: []"
      ]
     },
     "execution_count": 289,
     "metadata": {},
     "output_type": "execute_result"
    }
   ],
   "source": [
    "abs(df.loc[:,['음주여부', '비만']].corr())"
   ]
  },
  {
   "cell_type": "code",
   "execution_count": 241,
   "metadata": {},
   "outputs": [],
   "source": [
    "dff = dff.reset_index(drop = True)"
   ]
  },
  {
   "cell_type": "code",
   "execution_count": 243,
   "metadata": {},
   "outputs": [],
   "source": [
    "dff.index = ['O','X']"
   ]
  },
  {
   "cell_type": "code",
   "execution_count": 246,
   "metadata": {},
   "outputs": [
    {
     "name": "stderr",
     "output_type": "stream",
     "text": [
      "C:\\Anaconda3\\lib\\site-packages\\seaborn\\_decorators.py:36: FutureWarning: Pass the following variables as keyword args: x, y. From version 0.12, the only valid positional argument will be `data`, and passing other arguments without an explicit keyword will result in an error or misinterpretation.\n",
      "  warnings.warn(\n"
     ]
    },
    {
     "data": {
      "image/png": "[encoded data removed]",
      "text/plain": [
       "<Figure size 432x288 with 1 Axes>"
      ]
     },
     "metadata": {
      "needs_background": "light"
     },
     "output_type": "display_data"
    }
   ],
   "source": [
    "sns.barplot(dff.index, '비해당',data = dff,palette='summer')\n",
    "plt.ylabel('빈혈 검진자수')\n",
    "plt.title('음주 집단의 빈혈 비해당 수')\n",
    "plt.ylim(1,550000)\n",
    "\n",
    "plt.show()"
   ]
  },
  {
   "cell_type": "code",
   "execution_count": 247,
   "metadata": {},
   "outputs": [
    {
     "name": "stderr",
     "output_type": "stream",
     "text": [
      "C:\\Anaconda3\\lib\\site-packages\\seaborn\\_decorators.py:36: FutureWarning: Pass the following variables as keyword args: x, y. From version 0.12, the only valid positional argument will be `data`, and passing other arguments without an explicit keyword will result in an error or misinterpretation.\n",
      "  warnings.warn(\n"
     ]
    },
    {
     "data": {
      "image/png": "[encoded data removed]",
      "text/plain": [
       "<Figure size 432x288 with 1 Axes>"
      ]
     },
     "metadata": {
      "needs_background": "light"
     },
     "output_type": "display_data"
    }
   ],
   "source": [
    "sns.barplot(dff.index, '해당',data = dff,palette='summer')\n",
    "plt.ylabel('빈혈 검진자수')\n",
    "plt.title('음주 집단의 빈혈 해당 수')\n",
    "plt.ylim(1,550000)\n",
    "\n",
    "plt.show()"
   ]
  },
  {
   "cell_type": "markdown",
   "metadata": {},
   "source": [
    "`음주 - 당뇨`"
   ]
  },
  {
   "cell_type": "code",
   "execution_count": 159,
   "metadata": {},
   "outputs": [
    {
     "data": {
      "text/plain": [
       "정상       503192\n",
       "질환 의심     61269\n",
       "질환 위험     16270\n",
       "Name: 당뇨, dtype: int64"
      ]
     },
     "execution_count": 159,
     "metadata": {},
     "output_type": "execute_result"
    }
   ],
   "source": [
    "cond0 = df['음주여부'] == 'X'\n",
    "cond1 = df['음주여부'] == 'O'\n",
    "\n",
    "#음주를 하지 않는 사람들의 당뇨 현황\n",
    "df.loc[cond0, '당뇨'].value_counts()\n",
    "\n",
    "#음주를 하는 사람들의 당뇨 현황\n",
    "df.loc[cond1, '당뇨'].value_counts()"
   ]
  },
  {
   "cell_type": "code",
   "execution_count": null,
   "metadata": {},
   "outputs": [],
   "source": []
  },
  {
   "cell_type": "code",
   "execution_count": 161,
   "metadata": {},
   "outputs": [
    {
     "data": {
      "text/plain": [
       "<AxesSubplot:xlabel='음주여부'>"
      ]
     },
     "execution_count": 161,
     "metadata": {},
     "output_type": "execute_result"
    },
    {
     "data": {
      "image/png": "[encoded data removed]",
      "text/plain": [
       "<Figure size 432x288 with 1 Axes>"
      ]
     },
     "metadata": {
      "needs_background": "light"
     },
     "output_type": "display_data"
    }
   ],
   "source": [
    "df.pivot_table(index = '음주여부',columns = ['당뇨'], \n",
    "                 values = '요단백', aggfunc = 'count').plot(kind = 'bar')"
   ]
  },
  {
   "cell_type": "code",
   "execution_count": 252,
   "metadata": {},
   "outputs": [
    {
     "data": {
      "text/html": [
       "<div>\n",
       "<style scoped>\n",
       "    .dataframe tbody tr th:only-of-type {\n",
       "        vertical-align: middle;\n",
       "    }\n",
       "\n",
       "    .dataframe tbody tr th {\n",
       "        vertical-align: top;\n",
       "    }\n",
       "\n",
       "    .dataframe thead th {\n",
       "        text-align: right;\n",
       "    }\n",
       "</style>\n",
       "<table border=\"1\" class=\"dataframe\">\n",
       "  <thead>\n",
       "    <tr style=\"text-align: right;\">\n",
       "      <th>당뇨</th>\n",
       "      <th>정상</th>\n",
       "      <th>질환 위험</th>\n",
       "      <th>질환 의심</th>\n",
       "    </tr>\n",
       "    <tr>\n",
       "      <th>음주여부</th>\n",
       "      <th></th>\n",
       "      <th></th>\n",
       "      <th></th>\n",
       "    </tr>\n",
       "  </thead>\n",
       "  <tbody>\n",
       "    <tr>\n",
       "      <th>O</th>\n",
       "      <td>503192</td>\n",
       "      <td>16270</td>\n",
       "      <td>61269</td>\n",
       "    </tr>\n",
       "    <tr>\n",
       "      <th>X</th>\n",
       "      <td>351898</td>\n",
       "      <td>11346</td>\n",
       "      <td>43244</td>\n",
       "    </tr>\n",
       "  </tbody>\n",
       "</table>\n",
       "</div>"
      ],
      "text/plain": [
       "당뇨        정상  질환 위험  질환 의심\n",
       "음주여부                      \n",
       "O     503192  16270  61269\n",
       "X     351898  11346  43244"
      ]
     },
     "execution_count": 252,
     "metadata": {},
     "output_type": "execute_result"
    }
   ],
   "source": [
    "dfff = df.pivot_table(index = '음주여부',columns = ['당뇨'], \n",
    "                 values = '요단백', aggfunc = 'count')\n",
    "dfff"
   ]
  },
  {
   "cell_type": "code",
   "execution_count": 256,
   "metadata": {},
   "outputs": [
    {
     "name": "stderr",
     "output_type": "stream",
     "text": [
      "C:\\Anaconda3\\lib\\site-packages\\seaborn\\_decorators.py:36: FutureWarning: Pass the following variables as keyword args: x, y. From version 0.12, the only valid positional argument will be `data`, and passing other arguments without an explicit keyword will result in an error or misinterpretation.\n",
      "  warnings.warn(\n"
     ]
    },
    {
     "data": {
      "image/png": "[encoded data removed]",
      "text/plain": [
       "<Figure size 432x288 with 1 Axes>"
      ]
     },
     "metadata": {
      "needs_background": "light"
     },
     "output_type": "display_data"
    }
   ],
   "source": [
    "sns.barplot(dff.index, '정상',data = dfff,palette='summer')\n",
    "plt.ylabel('당뇨 검진자수')\n",
    "plt.title('음주 집단별 당뇨 정상 현황')\n",
    "plt.ylim(1,550000)\n",
    "\n",
    "plt.show()"
   ]
  },
  {
   "cell_type": "code",
   "execution_count": null,
   "metadata": {},
   "outputs": [],
   "source": [
    "sns.barplot(dff.index, '정상',data = dfff,palette='summer')\n",
    "plt.ylabel('당뇨 검진자수')\n",
    "plt.title('음주 집단별 당뇨 정상 현황')\n",
    "plt.ylim(1,550000)\n",
    "\n",
    "plt.show()"
   ]
  },
  {
   "cell_type": "code",
   "execution_count": 257,
   "metadata": {},
   "outputs": [
    {
     "name": "stderr",
     "output_type": "stream",
     "text": [
      "C:\\Anaconda3\\lib\\site-packages\\seaborn\\_decorators.py:36: FutureWarning: Pass the following variables as keyword args: x, y. From version 0.12, the only valid positional argument will be `data`, and passing other arguments without an explicit keyword will result in an error or misinterpretation.\n",
      "  warnings.warn(\n"
     ]
    },
    {
     "data": {
      "image/png": "[encoded data removed]",
      "text/plain": [
       "<Figure size 432x288 with 1 Axes>"
      ]
     },
     "metadata": {
      "needs_background": "light"
     },
     "output_type": "display_data"
    }
   ],
   "source": [
    "sns.barplot(dff.index, '질환 위험',data = dfff,palette='summer')\n",
    "plt.ylabel('당뇨 검진자수')\n",
    "plt.title('음주 집단별 당뇨 질환 위험 현황')\n",
    "plt.ylim(1,550000)\n",
    "\n",
    "plt.show()"
   ]
  },
  {
   "cell_type": "code",
   "execution_count": 258,
   "metadata": {},
   "outputs": [
    {
     "name": "stderr",
     "output_type": "stream",
     "text": [
      "C:\\Anaconda3\\lib\\site-packages\\seaborn\\_decorators.py:36: FutureWarning: Pass the following variables as keyword args: x, y. From version 0.12, the only valid positional argument will be `data`, and passing other arguments without an explicit keyword will result in an error or misinterpretation.\n",
      "  warnings.warn(\n"
     ]
    },
    {
     "data": {
      "image/png": "[encoded data removed]",
      "text/plain": [
       "<Figure size 432x288 with 1 Axes>"
      ]
     },
     "metadata": {
      "needs_background": "light"
     },
     "output_type": "display_data"
    }
   ],
   "source": [
    "sns.barplot(dff.index, '질환 의심',data = dfff,palette='summer')\n",
    "plt.ylabel('당뇨 검진자수')\n",
    "plt.title('음주 집단별 당뇨 질환 의심 현황')\n",
    "plt.ylim(1,550000)\n",
    "\n",
    "plt.show()"
   ]
  },
  {
   "cell_type": "markdown",
   "metadata": {},
   "source": [
    "`음주 - 혈압`"
   ]
  },
  {
   "cell_type": "code",
   "execution_count": 162,
   "metadata": {},
   "outputs": [
    {
     "data": {
      "text/plain": [
       "정상     483927\n",
       "고혈압     56727\n",
       "저혈압     40077\n",
       "Name: 혈압, dtype: int64"
      ]
     },
     "execution_count": 162,
     "metadata": {},
     "output_type": "execute_result"
    }
   ],
   "source": [
    "cond0 = df['음주여부'] == 'X'\n",
    "cond1 = df['음주여부'] == 'O'\n",
    "\n",
    "#음주를 하지 않는 사람들의 혈압 현황\n",
    "df.loc[cond0, '혈압'].value_counts()\n",
    "\n",
    "#음주를 하는 사람들의 혈압 현황\n",
    "df.loc[cond1, '혈압'].value_counts()"
   ]
  },
  {
   "cell_type": "code",
   "execution_count": 163,
   "metadata": {},
   "outputs": [
    {
     "data": {
      "text/plain": [
       "<AxesSubplot:xlabel='음주여부'>"
      ]
     },
     "execution_count": 163,
     "metadata": {},
     "output_type": "execute_result"
    },
    {
     "data": {
      "image/png": "[encoded data removed]",
      "text/plain": [
       "<Figure size 432x288 with 1 Axes>"
      ]
     },
     "metadata": {
      "needs_background": "light"
     },
     "output_type": "display_data"
    }
   ],
   "source": [
    "df.pivot_table(index = '음주여부',columns = ['혈압'], \n",
    "                 values = '요단백', aggfunc = 'count').plot(kind = 'bar')"
   ]
  },
  {
   "cell_type": "code",
   "execution_count": 259,
   "metadata": {},
   "outputs": [
    {
     "data": {
      "text/html": [
       "<div>\n",
       "<style scoped>\n",
       "    .dataframe tbody tr th:only-of-type {\n",
       "        vertical-align: middle;\n",
       "    }\n",
       "\n",
       "    .dataframe tbody tr th {\n",
       "        vertical-align: top;\n",
       "    }\n",
       "\n",
       "    .dataframe thead th {\n",
       "        text-align: right;\n",
       "    }\n",
       "</style>\n",
       "<table border=\"1\" class=\"dataframe\">\n",
       "  <thead>\n",
       "    <tr style=\"text-align: right;\">\n",
       "      <th>혈압</th>\n",
       "      <th>고혈압</th>\n",
       "      <th>저혈압</th>\n",
       "      <th>정상</th>\n",
       "    </tr>\n",
       "    <tr>\n",
       "      <th>음주여부</th>\n",
       "      <th></th>\n",
       "      <th></th>\n",
       "      <th></th>\n",
       "    </tr>\n",
       "  </thead>\n",
       "  <tbody>\n",
       "    <tr>\n",
       "      <th>O</th>\n",
       "      <td>56727</td>\n",
       "      <td>40077</td>\n",
       "      <td>483927</td>\n",
       "    </tr>\n",
       "    <tr>\n",
       "      <th>X</th>\n",
       "      <td>43599</td>\n",
       "      <td>37192</td>\n",
       "      <td>325697</td>\n",
       "    </tr>\n",
       "  </tbody>\n",
       "</table>\n",
       "</div>"
      ],
      "text/plain": [
       "혈압      고혈압    저혈압      정상\n",
       "음주여부                      \n",
       "O     56727  40077  483927\n",
       "X     43599  37192  325697"
      ]
     },
     "execution_count": 259,
     "metadata": {},
     "output_type": "execute_result"
    }
   ],
   "source": [
    "dffff = df.pivot_table(index = '음주여부',columns = ['혈압'], \n",
    "                 values = '요단백', aggfunc = 'count')\n",
    "dffff"
   ]
  },
  {
   "cell_type": "code",
   "execution_count": 263,
   "metadata": {},
   "outputs": [
    {
     "name": "stderr",
     "output_type": "stream",
     "text": [
      "C:\\Anaconda3\\lib\\site-packages\\seaborn\\_decorators.py:36: FutureWarning: Pass the following variables as keyword args: x, y. From version 0.12, the only valid positional argument will be `data`, and passing other arguments without an explicit keyword will result in an error or misinterpretation.\n",
      "  warnings.warn(\n"
     ]
    },
    {
     "data": {
      "image/png": "[encoded data removed]",
      "text/plain": [
       "<Figure size 432x288 with 1 Axes>"
      ]
     },
     "metadata": {
      "needs_background": "light"
     },
     "output_type": "display_data"
    }
   ],
   "source": [
    "sns.barplot(dff.index, '고혈압',data = dffff,palette='summer')\n",
    "plt.ylabel('혈압 검진자수')\n",
    "plt.title('음주 집단별 고혈압 질환 의심 현황')\n",
    "plt.ylim(1,500000)\n",
    "\n",
    "plt.show()"
   ]
  },
  {
   "cell_type": "code",
   "execution_count": 264,
   "metadata": {},
   "outputs": [
    {
     "name": "stderr",
     "output_type": "stream",
     "text": [
      "C:\\Anaconda3\\lib\\site-packages\\seaborn\\_decorators.py:36: FutureWarning: Pass the following variables as keyword args: x, y. From version 0.12, the only valid positional argument will be `data`, and passing other arguments without an explicit keyword will result in an error or misinterpretation.\n",
      "  warnings.warn(\n"
     ]
    },
    {
     "data": {
      "image/png": "[encoded data removed]",
      "text/plain": [
       "<Figure size 432x288 with 1 Axes>"
      ]
     },
     "metadata": {
      "needs_background": "light"
     },
     "output_type": "display_data"
    }
   ],
   "source": [
    "sns.barplot(dff.index, '정상',data = dffff,palette='summer')\n",
    "plt.ylabel('혈압 검진자수')\n",
    "plt.title('음주 집단별 정상 혈압 현황')\n",
    "plt.ylim(1,500000)\n",
    "\n",
    "plt.show()"
   ]
  },
  {
   "cell_type": "code",
   "execution_count": 265,
   "metadata": {},
   "outputs": [
    {
     "name": "stderr",
     "output_type": "stream",
     "text": [
      "C:\\Anaconda3\\lib\\site-packages\\seaborn\\_decorators.py:36: FutureWarning: Pass the following variables as keyword args: x, y. From version 0.12, the only valid positional argument will be `data`, and passing other arguments without an explicit keyword will result in an error or misinterpretation.\n",
      "  warnings.warn(\n"
     ]
    },
    {
     "data": {
      "image/png": "[encoded data removed]",
      "text/plain": [
       "<Figure size 432x288 with 1 Axes>"
      ]
     },
     "metadata": {
      "needs_background": "light"
     },
     "output_type": "display_data"
    }
   ],
   "source": [
    "sns.barplot(dff.index, '저혈압',data = dffff,palette='summer')\n",
    "plt.ylabel('혈압 검진자수')\n",
    "plt.title('음주 집단별 저혈압 현황')\n",
    "plt.ylim(1,500000)\n",
    "\n",
    "plt.show()"
   ]
  },
  {
   "cell_type": "markdown",
   "metadata": {},
   "source": [
    "`음주 - 간 기능 이상`"
   ]
  },
  {
   "cell_type": "code",
   "execution_count": 164,
   "metadata": {},
   "outputs": [
    {
     "data": {
      "text/plain": [
       "정상      403017\n",
       "질환위험    135740\n",
       "질환의심     41974\n",
       "Name: 간 기능 이상, dtype: int64"
      ]
     },
     "execution_count": 164,
     "metadata": {},
     "output_type": "execute_result"
    }
   ],
   "source": [
    "cond0 = df['음주여부'] == 'X'\n",
    "cond1 = df['음주여부'] == 'O'\n",
    "\n",
    "#음주를 하지 않는 사람들의 간 기능 이상 현황\n",
    "df.loc[cond0, '간 기능 이상'].value_counts()\n",
    "\n",
    "#음주를 하는 사람들의 간 기능 이상 현황\n",
    "df.loc[cond1, '간 기능 이상'].value_counts()"
   ]
  },
  {
   "cell_type": "code",
   "execution_count": 165,
   "metadata": {},
   "outputs": [
    {
     "data": {
      "text/plain": [
       "<AxesSubplot:xlabel='음주여부'>"
      ]
     },
     "execution_count": 165,
     "metadata": {},
     "output_type": "execute_result"
    },
    {
     "data": {
      "image/png": "[encoded data removed]",
      "text/plain": [
       "<Figure size 432x288 with 1 Axes>"
      ]
     },
     "metadata": {
      "needs_background": "light"
     },
     "output_type": "display_data"
    }
   ],
   "source": [
    "df.pivot_table(index = '음주여부',columns = ['간 기능 이상'], \n",
    "                 values = '요단백', aggfunc = 'count').plot(kind = 'bar')"
   ]
  },
  {
   "cell_type": "code",
   "execution_count": 267,
   "metadata": {},
   "outputs": [
    {
     "data": {
      "text/html": [
       "<div>\n",
       "<style scoped>\n",
       "    .dataframe tbody tr th:only-of-type {\n",
       "        vertical-align: middle;\n",
       "    }\n",
       "\n",
       "    .dataframe tbody tr th {\n",
       "        vertical-align: top;\n",
       "    }\n",
       "\n",
       "    .dataframe thead th {\n",
       "        text-align: right;\n",
       "    }\n",
       "</style>\n",
       "<table border=\"1\" class=\"dataframe\">\n",
       "  <thead>\n",
       "    <tr style=\"text-align: right;\">\n",
       "      <th>간 기능 이상</th>\n",
       "      <th>정상</th>\n",
       "      <th>질환위험</th>\n",
       "      <th>질환의심</th>\n",
       "    </tr>\n",
       "    <tr>\n",
       "      <th>음주여부</th>\n",
       "      <th></th>\n",
       "      <th></th>\n",
       "      <th></th>\n",
       "    </tr>\n",
       "  </thead>\n",
       "  <tbody>\n",
       "    <tr>\n",
       "      <th>O</th>\n",
       "      <td>403017</td>\n",
       "      <td>135740</td>\n",
       "      <td>41974</td>\n",
       "    </tr>\n",
       "    <tr>\n",
       "      <th>X</th>\n",
       "      <td>307964</td>\n",
       "      <td>78328</td>\n",
       "      <td>20196</td>\n",
       "    </tr>\n",
       "  </tbody>\n",
       "</table>\n",
       "</div>"
      ],
      "text/plain": [
       "간 기능 이상      정상    질환위험   질환의심\n",
       "음주여부                          \n",
       "O        403017  135740  41974\n",
       "X        307964   78328  20196"
      ]
     },
     "execution_count": 267,
     "metadata": {},
     "output_type": "execute_result"
    }
   ],
   "source": [
    "dfffff = df.pivot_table(index = '음주여부',columns = ['간 기능 이상'], \n",
    "                 values = '요단백', aggfunc = 'count')\n",
    "\n",
    "dfffff"
   ]
  },
  {
   "cell_type": "code",
   "execution_count": 272,
   "metadata": {},
   "outputs": [
    {
     "name": "stderr",
     "output_type": "stream",
     "text": [
      "C:\\Anaconda3\\lib\\site-packages\\seaborn\\_decorators.py:36: FutureWarning: Pass the following variables as keyword args: x, y. From version 0.12, the only valid positional argument will be `data`, and passing other arguments without an explicit keyword will result in an error or misinterpretation.\n",
      "  warnings.warn(\n"
     ]
    },
    {
     "data": {
      "image/png": "[encoded data removed]",
      "text/plain": [
       "<Figure size 432x288 with 1 Axes>"
      ]
     },
     "metadata": {
      "needs_background": "light"
     },
     "output_type": "display_data"
    }
   ],
   "source": [
    "sns.barplot(dff.index, '정상',data = dfffff,palette='summer')\n",
    "plt.ylabel('간 기능 이상 검진자수')\n",
    "plt.title('음주 집단별 간 기능 이상 정상 현황')\n",
    "plt.ylim(1,450000)\n",
    "\n",
    "plt.show()"
   ]
  },
  {
   "cell_type": "code",
   "execution_count": 273,
   "metadata": {},
   "outputs": [
    {
     "name": "stderr",
     "output_type": "stream",
     "text": [
      "C:\\Anaconda3\\lib\\site-packages\\seaborn\\_decorators.py:36: FutureWarning: Pass the following variables as keyword args: x, y. From version 0.12, the only valid positional argument will be `data`, and passing other arguments without an explicit keyword will result in an error or misinterpretation.\n",
      "  warnings.warn(\n"
     ]
    },
    {
     "data": {
      "image/png": "[encoded data removed]",
      "text/plain": [
       "<Figure size 432x288 with 1 Axes>"
      ]
     },
     "metadata": {
      "needs_background": "light"
     },
     "output_type": "display_data"
    }
   ],
   "source": [
    "sns.barplot(dff.index, '질환위험',data = dfffff,palette='summer')\n",
    "plt.ylabel('간 기능 이상 검진자수')\n",
    "plt.title('음주 집단별 간 기능 이상 질환위험 현황')\n",
    "plt.ylim(1,450000)\n",
    "\n",
    "plt.show()"
   ]
  },
  {
   "cell_type": "code",
   "execution_count": 274,
   "metadata": {},
   "outputs": [
    {
     "name": "stderr",
     "output_type": "stream",
     "text": [
      "C:\\Anaconda3\\lib\\site-packages\\seaborn\\_decorators.py:36: FutureWarning: Pass the following variables as keyword args: x, y. From version 0.12, the only valid positional argument will be `data`, and passing other arguments without an explicit keyword will result in an error or misinterpretation.\n",
      "  warnings.warn(\n"
     ]
    },
    {
     "data": {
      "image/png": "[encoded data removed]",
      "text/plain": [
       "<Figure size 432x288 with 1 Axes>"
      ]
     },
     "metadata": {
      "needs_background": "light"
     },
     "output_type": "display_data"
    }
   ],
   "source": [
    "sns.barplot(dff.index, '질환의심',data = dfffff,palette='summer')\n",
    "plt.ylabel('간 기능 이상 검진자수')\n",
    "plt.title('음주 집단별 간 기능 이상 질환의심 현황')\n",
    "plt.ylim(1,450000)\n",
    "\n",
    "plt.show()"
   ]
  },
  {
   "cell_type": "code",
   "execution_count": null,
   "metadata": {},
   "outputs": [],
   "source": []
  },
  {
   "cell_type": "code",
   "execution_count": 293,
   "metadata": {},
   "outputs": [
    {
     "data": {
      "text/html": [
       "<div>\n",
       "<style scoped>\n",
       "    .dataframe tbody tr th:only-of-type {\n",
       "        vertical-align: middle;\n",
       "    }\n",
       "\n",
       "    .dataframe tbody tr th {\n",
       "        vertical-align: top;\n",
       "    }\n",
       "\n",
       "    .dataframe thead th {\n",
       "        text-align: right;\n",
       "    }\n",
       "</style>\n",
       "<table border=\"1\" class=\"dataframe\">\n",
       "  <thead>\n",
       "    <tr style=\"text-align: right;\">\n",
       "      <th>빈혈</th>\n",
       "      <th>비해당</th>\n",
       "      <th>해당</th>\n",
       "    </tr>\n",
       "    <tr>\n",
       "      <th>음주여부</th>\n",
       "      <th></th>\n",
       "      <th></th>\n",
       "    </tr>\n",
       "  </thead>\n",
       "  <tbody>\n",
       "    <tr>\n",
       "      <th>O</th>\n",
       "      <td>545048</td>\n",
       "      <td>35683</td>\n",
       "    </tr>\n",
       "    <tr>\n",
       "      <th>X</th>\n",
       "      <td>359096</td>\n",
       "      <td>47392</td>\n",
       "    </tr>\n",
       "  </tbody>\n",
       "</table>\n",
       "</div>"
      ],
      "text/plain": [
       "빈혈       비해당     해당\n",
       "음주여부               \n",
       "O     545048  35683\n",
       "X     359096  47392"
      ]
     },
     "execution_count": 293,
     "metadata": {},
     "output_type": "execute_result"
    }
   ],
   "source": [
    "#빈혈\n",
    "\n",
    "hem = df.pivot_table(index = '음주여부',columns = ['빈혈'], \n",
    "                 values = '요단백', aggfunc = 'count')\n",
    "hem"
   ]
  },
  {
   "cell_type": "code",
   "execution_count": 297,
   "metadata": {},
   "outputs": [
    {
     "name": "stderr",
     "output_type": "stream",
     "text": [
      "C:\\Anaconda3\\lib\\site-packages\\seaborn\\_decorators.py:36: FutureWarning: Pass the following variables as keyword args: x, y. From version 0.12, the only valid positional argument will be `data`, and passing other arguments without an explicit keyword will result in an error or misinterpretation.\n",
      "  warnings.warn(\n"
     ]
    },
    {
     "data": {
      "image/png": "[encoded data removed]",
      "text/plain": [
       "<Figure size 432x288 with 1 Axes>"
      ]
     },
     "metadata": {
      "needs_background": "light"
     },
     "output_type": "display_data"
    }
   ],
   "source": [
    "sns.barplot(dff.index, '비해당',data = hem,palette='summer')\n",
    "plt.ylabel('빈혈 검진자수')\n",
    "plt.title('음주 집단별 빈혈 비해당 검진자수 현황')\n",
    "plt.ylim(1,600000)\n",
    "\n",
    "plt.show()"
   ]
  },
  {
   "cell_type": "code",
   "execution_count": 298,
   "metadata": {},
   "outputs": [
    {
     "name": "stderr",
     "output_type": "stream",
     "text": [
      "C:\\Anaconda3\\lib\\site-packages\\seaborn\\_decorators.py:36: FutureWarning: Pass the following variables as keyword args: x, y. From version 0.12, the only valid positional argument will be `data`, and passing other arguments without an explicit keyword will result in an error or misinterpretation.\n",
      "  warnings.warn(\n"
     ]
    },
    {
     "data": {
      "image/png": "[encoded data removed]",
      "text/plain": [
       "<Figure size 432x288 with 1 Axes>"
      ]
     },
     "metadata": {
      "needs_background": "light"
     },
     "output_type": "display_data"
    }
   ],
   "source": [
    "sns.barplot(dff.index, '해당',data = hem,palette='summer')\n",
    "plt.ylabel('빈혈 검진자수')\n",
    "plt.title('음주 집단별 빈혈 해당 검진자수 현황')\n",
    "plt.ylim(1,600000)\n",
    "\n",
    "plt.show()"
   ]
  },
  {
   "cell_type": "code",
   "execution_count": null,
   "metadata": {},
   "outputs": [],
   "source": []
  },
  {
   "cell_type": "code",
   "execution_count": 26,
   "metadata": {},
   "outputs": [
    {
     "data": {
      "text/plain": [
       "'\\n9 : 40 ~ 44\\n10 : 45 ~ 49\\n11 : 50 ~ 54\\n12 : 55 ~ 59\\n13 : 60 ~ 64\\n14 : 65 ~ 69\\n15 : 70 ~ 74\\n16 : 75 ~ 79\\n17 : 80 ~ 44\\n18 : 85 ~ 89\\n'"
      ]
     },
     "execution_count": 26,
     "metadata": {},
     "output_type": "execute_result"
    }
   ],
   "source": [
    "df['연령대 코드(5세단위)'].unique()\n",
    "\n",
    "'''\n",
    "9 : 40 ~ 44\n",
    "10 : 45 ~ 49\n",
    "11 : 50 ~ 54\n",
    "12 : 55 ~ 59\n",
    "13 : 60 ~ 64\n",
    "14 : 65 ~ 69\n",
    "15 : 70 ~ 74\n",
    "16 : 75 ~ 79\n",
    "17 : 80 ~ 44\n",
    "18 : 85 ~ 89\n",
    "'''"
   ]
  },
  {
   "cell_type": "code",
   "execution_count": 27,
   "metadata": {},
   "outputs": [
    {
     "data": {
      "text/plain": [
       "'\\n1 : 비흡연자\\n2 : 전흡연자 (끊은 상태)\\n3 : 흡연자\\n'"
      ]
     },
     "execution_count": 27,
     "metadata": {},
     "output_type": "execute_result"
    }
   ],
   "source": [
    "df['흡연상태'].unique()\n",
    "\n",
    "'''\n",
    "1 : 비흡연자\n",
    "2 : 전흡연자 (끊은 상태)\n",
    "3 : 흡연자\n",
    "'''"
   ]
  },
  {
   "cell_type": "code",
   "execution_count": 29,
   "metadata": {},
   "outputs": [
    {
     "data": {
      "text/plain": [
       "'\\n1 : 남자\\n2 : 여자\\n'"
      ]
     },
     "execution_count": 29,
     "metadata": {},
     "output_type": "execute_result"
    }
   ],
   "source": [
    "df['성별코드'].unique()\n",
    "\n",
    "'''\n",
    "1 : 남자\n",
    "2 : 여자\n",
    "'''"
   ]
  },
  {
   "cell_type": "code",
   "execution_count": 30,
   "metadata": {},
   "outputs": [
    {
     "data": {
      "text/plain": [
       "Index(['치석', '치아우식증유무', '흡연상태', '구강검진 수검여부'], dtype='object')"
      ]
     },
     "execution_count": 30,
     "metadata": {},
     "output_type": "execute_result"
    }
   ],
   "source": [
    "smoke.columns"
   ]
  },
  {
   "cell_type": "code",
   "execution_count": 31,
   "metadata": {},
   "outputs": [
    {
     "data": {
      "text/plain": [
       "'\\n0 : 없음\\n1 : 있음\\n'"
      ]
     },
     "execution_count": 31,
     "metadata": {},
     "output_type": "execute_result"
    }
   ],
   "source": [
    "smoke['치아우식증유무'].unique()\n",
    "\n",
    "'''\n",
    "0 : 없음\n",
    "1 : 있음\n",
    "'''"
   ]
  },
  {
   "cell_type": "code",
   "execution_count": 32,
   "metadata": {},
   "outputs": [
    {
     "data": {
      "text/plain": [
       "'\\n0 : 없음\\n1 : 있음\\n'"
      ]
     },
     "execution_count": 32,
     "metadata": {},
     "output_type": "execute_result"
    }
   ],
   "source": [
    "smoke['치석'].unique()\n",
    "\n",
    "'''\n",
    "0 : 없음\n",
    "1 : 있음\n",
    "'''"
   ]
  },
  {
   "cell_type": "code",
   "execution_count": 33,
   "metadata": {},
   "outputs": [
    {
     "data": {
      "text/plain": [
       "array([0, 1], dtype=int64)"
      ]
     },
     "execution_count": 33,
     "metadata": {},
     "output_type": "execute_result"
    }
   ],
   "source": [
    "df['구강검진 수검여부'].unique()"
   ]
  },
  {
   "cell_type": "code",
   "execution_count": 34,
   "metadata": {},
   "outputs": [
    {
     "data": {
      "text/html": [
       "<div>\n",
       "<style scoped>\n",
       "    .dataframe tbody tr th:only-of-type {\n",
       "        vertical-align: middle;\n",
       "    }\n",
       "\n",
       "    .dataframe tbody tr th {\n",
       "        vertical-align: top;\n",
       "    }\n",
       "\n",
       "    .dataframe thead th {\n",
       "        text-align: right;\n",
       "    }\n",
       "</style>\n",
       "<table border=\"1\" class=\"dataframe\">\n",
       "  <thead>\n",
       "    <tr style=\"text-align: right;\">\n",
       "      <th></th>\n",
       "      <th>치석</th>\n",
       "      <th>치아우식증유무</th>\n",
       "      <th>흡연상태</th>\n",
       "      <th>구강검진 수검여부</th>\n",
       "    </tr>\n",
       "  </thead>\n",
       "  <tbody>\n",
       "    <tr>\n",
       "      <th>3</th>\n",
       "      <td>0</td>\n",
       "      <td>0</td>\n",
       "      <td>1</td>\n",
       "      <td>1</td>\n",
       "    </tr>\n",
       "    <tr>\n",
       "      <th>6</th>\n",
       "      <td>1</td>\n",
       "      <td>0</td>\n",
       "      <td>3</td>\n",
       "      <td>1</td>\n",
       "    </tr>\n",
       "    <tr>\n",
       "      <th>7</th>\n",
       "      <td>2</td>\n",
       "      <td>0</td>\n",
       "      <td>3</td>\n",
       "      <td>1</td>\n",
       "    </tr>\n",
       "    <tr>\n",
       "      <th>12</th>\n",
       "      <td>0</td>\n",
       "      <td>0</td>\n",
       "      <td>3</td>\n",
       "      <td>1</td>\n",
       "    </tr>\n",
       "    <tr>\n",
       "      <th>16</th>\n",
       "      <td>1</td>\n",
       "      <td>0</td>\n",
       "      <td>1</td>\n",
       "      <td>1</td>\n",
       "    </tr>\n",
       "  </tbody>\n",
       "</table>\n",
       "</div>"
      ],
      "text/plain": [
       "    치석  치아우식증유무  흡연상태  구강검진 수검여부\n",
       "3    0        0     1          1\n",
       "6    1        0     3          1\n",
       "7    2        0     3          1\n",
       "12   0        0     3          1\n",
       "16   1        0     1          1"
      ]
     },
     "execution_count": 34,
     "metadata": {},
     "output_type": "execute_result"
    }
   ],
   "source": [
    "smoke.head()"
   ]
  },
  {
   "cell_type": "code",
   "execution_count": 35,
   "metadata": {},
   "outputs": [
    {
     "data": {
      "text/plain": [
       "치석           0\n",
       "치아우식증유무      0\n",
       "흡연상태         0\n",
       "구강검진 수검여부    0\n",
       "dtype: int64"
      ]
     },
     "execution_count": 35,
     "metadata": {},
     "output_type": "execute_result"
    }
   ],
   "source": [
    "smoke.isnull().sum()"
   ]
  },
  {
   "cell_type": "code",
   "execution_count": null,
   "metadata": {},
   "outputs": [],
   "source": []
  },
  {
   "cell_type": "code",
   "execution_count": null,
   "metadata": {},
   "outputs": [],
   "source": []
  },
  {
   "cell_type": "code",
   "execution_count": 139,
   "metadata": {},
   "outputs": [
    {
     "data": {
      "text/html": [
       "<div>\n",
       "<style scoped>\n",
       "    .dataframe tbody tr th:only-of-type {\n",
       "        vertical-align: middle;\n",
       "    }\n",
       "\n",
       "    .dataframe tbody tr th {\n",
       "        vertical-align: top;\n",
       "    }\n",
       "\n",
       "    .dataframe thead th {\n",
       "        text-align: right;\n",
       "    }\n",
       "</style>\n",
       "<table border=\"1\" class=\"dataframe\">\n",
       "  <thead>\n",
       "    <tr style=\"text-align: right;\">\n",
       "      <th></th>\n",
       "      <th>정상 혈압</th>\n",
       "      <th>저혈압</th>\n",
       "      <th>고혈압</th>\n",
       "    </tr>\n",
       "    <tr>\n",
       "      <th>음주여부</th>\n",
       "      <th></th>\n",
       "      <th></th>\n",
       "      <th></th>\n",
       "    </tr>\n",
       "  </thead>\n",
       "  <tbody>\n",
       "    <tr>\n",
       "      <th>0</th>\n",
       "      <td>325697</td>\n",
       "      <td>37192</td>\n",
       "      <td>43599</td>\n",
       "    </tr>\n",
       "    <tr>\n",
       "      <th>1</th>\n",
       "      <td>483927</td>\n",
       "      <td>40077</td>\n",
       "      <td>56727</td>\n",
       "    </tr>\n",
       "  </tbody>\n",
       "</table>\n",
       "</div>"
      ],
      "text/plain": [
       "       정상 혈압    저혈압    고혈압\n",
       "음주여부                      \n",
       "0     325697  37192  43599\n",
       "1     483927  40077  56727"
      ]
     },
     "execution_count": 139,
     "metadata": {},
     "output_type": "execute_result"
    }
   ],
   "source": [
    "#\n",
    "\n",
    "cond1 = df['혈압'] == '정상'\n",
    "cond2 = df['혈압'] == '저혈압'\n",
    "cond3 = df['혈압'] == '고혈압'\n",
    "\n",
    "df1 = df.loc[cond1].groupby('음주여부')[['혈압']].size()\n",
    "df2 = df.loc[cond2].groupby('음주여부')[['혈압']].size()\n",
    "df3 = df.loc[cond3].groupby('음주여부')[['혈압']].size()\n",
    "\n",
    "df1 = pd.DataFrame(df1, columns=['정상 혈압'])\n",
    "df2 = pd.DataFrame(df2, columns=['저혈압'])\n",
    "df3 = pd.DataFrame(df3, columns=['고혈압'])\n",
    "\n",
    "\n",
    "pressure_city = pd.merge(df1, df2, on=\"음주여부\")\n",
    "pressure_city = pd.merge(pressure_city, df3, on=\"음주여부\")\n",
    "pressure_city"
   ]
  },
  {
   "cell_type": "code",
   "execution_count": 140,
   "metadata": {},
   "outputs": [
    {
     "data": {
      "text/plain": [
       "Index(['정상 혈압', '저혈압', '고혈압'], dtype='object')"
      ]
     },
     "execution_count": 140,
     "metadata": {},
     "output_type": "execute_result"
    }
   ],
   "source": [
    "pressure_city.columns"
   ]
  },
  {
   "cell_type": "code",
   "execution_count": null,
   "metadata": {},
   "outputs": [],
   "source": [
    "fig = sns.catplot(x='정상 혈압',y='음주여부',hue='음주여부',data=pressure_city, kind='bar')\n",
    "fig.fig.set_size_inches(10,6)\n",
    "plt.xticks(rotation=45) \n",
    "\n",
    "plt.show()\n"
   ]
  },
  {
   "cell_type": "code",
   "execution_count": null,
   "metadata": {},
   "outputs": [],
   "source": []
  },
  {
   "cell_type": "code",
   "execution_count": null,
   "metadata": {},
   "outputs": [],
   "source": []
  },
  {
   "cell_type": "code",
   "execution_count": null,
   "metadata": {},
   "outputs": [],
   "source": []
  },
  {
   "cell_type": "code",
   "execution_count": 138,
   "metadata": {},
   "outputs": [
    {
     "data": {
      "text/html": [
       "<div>\n",
       "<style scoped>\n",
       "    .dataframe tbody tr th:only-of-type {\n",
       "        vertical-align: middle;\n",
       "    }\n",
       "\n",
       "    .dataframe tbody tr th {\n",
       "        vertical-align: top;\n",
       "    }\n",
       "\n",
       "    .dataframe thead th {\n",
       "        text-align: right;\n",
       "    }\n",
       "</style>\n",
       "<table border=\"1\" class=\"dataframe\">\n",
       "  <thead>\n",
       "    <tr style=\"text-align: right;\">\n",
       "      <th></th>\n",
       "      <th>정상 혈압</th>\n",
       "      <th>저혈압</th>\n",
       "      <th>고혈압</th>\n",
       "    </tr>\n",
       "    <tr>\n",
       "      <th>시도명</th>\n",
       "      <th></th>\n",
       "      <th></th>\n",
       "      <th></th>\n",
       "    </tr>\n",
       "  </thead>\n",
       "  <tbody>\n",
       "    <tr>\n",
       "      <th>강원</th>\n",
       "      <td>25384</td>\n",
       "      <td>2164</td>\n",
       "      <td>3955</td>\n",
       "    </tr>\n",
       "    <tr>\n",
       "      <th>경기</th>\n",
       "      <td>201396</td>\n",
       "      <td>17644</td>\n",
       "      <td>25713</td>\n",
       "    </tr>\n",
       "    <tr>\n",
       "      <th>경남</th>\n",
       "      <td>56123</td>\n",
       "      <td>6186</td>\n",
       "      <td>5382</td>\n",
       "    </tr>\n",
       "    <tr>\n",
       "      <th>경북</th>\n",
       "      <td>43886</td>\n",
       "      <td>4005</td>\n",
       "      <td>5678</td>\n",
       "    </tr>\n",
       "    <tr>\n",
       "      <th>광주</th>\n",
       "      <td>23469</td>\n",
       "      <td>2699</td>\n",
       "      <td>1970</td>\n",
       "    </tr>\n",
       "    <tr>\n",
       "      <th>대구</th>\n",
       "      <td>39121</td>\n",
       "      <td>4417</td>\n",
       "      <td>4352</td>\n",
       "    </tr>\n",
       "    <tr>\n",
       "      <th>대전</th>\n",
       "      <td>24453</td>\n",
       "      <td>1909</td>\n",
       "      <td>3260</td>\n",
       "    </tr>\n",
       "    <tr>\n",
       "      <th>부산</th>\n",
       "      <td>56004</td>\n",
       "      <td>6851</td>\n",
       "      <td>5132</td>\n",
       "    </tr>\n",
       "    <tr>\n",
       "      <th>서울</th>\n",
       "      <td>133490</td>\n",
       "      <td>13244</td>\n",
       "      <td>17376</td>\n",
       "    </tr>\n",
       "    <tr>\n",
       "      <th>세종</th>\n",
       "      <td>5285</td>\n",
       "      <td>485</td>\n",
       "      <td>633</td>\n",
       "    </tr>\n",
       "    <tr>\n",
       "      <th>울산</th>\n",
       "      <td>21697</td>\n",
       "      <td>1856</td>\n",
       "      <td>2248</td>\n",
       "    </tr>\n",
       "    <tr>\n",
       "      <th>인천</th>\n",
       "      <td>48151</td>\n",
       "      <td>3781</td>\n",
       "      <td>5666</td>\n",
       "    </tr>\n",
       "    <tr>\n",
       "      <th>전남</th>\n",
       "      <td>30362</td>\n",
       "      <td>3279</td>\n",
       "      <td>3796</td>\n",
       "    </tr>\n",
       "    <tr>\n",
       "      <th>전북</th>\n",
       "      <td>30229</td>\n",
       "      <td>2833</td>\n",
       "      <td>4361</td>\n",
       "    </tr>\n",
       "    <tr>\n",
       "      <th>제주</th>\n",
       "      <td>9588</td>\n",
       "      <td>623</td>\n",
       "      <td>1530</td>\n",
       "    </tr>\n",
       "    <tr>\n",
       "      <th>충남</th>\n",
       "      <td>33930</td>\n",
       "      <td>2796</td>\n",
       "      <td>5296</td>\n",
       "    </tr>\n",
       "    <tr>\n",
       "      <th>충북</th>\n",
       "      <td>27056</td>\n",
       "      <td>2497</td>\n",
       "      <td>3978</td>\n",
       "    </tr>\n",
       "  </tbody>\n",
       "</table>\n",
       "</div>"
      ],
      "text/plain": [
       "      정상 혈압    저혈압    고혈압\n",
       "시도명                      \n",
       "강원    25384   2164   3955\n",
       "경기   201396  17644  25713\n",
       "경남    56123   6186   5382\n",
       "경북    43886   4005   5678\n",
       "광주    23469   2699   1970\n",
       "대구    39121   4417   4352\n",
       "대전    24453   1909   3260\n",
       "부산    56004   6851   5132\n",
       "서울   133490  13244  17376\n",
       "세종     5285    485    633\n",
       "울산    21697   1856   2248\n",
       "인천    48151   3781   5666\n",
       "전남    30362   3279   3796\n",
       "전북    30229   2833   4361\n",
       "제주     9588    623   1530\n",
       "충남    33930   2796   5296\n",
       "충북    27056   2497   3978"
      ]
     },
     "execution_count": 138,
     "metadata": {},
     "output_type": "execute_result"
    }
   ],
   "source": [
    "cond1 = df['혈압'] == '정상'\n",
    "cond2 = df['혈압'] == '저혈압'\n",
    "cond3 = df['혈압'] == '고혈압'\n",
    "\n",
    "df1 = df.loc[cond1].groupby('시도명')[['혈압']].size()\n",
    "df2 = df.loc[cond2].groupby('시도명')[['혈압']].size()\n",
    "df3 = df.loc[cond3].groupby('시도명')[['혈압']].size()\n",
    "\n",
    "df1 = pd.DataFrame(df1, columns=['정상 혈압'])\n",
    "df2 = pd.DataFrame(df2, columns=['저혈압'])\n",
    "df3 = pd.DataFrame(df3, columns=['고혈압'])\n",
    "\n",
    "\n",
    "pressure_city = pd.merge(df1, df2, on=\"시도명\")\n",
    "pressure_city = pd.merge(pressure_city, df3, on=\"시도명\")\n",
    "pressure_city"
   ]
  },
  {
   "cell_type": "code",
   "execution_count": null,
   "metadata": {},
   "outputs": [],
   "source": []
  },
  {
   "cell_type": "code",
   "execution_count": null,
   "metadata": {},
   "outputs": [],
   "source": []
  },
  {
   "cell_type": "code",
   "execution_count": null,
   "metadata": {},
   "outputs": [],
   "source": []
  }
 ],
 "metadata": {
  "colab": {
   "collapsed_sections": [],
   "name": "22-02-11 국민건강보험공단_건강검진정보_2021_12 분석.ipynb",
   "provenance": []
  },
  "kernelspec": {
   "display_name": "Python 3 (ipykernel)",
   "language": "python",
   "name": "python3"
  },
  "language_info": {
   "codemirror_mode": {
    "name": "ipython",
    "version": 3
   },
   "file_extension": ".py",
   "mimetype": "text/x-python",
   "name": "python",
   "nbconvert_exporter": "python",
   "pygments_lexer": "ipython3",
   "version": "3.9.7"
  },
  "toc": {
   "base_numbering": 1,
   "nav_menu": {},
   "number_sections": true,
   "sideBar": true,
   "skip_h1_title": false,
   "title_cell": "Table of Contents",
   "title_sidebar": "Contents",
   "toc_cell": false,
   "toc_position": {},
   "toc_section_display": true,
   "toc_window_display": false
  },
  "varInspector": {
   "cols": {
    "lenName": 16,
    "lenType": 16,
    "lenVar": 40
   },
   "kernels_config": {
    "python": {
     "delete_cmd_postfix": "",
     "delete_cmd_prefix": "del ",
     "library": "var_list.py",
     "varRefreshCmd": "print(var_dic_list())"
    },
    "r": {
     "delete_cmd_postfix": ") ",
     "delete_cmd_prefix": "rm(",
     "library": "var_list.r",
     "varRefreshCmd": "cat(var_dic_list()) "
    }
   },
   "types_to_exclude": [
    "module",
    "function",
    "builtin_function_or_method",
    "instance",
    "_Feature"
   ],
   "window_display": false
  }
 },
 "nbformat": 4,
 "nbformat_minor": 1
}
